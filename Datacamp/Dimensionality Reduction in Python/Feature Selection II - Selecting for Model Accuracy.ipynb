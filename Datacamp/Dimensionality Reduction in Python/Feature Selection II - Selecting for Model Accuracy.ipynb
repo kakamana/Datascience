{
 "cells": [
  {
   "cell_type": "markdown",
   "source": [
    "---\n",
    "title: \"Feature Selection II - Selecting for Model Accuracy\"\n",
    "format:\n",
    "  html:\n",
    "    code-fold: true\n",
    "jupyter: python3\n",
    "author: \"kakamana\"\n",
    "date: \"2023-01-18\"\n",
    "categories: [python, datacamp, feature engineering, machine learning, dimension reduction]\n",
    "image: \"featureSelectionII.jpg\"\n",
    "\n",
    "---"
   ],
   "metadata": {
    "collapsed": false
   }
  },
  {
   "cell_type": "markdown",
   "source": [
    "# Feature Selection II - Selecting for Model Accuracy\n",
    "\n",
    "We'll explore how to use models to identify the most important features in a dataset in order to predict certain targets. We then concludes with a lesson in which we will decide which features to keep based on advice from multiple, different models.\n",
    "\n",
    "This **Feature Selection II - Selecting for Model Accuracy** is part of [Datacamp course: Dimensionality Reduction in Python](https://app.datacamp.com/learn/courses/dimensionality-reduction-in-python)\n",
    "\n",
    "This is my learning experience of data science through DataCamp"
   ],
   "metadata": {
    "collapsed": false
   }
  }
 ],
 "metadata": {
  "kernelspec": {
   "display_name": "Python 3",
   "language": "python",
   "name": "python3"
  },
  "language_info": {
   "codemirror_mode": {
    "name": "ipython",
    "version": 2
   },
   "file_extension": ".py",
   "mimetype": "text/x-python",
   "name": "python",
   "nbconvert_exporter": "python",
   "pygments_lexer": "ipython2",
   "version": "2.7.6"
  }
 },
 "nbformat": 4,
 "nbformat_minor": 0
}
