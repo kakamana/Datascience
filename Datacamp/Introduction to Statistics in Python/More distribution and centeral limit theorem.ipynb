{
 "cells": [
  {
   "cell_type": "markdown",
   "source": [
    "---\n",
    "title: \"More Distributions and the Central Limit Theorem\"\n",
    "format:\n",
    "  html:\n",
    "    code-fold: true\n",
    "jupyter: python3\n",
    "author: \"kakamana\"\n",
    "date: \"2023-01-06\"\n",
    "categories: [python, datacamp, statistics, distribution]\n",
    "image: \"chapter3.jpg\"\n",
    "\n",
    "---"
   ],
   "metadata": {
    "collapsed": false,
    "pycharm": {
     "name": "#%% md\n"
    }
   }
  },
  {
   "cell_type": "code",
   "execution_count": 18,
   "outputs": [],
   "source": [
    "import pandas as pd\n",
    "import matplotlib.pyplot as plt\n",
    "from scipy.stats import norm\n",
    "import numpy as np"
   ],
   "metadata": {
    "collapsed": false,
    "pycharm": {
     "name": "#%%\n"
    }
   }
  },
  {
   "cell_type": "markdown",
   "source": [
    "# **More Distributions and the Central Limit Theorem**\n",
    "\n",
    "It’s time to explore one of the most important probability distributions in statistics, normal distribution. We’ll create histograms to plot normal distributions and gain an understanding of the central limit theorem, before expanding your knowledge of statistical functions by adding the Poisson, exponential, and t-distributions to your repertoire.\n",
    "\n",
    "This **More Distributions and the Central Limit Theorem** is part of [Datacamp course: Introduction to Statistic in Python](https://app.datacamp.com/learn/courses/introduction-to-statistics-in-python)\n",
    "\n",
    "This is my learning experience of data science through DataCamp"
   ],
   "metadata": {
    "collapsed": false,
    "pycharm": {
     "name": "#%% md\n"
    }
   }
  },
  {
   "cell_type": "markdown",
   "source": [
    "The Normal Distribution\n",
    "\n",
    "* The normal distribution\n",
    "        * Symmetrical\n",
    "        * Area = 1\n",
    "        * Curve never hits 0\n",
    "        * Described by mean and standard deviation"
   ],
   "metadata": {
    "collapsed": false,
    "pycharm": {
     "name": "#%% md\n"
    }
   }
  },
  {
   "cell_type": "markdown",
   "source": [
    "### **Distribution of Amir's sales**\n",
    "\n",
    "Since each deal Amir worked on (both won and lost) was different, each was worth a different amount of money. These values are stored in the amount column of amir_deals As part of Amir's performance review, you want to be able to estimate the probability of him selling different amounts, but before you can do this, you'll need to determine what kind of distribution the amount variable follows"
   ],
   "metadata": {
    "collapsed": false,
    "pycharm": {
     "name": "#%% md\n"
    }
   }
  },
  {
   "cell_type": "code",
   "execution_count": 19,
   "outputs": [
    {
     "data": {
      "text/plain": "     product   client status   amount  num_users\n1  Product F  Current    Won  7389.52         19\n2  Product C      New    Won  4493.01         43\n3  Product B      New    Won  5738.09         87\n4  Product I  Current    Won  2591.24         83\n5  Product E  Current    Won  6622.97         17",
      "text/html": "<div>\n<style scoped>\n    .dataframe tbody tr th:only-of-type {\n        vertical-align: middle;\n    }\n\n    .dataframe tbody tr th {\n        vertical-align: top;\n    }\n\n    .dataframe thead th {\n        text-align: right;\n    }\n</style>\n<table border=\"1\" class=\"dataframe\">\n  <thead>\n    <tr style=\"text-align: right;\">\n      <th></th>\n      <th>product</th>\n      <th>client</th>\n      <th>status</th>\n      <th>amount</th>\n      <th>num_users</th>\n    </tr>\n  </thead>\n  <tbody>\n    <tr>\n      <th>1</th>\n      <td>Product F</td>\n      <td>Current</td>\n      <td>Won</td>\n      <td>7389.52</td>\n      <td>19</td>\n    </tr>\n    <tr>\n      <th>2</th>\n      <td>Product C</td>\n      <td>New</td>\n      <td>Won</td>\n      <td>4493.01</td>\n      <td>43</td>\n    </tr>\n    <tr>\n      <th>3</th>\n      <td>Product B</td>\n      <td>New</td>\n      <td>Won</td>\n      <td>5738.09</td>\n      <td>87</td>\n    </tr>\n    <tr>\n      <th>4</th>\n      <td>Product I</td>\n      <td>Current</td>\n      <td>Won</td>\n      <td>2591.24</td>\n      <td>83</td>\n    </tr>\n    <tr>\n      <th>5</th>\n      <td>Product E</td>\n      <td>Current</td>\n      <td>Won</td>\n      <td>6622.97</td>\n      <td>17</td>\n    </tr>\n  </tbody>\n</table>\n</div>"
     },
     "execution_count": 19,
     "metadata": {},
     "output_type": "execute_result"
    }
   ],
   "source": [
    "amir_deals = pd.read_csv('amir_deals.csv', index_col=0)\n",
    "amir_deals.head()"
   ],
   "metadata": {
    "collapsed": false,
    "pycharm": {
     "name": "#%%\n"
    }
   }
  },
  {
   "cell_type": "code",
   "execution_count": 20,
   "outputs": [
    {
     "data": {
      "text/plain": "<AxesSubplot:>"
     },
     "execution_count": 20,
     "metadata": {},
     "output_type": "execute_result"
    },
    {
     "data": {
      "text/plain": "<Figure size 432x288 with 1 Axes>",
      "image/png": "[encoded data removed]"
     },
     "metadata": {
      "needs_background": "light"
     },
     "output_type": "display_data"
    }
   ],
   "source": [
    "amir_deals['amount'].hist(bins=10)"
   ],
   "metadata": {
    "collapsed": false,
    "pycharm": {
     "name": "#%%\n"
    }
   }
  },
  {
   "cell_type": "markdown",
   "source": [
    "### **Probabilities from the normal distribution**\n",
    "\n",
    "Since each deal Amir worked on (both won and lost) was different, each was worth a different amount of money. These values are stored in the amount column of amir_deals and follow a normal distribution with a mean of 5000 dollars and a standard deviation of 2000 dollars. As part of his performance metrics, you want to calculate the probability of Amir closing a deal worth various amounts"
   ],
   "metadata": {
    "collapsed": false,
    "pycharm": {
     "name": "#%% md\n"
    }
   }
  },
  {
   "cell_type": "code",
   "execution_count": 21,
   "outputs": [
    {
     "name": "stdout",
     "output_type": "stream",
     "text": [
      "0.8943502263331446\n",
      "0.9772498680518208\n",
      "0.6826894921370859\n",
      "3651.0204996078364\n"
     ]
    }
   ],
   "source": [
    "# Probability of deal < 7500\n",
    "prob_less_7500 = norm.cdf(7500,5000,2000)\n",
    "print(prob_less_7500)\n",
    "\n",
    "# Probability of deal > 1000\n",
    "prob_over_1000 =1- norm.cdf(1000, 5000, 2000)\n",
    "print(prob_over_1000)\n",
    "\n",
    "# Probability of deal between 3000 and 7000\n",
    "prob_3000_to_7000 = norm.cdf(7000, 5000, 2000) - norm.cdf(3000, 5000, 2000)\n",
    "print(prob_3000_to_7000)\n",
    "\n",
    "# Calculate amount that 25% of deals will be less than\n",
    "pct_25 = norm.ppf(0.25, 5000, 2000)\n",
    "print(pct_25)"
   ],
   "metadata": {
    "collapsed": false,
    "pycharm": {
     "name": "#%%\n"
    }
   }
  },
  {
   "cell_type": "markdown",
   "source": [
    "### **Simulating sales under new market conditions**\n",
    "\n",
    "The company's financial analyst is predicting that next quarter, the worth of each sale will increase by 20% and the volatility, or standard deviation, of each sale's worth will increase by 30%. To see what Amir's sales might look like next quarter under these new market conditions, you'll simulate new sales amounts using the normal distribution"
   ],
   "metadata": {
    "collapsed": false,
    "pycharm": {
     "name": "#%% md\n"
    }
   }
  },
  {
   "cell_type": "code",
   "execution_count": 22,
   "outputs": [
    {
     "data": {
      "text/plain": "<Figure size 432x288 with 1 Axes>",
      "image/png": "[encoded data removed]"
     },
     "metadata": {
      "needs_background": "light"
     },
     "output_type": "display_data"
    }
   ],
   "source": [
    "# Calculate new average amount\n",
    "new_mean = 5000 * 1.2\n",
    "\n",
    "# Calculate new standard deviation\n",
    "new_sd = 2000 * 1.3\n",
    "\n",
    "# Simulate 36 new sales\n",
    "new_sales = norm.rvs(new_mean,new_sd, 36)\n",
    "\n",
    "# Create histogram and show\n",
    "plt.hist(new_sales)\n",
    "plt.show()"
   ],
   "metadata": {
    "collapsed": false,
    "pycharm": {
     "name": "#%%\n"
    }
   }
  },
  {
   "cell_type": "markdown",
   "source": [
    "### **The central limit theorem**\n",
    "\n",
    "    * Sampling Distribution\n",
    "    * Central limit theorem (CLT)\n",
    "        * The sampling distribution of a statistic becomes closer to the normal distribution as the number of trials increases\n",
    "        * Samples should be random and indepdendent\n",
    "\n",
    "**The CLT in action**\n",
    "\n",
    "The central limit theorem states that a sampling distribution of a sample statistic approaches the normal distribution as you take more samples, no matter the original distribution being sampled from.\n",
    "\n",
    "Here we will try on the sample mean and see the central limit theorem in action while examining the num_users column of amir_deals more closely, which contains the number of people who intend to use the product Amir is selling"
   ],
   "metadata": {
    "collapsed": false,
    "pycharm": {
     "name": "#%% md\n"
    }
   }
  },
  {
   "cell_type": "code",
   "execution_count": 23,
   "outputs": [
    {
     "data": {
      "text/plain": "<AxesSubplot:>"
     },
     "execution_count": 23,
     "metadata": {},
     "output_type": "execute_result"
    },
    {
     "data": {
      "text/plain": "<Figure size 432x288 with 1 Axes>",
      "image/png": "[encoded data removed]"
     },
     "metadata": {
      "needs_background": "light"
     },
     "output_type": "display_data"
    }
   ],
   "source": [
    "# Create a histogram of num_users and show\n",
    "amir_deals['num_users'].hist()"
   ],
   "metadata": {
    "collapsed": false,
    "pycharm": {
     "name": "#%%\n"
    }
   }
  },
  {
   "cell_type": "code",
   "execution_count": 25,
   "outputs": [
    {
     "name": "stdout",
     "output_type": "stream",
     "text": [
      "32.0\n"
     ]
    },
    {
     "data": {
      "text/plain": "<Figure size 432x288 with 1 Axes>",
      "image/png": "[encoded data removed]"
     },
     "metadata": {
      "needs_background": "light"
     },
     "output_type": "display_data"
    },
    {
     "name": "stdout",
     "output_type": "stream",
     "text": [
      "\n",
      " You've just seen the central limit thorem at work. Even though the distribution of num_users is not normal, the distribution of its sample means resembles the normal distribution\n"
     ]
    }
   ],
   "source": [
    "# Set seed to 104\n",
    "np.random.seed(104)\n",
    "\n",
    "# Sample 20 num_users with replacement from amir_deals\n",
    "samp_20 = amir_deals['num_users'].sample(20, replace=True)\n",
    "# Take the mean of samp_20\n",
    "print(np.mean(samp_20))\n",
    "\n",
    "sample_means = []\n",
    "# Loop 100 times\n",
    "for i in range(100):\n",
    "  # Take sample of 20 num_users\n",
    "  samp_20 = amir_deals['num_users'].sample(20, replace=True)\n",
    "  # Calculate mean of samp_20\n",
    "  samp_20_mean = np.mean(samp_20)\n",
    "  # Append samp_20_mean to sample_means\n",
    "  sample_means.append(samp_20_mean)\n",
    "\n",
    "# Convert to Series and plot histogram\n",
    "sample_means_series = pd.Series(sample_means)\n",
    "sample_means_series.hist()\n",
    "# Show plot\n",
    "plt.show()\n",
    "print(\"\\n You've just seen the central limit thorem at work. Even though the distribution of num_users is not normal, the distribution of its sample means resembles the normal distribution\")"
   ],
   "metadata": {
    "collapsed": false,
    "pycharm": {
     "name": "#%%\n"
    }
   }
  },
  {
   "cell_type": "markdown",
   "source": [
    "### **The mean of means**\n",
    "\n",
    "In order to determine whether Amir's deals have more or fewer users than the company's average deal, you want to know the average number of users (num_users) for all deals. Over the past year, the company has worked on more than ten thousand deals, so compiling all the data isn't feasible. To estimate the mean, you will take several random samples of deals since this is much easier than collecting data from everyone."
   ],
   "metadata": {
    "collapsed": false,
    "pycharm": {
     "name": "#%% md\n"
    }
   }
  },
  {
   "cell_type": "code",
   "execution_count": 27,
   "outputs": [
    {
     "data": {
      "text/plain": "            product  num_users\nUnnamed: 0                    \n1              3544         19\n2              5073         43\n3              6149         87\n4              7863         83\n5                14         17",
      "text/html": "<div>\n<style scoped>\n    .dataframe tbody tr th:only-of-type {\n        vertical-align: middle;\n    }\n\n    .dataframe tbody tr th {\n        vertical-align: top;\n    }\n\n    .dataframe thead th {\n        text-align: right;\n    }\n</style>\n<table border=\"1\" class=\"dataframe\">\n  <thead>\n    <tr style=\"text-align: right;\">\n      <th></th>\n      <th>product</th>\n      <th>num_users</th>\n    </tr>\n    <tr>\n      <th>Unnamed: 0</th>\n      <th></th>\n      <th></th>\n    </tr>\n  </thead>\n  <tbody>\n    <tr>\n      <th>1</th>\n      <td>3544</td>\n      <td>19</td>\n    </tr>\n    <tr>\n      <th>2</th>\n      <td>5073</td>\n      <td>43</td>\n    </tr>\n    <tr>\n      <th>3</th>\n      <td>6149</td>\n      <td>87</td>\n    </tr>\n    <tr>\n      <th>4</th>\n      <td>7863</td>\n      <td>83</td>\n    </tr>\n    <tr>\n      <th>5</th>\n      <td>14</td>\n      <td>17</td>\n    </tr>\n  </tbody>\n</table>\n</div>"
     },
     "execution_count": 27,
     "metadata": {},
     "output_type": "execute_result"
    }
   ],
   "source": [
    "all_deals = pd.read_csv('all_deals.csv', index_col=0)\n",
    "all_deals.head()"
   ],
   "metadata": {
    "collapsed": false,
    "pycharm": {
     "name": "#%%\n"
    }
   }
  },
  {
   "cell_type": "code",
   "execution_count": 28,
   "outputs": [
    {
     "name": "stdout",
     "output_type": "stream",
     "text": [
      "38.31333333333332\n",
      "37.651685393258425\n",
      "\n",
      " Amir's average number of users is very close to the overall average, so it looks like he's meeting expectations. Make sure to note this in his performance review!\n"
     ]
    }
   ],
   "source": [
    "# Set seed to 321\n",
    "np.random.seed(321)\n",
    "\n",
    "sample_means = []\n",
    "# Loop 30 times to take 30 means\n",
    "for i in range(30):\n",
    "  # Take sample of size 20 from num_users col of all_deals with replacement\n",
    "  cur_sample = all_deals['num_users'].sample(20,replace=True)\n",
    "  # Take mean of cur_sample\n",
    "  cur_mean = np.mean(cur_sample)\n",
    "  # Append cur_mean to sample_means\n",
    "  sample_means.append(cur_mean)\n",
    "\n",
    "# Print mean of sample_means\n",
    "print(np.mean(sample_means))\n",
    "\n",
    "# Print mean of num_users in amir_deals\n",
    "print(amir_deals['num_users'].mean())\n",
    "print(\"\\n Amir's average number of users is very close to the overall average, so it looks like he's meeting expectations. Make sure to note this in his performance review!\")"
   ],
   "metadata": {
    "collapsed": false,
    "pycharm": {
     "name": "#%%\n"
    }
   }
  },
  {
   "cell_type": "markdown",
   "source": [
    "### **The Poisson distribution**\n",
    "\n",
    "    * Poisson process\n",
    "        * Events appear to happen at a certain rate, but completely at random\n",
    "        * Examples\n",
    "            * Number of animals adopted from an animal shelter per week\n",
    "            * Number of people arriving at a restaurant per hour\n",
    "            * Number of earthquakes in California per year\n",
    "        * Time unit is irrelevant, as long as you use the same unit when talking about the same situation\n",
    "    * Poisson distribution\n",
    "        * Probability of some # of events occurring over a fixed period of time\n",
    "        * Examples\n",
    "            * Probability of ≥≥ 5 animals adopted from an animal shelter per week\n",
    "            * Probability of 12 people arriving at a restaurant per hour\n",
    "            * Probability of << 20 earthquakes in California per year\n",
    "    * Lambda λλ\n",
    "        * Average number of events per time interval\n",
    "    * CLT still applies!"
   ],
   "metadata": {
    "collapsed": false,
    "pycharm": {
     "name": "#%% md\n"
    }
   }
  },
  {
   "cell_type": "markdown",
   "source": [
    "### **Tracking lead responses**\n",
    "\n",
    "Sales leads are tracked using sales software. It organizes them into a queue so anyone can follow up on one when they have time. This scenario corresponds to a Poisson distribution since lead responses are countable over time. Amir responds to four leads a day on average. This exercise calculates the probability of Amir responding to different numbers of leads."
   ],
   "metadata": {
    "collapsed": false,
    "pycharm": {
     "name": "#%% md\n"
    }
   }
  },
  {
   "cell_type": "code",
   "execution_count": 30,
   "outputs": [
    {
     "name": "stdout",
     "output_type": "stream",
     "text": [
      "0.1562934518505317\n",
      "0.17140068409793663\n",
      "0.23810330555354436\n",
      "0.0028397661205137315\n"
     ]
    }
   ],
   "source": [
    "# Import poisson from scipy.stats\n",
    "from scipy.stats import poisson\n",
    "\n",
    "# Probability of 5 responses\n",
    "prob_5 = poisson.pmf(5,4)\n",
    "print(prob_5)\n",
    "\n",
    "# Probability of 5 responses\n",
    "prob_coworker = poisson.pmf(5,5.5)\n",
    "print(prob_coworker)\n",
    "\n",
    "# Probability of 2 or fewer responses\n",
    "prob_2_or_less = poisson.cdf(2,4)\n",
    "print(prob_2_or_less)\n",
    "\n",
    "# Probability of > 10 responses\n",
    "prob_over_10 = 1-poisson.cdf(10,4)\n",
    "print(prob_over_10)"
   ],
   "metadata": {
    "collapsed": false,
    "pycharm": {
     "name": "#%%\n"
    }
   }
  },
  {
   "cell_type": "code",
   "execution_count": null,
   "outputs": [],
   "source": [],
   "metadata": {
    "collapsed": false,
    "pycharm": {
     "name": "#%%\n"
    }
   }
  }
 ],
 "metadata": {
  "kernelspec": {
   "display_name": "Python 3",
   "language": "python",
   "name": "python3"
  },
  "language_info": {
   "codemirror_mode": {
    "name": "ipython",
    "version": 2
   },
   "file_extension": ".py",
   "mimetype": "text/x-python",
   "name": "python",
   "nbconvert_exporter": "python",
   "pygments_lexer": "ipython2",
   "version": "2.7.6"
  }
 },
 "nbformat": 4,
 "nbformat_minor": 0
}