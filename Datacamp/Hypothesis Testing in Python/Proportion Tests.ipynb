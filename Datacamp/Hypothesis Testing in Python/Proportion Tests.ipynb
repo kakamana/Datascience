{
 "cells": [
  {
   "cell_type": "markdown",
   "source": [
    "---\n",
    "title: \"Proportion Tests\"\n",
    "format:\n",
    "  html:\n",
    "    code-fold: true\n",
    "jupyter: python3\n",
    "author: \"kakamana\"\n",
    "date: \"2023-01-19\"\n",
    "categories: [python, datacamp, statistics, machine learning, hypothesis ]\n",
    "image: \"proportionTest.jpg\"\n",
    "\n",
    "---"
   ],
   "metadata": {
    "collapsed": false,
    "pycharm": {
     "name": "#%% md\n"
    }
   }
  },
  {
   "cell_type": "markdown",
   "source": [
    "# Proportion Tests\n",
    "\n",
    "Now it’s time to test for differences in proportions between two groups using proportion tests. Through hands-on exercises, you’ll extend your proportion tests to more than two groups with chi-square independence tests, and return to the one sample case with chi-square goodness of fit tests\n",
    "\n",
    "This **Proportion Tests** is part of [Datacamp course: Hypothesis Testing in Python](https://app.datacamp.com/learn/courses/hypothesis-testing-in-python)\n",
    "\n",
    "This is my learning experience of data science through DataCamp"
   ],
   "metadata": {
    "collapsed": false,
    "pycharm": {
     "name": "#%% md\n"
    }
   }
  },
  {
   "cell_type": "code",
   "execution_count": 1,
   "outputs": [],
   "source": [
    "import numpy as np\n",
    "import pandas as pd\n",
    "from scipy.stats import norm"
   ],
   "metadata": {
    "collapsed": false,
    "pycharm": {
     "name": "#%%\n"
    }
   }
  },
  {
   "cell_type": "code",
   "execution_count": 2,
   "outputs": [
    {
     "data": {
      "text/plain": "        id       country managed_by  fulfill_via vendor_inco_term  \\\n0  36203.0       Nigeria   PMO - US  Direct Drop              EXW   \n1  30998.0      Botswana   PMO - US  Direct Drop              EXW   \n2  69871.0       Vietnam   PMO - US  Direct Drop              EXW   \n3  17648.0  South Africa   PMO - US  Direct Drop              DDP   \n4   5647.0        Uganda   PMO - US  Direct Drop              EXW   \n\n  shipment_mode  late_delivery late product_group    sub_classification  ...  \\\n0           Air            1.0  Yes          HRDT              HIV test  ...   \n1           Air            0.0   No          HRDT              HIV test  ...   \n2           Air            0.0   No           ARV                 Adult  ...   \n3         Ocean            0.0   No           ARV                 Adult  ...   \n4           Air            0.0   No          HRDT  HIV test - Ancillary  ...   \n\n  line_item_quantity line_item_value pack_price unit_price  \\\n0             2996.0       266644.00      89.00       0.89   \n1               25.0          800.00      32.00       1.60   \n2            22925.0       110040.00       4.80       0.08   \n3           152535.0       361507.95       2.37       0.04   \n4              850.0            8.50       0.01       0.00   \n\n             manufacturing_site first_line_designation  weight_kilograms  \\\n0       Alere Medical Co., Ltd.                    Yes            1426.0   \n1          Trinity Biotech, Plc                    Yes              10.0   \n2  Hetero Unit III Hyderabad IN                    Yes            3723.0   \n3     Aurobindo Unit III, India                    Yes            7698.0   \n4               Inverness Japan                    Yes              56.0   \n\n   freight_cost_usd  freight_cost_groups  line_item_insurance_usd  \n0          33279.83            expensive                   373.83  \n1            559.89           reasonable                     1.72  \n2          19056.13            expensive                   181.57  \n3          11372.23            expensive                   779.41  \n4            360.00           reasonable                     0.01  \n\n[5 rows x 27 columns]",
      "text/html": "<div>\n<style scoped>\n    .dataframe tbody tr th:only-of-type {\n        vertical-align: middle;\n    }\n\n    .dataframe tbody tr th {\n        vertical-align: top;\n    }\n\n    .dataframe thead th {\n        text-align: right;\n    }\n</style>\n<table border=\"1\" class=\"dataframe\">\n  <thead>\n    <tr style=\"text-align: right;\">\n      <th></th>\n      <th>id</th>\n      <th>country</th>\n      <th>managed_by</th>\n      <th>fulfill_via</th>\n      <th>vendor_inco_term</th>\n      <th>shipment_mode</th>\n      <th>late_delivery</th>\n      <th>late</th>\n      <th>product_group</th>\n      <th>sub_classification</th>\n      <th>...</th>\n      <th>line_item_quantity</th>\n      <th>line_item_value</th>\n      <th>pack_price</th>\n      <th>unit_price</th>\n      <th>manufacturing_site</th>\n      <th>first_line_designation</th>\n      <th>weight_kilograms</th>\n      <th>freight_cost_usd</th>\n      <th>freight_cost_groups</th>\n      <th>line_item_insurance_usd</th>\n    </tr>\n  </thead>\n  <tbody>\n    <tr>\n      <th>0</th>\n      <td>36203.0</td>\n      <td>Nigeria</td>\n      <td>PMO - US</td>\n      <td>Direct Drop</td>\n      <td>EXW</td>\n      <td>Air</td>\n      <td>1.0</td>\n      <td>Yes</td>\n      <td>HRDT</td>\n      <td>HIV test</td>\n      <td>...</td>\n      <td>2996.0</td>\n      <td>266644.00</td>\n      <td>89.00</td>\n      <td>0.89</td>\n      <td>Alere Medical Co., Ltd.</td>\n      <td>Yes</td>\n      <td>1426.0</td>\n      <td>33279.83</td>\n      <td>expensive</td>\n      <td>373.83</td>\n    </tr>\n    <tr>\n      <th>1</th>\n      <td>30998.0</td>\n      <td>Botswana</td>\n      <td>PMO - US</td>\n      <td>Direct Drop</td>\n      <td>EXW</td>\n      <td>Air</td>\n      <td>0.0</td>\n      <td>No</td>\n      <td>HRDT</td>\n      <td>HIV test</td>\n      <td>...</td>\n      <td>25.0</td>\n      <td>800.00</td>\n      <td>32.00</td>\n      <td>1.60</td>\n      <td>Trinity Biotech, Plc</td>\n      <td>Yes</td>\n      <td>10.0</td>\n      <td>559.89</td>\n      <td>reasonable</td>\n      <td>1.72</td>\n    </tr>\n    <tr>\n      <th>2</th>\n      <td>69871.0</td>\n      <td>Vietnam</td>\n      <td>PMO - US</td>\n      <td>Direct Drop</td>\n      <td>EXW</td>\n      <td>Air</td>\n      <td>0.0</td>\n      <td>No</td>\n      <td>ARV</td>\n      <td>Adult</td>\n      <td>...</td>\n      <td>22925.0</td>\n      <td>110040.00</td>\n      <td>4.80</td>\n      <td>0.08</td>\n      <td>Hetero Unit III Hyderabad IN</td>\n      <td>Yes</td>\n      <td>3723.0</td>\n      <td>19056.13</td>\n      <td>expensive</td>\n      <td>181.57</td>\n    </tr>\n    <tr>\n      <th>3</th>\n      <td>17648.0</td>\n      <td>South Africa</td>\n      <td>PMO - US</td>\n      <td>Direct Drop</td>\n      <td>DDP</td>\n      <td>Ocean</td>\n      <td>0.0</td>\n      <td>No</td>\n      <td>ARV</td>\n      <td>Adult</td>\n      <td>...</td>\n      <td>152535.0</td>\n      <td>361507.95</td>\n      <td>2.37</td>\n      <td>0.04</td>\n      <td>Aurobindo Unit III, India</td>\n      <td>Yes</td>\n      <td>7698.0</td>\n      <td>11372.23</td>\n      <td>expensive</td>\n      <td>779.41</td>\n    </tr>\n    <tr>\n      <th>4</th>\n      <td>5647.0</td>\n      <td>Uganda</td>\n      <td>PMO - US</td>\n      <td>Direct Drop</td>\n      <td>EXW</td>\n      <td>Air</td>\n      <td>0.0</td>\n      <td>No</td>\n      <td>HRDT</td>\n      <td>HIV test - Ancillary</td>\n      <td>...</td>\n      <td>850.0</td>\n      <td>8.50</td>\n      <td>0.01</td>\n      <td>0.00</td>\n      <td>Inverness Japan</td>\n      <td>Yes</td>\n      <td>56.0</td>\n      <td>360.00</td>\n      <td>reasonable</td>\n      <td>0.01</td>\n    </tr>\n  </tbody>\n</table>\n<p>5 rows × 27 columns</p>\n</div>"
     },
     "execution_count": 2,
     "metadata": {},
     "output_type": "execute_result"
    }
   ],
   "source": [
    "late_shipments= pd.read_feather('dataset/late_shipments.feather')\n",
    "late_shipments.head()"
   ],
   "metadata": {
    "collapsed": false,
    "pycharm": {
     "name": "#%%\n"
    }
   }
  },
  {
   "cell_type": "markdown",
   "source": [
    "### Standardized test statistic for proportions\n",
    "\n",
    "$p$: population proportion (unknown population parameter)\n",
    "$\\hat{p}$: sample proportion (sample statistic)\n",
    "${p}_{0}$: hypothesized population proportion\n",
    "\n",
    "$z = {\\hat{p} - mean (\\hat{p}) \\over SE(\\hat{p})} $\n",
    "$= {\\hat{p} - p \\over SE(\\hat{p})} $\n",
    "\n",
    "Assuming $H_{0}$ is true, $p = p_{0}$, so\n",
    "\n",
    "$z = {\\hat{p} - p_{0} \\over SE(\\hat{p})} $"
   ],
   "metadata": {
    "collapsed": false,
    "pycharm": {
     "name": "#%% md\n"
    }
   }
  },
  {
   "cell_type": "markdown",
   "source": [
    "### Simplifying the standard error calculations\n",
    "\n",
    "$SE_{\\hat{p}}=\\sqrt{ p_{0} * (1 - p_{0}) \\over n }  $ -> Under $H_{0}, SE_{\\hat{p}}$ depends on hypothesized $p_{0}$ and sample size $n$\n",
    "\n",
    "Assuming $H_{0}$ is true,\n",
    "\n",
    "$z = {\\hat{p} - p_{0} \\over SE(\\hat{p})} $\n",
    "\n",
    "* Only uses sample information $(\\hat{p} and n)$ and the hypothesized parameter ($p_{0}$)\n"
   ],
   "metadata": {
    "collapsed": false,
    "pycharm": {
     "name": "#%% md\n"
    }
   }
  },
  {
   "cell_type": "markdown",
   "source": [
    "### Why z instead of t?\n",
    "\n",
    "$t = {(\\widehat{x}_{child} - \\widehat{x}_{adult)} \\over \\sqrt{ {s^2_{child} \\over n_{child}} + {s^2_{adult} \\over n_{adult}} }$\n",
    "\n",
    "\n",
    "* $s$ is calculated from $\\widehat{x}$\n",
    "    * $\\widehat{x}$ estimates the population mean\n",
    "    * $s$ estimates the population standard deviation\n",
    "    * t-distribution - fatter tails than a normal distribution\n",
    "    * $\\hat{p}$ only appears in the numerator, so z-scores are fine"
   ],
   "metadata": {
    "collapsed": false,
    "pycharm": {
     "name": "#%% md\n"
    }
   }
  },
  {
   "cell_type": "code",
   "execution_count": 5,
   "outputs": [
    {
     "name": "stdout",
     "output_type": "stream",
     "text": [
      "0.061\n",
      "0.13315591032282698\n",
      "0.44703503936503364\n",
      "\n",
      "While bootstrapping can be used to estimate the standard error of any statistic, it is computationally intensive. For proportions, using a simple equation of the hypothesized proportion and sample size is easier to compute.\n"
     ]
    }
   ],
   "source": [
    "# Hypothesize that the proportion of late shipments is 6%\n",
    "p_0 = 0.06\n",
    "\n",
    "# Calculate the sample proportion of late shipments\n",
    "p_hat = (late_shipments['late'] == \"Yes\").mean()\n",
    "print(p_hat)\n",
    "\n",
    "# Calculate the sample size\n",
    "n = len(late_shipments)\n",
    "\n",
    "# Calculate the numerator and denominator of the test statistic\n",
    "numerator = p_hat - p_0\n",
    "denominator = np.sqrt(p_0 * (1 - p_0) / n)\n",
    "\n",
    "# Calculate the test statistic\n",
    "z_score = numerator / denominator\n",
    "print(z_score)\n",
    "\n",
    "# Calculate the p-value from the z-score\n",
    "p_value = 1 - norm.cdf(z_score)\n",
    "\n",
    "# Print the p-value\n",
    "print(p_value)\n",
    "print(\"\\nWhile bootstrapping can be used to estimate the standard error of any statistic, it is computationally intensive. For proportions, using a simple equation of the hypothesized proportion and sample size is easier to compute.\")"
   ],
   "metadata": {
    "collapsed": false,
    "pycharm": {
     "name": "#%%\n"
    }
   }
  },
  {
   "cell_type": "code",
   "execution_count": null,
   "outputs": [],
   "source": [],
   "metadata": {
    "collapsed": false,
    "pycharm": {
     "name": "#%%\n"
    }
   }
  }
 ],
 "metadata": {
  "kernelspec": {
   "display_name": "Python 3",
   "language": "python",
   "name": "python3"
  },
  "language_info": {
   "codemirror_mode": {
    "name": "ipython",
    "version": 2
   },
   "file_extension": ".py",
   "mimetype": "text/x-python",
   "name": "python",
   "nbconvert_exporter": "python",
   "pygments_lexer": "ipython2",
   "version": "2.7.6"
  }
 },
 "nbformat": 4,
 "nbformat_minor": 0
}