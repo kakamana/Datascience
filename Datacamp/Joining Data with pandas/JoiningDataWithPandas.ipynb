{
 "cells": [
  {
   "cell_type": "code",
   "execution_count": 1,
   "id": "32a000af-4ea8-4b29-b93a-917380defc0f",
   "metadata": {},
   "outputs": [],
   "source": [
    "import pandas as pd"
   ]
  },
  {
   "cell_type": "code",
   "execution_count": 2,
   "id": "65b57d76-5d96-43a8-a8c0-752084c02cda",
   "metadata": {},
   "outputs": [
    {
     "name": "stdout",
     "output_type": "stream",
     "text": [
      "     rid   vid           owner                 address    zip\n",
      "0  T6285  6285  AGEAN TAXI LLC     4536 N. ELSTON AVE.  60630\n",
      "1  T4862  4862    MANGIB CORP.  5717 N. WASHTENAW AVE.  60659\n",
      "2  T1495  1495   FUNRIDE, INC.     3351 W. ADDISON ST.  60618\n",
      "3  T4231  4231    ALQUSH CORP.   6611 N. CAMPBELL AVE.  60645\n",
      "4  T5971  5971  EUNIFFORD INC.     3351 W. ADDISON ST.  60618\n",
      "(3519, 5)\n"
     ]
    }
   ],
   "source": [
    "taxi_owners=pd.read_pickle(r'taxi_owners.p')\n",
    "taxi_owners\n",
    "print(taxi_owners.head())\n",
    "print(taxi_owners.shape)"
   ]
  },
  {
   "cell_type": "code",
   "execution_count": 3,
   "id": "60574310-f06b-4d07-9b55-5308e13ebf48",
   "metadata": {},
   "outputs": [
    {
     "name": "stdout",
     "output_type": "stream",
     "text": [
      "    vid    make   model  year fuel_type                owner\n",
      "0  2767  TOYOTA   CAMRY  2013    HYBRID       SEYED M. BADRI\n",
      "1  1411  TOYOTA    RAV4  2017    HYBRID          DESZY CORP.\n",
      "2  6500  NISSAN  SENTRA  2019  GASOLINE       AGAPH CAB CORP\n",
      "3  2746  TOYOTA   CAMRY  2013    HYBRID  MIDWEST CAB CO, INC\n",
      "4  5922  TOYOTA   CAMRY  2013    HYBRID       SUMETTI CAB CO\n",
      "(3519, 6)\n"
     ]
    }
   ],
   "source": [
    "taxi_veh=pd.read_pickle(r'taxi_vehicles.p')\n",
    "taxi_veh\n",
    "print(taxi_veh.head())\n",
    "print(taxi_veh.shape)"
   ]
  },
  {
   "cell_type": "code",
   "execution_count": 4,
   "id": "680943be-4de3-4bb6-926b-b3aa8e494d78",
   "metadata": {},
   "outputs": [
    {
     "name": "stdout",
     "output_type": "stream",
     "text": [
      "Index(['rid', 'vid', 'owner_x', 'address', 'zip', 'make', 'model', 'year',\n",
      "       'fuel_type', 'owner_y'],\n",
      "      dtype='object')\n",
      "     rid   vid         owner_x                 address    zip    make   model  \\\n",
      "0  T6285  6285  AGEAN TAXI LLC     4536 N. ELSTON AVE.  60630  NISSAN  ALTIMA   \n",
      "1  T4862  4862    MANGIB CORP.  5717 N. WASHTENAW AVE.  60659   HONDA     CRV   \n",
      "2  T1495  1495   FUNRIDE, INC.     3351 W. ADDISON ST.  60618  TOYOTA  SIENNA   \n",
      "3  T4231  4231    ALQUSH CORP.   6611 N. CAMPBELL AVE.  60645  TOYOTA   CAMRY   \n",
      "4  T5971  5971  EUNIFFORD INC.     3351 W. ADDISON ST.  60618  TOYOTA  SIENNA   \n",
      "\n",
      "   year fuel_type         owner_y  \n",
      "0  2011    HYBRID  AGEAN TAXI LLC  \n",
      "1  2014  GASOLINE    MANGIB CORP.  \n",
      "2  2015  GASOLINE   FUNRIDE, INC.  \n",
      "3  2014    HYBRID    ALQUSH CORP.  \n",
      "4  2015  GASOLINE  EUNIFFORD INC.  \n"
     ]
    }
   ],
   "source": [
    "# Merge the taxi_owners and taxi_veh tables\n",
    "taxi_own_veh = taxi_owners.merge(taxi_veh,on='vid')\n",
    "\n",
    "# Print the column names of the taxi_own_veh\n",
    "print(taxi_own_veh.columns)\n",
    "print(taxi_own_veh.head())"
   ]
  },
  {
   "cell_type": "code",
   "execution_count": 5,
   "id": "be8cf05e-8a53-45b7-bc94-7dc94bcf45b0",
   "metadata": {},
   "outputs": [
    {
     "name": "stdout",
     "output_type": "stream",
     "text": [
      "Index(['rid', 'vid', 'owner_x', 'address', 'zip', 'make', 'model', 'year',\n",
      "       'fuel_type', 'owner_y'],\n",
      "      dtype='object')\n",
      "     rid   vid         owner_x                 address    zip    make   model  \\\n",
      "0  T6285  6285  AGEAN TAXI LLC     4536 N. ELSTON AVE.  60630  NISSAN  ALTIMA   \n",
      "1  T4862  4862    MANGIB CORP.  5717 N. WASHTENAW AVE.  60659   HONDA     CRV   \n",
      "2  T1495  1495   FUNRIDE, INC.     3351 W. ADDISON ST.  60618  TOYOTA  SIENNA   \n",
      "3  T4231  4231    ALQUSH CORP.   6611 N. CAMPBELL AVE.  60645  TOYOTA   CAMRY   \n",
      "4  T5971  5971  EUNIFFORD INC.     3351 W. ADDISON ST.  60618  TOYOTA  SIENNA   \n",
      "\n",
      "   year fuel_type         owner_y  \n",
      "0  2011    HYBRID  AGEAN TAXI LLC  \n",
      "1  2014  GASOLINE    MANGIB CORP.  \n",
      "2  2015  GASOLINE   FUNRIDE, INC.  \n",
      "3  2014    HYBRID    ALQUSH CORP.  \n",
      "4  2015  GASOLINE  EUNIFFORD INC.  \n"
     ]
    }
   ],
   "source": [
    "# Merge the taxi_owners and taxi_veh tables\n",
    "taxi_own_veh = taxi_owners.merge(taxi_veh,on='vid')\n",
    "\n",
    "# Print the column names of the taxi_own_veh\n",
    "print(taxi_own_veh.columns)\n",
    "print(taxi_own_veh.head())"
   ]
  },
  {
   "cell_type": "code",
   "execution_count": 6,
   "id": "e0d6d25f-2f5d-4c70-bc02-3f534bb2d6f2",
   "metadata": {},
   "outputs": [
    {
     "name": "stdout",
     "output_type": "stream",
     "text": [
      "Index(['rid', 'vid', 'owner_own', 'address', 'zip', 'make', 'model', 'year',\n",
      "       'fuel_type', 'owner_veh'],\n",
      "      dtype='object')\n"
     ]
    }
   ],
   "source": [
    "# Merge the taxi_owners and taxi_veh tables setting a suffix\n",
    "taxi_own_veh = taxi_owners.merge(taxi_veh, on='vid', suffixes=('_own','_veh'))\n",
    "\n",
    "# Print the column names of taxi_own_veh\n",
    "print(taxi_own_veh.columns)"
   ]
  },
  {
   "cell_type": "code",
   "execution_count": 7,
   "id": "52e7ca2e-c5d7-4de6-8d4a-1637e5a8af6c",
   "metadata": {},
   "outputs": [
    {
     "name": "stdout",
     "output_type": "stream",
     "text": [
      "HYBRID                    2792\n",
      "GASOLINE                   611\n",
      "FLEX FUEL                   89\n",
      "COMPRESSED NATURAL GAS      27\n",
      "Name: fuel_type, dtype: int64\n"
     ]
    }
   ],
   "source": [
    "# Print the value_counts to find the most popular fuel_type\n",
    "print(taxi_own_veh['fuel_type'].value_counts())"
   ]
  },
  {
   "cell_type": "code",
   "execution_count": 8,
   "id": "6833ad31-5495-4919-89c6-af7a134926c7",
   "metadata": {},
   "outputs": [
    {
     "name": "stdout",
     "output_type": "stream",
     "text": [
      "  ward            alderman                          address    zip\n",
      "0    1  Proco \"Joe\" Moreno        2058 NORTH WESTERN AVENUE  60647\n",
      "1    2       Brian Hopkins       1400 NORTH  ASHLAND AVENUE  60622\n",
      "2    3          Pat Dowell          5046 SOUTH STATE STREET  60609\n",
      "3    4    William D. Burns  435 EAST 35TH STREET, 1ST FLOOR  60616\n",
      "4    5  Leslie A. Hairston            2325 EAST 71ST STREET  60649\n",
      "(50, 4)\n"
     ]
    }
   ],
   "source": [
    "wards=pd.read_pickle(r'ward.p')\n",
    "print(wards.head())\n",
    "print(wards.shape)"
   ]
  },
  {
   "cell_type": "code",
   "execution_count": 9,
   "id": "348b9e0a-15c5-45c1-8139-e02aebf4b75a",
   "metadata": {},
   "outputs": [
    {
     "name": "stdout",
     "output_type": "stream",
     "text": [
      "  ward  pop_2000  pop_2010 change                                  address  \\\n",
      "0    1     52951     56149     6%              2765 WEST SAINT MARY STREET   \n",
      "1    2     54361     55805     3%                 WM WASTE MANAGEMENT 1500   \n",
      "2    3     40385     53039    31%                      17 EAST 38TH STREET   \n",
      "3    4     51953     54589     5%  31ST ST HARBOR BUILDING LAKEFRONT TRAIL   \n",
      "4    5     55302     51455    -7%  JACKSON PARK LAGOON SOUTH CORNELL DRIVE   \n",
      "\n",
      "     zip  \n",
      "0  60647  \n",
      "1  60622  \n",
      "2  60653  \n",
      "3  60653  \n",
      "4  60637  \n",
      "(50, 6)\n"
     ]
    }
   ],
   "source": [
    "census=pd.read_pickle(r'census.p')\n",
    "print(census.head())\n",
    "print(census.shape)"
   ]
  },
  {
   "cell_type": "code",
   "execution_count": 10,
   "id": "fcc1a52b-b6d9-449d-9048-e54666304b84",
   "metadata": {},
   "outputs": [
    {
     "name": "stdout",
     "output_type": "stream",
     "text": [
      "wards_census table shape: (50, 9)\n"
     ]
    }
   ],
   "source": [
    "# Merge the wards and census tables on the ward column\n",
    "wards_census = wards.merge(census,on='ward')\n",
    "\n",
    "# Print the shape of wards_census\n",
    "print('wards_census table shape:', wards_census.shape)"
   ]
  },
  {
   "cell_type": "code",
   "execution_count": 11,
   "id": "61a45970-0113-414b-a10c-5518142d77a8",
   "metadata": {},
   "outputs": [
    {
     "name": "stdout",
     "output_type": "stream",
     "text": [
      "  account ward  aid                   business               address    zip\n",
      "0  307071    3  743       REGGIE'S BAR & GRILL       2105 S STATE ST  60616\n",
      "1      10   10  829                 HONEYBEERS   13200 S HOUSTON AVE  60633\n",
      "2   10002   14  775                CELINA DELI     5089 S ARCHER AVE  60632\n",
      "3   10005   12  NaN  KRAFT FOODS NORTH AMERICA        2005 W 43RD ST  60609\n",
      "4   10044   44  638  NEYBOUR'S TAVERN & GRILLE  3651 N SOUTHPORT AVE  60613\n",
      "(10000, 6)\n"
     ]
    }
   ],
   "source": [
    "licenses=pd.read_pickle(r'licenses.p')\n",
    "print(licenses.head())\n",
    "print(licenses.shape)"
   ]
  },
  {
   "cell_type": "code",
   "execution_count": 12,
   "id": "b77f1077-59cd-45e1-ab6d-5e11a52a1636",
   "metadata": {},
   "outputs": [
    {
     "name": "stdout",
     "output_type": "stream",
     "text": [
      "  account first_name  last_name      title\n",
      "0      10      PEARL    SHERMAN  PRESIDENT\n",
      "1      10      PEARL    SHERMAN  SECRETARY\n",
      "2   10002     WALTER     MROZEK    PARTNER\n",
      "3   10002     CELINA     BYRDAK    PARTNER\n",
      "4   10005      IRENE  ROSENFELD  PRESIDENT\n",
      "(21352, 4)\n"
     ]
    }
   ],
   "source": [
    "biz_owners=pd.read_pickle(r'business_owners.p')\n",
    "print(biz_owners.head())\n",
    "print(biz_owners.shape)"
   ]
  },
  {
   "cell_type": "code",
   "execution_count": 13,
   "id": "287f0295-6834-4ca5-af38-a642e02c9587",
   "metadata": {},
   "outputs": [
    {
     "name": "stdout",
     "output_type": "stream",
     "text": [
      "                 account\n",
      "title                   \n",
      "PRESIDENT           6259\n",
      "SECRETARY           5205\n",
      "SOLE PROPRIETOR     1658\n",
      "OTHER               1200\n",
      "VICE PRESIDENT       970\n"
     ]
    }
   ],
   "source": [
    "# Merge the licenses and biz_owners table on account\n",
    "licenses_owners = licenses.merge(biz_owners,on ='account')\n",
    "\n",
    "# Group the results by title then count the number of accounts\n",
    "counted_df = licenses_owners.groupby('title').agg({'account':'count'})\n",
    "\n",
    "# Sort the counted_df in desending order\n",
    "sorted_df = counted_df.sort_values('account',ascending=False)\n",
    "\n",
    "# Use .head() method to print the first few rows of sorted_df\n",
    "print(sorted_df.head())"
   ]
  },
  {
   "cell_type": "code",
   "execution_count": 14,
   "id": "cfcf04b3-2ef5-467e-858f-3739cf30a6ca",
   "metadata": {},
   "outputs": [
    {
     "name": "stdout",
     "output_type": "stream",
     "text": [
      "  station_id  year  month  day  rides\n",
      "0      40010  2019      1    1    576\n",
      "1      40010  2019      1    2   1457\n",
      "2      40010  2019      1    3   1543\n",
      "3      40010  2019      1    4   1621\n",
      "4      40010  2019      1    5    719\n",
      "(3285, 5)\n"
     ]
    }
   ],
   "source": [
    "ridership=pd.read_pickle(r'cta_ridership.p')\n",
    "print(ridership.head())\n",
    "print(ridership.shape)"
   ]
  },
  {
   "cell_type": "code",
   "execution_count": 15,
   "id": "20855cbb-ea17-45c7-819a-032b7b83d784",
   "metadata": {},
   "outputs": [
    {
     "name": "stdout",
     "output_type": "stream",
     "text": [
      "   year  month  day        day_type\n",
      "0  2019      1    1  Sunday/Holiday\n",
      "1  2019      1    2         Weekday\n",
      "2  2019      1    3         Weekday\n",
      "3  2019      1    4         Weekday\n",
      "4  2019      1    5        Saturday\n",
      "(365, 4)\n"
     ]
    }
   ],
   "source": [
    "cal=pd.read_pickle(r'cta_calendar.p')\n",
    "print(cal.head())\n",
    "print(cal.shape)"
   ]
  },
  {
   "cell_type": "code",
   "execution_count": 16,
   "id": "0af97884-52dd-4955-afcd-f5dee115b415",
   "metadata": {},
   "outputs": [
    {
     "name": "stdout",
     "output_type": "stream",
     "text": [
      "  station_id        station_name                 location\n",
      "0      40010  Austin-Forest Park  (41.870851, -87.776812)\n",
      "1      40020         Harlem-Lake  (41.886848, -87.803176)\n",
      "2      40030        Pulaski-Lake  (41.885412, -87.725404)\n",
      "3      40040        Quincy/Wells   (41.878723, -87.63374)\n",
      "4      40050               Davis   (42.04771, -87.683543)\n",
      "(144, 3)\n"
     ]
    }
   ],
   "source": [
    "stations=pd.read_pickle(r'stations.p')\n",
    "print(stations.head())\n",
    "print(stations.shape)"
   ]
  },
  {
   "cell_type": "code",
   "execution_count": 17,
   "id": "86bc7b3c-e724-45a5-838c-c796b7f6ab21",
   "metadata": {},
   "outputs": [],
   "source": [
    "# Merge the ridership and cal tables\n",
    "ridership_cal = ridership.merge(cal, on=['year','month','day'])"
   ]
  },
  {
   "cell_type": "code",
   "execution_count": 18,
   "id": "212eb3cc-a965-434b-b93d-6f4bb6a776ee",
   "metadata": {},
   "outputs": [],
   "source": [
    "# Merge the ridership, cal, and stations tables\n",
    "ridership_cal_stations = ridership.merge(cal, on=['year','month','day']) \\\n",
    "            \t\t\t\t.merge(stations, on='station_id')"
   ]
  },
  {
   "cell_type": "code",
   "execution_count": 19,
   "id": "fbbd067e-8970-4d62-956a-3410a8348ed3",
   "metadata": {},
   "outputs": [
    {
     "name": "stdout",
     "output_type": "stream",
     "text": [
      "140005\n"
     ]
    }
   ],
   "source": [
    "# Create a filter to filter ridership_cal_stations\n",
    "filter_criteria = ((ridership_cal_stations['month'] == 7) \n",
    "                   & (ridership_cal_stations['day_type'] == 'Weekday') \n",
    "                   & (ridership_cal_stations['station_name'] == 'Wilson'))\n",
    "\n",
    "# Use .loc and the filter to select for rides\n",
    "print(ridership_cal_stations.loc[filter_criteria, 'rides'].sum())"
   ]
  },
  {
   "cell_type": "code",
   "execution_count": 20,
   "id": "aab88a65-fd7d-432e-a5f6-dff764df2490",
   "metadata": {},
   "outputs": [
    {
     "name": "stdout",
     "output_type": "stream",
     "text": [
      "     zip  income\n",
      "0  60630   70122\n",
      "1  60640   50488\n",
      "2  60622   87143\n",
      "3  60614  100116\n",
      "4  60608   41226\n",
      "(66, 2)\n"
     ]
    }
   ],
   "source": [
    "zip_demo=pd.read_pickle(r'zip_demo.p')\n",
    "print(zip_demo.head())\n",
    "print(zip_demo.shape)"
   ]
  },
  {
   "cell_type": "code",
   "execution_count": 21,
   "id": "02f5e82c-f7e2-4607-8988-98d957ef4386",
   "metadata": {},
   "outputs": [
    {
     "name": "stdout",
     "output_type": "stream",
     "text": [
      "                             income\n",
      "alderman                           \n",
      "Ameya Pawar                 66246.0\n",
      "Anthony A. Beale            38206.0\n",
      "Anthony V. Napolitano       82226.0\n",
      "Ariel E. Reyboras           41307.0\n",
      "Brendan Reilly             110215.0\n",
      "Brian Hopkins               87143.0\n",
      "Carlos Ramirez-Rosa         66246.0\n",
      "Carrie M. Austin            38206.0\n",
      "Chris Taliaferro            55566.0\n",
      "Daniel \"Danny\" Solis        41226.0\n",
      "David H. Moore              33304.0\n",
      "Deborah Mell                66246.0\n",
      "Debra L. Silverstein        50554.0\n",
      "Derrick G. Curtis           65770.0\n",
      "Edward M. Burke             42335.0\n",
      "Emma M. Mitts               36283.0\n",
      "George Cardenas             33959.0\n",
      "Gilbert Villegas            41307.0\n",
      "Gregory I. Mitchell         24941.0\n",
      "Harry Osterman              45442.0\n",
      "Howard B. Brookins, Jr.     33304.0\n",
      "James Cappleman             79565.0\n",
      "Jason C. Ervin              41226.0\n",
      "Joe Moore                   39163.0\n",
      "John S. Arena               70122.0\n",
      "Leslie A. Hairston          28024.0\n",
      "Margaret Laurino            70122.0\n",
      "Marty Quinn                 67045.0\n",
      "Matthew J. O'Shea           59488.0\n",
      "Michael R. Zalewski         42335.0\n",
      "Michael Scott, Jr.          31445.0\n",
      "Michelle A. Harris          32558.0\n",
      "Michelle Smith             100116.0\n",
      "Milagros \"Milly\" Santiago   41307.0\n",
      "Nicholas Sposato            62223.0\n",
      "Pat Dowell                  46340.0\n",
      "Patrick Daley Thompson      41226.0\n",
      "Patrick J. O'Connor         50554.0\n",
      "Proco \"Joe\" Moreno          87143.0\n",
      "Raymond A. Lopez            33959.0\n",
      "Ricardo Munoz               31445.0\n",
      "Roberto Maldonado           68223.0\n",
      "Roderick T. Sawyer          32558.0\n",
      "Scott Waguespack            68223.0\n",
      "Susan Sadlowski Garza       38417.0\n",
      "Tom Tunney                  88708.0\n",
      "Toni L. Foulkes             27573.0\n",
      "Walter Burnett, Jr.         87143.0\n",
      "William D. Burns           107811.0\n",
      "Willie B. Cochran           28024.0\n"
     ]
    }
   ],
   "source": [
    "# Merge licenses and zip_demo, on zip; and merge the wards on ward\n",
    "licenses_zip_ward = licenses.merge(zip_demo,on='zip') \\\n",
    "            \t\t\t.merge(wards, on='ward')\n",
    "\n",
    "# Print the results by alderman and show median income\n",
    "print(licenses_zip_ward.groupby('alderman').agg({'income':'median'}))"
   ]
  },
  {
   "cell_type": "code",
   "execution_count": 22,
   "id": "ab6fad8a-92aa-416e-9cfe-73372ab4af12",
   "metadata": {},
   "outputs": [
    {
     "name": "stdout",
     "output_type": "stream",
     "text": [
      "  ward  residential  commercial  industrial  vacant  other\n",
      "0    1           41           9           2       2     46\n",
      "1    2           31          11           6       2     50\n",
      "2    3           20           5           3      13     59\n",
      "3    4           22          13           0       7     58\n",
      "4    5           25           3           1       3     68\n",
      "(50, 6)\n"
     ]
    }
   ],
   "source": [
    "land_use=pd.read_pickle(r'land_use.p')\n",
    "print(land_use.head())\n",
    "print(land_use.shape)"
   ]
  },
  {
   "cell_type": "code",
   "execution_count": 23,
   "id": "69982aff-4364-4370-8554-3c81610555c0",
   "metadata": {},
   "outputs": [
    {
     "name": "stdout",
     "output_type": "stream",
     "text": [
      "   ward  pop_2010  vacant  account\n",
      "47    7     51581      19       80\n",
      "12   20     52372      15      123\n",
      "1    10     51535      14      130\n",
      "16   24     54909      13       98\n",
      "7    16     51954      13      156\n"
     ]
    }
   ],
   "source": [
    "# Merge land_use and census and merge result with licenses including suffixes\n",
    "land_cen_lic = land_use.merge(census, on='ward') \\\n",
    "                .merge(licenses, on='ward', suffixes=('_cen','_lic'))\n",
    "# Group by ward, pop_2010, and vacant, then count the # of accounts\n",
    "pop_vac_lic = land_cen_lic.groupby(['ward','pop_2010','vacant'], \n",
    "                                   as_index=False).agg({'account':'count'})\n",
    "# Sort pop_vac_lic and print the results\n",
    "sorted_pop_vac_lic = pop_vac_lic.sort_values(['vacant','account','pop_2010'], \n",
    "                                             ascending=[False,True,True])\n",
    "\n",
    "# Print the top few rows of sorted_pop_vac_lic\n",
    "print(sorted_pop_vac_lic.head())"
   ]
  },
  {
   "cell_type": "code",
   "execution_count": 24,
   "id": "172323e4-e053-4862-a57a-443ded2bc9b9",
   "metadata": {},
   "outputs": [
    {
     "name": "stdout",
     "output_type": "stream",
     "text": [
      "      id                 title  popularity release_date\n",
      "0    257          Oliver Twist   20.415572   2005-09-23\n",
      "1  14290  Better Luck Tomorrow    3.877036   2002-01-12\n",
      "2  38365             Grown Ups   38.864027   2010-06-24\n",
      "3   9672              Infamous    3.680896   2006-11-16\n",
      "4  12819       Alpha and Omega   12.300789   2010-09-17\n",
      "(4803, 4)\n"
     ]
    }
   ],
   "source": [
    "movies=pd.read_pickle(r'movies.p')\n",
    "print(movies.head())\n",
    "print(movies.shape)"
   ]
  },
  {
   "cell_type": "code",
   "execution_count": 25,
   "id": "dd93e398-990a-4ef1-9094-d3a3591d0fa0",
   "metadata": {},
   "outputs": [
    {
     "name": "stdout",
     "output_type": "stream",
     "text": [
      "       id     budget       revenue\n",
      "0   19995  237000000  2.787965e+09\n",
      "1     285  300000000  9.610000e+08\n",
      "2  206647  245000000  8.806746e+08\n",
      "3   49026  250000000  1.084939e+09\n",
      "4   49529  260000000  2.841391e+08\n",
      "(3229, 3)\n"
     ]
    }
   ],
   "source": [
    "financials=pd.read_pickle(r'financials.p')\n",
    "print(financials.head())\n",
    "print(financials.shape)"
   ]
  },
  {
   "cell_type": "code",
   "execution_count": 26,
   "id": "f701a649-1371-4632-b570-d380eb74ed93",
   "metadata": {},
   "outputs": [
    {
     "name": "stdout",
     "output_type": "stream",
     "text": [
      "1574\n"
     ]
    }
   ],
   "source": [
    "# Merge movies and financials with a left join\n",
    "movies_financials = movies.merge(financials, on='id',how='left')\n",
    "# Count the number of rows in the budget column that are missing\n",
    "number_of_missing_fin = movies_financials['budget'].isnull().sum()\n",
    "\n",
    "# Print the number of movies missing financials\n",
    "print(number_of_missing_fin)"
   ]
  },
  {
   "cell_type": "code",
   "execution_count": 27,
   "id": "b7c04c32-fc04-4b54-816f-0f165537e76a",
   "metadata": {},
   "outputs": [
    {
     "name": "stdout",
     "output_type": "stream",
     "text": [
      "   movie_id            genre\n",
      "0         5            Crime\n",
      "1         5           Comedy\n",
      "2        11  Science Fiction\n",
      "3        11           Action\n",
      "4        11        Adventure\n",
      "(12160, 2)\n"
     ]
    }
   ],
   "source": [
    "movie_to_genres=pd.read_pickle(r'movie_to_genres.p')\n",
    "print(movie_to_genres.head())\n",
    "print(movie_to_genres.shape)"
   ]
  },
  {
   "cell_type": "code",
   "execution_count": 28,
   "id": "0a676f41-5628-4671-95a3-63fa4adbe8cd",
   "metadata": {},
   "outputs": [
    {
     "name": "stdout",
     "output_type": "stream",
     "text": [
      "          id                                              title  popularity  \\\n",
      "4546  211672                                            Minions  875.581305   \n",
      "4343  157336                                       Interstellar  724.247784   \n",
      "1966  293660                                           Deadpool  514.569956   \n",
      "2423  118340                            Guardians of the Galaxy  481.098624   \n",
      "4220   76341                                 Mad Max: Fury Road  434.278564   \n",
      "1867  135397                                     Jurassic World  418.708552   \n",
      "4375      22  Pirates of the Caribbean: The Curse of the Bla...  271.972889   \n",
      "1106  119450                     Dawn of the Planet of the Apes  243.791743   \n",
      "4216  131631              The Hunger Games: Mockingjay - Part 1  206.227151   \n",
      "2614  177572                                         Big Hero 6  203.734590   \n",
      "\n",
      "     release_date  \n",
      "4546   2015-06-17  \n",
      "4343   2014-11-05  \n",
      "1966   2016-02-09  \n",
      "2423   2014-07-30  \n",
      "4220   2015-05-13  \n",
      "1867   2015-06-09  \n",
      "4375   2003-07-09  \n",
      "1106   2014-06-26  \n",
      "4216   2014-11-18  \n",
      "2614   2014-10-24  \n"
     ]
    }
   ],
   "source": [
    "#Get top 10 most popular movies\n",
    "pop_gen=movies.sort_values('popularity',ascending=False)\n",
    "#print(pop_gen.head(10))\n",
    "pop_movies=pop_gen.iloc[0:10,:]\n",
    "print(pop_movies)"
   ]
  },
  {
   "cell_type": "code",
   "execution_count": 29,
   "id": "632ccef1-8a72-4b00-bf08-3e4b5e85e162",
   "metadata": {},
   "outputs": [
    {
     "data": {
      "image/png": "[encoded data removed]",
      "text/plain": [
       "<Figure size 432x288 with 1 Axes>"
      ]
     },
     "metadata": {
      "needs_background": "light"
     },
     "output_type": "display_data"
    }
   ],
   "source": [
    "import matplotlib.pyplot as plt\n",
    "# Use right join to merge the movie_to_genres and pop_movies tables\n",
    "genres_movies = movie_to_genres.merge(pop_movies, how='right', \n",
    "                                      left_on='movie_id', \n",
    "                                      right_on='id')\n",
    "\n",
    "# Count the number of genres\n",
    "genre_count = genres_movies.groupby('genre').agg({'id':'count'})\n",
    "\n",
    "# Plot a bar chart of the genre_count\n",
    "genre_count.plot(kind='bar')\n",
    "plt.show()"
   ]
  },
  {
   "cell_type": "code",
   "execution_count": 30,
   "id": "8e7a44e1-a886-46b7-8352-3f1fda01f5b3",
   "metadata": {},
   "outputs": [
    {
     "name": "stdout",
     "output_type": "stream",
     "text": [
      "        id     title  popularity release_date\n",
      "2198  1726  Iron Man  120.725053   2008-04-30\n"
     ]
    }
   ],
   "source": [
    "print(movies[movies['title']=='Iron Man'])"
   ]
  },
  {
   "cell_type": "code",
   "execution_count": 31,
   "id": "36027860-7b52-4f94-898f-99574bd6f214",
   "metadata": {},
   "outputs": [
    {
     "data": {
      "text/html": [
       "<div>\n",
       "<style scoped>\n",
       "    .dataframe tbody tr th:only-of-type {\n",
       "        vertical-align: middle;\n",
       "    }\n",
       "\n",
       "    .dataframe tbody tr th {\n",
       "        vertical-align: top;\n",
       "    }\n",
       "\n",
       "    .dataframe thead th {\n",
       "        text-align: right;\n",
       "    }\n",
       "</style>\n",
       "<table border=\"1\" class=\"dataframe\">\n",
       "  <thead>\n",
       "    <tr style=\"text-align: right;\">\n",
       "      <th></th>\n",
       "      <th>id</th>\n",
       "      <th>title</th>\n",
       "      <th>popularity</th>\n",
       "      <th>release_date</th>\n",
       "    </tr>\n",
       "  </thead>\n",
       "  <tbody>\n",
       "    <tr>\n",
       "      <th>181</th>\n",
       "      <td>10386</td>\n",
       "      <td>The Iron Giant</td>\n",
       "      <td>61.245957</td>\n",
       "      <td>1999-08-06</td>\n",
       "    </tr>\n",
       "    <tr>\n",
       "      <th>2198</th>\n",
       "      <td>1726</td>\n",
       "      <td>Iron Man</td>\n",
       "      <td>120.725053</td>\n",
       "      <td>2008-04-30</td>\n",
       "    </tr>\n",
       "    <tr>\n",
       "      <th>3041</th>\n",
       "      <td>38543</td>\n",
       "      <td>Ironclad</td>\n",
       "      <td>12.317080</td>\n",
       "      <td>2011-03-03</td>\n",
       "    </tr>\n",
       "    <tr>\n",
       "      <th>3271</th>\n",
       "      <td>97430</td>\n",
       "      <td>The Man with the Iron Fists</td>\n",
       "      <td>17.672021</td>\n",
       "      <td>2012-11-02</td>\n",
       "    </tr>\n",
       "    <tr>\n",
       "      <th>3286</th>\n",
       "      <td>68721</td>\n",
       "      <td>Iron Man 3</td>\n",
       "      <td>77.682080</td>\n",
       "      <td>2013-04-18</td>\n",
       "    </tr>\n",
       "    <tr>\n",
       "      <th>3401</th>\n",
       "      <td>10138</td>\n",
       "      <td>Iron Man 2</td>\n",
       "      <td>77.300194</td>\n",
       "      <td>2010-04-28</td>\n",
       "    </tr>\n",
       "    <tr>\n",
       "      <th>3900</th>\n",
       "      <td>9313</td>\n",
       "      <td>The Man in the Iron Mask</td>\n",
       "      <td>28.980270</td>\n",
       "      <td>1998-03-12</td>\n",
       "    </tr>\n",
       "    <tr>\n",
       "      <th>4539</th>\n",
       "      <td>71688</td>\n",
       "      <td>The Iron Lady</td>\n",
       "      <td>23.378400</td>\n",
       "      <td>2011-12-30</td>\n",
       "    </tr>\n",
       "  </tbody>\n",
       "</table>\n",
       "</div>"
      ],
      "text/plain": [
       "         id                        title  popularity release_date\n",
       "181   10386               The Iron Giant   61.245957   1999-08-06\n",
       "2198   1726                     Iron Man  120.725053   2008-04-30\n",
       "3041  38543                     Ironclad   12.317080   2011-03-03\n",
       "3271  97430  The Man with the Iron Fists   17.672021   2012-11-02\n",
       "3286  68721                   Iron Man 3   77.682080   2013-04-18\n",
       "3401  10138                   Iron Man 2   77.300194   2010-04-28\n",
       "3900   9313     The Man in the Iron Mask   28.980270   1998-03-12\n",
       "4539  71688                The Iron Lady   23.378400   2011-12-30"
      ]
     },
     "execution_count": 31,
     "metadata": {},
     "output_type": "execute_result"
    }
   ],
   "source": [
    "movies[movies['title'].str.contains(\"Iron\")]"
   ]
  },
  {
   "cell_type": "code",
   "execution_count": 32,
   "id": "59305757-c4ab-4c70-ba55-199484a1f015",
   "metadata": {},
   "outputs": [
    {
     "name": "stdout",
     "output_type": "stream",
     "text": [
      "      id  department             job               name\n",
      "0  19995     Editing          Editor  Stephen E. Rivkin\n",
      "2  19995       Sound  Sound Designer  Christopher Boyes\n",
      "4  19995  Production         Casting          Mali Finn\n",
      "6  19995   Directing        Director      James Cameron\n",
      "7  19995     Writing          Writer      James Cameron\n",
      "(42502, 4)\n"
     ]
    }
   ],
   "source": [
    "crews=pd.read_pickle(r'crews.p')\n",
    "print(crews.head())\n",
    "print(crews.shape)"
   ]
  },
  {
   "cell_type": "markdown",
   "id": "8aaa9093-3c3a-4b61-a893-3b2a2ac6f1e8",
   "metadata": {},
   "source": [
    "To find different movie directors and the people they worked with in the same movie."
   ]
  },
  {
   "cell_type": "code",
   "execution_count": 33,
   "id": "a607e649-c05a-4d1e-864f-608631eda595",
   "metadata": {},
   "outputs": [
    {
     "name": "stdout",
     "output_type": "stream",
     "text": [
      "        id department_dir   job_dir       name_dir department_crew  \\\n",
      "156  19995      Directing  Director  James Cameron         Editing   \n",
      "157  19995      Directing  Director  James Cameron           Sound   \n",
      "158  19995      Directing  Director  James Cameron      Production   \n",
      "160  19995      Directing  Director  James Cameron         Writing   \n",
      "161  19995      Directing  Director  James Cameron             Art   \n",
      "\n",
      "           job_crew          name_crew  \n",
      "156          Editor  Stephen E. Rivkin  \n",
      "157  Sound Designer  Christopher Boyes  \n",
      "158         Casting          Mali Finn  \n",
      "160          Writer      James Cameron  \n",
      "161    Set Designer    Richard F. Mays  \n",
      "(40845, 7)\n"
     ]
    }
   ],
   "source": [
    "# Merge the crews table to itself\n",
    "crews_self_merged = crews.merge(crews, on='id', how='inner',\n",
    "                                suffixes=('_dir','_crew'))\n",
    "# Create a boolean index to select the appropriate rows\n",
    "boolean_filter = ((crews_self_merged['job_dir'] == 'Director') & \n",
    "                  (crews_self_merged['job_crew'] != 'Director'))\n",
    "direct_crews = crews_self_merged[boolean_filter]\n",
    "# Print the first few rows of direct_crews\n",
    "print(direct_crews.head())\n",
    "print(direct_crews.shape)"
   ]
  },
  {
   "cell_type": "code",
   "execution_count": 34,
   "id": "71680c18-687a-4cab-bdaf-9e3aa31c3279",
   "metadata": {},
   "outputs": [
    {
     "name": "stdout",
     "output_type": "stream",
     "text": [
      "      id         title  sequel\n",
      "0  19995        Avatar    <NA>\n",
      "1    862     Toy Story     863\n",
      "2    863   Toy Story 2   10193\n",
      "3    597       Titanic    <NA>\n",
      "4  24428  The Avengers    <NA>\n",
      "(4803, 3)\n"
     ]
    }
   ],
   "source": [
    "sequels=pd.read_pickle(r'sequels.p')\n",
    "print(sequels.head())\n",
    "print(sequels.shape)"
   ]
  },
  {
   "cell_type": "code",
   "execution_count": 35,
   "id": "19c293aa-42b1-48f5-9f99-fdba9caa5816",
   "metadata": {},
   "outputs": [
    {
     "ename": "TypeError",
     "evalue": "int() argument must be a string, a bytes-like object or a number, not 'NAType'",
     "output_type": "error",
     "traceback": [
      "\u001b[1;31m---------------------------------------------------------------------------\u001b[0m",
      "\u001b[1;31mTypeError\u001b[0m                                 Traceback (most recent call last)",
      "\u001b[1;32m~\\AppData\\Local\\Temp/ipykernel_3960/4047011363.py\u001b[0m in \u001b[0;36m<module>\u001b[1;34m\u001b[0m\n\u001b[0;32m      3\u001b[0m \u001b[1;33m\u001b[0m\u001b[0m\n\u001b[0;32m      4\u001b[0m \u001b[1;31m# Self merge with suffixes as inner join with left on sequel and right on id\u001b[0m\u001b[1;33m\u001b[0m\u001b[1;33m\u001b[0m\u001b[0m\n\u001b[1;32m----> 5\u001b[1;33m orig_seq = sequels_fin.merge(sequels_fin, how='inner', left_on='sequel', \n\u001b[0m\u001b[0;32m      6\u001b[0m                              \u001b[0mright_on\u001b[0m\u001b[1;33m=\u001b[0m\u001b[1;34m'id'\u001b[0m\u001b[1;33m,\u001b[0m \u001b[0mright_index\u001b[0m\u001b[1;33m=\u001b[0m\u001b[1;32mTrue\u001b[0m\u001b[1;33m,\u001b[0m\u001b[1;33m\u001b[0m\u001b[1;33m\u001b[0m\u001b[0m\n\u001b[0;32m      7\u001b[0m                              suffixes=('_org','_seq'))\n",
      "\u001b[1;32mC:\\ProgramData\\Anaconda3\\lib\\site-packages\\pandas\\core\\frame.py\u001b[0m in \u001b[0;36mmerge\u001b[1;34m(self, right, how, on, left_on, right_on, left_index, right_index, sort, suffixes, copy, indicator, validate)\u001b[0m\n\u001b[0;32m   9188\u001b[0m         \u001b[1;32mfrom\u001b[0m \u001b[0mpandas\u001b[0m\u001b[1;33m.\u001b[0m\u001b[0mcore\u001b[0m\u001b[1;33m.\u001b[0m\u001b[0mreshape\u001b[0m\u001b[1;33m.\u001b[0m\u001b[0mmerge\u001b[0m \u001b[1;32mimport\u001b[0m \u001b[0mmerge\u001b[0m\u001b[1;33m\u001b[0m\u001b[1;33m\u001b[0m\u001b[0m\n\u001b[0;32m   9189\u001b[0m \u001b[1;33m\u001b[0m\u001b[0m\n\u001b[1;32m-> 9190\u001b[1;33m         return merge(\n\u001b[0m\u001b[0;32m   9191\u001b[0m             \u001b[0mself\u001b[0m\u001b[1;33m,\u001b[0m\u001b[1;33m\u001b[0m\u001b[1;33m\u001b[0m\u001b[0m\n\u001b[0;32m   9192\u001b[0m             \u001b[0mright\u001b[0m\u001b[1;33m,\u001b[0m\u001b[1;33m\u001b[0m\u001b[1;33m\u001b[0m\u001b[0m\n",
      "\u001b[1;32mC:\\ProgramData\\Anaconda3\\lib\\site-packages\\pandas\\core\\reshape\\merge.py\u001b[0m in \u001b[0;36mmerge\u001b[1;34m(left, right, how, on, left_on, right_on, left_index, right_index, sort, suffixes, copy, indicator, validate)\u001b[0m\n\u001b[0;32m    119\u001b[0m         \u001b[0mvalidate\u001b[0m\u001b[1;33m=\u001b[0m\u001b[0mvalidate\u001b[0m\u001b[1;33m,\u001b[0m\u001b[1;33m\u001b[0m\u001b[1;33m\u001b[0m\u001b[0m\n\u001b[0;32m    120\u001b[0m     )\n\u001b[1;32m--> 121\u001b[1;33m     \u001b[1;32mreturn\u001b[0m \u001b[0mop\u001b[0m\u001b[1;33m.\u001b[0m\u001b[0mget_result\u001b[0m\u001b[1;33m(\u001b[0m\u001b[1;33m)\u001b[0m\u001b[1;33m\u001b[0m\u001b[1;33m\u001b[0m\u001b[0m\n\u001b[0m\u001b[0;32m    122\u001b[0m \u001b[1;33m\u001b[0m\u001b[0m\n\u001b[0;32m    123\u001b[0m \u001b[1;33m\u001b[0m\u001b[0m\n",
      "\u001b[1;32mC:\\ProgramData\\Anaconda3\\lib\\site-packages\\pandas\\core\\reshape\\merge.py\u001b[0m in \u001b[0;36mget_result\u001b[1;34m(self)\u001b[0m\n\u001b[0;32m    713\u001b[0m             \u001b[0mself\u001b[0m\u001b[1;33m.\u001b[0m\u001b[0mleft\u001b[0m\u001b[1;33m,\u001b[0m \u001b[0mself\u001b[0m\u001b[1;33m.\u001b[0m\u001b[0mright\u001b[0m \u001b[1;33m=\u001b[0m \u001b[0mself\u001b[0m\u001b[1;33m.\u001b[0m\u001b[0m_indicator_pre_merge\u001b[0m\u001b[1;33m(\u001b[0m\u001b[0mself\u001b[0m\u001b[1;33m.\u001b[0m\u001b[0mleft\u001b[0m\u001b[1;33m,\u001b[0m \u001b[0mself\u001b[0m\u001b[1;33m.\u001b[0m\u001b[0mright\u001b[0m\u001b[1;33m)\u001b[0m\u001b[1;33m\u001b[0m\u001b[1;33m\u001b[0m\u001b[0m\n\u001b[0;32m    714\u001b[0m \u001b[1;33m\u001b[0m\u001b[0m\n\u001b[1;32m--> 715\u001b[1;33m         \u001b[0mjoin_index\u001b[0m\u001b[1;33m,\u001b[0m \u001b[0mleft_indexer\u001b[0m\u001b[1;33m,\u001b[0m \u001b[0mright_indexer\u001b[0m \u001b[1;33m=\u001b[0m \u001b[0mself\u001b[0m\u001b[1;33m.\u001b[0m\u001b[0m_get_join_info\u001b[0m\u001b[1;33m(\u001b[0m\u001b[1;33m)\u001b[0m\u001b[1;33m\u001b[0m\u001b[1;33m\u001b[0m\u001b[0m\n\u001b[0m\u001b[0;32m    716\u001b[0m \u001b[1;33m\u001b[0m\u001b[0m\n\u001b[0;32m    717\u001b[0m         llabels, rlabels = _items_overlap_with_suffix(\n",
      "\u001b[1;32mC:\\ProgramData\\Anaconda3\\lib\\site-packages\\pandas\\core\\reshape\\merge.py\u001b[0m in \u001b[0;36m_get_join_info\u001b[1;34m(self)\u001b[0m\n\u001b[0;32m    964\u001b[0m             )\n\u001b[0;32m    965\u001b[0m         \u001b[1;32melse\u001b[0m\u001b[1;33m:\u001b[0m\u001b[1;33m\u001b[0m\u001b[1;33m\u001b[0m\u001b[0m\n\u001b[1;32m--> 966\u001b[1;33m             \u001b[1;33m(\u001b[0m\u001b[0mleft_indexer\u001b[0m\u001b[1;33m,\u001b[0m \u001b[0mright_indexer\u001b[0m\u001b[1;33m)\u001b[0m \u001b[1;33m=\u001b[0m \u001b[0mself\u001b[0m\u001b[1;33m.\u001b[0m\u001b[0m_get_join_indexers\u001b[0m\u001b[1;33m(\u001b[0m\u001b[1;33m)\u001b[0m\u001b[1;33m\u001b[0m\u001b[1;33m\u001b[0m\u001b[0m\n\u001b[0m\u001b[0;32m    967\u001b[0m \u001b[1;33m\u001b[0m\u001b[0m\n\u001b[0;32m    968\u001b[0m             \u001b[1;32mif\u001b[0m \u001b[0mself\u001b[0m\u001b[1;33m.\u001b[0m\u001b[0mright_index\u001b[0m\u001b[1;33m:\u001b[0m\u001b[1;33m\u001b[0m\u001b[1;33m\u001b[0m\u001b[0m\n",
      "\u001b[1;32mC:\\ProgramData\\Anaconda3\\lib\\site-packages\\pandas\\core\\reshape\\merge.py\u001b[0m in \u001b[0;36m_get_join_indexers\u001b[1;34m(self)\u001b[0m\n\u001b[0;32m    938\u001b[0m         \u001b[1;34m\"\"\"return the join indexers\"\"\"\u001b[0m\u001b[1;33m\u001b[0m\u001b[1;33m\u001b[0m\u001b[0m\n\u001b[0;32m    939\u001b[0m         \u001b[1;31m# Both returned ndarrays are np.intp\u001b[0m\u001b[1;33m\u001b[0m\u001b[1;33m\u001b[0m\u001b[0m\n\u001b[1;32m--> 940\u001b[1;33m         return get_join_indexers(\n\u001b[0m\u001b[0;32m    941\u001b[0m             \u001b[0mself\u001b[0m\u001b[1;33m.\u001b[0m\u001b[0mleft_join_keys\u001b[0m\u001b[1;33m,\u001b[0m \u001b[0mself\u001b[0m\u001b[1;33m.\u001b[0m\u001b[0mright_join_keys\u001b[0m\u001b[1;33m,\u001b[0m \u001b[0msort\u001b[0m\u001b[1;33m=\u001b[0m\u001b[0mself\u001b[0m\u001b[1;33m.\u001b[0m\u001b[0msort\u001b[0m\u001b[1;33m,\u001b[0m \u001b[0mhow\u001b[0m\u001b[1;33m=\u001b[0m\u001b[0mself\u001b[0m\u001b[1;33m.\u001b[0m\u001b[0mhow\u001b[0m\u001b[1;33m\u001b[0m\u001b[1;33m\u001b[0m\u001b[0m\n\u001b[0;32m    942\u001b[0m         )\n",
      "\u001b[1;32mC:\\ProgramData\\Anaconda3\\lib\\site-packages\\pandas\\core\\reshape\\merge.py\u001b[0m in \u001b[0;36mget_join_indexers\u001b[1;34m(left_keys, right_keys, sort, how, **kwargs)\u001b[0m\n\u001b[0;32m   1479\u001b[0m         \u001b[1;32mfor\u001b[0m \u001b[0mn\u001b[0m \u001b[1;32min\u001b[0m \u001b[0mrange\u001b[0m\u001b[1;33m(\u001b[0m\u001b[0mlen\u001b[0m\u001b[1;33m(\u001b[0m\u001b[0mleft_keys\u001b[0m\u001b[1;33m)\u001b[0m\u001b[1;33m)\u001b[0m\u001b[1;33m\u001b[0m\u001b[1;33m\u001b[0m\u001b[0m\n\u001b[0;32m   1480\u001b[0m     )\n\u001b[1;32m-> 1481\u001b[1;33m     \u001b[0mzipped\u001b[0m \u001b[1;33m=\u001b[0m \u001b[0mzip\u001b[0m\u001b[1;33m(\u001b[0m\u001b[1;33m*\u001b[0m\u001b[0mmapped\u001b[0m\u001b[1;33m)\u001b[0m\u001b[1;33m\u001b[0m\u001b[1;33m\u001b[0m\u001b[0m\n\u001b[0m\u001b[0;32m   1482\u001b[0m     \u001b[0mllab\u001b[0m\u001b[1;33m,\u001b[0m \u001b[0mrlab\u001b[0m\u001b[1;33m,\u001b[0m \u001b[0mshape\u001b[0m \u001b[1;33m=\u001b[0m \u001b[1;33m(\u001b[0m\u001b[0mlist\u001b[0m\u001b[1;33m(\u001b[0m\u001b[0mx\u001b[0m\u001b[1;33m)\u001b[0m \u001b[1;32mfor\u001b[0m \u001b[0mx\u001b[0m \u001b[1;32min\u001b[0m \u001b[0mzipped\u001b[0m\u001b[1;33m)\u001b[0m\u001b[1;33m\u001b[0m\u001b[1;33m\u001b[0m\u001b[0m\n\u001b[0;32m   1483\u001b[0m \u001b[1;33m\u001b[0m\u001b[0m\n",
      "\u001b[1;32mC:\\ProgramData\\Anaconda3\\lib\\site-packages\\pandas\\core\\reshape\\merge.py\u001b[0m in \u001b[0;36m<genexpr>\u001b[1;34m(.0)\u001b[0m\n\u001b[0;32m   1476\u001b[0m     \u001b[1;31m# get left & right join labels and num. of levels at each location\u001b[0m\u001b[1;33m\u001b[0m\u001b[1;33m\u001b[0m\u001b[0m\n\u001b[0;32m   1477\u001b[0m     mapped = (\n\u001b[1;32m-> 1478\u001b[1;33m         \u001b[0m_factorize_keys\u001b[0m\u001b[1;33m(\u001b[0m\u001b[0mleft_keys\u001b[0m\u001b[1;33m[\u001b[0m\u001b[0mn\u001b[0m\u001b[1;33m]\u001b[0m\u001b[1;33m,\u001b[0m \u001b[0mright_keys\u001b[0m\u001b[1;33m[\u001b[0m\u001b[0mn\u001b[0m\u001b[1;33m]\u001b[0m\u001b[1;33m,\u001b[0m \u001b[0msort\u001b[0m\u001b[1;33m=\u001b[0m\u001b[0msort\u001b[0m\u001b[1;33m,\u001b[0m \u001b[0mhow\u001b[0m\u001b[1;33m=\u001b[0m\u001b[0mhow\u001b[0m\u001b[1;33m)\u001b[0m\u001b[1;33m\u001b[0m\u001b[1;33m\u001b[0m\u001b[0m\n\u001b[0m\u001b[0;32m   1479\u001b[0m         \u001b[1;32mfor\u001b[0m \u001b[0mn\u001b[0m \u001b[1;32min\u001b[0m \u001b[0mrange\u001b[0m\u001b[1;33m(\u001b[0m\u001b[0mlen\u001b[0m\u001b[1;33m(\u001b[0m\u001b[0mleft_keys\u001b[0m\u001b[1;33m)\u001b[0m\u001b[1;33m)\u001b[0m\u001b[1;33m\u001b[0m\u001b[1;33m\u001b[0m\u001b[0m\n\u001b[0;32m   1480\u001b[0m     )\n",
      "\u001b[1;32mC:\\ProgramData\\Anaconda3\\lib\\site-packages\\pandas\\core\\reshape\\merge.py\u001b[0m in \u001b[0;36m_factorize_keys\u001b[1;34m(lk, rk, sort, how)\u001b[0m\n\u001b[0;32m   2162\u001b[0m         \u001b[1;31m#  and rk is datetime-dtype\u001b[0m\u001b[1;33m\u001b[0m\u001b[1;33m\u001b[0m\u001b[0m\n\u001b[0;32m   2163\u001b[0m         \u001b[0mklass\u001b[0m \u001b[1;33m=\u001b[0m \u001b[0mlibhashtable\u001b[0m\u001b[1;33m.\u001b[0m\u001b[0mInt64Factorizer\u001b[0m\u001b[1;33m\u001b[0m\u001b[1;33m\u001b[0m\u001b[0m\n\u001b[1;32m-> 2164\u001b[1;33m         \u001b[0mlk\u001b[0m \u001b[1;33m=\u001b[0m \u001b[0mensure_int64\u001b[0m\u001b[1;33m(\u001b[0m\u001b[0mnp\u001b[0m\u001b[1;33m.\u001b[0m\u001b[0masarray\u001b[0m\u001b[1;33m(\u001b[0m\u001b[0mlk\u001b[0m\u001b[1;33m)\u001b[0m\u001b[1;33m)\u001b[0m\u001b[1;33m\u001b[0m\u001b[1;33m\u001b[0m\u001b[0m\n\u001b[0m\u001b[0;32m   2165\u001b[0m         \u001b[0mrk\u001b[0m \u001b[1;33m=\u001b[0m \u001b[0mensure_int64\u001b[0m\u001b[1;33m(\u001b[0m\u001b[0mnp\u001b[0m\u001b[1;33m.\u001b[0m\u001b[0masarray\u001b[0m\u001b[1;33m(\u001b[0m\u001b[0mrk\u001b[0m\u001b[1;33m)\u001b[0m\u001b[1;33m)\u001b[0m\u001b[1;33m\u001b[0m\u001b[1;33m\u001b[0m\u001b[0m\n\u001b[0;32m   2166\u001b[0m \u001b[1;33m\u001b[0m\u001b[0m\n",
      "\u001b[1;32mpandas\\_libs\\algos_common_helper.pxi\u001b[0m in \u001b[0;36mpandas._libs.algos.ensure_int64\u001b[1;34m()\u001b[0m\n",
      "\u001b[1;31mTypeError\u001b[0m: int() argument must be a string, a bytes-like object or a number, not 'NAType'"
     ]
    }
   ],
   "source": [
    "# Merge sequels and financials on index id\n",
    "sequels_fin = sequels.merge(financials, on='id', how='left')\n",
    "\n",
    "# Self merge with suffixes as inner join with left on sequel and right on id\n",
    "orig_seq = sequels_fin.merge(sequels_fin, how='inner', left_on='sequel', \n",
    "                             right_on='id', right_index=True,\n",
    "                             suffixes=('_org','_seq'))\n",
    "\n",
    "# Add calculation to subtract revenue_org from revenue_seq \n",
    "orig_seq['diff'] = orig_seq['revenue_seq'] - orig_seq['revenue_org']\n",
    "\n",
    "# Select the title_org, title_seq, and diff \n",
    "titles_diff = orig_seq[['title_org','title_seq','diff']]\n",
    "\n",
    "# Print the first rows of the sorted titles_diff\n",
    "print(titles_diff.sort_values('diff',ascending=False).head())"
   ]
  },
  {
   "cell_type": "code",
   "execution_count": null,
   "id": "555e0ce1-0d26-45c7-843b-3a39d84794d4",
   "metadata": {},
   "outputs": [],
   "source": [
    "# Anti Joins\n",
    "\n",
    "# Merge employees and top_cust\n",
    "#empl_cust = employees.merge(top_cust, on='srid',how='left', indicator=True)\n",
    "\n",
    "# Select the srid column where _merge is left_only\n",
    "#srid_list = empl_cust.loc[empl_cust['_merge'] == 'left_only', 'srid']\n",
    "\n",
    "# Get employees not working with top customers\n",
    "#print(employees[employees['srid'].isin(srid_list)])"
   ]
  },
  {
   "cell_type": "code",
   "execution_count": null,
   "id": "2e8560f3-70c6-4221-98c9-99e967946c43",
   "metadata": {},
   "outputs": [],
   "source": [
    "# Concatenate the tracks\n",
    "#tracks_from_albums = pd.concat([tracks_master,tracks_ride,tracks_st],sort=True)\n",
    "#print(tracks_from_albums)"
   ]
  },
  {
   "cell_type": "code",
   "execution_count": null,
   "id": "bae3986c-c3e9-4fd1-ae71-10fc1e538590",
   "metadata": {},
   "outputs": [],
   "source": [
    "# Concatenate the tracks so the index goes from 0 to n-1\n",
    "#tracks_from_albums = pd.concat([tracks_master,tracks_ride,tracks_st],ignore_index=True,sort=True)\n",
    "#print(tracks_from_albums)"
   ]
  },
  {
   "cell_type": "code",
   "execution_count": null,
   "id": "62076759-1c56-495d-a227-f630d6414dbf",
   "metadata": {},
   "outputs": [],
   "source": [
    "# Concatenate the tracks, show only columns names that are in all tables\n",
    "#tracks_from_albums = pd.concat([tracks_master,tracks_ride,tracks_st],join='inner',sort=True)\n",
    "#print(tracks_from_albums)"
   ]
  },
  {
   "cell_type": "code",
   "execution_count": null,
   "id": "4ed11b91-9057-423f-8a03-1aba501418a6",
   "metadata": {},
   "outputs": [],
   "source": [
    "# Concatenate the tables and add keys\n",
    "#inv_jul_thr_sep = pd.concat([inv_jul,inv_aug,inv_sep], keys=['7Jul','8Aug','9Sep'])\n",
    "\n",
    "# Group the invoices by the index keys and find avg of the total column\n",
    "#avg_inv_by_month = inv_jul_thr_sep.groupby(level=0).agg({'total':'mean'})\n",
    "\n",
    "# Bar plot of avg_inv_by_month\n",
    "#avg_inv_by_month.plot(kind='bar')\n",
    "#plt.show()"
   ]
  },
  {
   "cell_type": "code",
   "execution_count": null,
   "id": "27adcffb-fa06-453d-81b9-a8058215c6bc",
   "metadata": {},
   "outputs": [],
   "source": [
    "# Use the .append() method to combine the tracks tables\n",
    "#metallica_tracks = tracks_ride.append([tracks_master,tracks_st], sort=False)\n",
    "\n",
    "# Merge metallica_tracks and invoice_items\n",
    "#tracks_invoices = metallica_tracks.merge(invoice_items, on='tid')\n",
    "\n",
    "# For each tid and name sum the quantity sold\n",
    "#tracks_sold = tracks_invoices.groupby(['tid','name']).agg({'quantity':'sum'})\n",
    "\n",
    "# Sort in decending order by quantity and print the results\n",
    "#print(tracks_sold.sort_values('quantity',ascending=False))"
   ]
  },
  {
   "cell_type": "code",
   "execution_count": 37,
   "id": "b4c02d09-11c1-4009-9de6-3961fad929e6",
   "metadata": {},
   "outputs": [
    {
     "name": "stdout",
     "output_type": "stream",
     "text": [
      "   Date  Returns\n",
      "0  2008   -38.49\n",
      "1  2009    23.45\n",
      "2  2010    12.78\n",
      "3  2011     0.00\n",
      "4  2012    13.41\n",
      "(10, 2)\n"
     ]
    }
   ],
   "source": [
    "sp500=pd.read_csv(r'S&P500.csv')\n",
    "print(sp500.head())\n",
    "print(sp500.shape)"
   ]
  },
  {
   "cell_type": "code",
   "execution_count": 38,
   "id": "9700c644-1f87-4eac-ab97-b470116da1b4",
   "metadata": {},
   "outputs": [
    {
     "name": "stdout",
     "output_type": "stream",
     "text": [
      "    Country Name Country Code     Indicator Name  Year           GDP\n",
      "0          China          CHN  GDP (current US$)  2010  6.087160e+12\n",
      "1        Germany          DEU  GDP (current US$)  2010  3.417090e+12\n",
      "2          Japan          JPN  GDP (current US$)  2010  5.700100e+12\n",
      "3  United States          USA  GDP (current US$)  2010  1.499210e+13\n",
      "4          China          CHN  GDP (current US$)  2011  7.551500e+12\n",
      "(40, 5)\n"
     ]
    }
   ],
   "source": [
    "gdp=pd.read_csv(r'WorldBank_GDP.csv')\n",
    "print(gdp.head())\n",
    "print(gdp.shape)"
   ]
  },
  {
   "cell_type": "code",
   "execution_count": 40,
   "id": "2ac03d1f-18d4-42b2-bdf0-734b2d595f47",
   "metadata": {},
   "outputs": [
    {
     "name": "stdout",
     "output_type": "stream",
     "text": [
      "     Country Name Country Code     Indicator Name  Year           GDP    Date  \\\n",
      "0           China          CHN  GDP (current US$)  2010  6.087160e+12  2010.0   \n",
      "1         Germany          DEU  GDP (current US$)  2010  3.417090e+12  2010.0   \n",
      "2           Japan          JPN  GDP (current US$)  2010  5.700100e+12  2010.0   \n",
      "3   United States          USA  GDP (current US$)  2010  1.499210e+13  2010.0   \n",
      "4           China          CHN  GDP (current US$)  2011  7.551500e+12  2011.0   \n",
      "5         Germany          DEU  GDP (current US$)  2011  3.757700e+12  2011.0   \n",
      "6           Japan          JPN  GDP (current US$)  2011  6.157460e+12  2011.0   \n",
      "7   United States          USA  GDP (current US$)  2011  1.554260e+13  2011.0   \n",
      "8           China          CHN  GDP (current US$)  2012  8.532230e+12  2012.0   \n",
      "9         Germany          DEU  GDP (current US$)  2012  3.543980e+12  2012.0   \n",
      "10          Japan          JPN  GDP (current US$)  2012  6.203210e+12  2012.0   \n",
      "11  United States          USA  GDP (current US$)  2012  1.619700e+13  2012.0   \n",
      "12          China          CHN  GDP (current US$)  2012  8.532230e+12  2012.0   \n",
      "13        Germany          DEU  GDP (current US$)  2012  3.543980e+12  2012.0   \n",
      "14          Japan          JPN  GDP (current US$)  2012  6.203210e+12  2012.0   \n",
      "15  United States          USA  GDP (current US$)  2012  1.619700e+13  2012.0   \n",
      "16          China          CHN  GDP (current US$)  2013  9.570410e+12  2013.0   \n",
      "17        Germany          DEU  GDP (current US$)  2013  3.752510e+12  2013.0   \n",
      "18          Japan          JPN  GDP (current US$)  2013  5.155720e+12  2013.0   \n",
      "19  United States          USA  GDP (current US$)  2013  1.678480e+13  2013.0   \n",
      "20          China          CHN  GDP (current US$)  2014  1.043850e+13  2014.0   \n",
      "21        Germany          DEU  GDP (current US$)  2014  3.898730e+12  2014.0   \n",
      "22          Japan          JPN  GDP (current US$)  2014  4.850410e+12  2014.0   \n",
      "23  United States          USA  GDP (current US$)  2014  1.752170e+13  2014.0   \n",
      "24          China          CHN  GDP (current US$)  2015  1.101550e+13  2015.0   \n",
      "25        Germany          DEU  GDP (current US$)  2015  3.381390e+12  2015.0   \n",
      "26          Japan          JPN  GDP (current US$)  2015  4.389480e+12  2015.0   \n",
      "27  United States          USA  GDP (current US$)  2015  1.821930e+13  2015.0   \n",
      "28          China          CHN  GDP (current US$)  2016  1.113790e+13  2016.0   \n",
      "29        Germany          DEU  GDP (current US$)  2016  3.495160e+12  2016.0   \n",
      "30          Japan          JPN  GDP (current US$)  2016  4.926670e+12  2016.0   \n",
      "31  United States          USA  GDP (current US$)  2016  1.870720e+13  2016.0   \n",
      "32          China          CHN  GDP (current US$)  2017  1.214350e+13  2017.0   \n",
      "33        Germany          DEU  GDP (current US$)  2017  3.693200e+12  2017.0   \n",
      "34          Japan          JPN  GDP (current US$)  2017  4.859950e+12  2017.0   \n",
      "35  United States          USA  GDP (current US$)  2017  1.948540e+13  2017.0   \n",
      "36          China          CHN  GDP (current US$)  2018  1.360820e+13     NaN   \n",
      "37        Germany          DEU  GDP (current US$)  2018  3.996760e+12     NaN   \n",
      "38          Japan          JPN  GDP (current US$)  2018  4.970920e+12     NaN   \n",
      "39  United States          USA  GDP (current US$)  2018  2.049410e+13     NaN   \n",
      "\n",
      "    Returns  \n",
      "0     12.78  \n",
      "1     12.78  \n",
      "2     12.78  \n",
      "3     12.78  \n",
      "4      0.00  \n",
      "5      0.00  \n",
      "6      0.00  \n",
      "7      0.00  \n",
      "8     13.41  \n",
      "9     13.41  \n",
      "10    13.41  \n",
      "11    13.41  \n",
      "12    13.41  \n",
      "13    13.41  \n",
      "14    13.41  \n",
      "15    13.41  \n",
      "16    29.60  \n",
      "17    29.60  \n",
      "18    29.60  \n",
      "19    29.60  \n",
      "20    11.39  \n",
      "21    11.39  \n",
      "22    11.39  \n",
      "23    11.39  \n",
      "24    -0.73  \n",
      "25    -0.73  \n",
      "26    -0.73  \n",
      "27    -0.73  \n",
      "28     9.54  \n",
      "29     9.54  \n",
      "30     9.54  \n",
      "31     9.54  \n",
      "32    19.42  \n",
      "33    19.42  \n",
      "34    19.42  \n",
      "35    19.42  \n",
      "36      NaN  \n",
      "37      NaN  \n",
      "38      NaN  \n",
      "39      NaN  \n"
     ]
    }
   ],
   "source": [
    "# Use merge_ordered() to merge gdp and sp500 on year and date\n",
    "gdp_sp500 = pd.merge_ordered(gdp, sp500, left_on='Year', right_on='Date',how='left')\n",
    "\n",
    "# Print gdp_sp500\n",
    "print(gdp_sp500)"
   ]
  },
  {
   "cell_type": "code",
   "execution_count": 41,
   "id": "c12c656d-90df-435c-af26-afd9e76d9ff3",
   "metadata": {},
   "outputs": [
    {
     "name": "stdout",
     "output_type": "stream",
     "text": [
      "     Country Name Country Code     Indicator Name  Year           GDP  Date  \\\n",
      "0           China          CHN  GDP (current US$)  2010  6.087160e+12  2010   \n",
      "1         Germany          DEU  GDP (current US$)  2010  3.417090e+12  2010   \n",
      "2           Japan          JPN  GDP (current US$)  2010  5.700100e+12  2010   \n",
      "3   United States          USA  GDP (current US$)  2010  1.499210e+13  2010   \n",
      "4           China          CHN  GDP (current US$)  2011  7.551500e+12  2011   \n",
      "5         Germany          DEU  GDP (current US$)  2011  3.757700e+12  2011   \n",
      "6           Japan          JPN  GDP (current US$)  2011  6.157460e+12  2011   \n",
      "7   United States          USA  GDP (current US$)  2011  1.554260e+13  2011   \n",
      "8           China          CHN  GDP (current US$)  2012  8.532230e+12  2012   \n",
      "9         Germany          DEU  GDP (current US$)  2012  3.543980e+12  2012   \n",
      "10          Japan          JPN  GDP (current US$)  2012  6.203210e+12  2012   \n",
      "11  United States          USA  GDP (current US$)  2012  1.619700e+13  2012   \n",
      "12          China          CHN  GDP (current US$)  2012  8.532230e+12  2012   \n",
      "13        Germany          DEU  GDP (current US$)  2012  3.543980e+12  2012   \n",
      "14          Japan          JPN  GDP (current US$)  2012  6.203210e+12  2012   \n",
      "15  United States          USA  GDP (current US$)  2012  1.619700e+13  2012   \n",
      "16          China          CHN  GDP (current US$)  2013  9.570410e+12  2013   \n",
      "17        Germany          DEU  GDP (current US$)  2013  3.752510e+12  2013   \n",
      "18          Japan          JPN  GDP (current US$)  2013  5.155720e+12  2013   \n",
      "19  United States          USA  GDP (current US$)  2013  1.678480e+13  2013   \n",
      "20          China          CHN  GDP (current US$)  2014  1.043850e+13  2014   \n",
      "21        Germany          DEU  GDP (current US$)  2014  3.898730e+12  2014   \n",
      "22          Japan          JPN  GDP (current US$)  2014  4.850410e+12  2014   \n",
      "23  United States          USA  GDP (current US$)  2014  1.752170e+13  2014   \n",
      "24          China          CHN  GDP (current US$)  2015  1.101550e+13  2015   \n",
      "25        Germany          DEU  GDP (current US$)  2015  3.381390e+12  2015   \n",
      "26          Japan          JPN  GDP (current US$)  2015  4.389480e+12  2015   \n",
      "27  United States          USA  GDP (current US$)  2015  1.821930e+13  2015   \n",
      "28          China          CHN  GDP (current US$)  2016  1.113790e+13  2016   \n",
      "29        Germany          DEU  GDP (current US$)  2016  3.495160e+12  2016   \n",
      "30          Japan          JPN  GDP (current US$)  2016  4.926670e+12  2016   \n",
      "31  United States          USA  GDP (current US$)  2016  1.870720e+13  2016   \n",
      "32          China          CHN  GDP (current US$)  2017  1.214350e+13  2017   \n",
      "33        Germany          DEU  GDP (current US$)  2017  3.693200e+12  2017   \n",
      "34          Japan          JPN  GDP (current US$)  2017  4.859950e+12  2017   \n",
      "35  United States          USA  GDP (current US$)  2017  1.948540e+13  2017   \n",
      "36          China          CHN  GDP (current US$)  2018  1.360820e+13  2017   \n",
      "37        Germany          DEU  GDP (current US$)  2018  3.996760e+12  2017   \n",
      "38          Japan          JPN  GDP (current US$)  2018  4.970920e+12  2017   \n",
      "39  United States          USA  GDP (current US$)  2018  2.049410e+13  2017   \n",
      "\n",
      "    Returns  \n",
      "0     12.78  \n",
      "1     12.78  \n",
      "2     12.78  \n",
      "3     12.78  \n",
      "4      0.00  \n",
      "5      0.00  \n",
      "6      0.00  \n",
      "7      0.00  \n",
      "8     13.41  \n",
      "9     13.41  \n",
      "10    13.41  \n",
      "11    13.41  \n",
      "12    13.41  \n",
      "13    13.41  \n",
      "14    13.41  \n",
      "15    13.41  \n",
      "16    29.60  \n",
      "17    29.60  \n",
      "18    29.60  \n",
      "19    29.60  \n",
      "20    11.39  \n",
      "21    11.39  \n",
      "22    11.39  \n",
      "23    11.39  \n",
      "24    -0.73  \n",
      "25    -0.73  \n",
      "26    -0.73  \n",
      "27    -0.73  \n",
      "28     9.54  \n",
      "29     9.54  \n",
      "30     9.54  \n",
      "31     9.54  \n",
      "32    19.42  \n",
      "33    19.42  \n",
      "34    19.42  \n",
      "35    19.42  \n",
      "36    19.42  \n",
      "37    19.42  \n",
      "38    19.42  \n",
      "39    19.42  \n"
     ]
    }
   ],
   "source": [
    "#Using forward fill for filling missing data\n",
    "# Use merge_ordered() to merge gdp and sp500, interpolate missing value\n",
    "gdp_sp500 = pd.merge_ordered(gdp, sp500, left_on='Year', right_on='Date',how='left',fill_method='ffill')\n",
    "\n",
    "\n",
    "# Print gdp_sp500\n",
    "print (gdp_sp500)"
   ]
  },
  {
   "cell_type": "code",
   "execution_count": 42,
   "id": "cb7a181e-f9a9-4a0c-876c-408d3482031b",
   "metadata": {},
   "outputs": [
    {
     "name": "stdout",
     "output_type": "stream",
     "text": [
      "              GDP   Returns\n",
      "GDP      1.000000  0.040669\n",
      "Returns  0.040669  1.000000\n"
     ]
    }
   ],
   "source": [
    "# Subset the gdp and returns columns\n",
    "gdp_returns = gdp_sp500[['GDP','Returns']]\n",
    "\n",
    "# Print gdp_returns correlation\n",
    "print (gdp_returns.corr())"
   ]
  },
  {
   "cell_type": "code",
   "execution_count": null,
   "id": "dad424e1-ca95-4ab2-aec0-fe16c8cc7f93",
   "metadata": {},
   "outputs": [],
   "source": [
    "# Use merge_asof() to merge jpm and wells\n",
    "#pm_wells = pd.merge_asof(jpm,wells, on='date_time',suffixes=('','_wells'),direction='nearest')\n",
    "\n",
    "\n",
    "# Use merge_asof() to merge jpm_wells and bac\n",
    "#jpm_wells_bac = pd.merge_asof(jpm_wells,bac,on='date_time',suffixes=('_jpm','_bac'),direction='nearest')\n",
    "\n",
    "\n",
    "# Compute price diff\n",
    "#price_diffs = jpm_wells_bac.diff()\n",
    "#print(price_diffs)\n",
    "\n",
    "# Plot the price diff of the close of jpm, wells and bac only\n",
    "#price_diffs.plot(y=['close_jpm','close_wells','close_bac'])\n",
    "#plt.show()"
   ]
  },
  {
   "cell_type": "code",
   "execution_count": null,
   "id": "1cae491f-5016-4783-8129-1a6498c0e7b2",
   "metadata": {},
   "outputs": [],
   "source": []
  },
  {
   "cell_type": "code",
   "execution_count": null,
   "id": "ce19547b-d20a-4ef3-ba8a-6854bfebf632",
   "metadata": {},
   "outputs": [],
   "source": []
  },
  {
   "cell_type": "code",
   "execution_count": null,
   "id": "7c856877-31d7-41a2-8266-aa371a25a969",
   "metadata": {},
   "outputs": [],
   "source": []
  },
  {
   "cell_type": "code",
   "execution_count": null,
   "id": "b5b80c57-1136-4b81-a46c-f2b5f83ce6b4",
   "metadata": {},
   "outputs": [],
   "source": []
  },
  {
   "cell_type": "code",
   "execution_count": null,
   "id": "6ddad9fd-ca3b-498c-9ca1-8c2ad546b787",
   "metadata": {},
   "outputs": [],
   "source": []
  },
  {
   "cell_type": "code",
   "execution_count": null,
   "id": "77f59ced-b75d-4633-9477-15a7f76dc659",
   "metadata": {},
   "outputs": [],
   "source": []
  },
  {
   "cell_type": "code",
   "execution_count": null,
   "id": "86e420ff-2b01-4a0b-9221-6b6a13bbfeb4",
   "metadata": {},
   "outputs": [],
   "source": []
  }
 ],
 "metadata": {
  "kernelspec": {
   "display_name": "Python 3 (ipykernel)",
   "language": "python",
   "name": "python3"
  },
  "language_info": {
   "codemirror_mode": {
    "name": "ipython",
    "version": 3
   },
   "file_extension": ".py",
   "mimetype": "text/x-python",
   "name": "python",
   "nbconvert_exporter": "python",
   "pygments_lexer": "ipython3",
   "version": "3.9.7"
  }
 },
 "nbformat": 4,
 "nbformat_minor": 5
}
