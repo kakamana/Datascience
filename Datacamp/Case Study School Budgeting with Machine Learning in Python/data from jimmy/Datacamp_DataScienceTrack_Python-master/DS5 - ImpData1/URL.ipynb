{
 "cells": [
  {
   "cell_type": "code",
   "execution_count": 6,
   "metadata": {},
   "outputs": [
    {
     "name": "stdout",
     "output_type": "stream",
     "text": [
      "<title data-react-helmet=\"true\">Loading a pickled file | Python</title>\n"
     ]
    }
   ],
   "source": [
    "# Import packages\n",
    "import requests\n",
    "from bs4 import BeautifulSoup\n",
    " \n",
    "# Specify url\n",
    "url = 'https://campus.datacamp.com/courses/importing-data-in-python-part-1/importing-data-from-other-file-types-2?ex=3'\n",
    " \n",
    "# Package the request, send the request and catch the response: r\n",
    "r = requests.get(url)\n",
    " \n",
    "# Extracts the response as html: html_doc\n",
    "html_doc = r.text\n",
    " \n",
    "# create a BeautifulSoup object from the HTML: soup\n",
    "soup = BeautifulSoup(html_doc)\n",
    " \n",
    "# Print the title of Guido's webpage\n",
    "print(soup.title)\n",
    " \n",
    "# Find all 'a' tags (which define hyperlinks): a_tags\n",
    "a_tags = soup.find_all(name = 'pkl')\n",
    " \n",
    "# Print the URLs to the shell\n",
    "for link in a_tags:\n",
    "    print(link.get('href'))\n"
   ]
  },
  {
   "cell_type": "code",
   "execution_count": null,
   "metadata": {},
   "outputs": [],
   "source": []
  }
 ],
 "metadata": {
  "kernelspec": {
   "display_name": "Python 3",
   "language": "python",
   "name": "python3"
  },
  "language_info": {
   "codemirror_mode": {
    "name": "ipython",
    "version": 3
   },
   "file_extension": ".py",
   "mimetype": "text/x-python",
   "name": "python",
   "nbconvert_exporter": "python",
   "pygments_lexer": "ipython3",
   "version": "3.7.1"
  }
 },
 "nbformat": 4,
 "nbformat_minor": 2
}
