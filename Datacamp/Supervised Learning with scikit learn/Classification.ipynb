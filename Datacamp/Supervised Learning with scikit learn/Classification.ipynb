{
 "cells": [
  {
   "cell_type": "code",
   "execution_count": 4,
   "outputs": [
    {
     "data": {
      "text/plain": "      mpg  displ   hp  weight  accel  origin  size\n0    18.0  250.0   88    3139   14.5      US  15.0\n1     9.0  304.0  193    4732   18.5      US  20.0\n2    36.1   91.0   60    1800   16.4    Asia  10.0\n3    18.5  250.0   98    3525   19.0      US  15.0\n4    34.3   97.0   78    2188   15.8  Europe  10.0\n..    ...    ...  ...     ...    ...     ...   ...\n387  18.0  250.0   88    3021   16.5      US  15.0\n388  27.0  151.0   90    2950   17.3      US  10.0\n389  29.5   98.0   68    2135   16.6    Asia  10.0\n390  17.5  250.0  110    3520   16.4      US  15.0\n391  25.1  140.0   88    2720   15.4      US  10.0\n\n[392 rows x 7 columns]",
      "text/html": "<div>\n<style scoped>\n    .dataframe tbody tr th:only-of-type {\n        vertical-align: middle;\n    }\n\n    .dataframe tbody tr th {\n        vertical-align: top;\n    }\n\n    .dataframe thead th {\n        text-align: right;\n    }\n</style>\n<table border=\"1\" class=\"dataframe\">\n  <thead>\n    <tr style=\"text-align: right;\">\n      <th></th>\n      <th>mpg</th>\n      <th>displ</th>\n      <th>hp</th>\n      <th>weight</th>\n      <th>accel</th>\n      <th>origin</th>\n      <th>size</th>\n    </tr>\n  </thead>\n  <tbody>\n    <tr>\n      <th>0</th>\n      <td>18.0</td>\n      <td>250.0</td>\n      <td>88</td>\n      <td>3139</td>\n      <td>14.5</td>\n      <td>US</td>\n      <td>15.0</td>\n    </tr>\n    <tr>\n      <th>1</th>\n      <td>9.0</td>\n      <td>304.0</td>\n      <td>193</td>\n      <td>4732</td>\n      <td>18.5</td>\n      <td>US</td>\n      <td>20.0</td>\n    </tr>\n    <tr>\n      <th>2</th>\n      <td>36.1</td>\n      <td>91.0</td>\n      <td>60</td>\n      <td>1800</td>\n      <td>16.4</td>\n      <td>Asia</td>\n      <td>10.0</td>\n    </tr>\n    <tr>\n      <th>3</th>\n      <td>18.5</td>\n      <td>250.0</td>\n      <td>98</td>\n      <td>3525</td>\n      <td>19.0</td>\n      <td>US</td>\n      <td>15.0</td>\n    </tr>\n    <tr>\n      <th>4</th>\n      <td>34.3</td>\n      <td>97.0</td>\n      <td>78</td>\n      <td>2188</td>\n      <td>15.8</td>\n      <td>Europe</td>\n      <td>10.0</td>\n    </tr>\n    <tr>\n      <th>...</th>\n      <td>...</td>\n      <td>...</td>\n      <td>...</td>\n      <td>...</td>\n      <td>...</td>\n      <td>...</td>\n      <td>...</td>\n    </tr>\n    <tr>\n      <th>387</th>\n      <td>18.0</td>\n      <td>250.0</td>\n      <td>88</td>\n      <td>3021</td>\n      <td>16.5</td>\n      <td>US</td>\n      <td>15.0</td>\n    </tr>\n    <tr>\n      <th>388</th>\n      <td>27.0</td>\n      <td>151.0</td>\n      <td>90</td>\n      <td>2950</td>\n      <td>17.3</td>\n      <td>US</td>\n      <td>10.0</td>\n    </tr>\n    <tr>\n      <th>389</th>\n      <td>29.5</td>\n      <td>98.0</td>\n      <td>68</td>\n      <td>2135</td>\n      <td>16.6</td>\n      <td>Asia</td>\n      <td>10.0</td>\n    </tr>\n    <tr>\n      <th>390</th>\n      <td>17.5</td>\n      <td>250.0</td>\n      <td>110</td>\n      <td>3520</td>\n      <td>16.4</td>\n      <td>US</td>\n      <td>15.0</td>\n    </tr>\n    <tr>\n      <th>391</th>\n      <td>25.1</td>\n      <td>140.0</td>\n      <td>88</td>\n      <td>2720</td>\n      <td>15.4</td>\n      <td>US</td>\n      <td>10.0</td>\n    </tr>\n  </tbody>\n</table>\n<p>392 rows × 7 columns</p>\n</div>"
     },
     "execution_count": 4,
     "metadata": {},
     "output_type": "execute_result"
    }
   ],
   "source": [
    "# Import the course packages\n",
    "import pandas as pd\n",
    "import numpy as np\n",
    "import matplotlib.pyplot as plt\n",
    "import sklearn\n",
    "import scipy.stats\n",
    "\n",
    "# Import the course datasets as DataFrames\n",
    "auto = pd.read_csv(\"auto.csv\")\n",
    "boston = pd.read_csv(\"boston.csv\")\n",
    "diabetes = pd.read_csv(\"diabetes.csv\")\n",
    "gapminder = pd.read_csv(\"gm_2008_region.csv\")\n",
    "votes = pd.read_csv(\"votes.csv\")\n",
    "whitewine = pd.read_csv(\"white-wine.csv\")\n",
    "redwine = pd.read_csv(\"winequality-red.csv\")\n",
    "\n",
    "# Preview the first DataFrame\n",
    "auto"
   ],
   "metadata": {
    "collapsed": false,
    "pycharm": {
     "name": "#%%\n"
    }
   }
  },
  {
   "cell_type": "markdown",
   "source": [
    "![](BasicDefinations.png)"
   ],
   "metadata": {
    "collapsed": false,
    "pycharm": {
     "name": "#%% md\n"
    }
   }
  },
  {
   "cell_type": "markdown",
   "source": [
    "**EDA of IRIS dataset**"
   ],
   "metadata": {
    "collapsed": false,
    "pycharm": {
     "name": "#%% md\n"
    }
   }
  },
  {
   "cell_type": "code",
   "execution_count": 5,
   "outputs": [],
   "source": [
    "from sklearn import datasets\n",
    "plt.style.use('ggplot')"
   ],
   "metadata": {
    "collapsed": false,
    "pycharm": {
     "name": "#%%\n"
    }
   }
  },
  {
   "cell_type": "code",
   "execution_count": 6,
   "outputs": [
    {
     "data": {
      "text/plain": "sklearn.utils._bunch.Bunch"
     },
     "execution_count": 6,
     "metadata": {},
     "output_type": "execute_result"
    }
   ],
   "source": [
    "iris=datasets.load_iris()\n",
    "type(iris)"
   ],
   "metadata": {
    "collapsed": false,
    "pycharm": {
     "name": "#%%\n"
    }
   }
  },
  {
   "cell_type": "code",
   "execution_count": 7,
   "outputs": [
    {
     "name": "stdout",
     "output_type": "stream",
     "text": [
      "dict_keys(['data', 'target', 'frame', 'target_names', 'DESCR', 'feature_names', 'filename', 'data_module'])\n"
     ]
    }
   ],
   "source": [
    "print(iris.keys())"
   ],
   "metadata": {
    "collapsed": false,
    "pycharm": {
     "name": "#%%\n"
    }
   }
  },
  {
   "cell_type": "code",
   "execution_count": 8,
   "outputs": [
    {
     "name": "stdout",
     "output_type": "stream",
     "text": [
      "<class 'numpy.ndarray'>\n"
     ]
    }
   ],
   "source": [
    "print(type(iris.data))"
   ],
   "metadata": {
    "collapsed": false,
    "pycharm": {
     "name": "#%%\n"
    }
   }
  },
  {
   "cell_type": "code",
   "execution_count": 9,
   "outputs": [
    {
     "name": "stdout",
     "output_type": "stream",
     "text": [
      "<class 'builtin_function_or_method'>\n"
     ]
    }
   ],
   "source": [
    "print(type(iris.keys))"
   ],
   "metadata": {
    "collapsed": false,
    "pycharm": {
     "name": "#%%\n"
    }
   }
  },
  {
   "cell_type": "code",
   "execution_count": null,
   "outputs": [],
   "source": [],
   "metadata": {
    "collapsed": false,
    "pycharm": {
     "name": "#%%\n"
    }
   }
  }
 ],
 "metadata": {
  "kernelspec": {
   "display_name": "Python 3",
   "language": "python",
   "name": "python3"
  },
  "language_info": {
   "codemirror_mode": {
    "name": "ipython",
    "version": 2
   },
   "file_extension": ".py",
   "mimetype": "text/x-python",
   "name": "python",
   "nbconvert_exporter": "python",
   "pygments_lexer": "ipython2",
   "version": "2.7.6"
  }
 },
 "nbformat": 4,
 "nbformat_minor": 0
}