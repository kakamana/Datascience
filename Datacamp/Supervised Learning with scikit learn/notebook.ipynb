{
 "cells": [
  {
   "source": [
    "# Supervised Learning with scikit-learn\n",
    "\n",
    "👋 Welcome to your new workspace! Here, you can experiment with the data you used in [Supervised Learning with scikit-learn](https://app.datacamp.com/learn/courses/supervised-learning-with-scikit-learn) and practice your newly learned skills with a challenge. You can find out more about DataCamp Workspace [here](https://workspace-docs.datacamp.com/).\n",
    "\n",
    "Below is a code cell that imports the course packages and loads in the course datasets as pandas DataFrames.\n",
    "\n",
    "**🏃To execute the code, click inside the cell to select it and click \"Run\" or the ► icon. You can also use Shift-Enter to run a selected cell and automatically switch to the next cell.**"
   ],
   "metadata": {
    "id": "bA5ajAmk7XH6",
    "pycharm": {
     "name": "#%% md\n"
    }
   },
   "id": "prostate-arizona",
   "cell_type": "markdown"
  },
  {
   "source": [
    "# Import the course packages\n",
    "import pandas as pd\n",
    "import numpy as np\n",
    "import matplotlib.pyplot as plt\n",
    "import sklearn\n",
    "import scipy.stats\n",
    "import seaborn as sns\n",
    "\n",
    "# Import the course datasets as DataFrames\n",
    "auto = pd.read_csv(\"datasets/auto.csv\")\n",
    "boston = pd.read_csv(\"datasets/boston.csv\")\n",
    "diabetes = pd.read_csv(\"datasets/diabetes.csv\")\n",
    "gapminder = pd.read_csv(\"datasets/gm_2008_region.csv\")\n",
    "votes = pd.read_csv(\"datasets/votes.csv\")\n",
    "whitewine = pd.read_csv(\"datasets/white-wine.csv\")\n",
    "\n",
    "# Preview the first DataFrame\n",
    "auto "
   ],
   "metadata": {
    "pycharm": {
     "name": "#%%\n"
    }
   },
   "id": "2e25fdd8-4d84-45bc-80f0-949917e00a17",
   "cell_type": "code",
   "execution_count": 61,
   "outputs": [
    {
     "output_type": "execute_result",
     "execution_count": 61,
     "data": {
      "application/com.datacamp.data-table.v1+json": {
       "table": {
        "schema": {
         "fields": [
          {
           "name": "index",
           "type": "integer"
          },
          {
           "name": "mpg",
           "type": "number"
          },
          {
           "name": "displ",
           "type": "number"
          },
          {
           "name": "hp",
           "type": "integer"
          },
          {
           "name": "weight",
           "type": "integer"
          },
          {
           "name": "accel",
           "type": "number"
          },
          {
           "name": "origin",
           "type": "string"
          },
          {
           "name": "size",
           "type": "number"
          }
         ],
         "primaryKey": [
          "index"
         ],
         "pandas_version": "1.4.0"
        },
        "data": [
         {
          "index": 0,
          "mpg": 18,
          "displ": 250,
          "hp": 88,
          "weight": 3139,
          "accel": 14.5,
          "origin": "US",
          "size": 15
         },
         {
          "index": 1,
          "mpg": 9,
          "displ": 304,
          "hp": 193,
          "weight": 4732,
          "accel": 18.5,
          "origin": "US",
          "size": 20
         },
         {
          "index": 2,
          "mpg": 36.1,
          "displ": 91,
          "hp": 60,
          "weight": 1800,
          "accel": 16.4,
          "origin": "Asia",
          "size": 10
         },
         {
          "index": 3,
          "mpg": 18.5,
          "displ": 250,
          "hp": 98,
          "weight": 3525,
          "accel": 19,
          "origin": "US",
          "size": 15
         },
         {
          "index": 4,
          "mpg": 34.3,
          "displ": 97,
          "hp": 78,
          "weight": 2188,
          "accel": 15.8,
          "origin": "Europe",
          "size": 10
         },
         {
          "index": 5,
          "mpg": 32.9,
          "displ": 119,
          "hp": 100,
          "weight": 2615,
          "accel": 14.8,
          "origin": "Asia",
          "size": 10
         },
         {
          "index": 6,
          "mpg": 32.2,
          "displ": 108,
          "hp": 75,
          "weight": 2265,
          "accel": 15.2,
          "origin": "Asia",
          "size": 10
         },
         {
          "index": 7,
          "mpg": 22,
          "displ": 121,
          "hp": 76,
          "weight": 2511,
          "accel": 18,
          "origin": "Europe",
          "size": 10
         },
         {
          "index": 8,
          "mpg": 15,
          "displ": 302,
          "hp": 130,
          "weight": 4295,
          "accel": 14.9,
          "origin": "US",
          "size": 20
         },
         {
          "index": 9,
          "mpg": 17,
          "displ": 302,
          "hp": 140,
          "weight": 3449,
          "accel": 10.5,
          "origin": "US",
          "size": 20
         },
         {
          "index": 10,
          "mpg": 44,
          "displ": 97,
          "hp": 52,
          "weight": 2130,
          "accel": 24.6,
          "origin": "Europe",
          "size": 10
         },
         {
          "index": 11,
          "mpg": 24.5,
          "displ": 151,
          "hp": 88,
          "weight": 2740,
          "accel": 16,
          "origin": "US",
          "size": 10
         },
         {
          "index": 12,
          "mpg": 32,
          "displ": 135,
          "hp": 84,
          "weight": 2295,
          "accel": 11.6,
          "origin": "US",
          "size": 10
         },
         {
          "index": 13,
          "mpg": 14,
          "displ": 351,
          "hp": 148,
          "weight": 4657,
          "accel": 13.5,
          "origin": "US",
          "size": 20
         },
         {
          "index": 14,
          "mpg": 15,
          "displ": 400,
          "hp": 150,
          "weight": 3761,
          "accel": 9.5,
          "origin": "US",
          "size": 20
         },
         {
          "index": 15,
          "mpg": 13,
          "displ": 307,
          "hp": 130,
          "weight": 4098,
          "accel": 14,
          "origin": "US",
          "size": 20
         },
         {
          "index": 16,
          "mpg": 36,
          "displ": 79,
          "hp": 58,
          "weight": 1825,
          "accel": 18.6,
          "origin": "Europe",
          "size": 10
         },
         {
          "index": 17,
          "mpg": 31,
          "displ": 119,
          "hp": 82,
          "weight": 2720,
          "accel": 19.4,
          "origin": "US",
          "size": 10
         },
         {
          "index": 18,
          "mpg": 32,
          "displ": 71,
          "hp": 65,
          "weight": 1836,
          "accel": 21,
          "origin": "Asia",
          "size": 10
         },
         {
          "index": 19,
          "mpg": 21.5,
          "displ": 80,
          "hp": 110,
          "weight": 2720,
          "accel": 13.5,
          "origin": "Asia",
          "size": 7.5
         },
         {
          "index": 20,
          "mpg": 19,
          "displ": 225,
          "hp": 95,
          "weight": 3264,
          "accel": 16,
          "origin": "US",
          "size": 15
         },
         {
          "index": 21,
          "mpg": 17,
          "displ": 231,
          "hp": 110,
          "weight": 3907,
          "accel": 21,
          "origin": "US",
          "size": 15
         },
         {
          "index": 22,
          "mpg": 16,
          "displ": 302,
          "hp": 140,
          "weight": 4141,
          "accel": 14,
          "origin": "US",
          "size": 20
         },
         {
          "index": 23,
          "mpg": 15,
          "displ": 383,
          "hp": 170,
          "weight": 3563,
          "accel": 10,
          "origin": "US",
          "size": 20
         },
         {
          "index": 24,
          "mpg": 23,
          "displ": 140,
          "hp": 78,
          "weight": 2592,
          "accel": 18.5,
          "origin": "US",
          "size": 10
         },
         {
          "index": 25,
          "mpg": 26,
          "displ": 98,
          "hp": 90,
          "weight": 2265,
          "accel": 15.5,
          "origin": "Europe",
          "size": 10
         },
         {
          "index": 26,
          "mpg": 32,
          "displ": 144,
          "hp": 96,
          "weight": 2665,
          "accel": 13.9,
          "origin": "Asia",
          "size": 10
         },
         {
          "index": 27,
          "mpg": 24,
          "displ": 113,
          "hp": 95,
          "weight": 2372,
          "accel": 15,
          "origin": "Asia",
          "size": 10
         },
         {
          "index": 28,
          "mpg": 21,
          "displ": 231,
          "hp": 110,
          "weight": 3039,
          "accel": 15,
          "origin": "US",
          "size": 15
         },
         {
          "index": 29,
          "mpg": 31.3,
          "displ": 120,
          "hp": 75,
          "weight": 2542,
          "accel": 17.5,
          "origin": "Asia",
          "size": 10
         },
         {
          "index": 30,
          "mpg": 32.7,
          "displ": 168,
          "hp": 132,
          "weight": 2910,
          "accel": 11.4,
          "origin": "Asia",
          "size": 15
         },
         {
          "index": 31,
          "mpg": 15,
          "displ": 304,
          "hp": 150,
          "weight": 3892,
          "accel": 12.5,
          "origin": "US",
          "size": 20
         },
         {
          "index": 32,
          "mpg": 23,
          "displ": 140,
          "hp": 83,
          "weight": 2639,
          "accel": 17,
          "origin": "US",
          "size": 10
         },
         {
          "index": 33,
          "mpg": 17.6,
          "displ": 225,
          "hp": 85,
          "weight": 3465,
          "accel": 16.6,
          "origin": "US",
          "size": 15
         },
         {
          "index": 34,
          "mpg": 28,
          "displ": 107,
          "hp": 86,
          "weight": 2464,
          "accel": 15.5,
          "origin": "Europe",
          "size": 10
         },
         {
          "index": 35,
          "mpg": 24,
          "displ": 116,
          "hp": 75,
          "weight": 2158,
          "accel": 15.5,
          "origin": "Europe",
          "size": 10
         },
         {
          "index": 36,
          "mpg": 14,
          "displ": 302,
          "hp": 140,
          "weight": 4638,
          "accel": 16,
          "origin": "US",
          "size": 20
         },
         {
          "index": 37,
          "mpg": 18.1,
          "displ": 302,
          "hp": 139,
          "weight": 3205,
          "accel": 11.2,
          "origin": "US",
          "size": 20
         },
         {
          "index": 38,
          "mpg": 36,
          "displ": 98,
          "hp": 70,
          "weight": 2125,
          "accel": 17.3,
          "origin": "US",
          "size": 10
         },
         {
          "index": 39,
          "mpg": 29,
          "displ": 85,
          "hp": 52,
          "weight": 2035,
          "accel": 22.2,
          "origin": "US",
          "size": 10
         },
         {
          "index": 40,
          "mpg": 35.1,
          "displ": 81,
          "hp": 60,
          "weight": 1760,
          "accel": 16.1,
          "origin": "Asia",
          "size": 10
         },
         {
          "index": 41,
          "mpg": 36,
          "displ": 135,
          "hp": 84,
          "weight": 2370,
          "accel": 13,
          "origin": "US",
          "size": 10
         },
         {
          "index": 42,
          "mpg": 16.5,
          "displ": 351,
          "hp": 138,
          "weight": 3955,
          "accel": 13.2,
          "origin": "US",
          "size": 20
         },
         {
          "index": 43,
          "mpg": 16,
          "displ": 400,
          "hp": 180,
          "weight": 4220,
          "accel": 11.1,
          "origin": "US",
          "size": 20
         },
         {
          "index": 44,
          "mpg": 29.9,
          "displ": 98,
          "hp": 65,
          "weight": 2380,
          "accel": 20.7,
          "origin": "US",
          "size": 10
         },
         {
          "index": 45,
          "mpg": 31,
          "displ": 79,
          "hp": 67,
          "weight": 1950,
          "accel": 19,
          "origin": "Asia",
          "size": 10
         },
         {
          "index": 46,
          "mpg": 27.2,
          "displ": 119,
          "hp": 97,
          "weight": 2300,
          "accel": 14.7,
          "origin": "Asia",
          "size": 10
         },
         {
          "index": 47,
          "mpg": 14,
          "displ": 318,
          "hp": 150,
          "weight": 4457,
          "accel": 13.5,
          "origin": "US",
          "size": 20
         },
         {
          "index": 48,
          "mpg": 32.1,
          "displ": 98,
          "hp": 70,
          "weight": 2120,
          "accel": 15.5,
          "origin": "US",
          "size": 10
         },
         {
          "index": 49,
          "mpg": 15,
          "displ": 250,
          "hp": 100,
          "weight": 3336,
          "accel": 17,
          "origin": "US",
          "size": 15
         },
         {
          "index": 50,
          "mpg": 12,
          "displ": 383,
          "hp": 180,
          "weight": 4955,
          "accel": 11.5,
          "origin": "US",
          "size": 20
         },
         {
          "index": 51,
          "mpg": 17.6,
          "displ": 302,
          "hp": 129,
          "weight": 3725,
          "accel": 13.4,
          "origin": "US",
          "size": 20
         },
         {
          "index": 52,
          "mpg": 25,
          "displ": 113,
          "hp": 95,
          "weight": 2228,
          "accel": 14,
          "origin": "Asia",
          "size": 10
         },
         {
          "index": 53,
          "mpg": 28.4,
          "displ": 151,
          "hp": 90,
          "weight": 2670,
          "accel": 16,
          "origin": "US",
          "size": 10
         },
         {
          "index": 54,
          "mpg": 29,
          "displ": 98,
          "hp": 83,
          "weight": 2219,
          "accel": 16.5,
          "origin": "Europe",
          "size": 10
         },
         {
          "index": 55,
          "mpg": 30.9,
          "displ": 105,
          "hp": 75,
          "weight": 2230,
          "accel": 14.5,
          "origin": "US",
          "size": 10
         },
         {
          "index": 56,
          "mpg": 20,
          "displ": 232,
          "hp": 100,
          "weight": 2914,
          "accel": 16,
          "origin": "US",
          "size": 15
         },
         {
          "index": 57,
          "mpg": 20.8,
          "displ": 200,
          "hp": 85,
          "weight": 3070,
          "accel": 16.7,
          "origin": "US",
          "size": 15
         },
         {
          "index": 58,
          "mpg": 22,
          "displ": 232,
          "hp": 112,
          "weight": 2835,
          "accel": 14.7,
          "origin": "US",
          "size": 15
         },
         {
          "index": 59,
          "mpg": 38,
          "displ": 91,
          "hp": 67,
          "weight": 1965,
          "accel": 15,
          "origin": "Asia",
          "size": 10
         },
         {
          "index": 60,
          "mpg": 31,
          "displ": 71,
          "hp": 65,
          "weight": 1773,
          "accel": 19,
          "origin": "Asia",
          "size": 10
         },
         {
          "index": 61,
          "mpg": 19,
          "displ": 250,
          "hp": 88,
          "weight": 3302,
          "accel": 15.5,
          "origin": "US",
          "size": 15
         },
         {
          "index": 62,
          "mpg": 16,
          "displ": 250,
          "hp": 100,
          "weight": 3781,
          "accel": 17,
          "origin": "US",
          "size": 15
         },
         {
          "index": 63,
          "mpg": 25,
          "displ": 140,
          "hp": 75,
          "weight": 2542,
          "accel": 17,
          "origin": "US",
          "size": 10
         },
         {
          "index": 64,
          "mpg": 22,
          "displ": 225,
          "hp": 100,
          "weight": 3233,
          "accel": 15.4,
          "origin": "US",
          "size": 15
         },
         {
          "index": 65,
          "mpg": 26,
          "displ": 91,
          "hp": 70,
          "weight": 1955,
          "accel": 20.5,
          "origin": "US",
          "size": 10
         },
         {
          "index": 66,
          "mpg": 13,
          "displ": 350,
          "hp": 145,
          "weight": 4055,
          "accel": 12,
          "origin": "US",
          "size": 20
         },
         {
          "index": 67,
          "mpg": 19.9,
          "displ": 260,
          "hp": 110,
          "weight": 3365,
          "accel": 15.5,
          "origin": "US",
          "size": 20
         },
         {
          "index": 68,
          "mpg": 11,
          "displ": 318,
          "hp": 210,
          "weight": 4382,
          "accel": 13.5,
          "origin": "US",
          "size": 20
         },
         {
          "index": 69,
          "mpg": 28,
          "displ": 98,
          "hp": 80,
          "weight": 2164,
          "accel": 15,
          "origin": "US",
          "size": 10
         },
         {
          "index": 70,
          "mpg": 15.5,
          "displ": 318,
          "hp": 145,
          "weight": 4140,
          "accel": 13.7,
          "origin": "US",
          "size": 20
         },
         {
          "index": 71,
          "mpg": 26,
          "displ": 96,
          "hp": 69,
          "weight": 2189,
          "accel": 18,
          "origin": "Europe",
          "size": 10
         },
         {
          "index": 72,
          "mpg": 14,
          "displ": 318,
          "hp": 150,
          "weight": 4237,
          "accel": 14.5,
          "origin": "US",
          "size": 20
         },
         {
          "index": 73,
          "mpg": 12,
          "displ": 429,
          "hp": 198,
          "weight": 4952,
          "accel": 11.5,
          "origin": "US",
          "size": 20
         },
         {
          "index": 74,
          "mpg": 24.2,
          "displ": 146,
          "hp": 120,
          "weight": 2930,
          "accel": 13.8,
          "origin": "Asia",
          "size": 15
         },
         {
          "index": 75,
          "mpg": 25,
          "displ": 140,
          "hp": 92,
          "weight": 2572,
          "accel": 14.9,
          "origin": "US",
          "size": 10
         },
         {
          "index": 76,
          "mpg": 22.5,
          "displ": 232,
          "hp": 90,
          "weight": 3085,
          "accel": 17.6,
          "origin": "US",
          "size": 15
         },
         {
          "index": 77,
          "mpg": 26.8,
          "displ": 173,
          "hp": 115,
          "weight": 2700,
          "accel": 12.9,
          "origin": "US",
          "size": 15
         },
         {
          "index": 78,
          "mpg": 23,
          "displ": 198,
          "hp": 95,
          "weight": 2904,
          "accel": 16,
          "origin": "US",
          "size": 15
         },
         {
          "index": 79,
          "mpg": 26,
          "displ": 116,
          "hp": 75,
          "weight": 2246,
          "accel": 14,
          "origin": "Europe",
          "size": 10
         },
         {
          "index": 80,
          "mpg": 30.7,
          "displ": 145,
          "hp": 76,
          "weight": 3160,
          "accel": 19.6,
          "origin": "Europe",
          "size": 15
         },
         {
          "index": 81,
          "mpg": 31,
          "displ": 79,
          "hp": 67,
          "weight": 2000,
          "accel": 16,
          "origin": "Europe",
          "size": 10
         },
         {
          "index": 82,
          "mpg": 27.2,
          "displ": 141,
          "hp": 71,
          "weight": 3190,
          "accel": 24.8,
          "origin": "Europe",
          "size": 10
         },
         {
          "index": 83,
          "mpg": 21.5,
          "displ": 231,
          "hp": 115,
          "weight": 3245,
          "accel": 15.4,
          "origin": "US",
          "size": 15
         },
         {
          "index": 84,
          "mpg": 29,
          "displ": 135,
          "hp": 84,
          "weight": 2525,
          "accel": 16,
          "origin": "US",
          "size": 10
         },
         {
          "index": 85,
          "mpg": 20,
          "displ": 114,
          "hp": 91,
          "weight": 2582,
          "accel": 14,
          "origin": "Europe",
          "size": 10
         },
         {
          "index": 86,
          "mpg": 13,
          "displ": 350,
          "hp": 150,
          "weight": 4699,
          "accel": 14.5,
          "origin": "US",
          "size": 20
         },
         {
          "index": 87,
          "mpg": 14,
          "displ": 440,
          "hp": 215,
          "weight": 4312,
          "accel": 8.5,
          "origin": "US",
          "size": 20
         },
         {
          "index": 88,
          "mpg": 38,
          "displ": 91,
          "hp": 67,
          "weight": 1995,
          "accel": 16.2,
          "origin": "Asia",
          "size": 10
         },
         {
          "index": 89,
          "mpg": 13,
          "displ": 400,
          "hp": 175,
          "weight": 5140,
          "accel": 12,
          "origin": "US",
          "size": 20
         },
         {
          "index": 90,
          "mpg": 24.5,
          "displ": 98,
          "hp": 60,
          "weight": 2164,
          "accel": 22.1,
          "origin": "US",
          "size": 10
         },
         {
          "index": 91,
          "mpg": 13,
          "displ": 350,
          "hp": 175,
          "weight": 4100,
          "accel": 13,
          "origin": "US",
          "size": 20
         },
         {
          "index": 92,
          "mpg": 25,
          "displ": 181,
          "hp": 110,
          "weight": 2945,
          "accel": 16.4,
          "origin": "US",
          "size": 15
         },
         {
          "index": 93,
          "mpg": 24,
          "displ": 113,
          "hp": 95,
          "weight": 2278,
          "accel": 15.5,
          "origin": "Asia",
          "size": 10
         },
         {
          "index": 94,
          "mpg": 34.1,
          "displ": 91,
          "hp": 68,
          "weight": 1985,
          "accel": 16,
          "origin": "Asia",
          "size": 10
         },
         {
          "index": 95,
          "mpg": 13,
          "displ": 400,
          "hp": 150,
          "weight": 4464,
          "accel": 12,
          "origin": "US",
          "size": 20
         },
         {
          "index": 96,
          "mpg": 44.6,
          "displ": 91,
          "hp": 67,
          "weight": 1850,
          "accel": 13.8,
          "origin": "Asia",
          "size": 10
         },
         {
          "index": 97,
          "mpg": 20.5,
          "displ": 200,
          "hp": 95,
          "weight": 3155,
          "accel": 18.2,
          "origin": "US",
          "size": 15
         },
         {
          "index": 98,
          "mpg": 18,
          "displ": 258,
          "hp": 110,
          "weight": 2962,
          "accel": 13.5,
          "origin": "US",
          "size": 15
         },
         {
          "index": 99,
          "mpg": 23.2,
          "displ": 156,
          "hp": 105,
          "weight": 2745,
          "accel": 16.7,
          "origin": "US",
          "size": 10
         },
         {
          "index": 100,
          "mpg": 20,
          "displ": 130,
          "hp": 102,
          "weight": 3150,
          "accel": 15.7,
          "origin": "Europe",
          "size": 10
         },
         {
          "index": 101,
          "mpg": 24,
          "displ": 121,
          "hp": 110,
          "weight": 2660,
          "accel": 14,
          "origin": "Europe",
          "size": 10
         },
         {
          "index": 102,
          "mpg": 25.5,
          "displ": 140,
          "hp": 89,
          "weight": 2755,
          "accel": 15.8,
          "origin": "US",
          "size": 10
         },
         {
          "index": 103,
          "mpg": 36.1,
          "displ": 98,
          "hp": 66,
          "weight": 1800,
          "accel": 14.4,
          "origin": "US",
          "size": 10
         },
         {
          "index": 104,
          "mpg": 23,
          "displ": 120,
          "hp": 88,
          "weight": 2957,
          "accel": 17,
          "origin": "Europe",
          "size": 10
         },
         {
          "index": 105,
          "mpg": 24,
          "displ": 90,
          "hp": 75,
          "weight": 2108,
          "accel": 15.5,
          "origin": "Europe",
          "size": 10
         },
         {
          "index": 106,
          "mpg": 18,
          "displ": 250,
          "hp": 78,
          "weight": 3574,
          "accel": 21,
          "origin": "US",
          "size": 15
         },
         {
          "index": 107,
          "mpg": 26.6,
          "displ": 350,
          "hp": 105,
          "weight": 3725,
          "accel": 19,
          "origin": "US",
          "size": 20
         },
         {
          "index": 108,
          "mpg": 32,
          "displ": 85,
          "hp": 70,
          "weight": 1990,
          "accel": 17,
          "origin": "Asia",
          "size": 10
         },
         {
          "index": 109,
          "mpg": 20.3,
          "displ": 131,
          "hp": 103,
          "weight": 2830,
          "accel": 15.9,
          "origin": "Europe",
          "size": 12.5
         },
         {
          "index": 110,
          "mpg": 27,
          "displ": 97,
          "hp": 60,
          "weight": 1834,
          "accel": 19,
          "origin": "Europe",
          "size": 10
         },
         {
          "index": 111,
          "mpg": 17,
          "displ": 304,
          "hp": 150,
          "weight": 3672,
          "accel": 11.5,
          "origin": "US",
          "size": 20
         },
         {
          "index": 112,
          "mpg": 21,
          "displ": 140,
          "hp": 72,
          "weight": 2401,
          "accel": 19.5,
          "origin": "US",
          "size": 10
         },
         {
          "index": 113,
          "mpg": 13,
          "displ": 400,
          "hp": 170,
          "weight": 4746,
          "accel": 12,
          "origin": "US",
          "size": 20
         },
         {
          "index": 114,
          "mpg": 24,
          "displ": 107,
          "hp": 90,
          "weight": 2430,
          "accel": 14.5,
          "origin": "Europe",
          "size": 10
         },
         {
          "index": 115,
          "mpg": 17,
          "displ": 260,
          "hp": 110,
          "weight": 4060,
          "accel": 19,
          "origin": "US",
          "size": 20
         },
         {
          "index": 116,
          "mpg": 39.1,
          "displ": 79,
          "hp": 58,
          "weight": 1755,
          "accel": 16.9,
          "origin": "Asia",
          "size": 10
         },
         {
          "index": 117,
          "mpg": 14.5,
          "displ": 351,
          "hp": 152,
          "weight": 4215,
          "accel": 12.8,
          "origin": "US",
          "size": 20
         },
         {
          "index": 118,
          "mpg": 13,
          "displ": 350,
          "hp": 145,
          "weight": 3988,
          "accel": 13,
          "origin": "US",
          "size": 20
         },
         {
          "index": 119,
          "mpg": 20.2,
          "displ": 302,
          "hp": 139,
          "weight": 3570,
          "accel": 12.8,
          "origin": "US",
          "size": 20
         },
         {
          "index": 120,
          "mpg": 27,
          "displ": 101,
          "hp": 83,
          "weight": 2202,
          "accel": 15.3,
          "origin": "Europe",
          "size": 10
         },
         {
          "index": 121,
          "mpg": 35,
          "displ": 72,
          "hp": 69,
          "weight": 1613,
          "accel": 18,
          "origin": "Asia",
          "size": 10
         },
         {
          "index": 122,
          "mpg": 15,
          "displ": 318,
          "hp": 150,
          "weight": 3777,
          "accel": 12.5,
          "origin": "US",
          "size": 20
         },
         {
          "index": 123,
          "mpg": 36.4,
          "displ": 121,
          "hp": 67,
          "weight": 2950,
          "accel": 19.9,
          "origin": "Europe",
          "size": 12.5
         },
         {
          "index": 124,
          "mpg": 30,
          "displ": 111,
          "hp": 80,
          "weight": 2155,
          "accel": 14.8,
          "origin": "US",
          "size": 10
         },
         {
          "index": 125,
          "mpg": 31.9,
          "displ": 89,
          "hp": 71,
          "weight": 1925,
          "accel": 14,
          "origin": "Europe",
          "size": 10
         },
         {
          "index": 126,
          "mpg": 26,
          "displ": 97,
          "hp": 46,
          "weight": 1835,
          "accel": 20.5,
          "origin": "Europe",
          "size": 10
         },
         {
          "index": 127,
          "mpg": 16,
          "displ": 225,
          "hp": 105,
          "weight": 3439,
          "accel": 15.5,
          "origin": "US",
          "size": 15
         },
         {
          "index": 128,
          "mpg": 20,
          "displ": 140,
          "hp": 90,
          "weight": 2408,
          "accel": 19.5,
          "origin": "US",
          "size": 10
         },
         {
          "index": 129,
          "mpg": 18.6,
          "displ": 225,
          "hp": 110,
          "weight": 3620,
          "accel": 18.7,
          "origin": "US",
          "size": 15
         },
         {
          "index": 130,
          "mpg": 14,
          "displ": 400,
          "hp": 175,
          "weight": 4464,
          "accel": 11.5,
          "origin": "US",
          "size": 20
         },
         {
          "index": 131,
          "mpg": 25,
          "displ": 97.5,
          "hp": 80,
          "weight": 2126,
          "accel": 17,
          "origin": "US",
          "size": 10
         },
         {
          "index": 132,
          "mpg": 33,
          "displ": 105,
          "hp": 74,
          "weight": 2190,
          "accel": 14.2,
          "origin": "Europe",
          "size": 10
         },
         {
          "index": 133,
          "mpg": 14,
          "displ": 318,
          "hp": 150,
          "weight": 4096,
          "accel": 13,
          "origin": "US",
          "size": 20
         },
         {
          "index": 134,
          "mpg": 18.5,
          "displ": 360,
          "hp": 150,
          "weight": 3940,
          "accel": 13,
          "origin": "US",
          "size": 20
         },
         {
          "index": 135,
          "mpg": 37.2,
          "displ": 86,
          "hp": 65,
          "weight": 2019,
          "accel": 16.4,
          "origin": "Asia",
          "size": 10
         },
         {
          "index": 136,
          "mpg": 18,
          "displ": 232,
          "hp": 100,
          "weight": 3288,
          "accel": 15.5,
          "origin": "US",
          "size": 15
         },
         {
          "index": 137,
          "mpg": 44.3,
          "displ": 90,
          "hp": 48,
          "weight": 2085,
          "accel": 21.7,
          "origin": "Europe",
          "size": 10
         },
         {
          "index": 138,
          "mpg": 18,
          "displ": 250,
          "hp": 105,
          "weight": 3459,
          "accel": 16,
          "origin": "US",
          "size": 15
         },
         {
          "index": 139,
          "mpg": 28,
          "displ": 140,
          "hp": 90,
          "weight": 2264,
          "accel": 15.5,
          "origin": "US",
          "size": 10
         },
         {
          "index": 140,
          "mpg": 43.4,
          "displ": 90,
          "hp": 48,
          "weight": 2335,
          "accel": 23.7,
          "origin": "Europe",
          "size": 10
         },
         {
          "index": 141,
          "mpg": 20.6,
          "displ": 231,
          "hp": 105,
          "weight": 3380,
          "accel": 15.8,
          "origin": "US",
          "size": 15
         },
         {
          "index": 142,
          "mpg": 19.2,
          "displ": 231,
          "hp": 105,
          "weight": 3535,
          "accel": 19.2,
          "origin": "US",
          "size": 15
         },
         {
          "index": 143,
          "mpg": 26.4,
          "displ": 140,
          "hp": 88,
          "weight": 2870,
          "accel": 18.1,
          "origin": "US",
          "size": 10
         },
         {
          "index": 144,
          "mpg": 18,
          "displ": 232,
          "hp": 100,
          "weight": 2945,
          "accel": 16,
          "origin": "US",
          "size": 15
         },
         {
          "index": 145,
          "mpg": 28,
          "displ": 97,
          "hp": 75,
          "weight": 2155,
          "accel": 16.4,
          "origin": "Asia",
          "size": 10
         },
         {
          "index": 146,
          "mpg": 26,
          "displ": 121,
          "hp": 113,
          "weight": 2234,
          "accel": 12.5,
          "origin": "Europe",
          "size": 10
         },
         {
          "index": 147,
          "mpg": 13,
          "displ": 400,
          "hp": 190,
          "weight": 4422,
          "accel": 12.5,
          "origin": "US",
          "size": 20
         },
         {
          "index": 148,
          "mpg": 25.8,
          "displ": 156,
          "hp": 92,
          "weight": 2620,
          "accel": 14.4,
          "origin": "US",
          "size": 10
         },
         {
          "index": 149,
          "mpg": 28.1,
          "displ": 141,
          "hp": 80,
          "weight": 3230,
          "accel": 20.4,
          "origin": "Europe",
          "size": 10
         },
         {
          "index": 150,
          "mpg": 13,
          "displ": 350,
          "hp": 165,
          "weight": 4274,
          "accel": 12,
          "origin": "US",
          "size": 20
         },
         {
          "index": 151,
          "mpg": 16.5,
          "displ": 350,
          "hp": 180,
          "weight": 4380,
          "accel": 12.1,
          "origin": "US",
          "size": 20
         },
         {
          "index": 152,
          "mpg": 31.5,
          "displ": 89,
          "hp": 71,
          "weight": 1990,
          "accel": 14.9,
          "origin": "Europe",
          "size": 10
         },
         {
          "index": 153,
          "mpg": 24,
          "displ": 120,
          "hp": 97,
          "weight": 2489,
          "accel": 15,
          "origin": "Asia",
          "size": 10
         },
         {
          "index": 154,
          "mpg": 15,
          "displ": 250,
          "hp": 72,
          "weight": 3158,
          "accel": 19.5,
          "origin": "US",
          "size": 15
         },
         {
          "index": 155,
          "mpg": 18,
          "displ": 225,
          "hp": 105,
          "weight": 3613,
          "accel": 16.5,
          "origin": "US",
          "size": 15
         },
         {
          "index": 156,
          "mpg": 33.5,
          "displ": 151,
          "hp": 90,
          "weight": 2556,
          "accel": 13.2,
          "origin": "US",
          "size": 10
         },
         {
          "index": 157,
          "mpg": 32.4,
          "displ": 108,
          "hp": 75,
          "weight": 2350,
          "accel": 16.8,
          "origin": "Asia",
          "size": 10
         },
         {
          "index": 158,
          "mpg": 27,
          "displ": 97,
          "hp": 88,
          "weight": 2130,
          "accel": 14.5,
          "origin": "Asia",
          "size": 10
         },
         {
          "index": 159,
          "mpg": 13,
          "displ": 350,
          "hp": 155,
          "weight": 4502,
          "accel": 13.5,
          "origin": "US",
          "size": 20
         },
         {
          "index": 160,
          "mpg": 31,
          "displ": 91,
          "hp": 68,
          "weight": 1970,
          "accel": 17.6,
          "origin": "Asia",
          "size": 10
         },
         {
          "index": 161,
          "mpg": 28,
          "displ": 151,
          "hp": 90,
          "weight": 2678,
          "accel": 16.5,
          "origin": "US",
          "size": 10
         },
         {
          "index": 162,
          "mpg": 27.2,
          "displ": 135,
          "hp": 84,
          "weight": 2490,
          "accel": 15.7,
          "origin": "US",
          "size": 10
         },
         {
          "index": 163,
          "mpg": 21,
          "displ": 120,
          "hp": 87,
          "weight": 2979,
          "accel": 19.5,
          "origin": "Europe",
          "size": 10
         },
         {
          "index": 164,
          "mpg": 19,
          "displ": 121,
          "hp": 112,
          "weight": 2868,
          "accel": 15.5,
          "origin": "Europe",
          "size": 10
         },
         {
          "index": 165,
          "mpg": 25,
          "displ": 110,
          "hp": 87,
          "weight": 2672,
          "accel": 17.5,
          "origin": "Europe",
          "size": 10
         },
         {
          "index": 166,
          "mpg": 23,
          "displ": 350,
          "hp": 125,
          "weight": 3900,
          "accel": 17.4,
          "origin": "US",
          "size": 20
         },
         {
          "index": 167,
          "mpg": 19,
          "displ": 156,
          "hp": 108,
          "weight": 2930,
          "accel": 15.5,
          "origin": "Asia",
          "size": 15
         },
         {
          "index": 168,
          "mpg": 15.5,
          "displ": 351,
          "hp": 142,
          "weight": 4054,
          "accel": 14.3,
          "origin": "US",
          "size": 20
         },
         {
          "index": 169,
          "mpg": 23.9,
          "displ": 119,
          "hp": 97,
          "weight": 2405,
          "accel": 14.9,
          "origin": "Asia",
          "size": 10
         },
         {
          "index": 170,
          "mpg": 22,
          "displ": 250,
          "hp": 105,
          "weight": 3353,
          "accel": 14.5,
          "origin": "US",
          "size": 15
         },
         {
          "index": 171,
          "mpg": 29,
          "displ": 97,
          "hp": 75,
          "weight": 2171,
          "accel": 16,
          "origin": "Asia",
          "size": 10
         },
         {
          "index": 172,
          "mpg": 14,
          "displ": 302,
          "hp": 137,
          "weight": 4042,
          "accel": 14.5,
          "origin": "US",
          "size": 20
         },
         {
          "index": 173,
          "mpg": 15,
          "displ": 318,
          "hp": 150,
          "weight": 3399,
          "accel": 11,
          "origin": "US",
          "size": 20
         },
         {
          "index": 174,
          "mpg": 27,
          "displ": 112,
          "hp": 88,
          "weight": 2640,
          "accel": 18.6,
          "origin": "US",
          "size": 10
         },
         {
          "index": 175,
          "mpg": 15,
          "displ": 350,
          "hp": 145,
          "weight": 4440,
          "accel": 14,
          "origin": "US",
          "size": 20
         },
         {
          "index": 176,
          "mpg": 30.5,
          "displ": 98,
          "hp": 63,
          "weight": 2051,
          "accel": 17,
          "origin": "US",
          "size": 10
         },
         {
          "index": 177,
          "mpg": 25,
          "displ": 104,
          "hp": 95,
          "weight": 2375,
          "accel": 17.5,
          "origin": "Europe",
          "size": 10
         },
         {
          "index": 178,
          "mpg": 17.5,
          "displ": 305,
          "hp": 140,
          "weight": 4215,
          "accel": 13,
          "origin": "US",
          "size": 20
         },
         {
          "index": 179,
          "mpg": 34,
          "displ": 112,
          "hp": 88,
          "weight": 2395,
          "accel": 18,
          "origin": "US",
          "size": 10
         },
         {
          "index": 180,
          "mpg": 38,
          "displ": 262,
          "hp": 85,
          "weight": 3015,
          "accel": 17,
          "origin": "US",
          "size": 15
         },
         {
          "index": 181,
          "mpg": 30,
          "displ": 79,
          "hp": 70,
          "weight": 2074,
          "accel": 19.5,
          "origin": "Europe",
          "size": 10
         },
         {
          "index": 182,
          "mpg": 19.8,
          "displ": 200,
          "hp": 85,
          "weight": 2990,
          "accel": 18.2,
          "origin": "US",
          "size": 15
         },
         {
          "index": 183,
          "mpg": 25,
          "displ": 121,
          "hp": 115,
          "weight": 2671,
          "accel": 13.5,
          "origin": "Europe",
          "size": 10
         },
         {
          "index": 184,
          "mpg": 21,
          "displ": 122,
          "hp": 86,
          "weight": 2226,
          "accel": 16.5,
          "origin": "US",
          "size": 10
         },
         {
          "index": 185,
          "mpg": 26,
          "displ": 98,
          "hp": 79,
          "weight": 2255,
          "accel": 17.7,
          "origin": "US",
          "size": 10
         },
         {
          "index": 186,
          "mpg": 16.5,
          "displ": 168,
          "hp": 120,
          "weight": 3820,
          "accel": 16.7,
          "origin": "Europe",
          "size": 15
         },
         {
          "index": 187,
          "mpg": 18.1,
          "displ": 258,
          "hp": 120,
          "weight": 3410,
          "accel": 15.1,
          "origin": "US",
          "size": 15
         },
         {
          "index": 188,
          "mpg": 46.6,
          "displ": 86,
          "hp": 65,
          "weight": 2110,
          "accel": 17.9,
          "origin": "Asia",
          "size": 10
         },
         {
          "index": 189,
          "mpg": 21.5,
          "displ": 121,
          "hp": 110,
          "weight": 2600,
          "accel": 12.8,
          "origin": "Europe",
          "size": 10
         },
         {
          "index": 190,
          "mpg": 14,
          "displ": 454,
          "hp": 220,
          "weight": 4354,
          "accel": 9,
          "origin": "US",
          "size": 20
         },
         {
          "index": 191,
          "mpg": 21.6,
          "displ": 121,
          "hp": 115,
          "weight": 2795,
          "accel": 15.7,
          "origin": "Europe",
          "size": 10
         },
         {
          "index": 192,
          "mpg": 15.5,
          "displ": 350,
          "hp": 170,
          "weight": 4165,
          "accel": 11.4,
          "origin": "US",
          "size": 20
         },
         {
          "index": 193,
          "mpg": 20.5,
          "displ": 225,
          "hp": 100,
          "weight": 3430,
          "accel": 17.2,
          "origin": "US",
          "size": 15
         },
         {
          "index": 194,
          "mpg": 23.9,
          "displ": 260,
          "hp": 90,
          "weight": 3420,
          "accel": 22.2,
          "origin": "US",
          "size": 20
         },
         {
          "index": 195,
          "mpg": 12,
          "displ": 455,
          "hp": 225,
          "weight": 4951,
          "accel": 11,
          "origin": "US",
          "size": 20
         },
         {
          "index": 196,
          "mpg": 20.2,
          "displ": 200,
          "hp": 85,
          "weight": 2965,
          "accel": 15.8,
          "origin": "US",
          "size": 15
         },
         {
          "index": 197,
          "mpg": 34.4,
          "displ": 98,
          "hp": 65,
          "weight": 2045,
          "accel": 16.2,
          "origin": "US",
          "size": 10
         },
         {
          "index": 198,
          "mpg": 23,
          "displ": 120,
          "hp": 97,
          "weight": 2506,
          "accel": 14.5,
          "origin": "Asia",
          "size": 10
         },
         {
          "index": 199,
          "mpg": 24.3,
          "displ": 151,
          "hp": 90,
          "weight": 3003,
          "accel": 20.1,
          "origin": "US",
          "size": 10
         },
         {
          "index": 200,
          "mpg": 19,
          "displ": 232,
          "hp": 90,
          "weight": 3211,
          "accel": 17,
          "origin": "US",
          "size": 15
         },
         {
          "index": 201,
          "mpg": 29,
          "displ": 68,
          "hp": 49,
          "weight": 1867,
          "accel": 19.5,
          "origin": "Europe",
          "size": 10
         },
         {
          "index": 202,
          "mpg": 23.5,
          "displ": 173,
          "hp": 110,
          "weight": 2725,
          "accel": 12.6,
          "origin": "US",
          "size": 15
         },
         {
          "index": 203,
          "mpg": 34,
          "displ": 108,
          "hp": 70,
          "weight": 2245,
          "accel": 16.9,
          "origin": "Asia",
          "size": 10
         },
         {
          "index": 204,
          "mpg": 37,
          "displ": 119,
          "hp": 92,
          "weight": 2434,
          "accel": 15,
          "origin": "Asia",
          "size": 10
         },
         {
          "index": 205,
          "mpg": 33,
          "displ": 91,
          "hp": 53,
          "weight": 1795,
          "accel": 17.5,
          "origin": "Asia",
          "size": 10
         },
         {
          "index": 206,
          "mpg": 18,
          "displ": 232,
          "hp": 100,
          "weight": 2789,
          "accel": 15,
          "origin": "US",
          "size": 15
         },
         {
          "index": 207,
          "mpg": 15,
          "displ": 390,
          "hp": 190,
          "weight": 3850,
          "accel": 8.5,
          "origin": "US",
          "size": 20
         },
         {
          "index": 208,
          "mpg": 34.7,
          "displ": 105,
          "hp": 63,
          "weight": 2215,
          "accel": 14.9,
          "origin": "US",
          "size": 10
         },
         {
          "index": 209,
          "mpg": 19.4,
          "displ": 232,
          "hp": 90,
          "weight": 3210,
          "accel": 17.2,
          "origin": "US",
          "size": 15
         },
         {
          "index": 210,
          "mpg": 32,
          "displ": 91,
          "hp": 67,
          "weight": 1965,
          "accel": 15.7,
          "origin": "Asia",
          "size": 10
         },
         {
          "index": 211,
          "mpg": 34.1,
          "displ": 86,
          "hp": 65,
          "weight": 1975,
          "accel": 15.2,
          "origin": "Asia",
          "size": 10
         },
         {
          "index": 212,
          "mpg": 33.7,
          "displ": 107,
          "hp": 75,
          "weight": 2210,
          "accel": 14.4,
          "origin": "Asia",
          "size": 10
         },
         {
          "index": 213,
          "mpg": 20,
          "displ": 225,
          "hp": 100,
          "weight": 3651,
          "accel": 17.7,
          "origin": "US",
          "size": 15
         },
         {
          "index": 214,
          "mpg": 15,
          "displ": 258,
          "hp": 110,
          "weight": 3730,
          "accel": 19,
          "origin": "US",
          "size": 15
         },
         {
          "index": 215,
          "mpg": 38.1,
          "displ": 89,
          "hp": 60,
          "weight": 1968,
          "accel": 18.8,
          "origin": "Asia",
          "size": 10
         },
         {
          "index": 216,
          "mpg": 26,
          "displ": 108,
          "hp": 93,
          "weight": 2391,
          "accel": 15.5,
          "origin": "Asia",
          "size": 10
         },
         {
          "index": 217,
          "mpg": 27,
          "displ": 97,
          "hp": 88,
          "weight": 2100,
          "accel": 16.5,
          "origin": "Asia",
          "size": 10
         },
         {
          "index": 218,
          "mpg": 16,
          "displ": 318,
          "hp": 150,
          "weight": 4498,
          "accel": 14.5,
          "origin": "US",
          "size": 20
         },
         {
          "index": 219,
          "mpg": 17,
          "displ": 250,
          "hp": 100,
          "weight": 3329,
          "accel": 15.5,
          "origin": "US",
          "size": 15
         },
         {
          "index": 220,
          "mpg": 13,
          "displ": 318,
          "hp": 150,
          "weight": 3940,
          "accel": 13.2,
          "origin": "US",
          "size": 20
         },
         {
          "index": 221,
          "mpg": 28,
          "displ": 112,
          "hp": 88,
          "weight": 2605,
          "accel": 19.6,
          "origin": "US",
          "size": 10
         },
         {
          "index": 222,
          "mpg": 14,
          "displ": 455,
          "hp": 225,
          "weight": 3086,
          "accel": 10,
          "origin": "US",
          "size": 20
         },
         {
          "index": 223,
          "mpg": 31.5,
          "displ": 98,
          "hp": 68,
          "weight": 2045,
          "accel": 18.5,
          "origin": "Asia",
          "size": 10
         },
         {
          "index": 224,
          "mpg": 34.5,
          "displ": 105,
          "hp": 70,
          "weight": 2150,
          "accel": 14.9,
          "origin": "US",
          "size": 10
         },
         {
          "index": 225,
          "mpg": 11,
          "displ": 429,
          "hp": 208,
          "weight": 4633,
          "accel": 11,
          "origin": "US",
          "size": 20
         },
         {
          "index": 226,
          "mpg": 16,
          "displ": 250,
          "hp": 105,
          "weight": 3897,
          "accel": 18.5,
          "origin": "US",
          "size": 15
         },
         {
          "index": 227,
          "mpg": 31.6,
          "displ": 120,
          "hp": 74,
          "weight": 2635,
          "accel": 18.3,
          "origin": "Asia",
          "size": 10
         },
         {
          "index": 228,
          "mpg": 19.1,
          "displ": 225,
          "hp": 90,
          "weight": 3381,
          "accel": 18.7,
          "origin": "US",
          "size": 15
         },
         {
          "index": 229,
          "mpg": 18.5,
          "displ": 250,
          "hp": 110,
          "weight": 3645,
          "accel": 16.2,
          "origin": "US",
          "size": 15
         },
         {
          "index": 230,
          "mpg": 15,
          "displ": 250,
          "hp": 72,
          "weight": 3432,
          "accel": 21,
          "origin": "US",
          "size": 15
         },
         {
          "index": 231,
          "mpg": 18,
          "displ": 199,
          "hp": 97,
          "weight": 2774,
          "accel": 15.5,
          "origin": "US",
          "size": 15
         },
         {
          "index": 232,
          "mpg": 35,
          "displ": 122,
          "hp": 88,
          "weight": 2500,
          "accel": 15.1,
          "origin": "Europe",
          "size": 10
         },
         {
          "index": 233,
          "mpg": 20.2,
          "displ": 200,
          "hp": 88,
          "weight": 3060,
          "accel": 17.1,
          "origin": "US",
          "size": 15
         },
         {
          "index": 234,
          "mpg": 13,
          "displ": 302,
          "hp": 129,
          "weight": 3169,
          "accel": 12,
          "origin": "US",
          "size": 20
         },
         {
          "index": 235,
          "mpg": 31,
          "displ": 112,
          "hp": 85,
          "weight": 2575,
          "accel": 16.2,
          "origin": "US",
          "size": 10
         },
         {
          "index": 236,
          "mpg": 22,
          "displ": 122,
          "hp": 86,
          "weight": 2395,
          "accel": 16,
          "origin": "US",
          "size": 10
         },
         {
          "index": 237,
          "mpg": 11,
          "displ": 400,
          "hp": 150,
          "weight": 4997,
          "accel": 14,
          "origin": "US",
          "size": 20
         },
         {
          "index": 238,
          "mpg": 33.5,
          "displ": 85,
          "hp": 70,
          "weight": 1945,
          "accel": 16.8,
          "origin": "Asia",
          "size": 10
         },
         {
          "index": 239,
          "mpg": 43.1,
          "displ": 90,
          "hp": 48,
          "weight": 1985,
          "accel": 21.5,
          "origin": "Europe",
          "size": 10
         },
         {
          "index": 240,
          "mpg": 25.4,
          "displ": 183,
          "hp": 77,
          "weight": 3530,
          "accel": 20.1,
          "origin": "Europe",
          "size": 12.5
         },
         {
          "index": 241,
          "mpg": 40.8,
          "displ": 85,
          "hp": 65,
          "weight": 2110,
          "accel": 19.2,
          "origin": "Asia",
          "size": 10
         },
         {
          "index": 242,
          "mpg": 14,
          "displ": 400,
          "hp": 175,
          "weight": 4385,
          "accel": 12,
          "origin": "US",
          "size": 20
         },
         {
          "index": 243,
          "mpg": 29.8,
          "displ": 134,
          "hp": 90,
          "weight": 2711,
          "accel": 15.5,
          "origin": "Asia",
          "size": 10
         },
         {
          "index": 244,
          "mpg": 16,
          "displ": 318,
          "hp": 150,
          "weight": 4190,
          "accel": 13,
          "origin": "US",
          "size": 20
         },
         {
          "index": 245,
          "mpg": 20.6,
          "displ": 225,
          "hp": 110,
          "weight": 3360,
          "accel": 16.6,
          "origin": "US",
          "size": 15
         },
         {
          "index": 246,
          "mpg": 18,
          "displ": 307,
          "hp": 130,
          "weight": 3504,
          "accel": 12,
          "origin": "US",
          "size": 20
         },
         {
          "index": 247,
          "mpg": 33,
          "displ": 91,
          "hp": 53,
          "weight": 1795,
          "accel": 17.4,
          "origin": "Asia",
          "size": 10
         },
         {
          "index": 248,
          "mpg": 31.8,
          "displ": 85,
          "hp": 65,
          "weight": 2020,
          "accel": 19.2,
          "origin": "Asia",
          "size": 10
         },
         {
          "index": 249,
          "mpg": 13,
          "displ": 351,
          "hp": 158,
          "weight": 4363,
          "accel": 13,
          "origin": "US",
          "size": 20
         },
         {
          "index": 250,
          "mpg": 20,
          "displ": 198,
          "hp": 95,
          "weight": 3102,
          "accel": 16.5,
          "origin": "US",
          "size": 15
         },
         {
          "index": 251,
          "mpg": 32,
          "displ": 83,
          "hp": 61,
          "weight": 2003,
          "accel": 19,
          "origin": "Asia",
          "size": 10
         },
         {
          "index": 252,
          "mpg": 13,
          "displ": 440,
          "hp": 215,
          "weight": 4735,
          "accel": 11,
          "origin": "US",
          "size": 20
         },
         {
          "index": 253,
          "mpg": 23.7,
          "displ": 70,
          "hp": 100,
          "weight": 2420,
          "accel": 12.5,
          "origin": "Asia",
          "size": 7.5
         },
         {
          "index": 254,
          "mpg": 19.2,
          "displ": 305,
          "hp": 145,
          "weight": 3425,
          "accel": 13.2,
          "origin": "US",
          "size": 20
         },
         {
          "index": 255,
          "mpg": 37,
          "displ": 91,
          "hp": 68,
          "weight": 2025,
          "accel": 18.2,
          "origin": "Asia",
          "size": 10
         },
         {
          "index": 256,
          "mpg": 18,
          "displ": 318,
          "hp": 150,
          "weight": 3436,
          "accel": 11,
          "origin": "US",
          "size": 20
         },
         {
          "index": 257,
          "mpg": 19,
          "displ": 120,
          "hp": 88,
          "weight": 3270,
          "accel": 21.9,
          "origin": "Europe",
          "size": 10
         },
         {
          "index": 258,
          "mpg": 32.3,
          "displ": 97,
          "hp": 67,
          "weight": 2065,
          "accel": 17.8,
          "origin": "Asia",
          "size": 10
         },
         {
          "index": 259,
          "mpg": 18,
          "displ": 225,
          "hp": 105,
          "weight": 3121,
          "accel": 16.5,
          "origin": "US",
          "size": 15
         },
         {
          "index": 260,
          "mpg": 13,
          "displ": 360,
          "hp": 175,
          "weight": 3821,
          "accel": 11,
          "origin": "US",
          "size": 20
         },
         {
          "index": 261,
          "mpg": 12,
          "displ": 350,
          "hp": 160,
          "weight": 4456,
          "accel": 13.5,
          "origin": "US",
          "size": 20
         },
         {
          "index": 262,
          "mpg": 36,
          "displ": 105,
          "hp": 74,
          "weight": 1980,
          "accel": 15.3,
          "origin": "Europe",
          "size": 10
         },
         {
          "index": 263,
          "mpg": 18.2,
          "displ": 318,
          "hp": 135,
          "weight": 3830,
          "accel": 15.2,
          "origin": "US",
          "size": 20
         },
         {
          "index": 264,
          "mpg": 19,
          "displ": 232,
          "hp": 100,
          "weight": 2634,
          "accel": 13,
          "origin": "US",
          "size": 15
         },
         {
          "index": 265,
          "mpg": 30,
          "displ": 146,
          "hp": 67,
          "weight": 3250,
          "accel": 21.8,
          "origin": "Europe",
          "size": 10
         },
         {
          "index": 266,
          "mpg": 15,
          "displ": 429,
          "hp": 198,
          "weight": 4341,
          "accel": 10,
          "origin": "US",
          "size": 20
         },
         {
          "index": 267,
          "mpg": 11,
          "displ": 350,
          "hp": 180,
          "weight": 3664,
          "accel": 11,
          "origin": "US",
          "size": 20
         },
         {
          "index": 268,
          "mpg": 10,
          "displ": 360,
          "hp": 215,
          "weight": 4615,
          "accel": 14,
          "origin": "US",
          "size": 20
         },
         {
          "index": 269,
          "mpg": 16,
          "displ": 250,
          "hp": 100,
          "weight": 3278,
          "accel": 18,
          "origin": "US",
          "size": 15
         },
         {
          "index": 270,
          "mpg": 14,
          "displ": 455,
          "hp": 225,
          "weight": 4425,
          "accel": 10,
          "origin": "US",
          "size": 20
         },
         {
          "index": 271,
          "mpg": 16.9,
          "displ": 350,
          "hp": 155,
          "weight": 4360,
          "accel": 14.9,
          "origin": "US",
          "size": 20
         },
         {
          "index": 272,
          "mpg": 13,
          "displ": 360,
          "hp": 170,
          "weight": 4654,
          "accel": 13,
          "origin": "US",
          "size": 20
         },
         {
          "index": 273,
          "mpg": 25,
          "displ": 116,
          "hp": 81,
          "weight": 2220,
          "accel": 16.9,
          "origin": "Europe",
          "size": 10
         },
         {
          "index": 274,
          "mpg": 21,
          "displ": 200,
          "hp": 85,
          "weight": 2587,
          "accel": 16,
          "origin": "US",
          "size": 15
         },
         {
          "index": 275,
          "mpg": 21.1,
          "displ": 134,
          "hp": 95,
          "weight": 2515,
          "accel": 14.8,
          "origin": "Asia",
          "size": 10
         },
         {
          "index": 276,
          "mpg": 26,
          "displ": 122,
          "hp": 80,
          "weight": 2451,
          "accel": 16.5,
          "origin": "US",
          "size": 10
         },
         {
          "index": 277,
          "mpg": 28,
          "displ": 97,
          "hp": 92,
          "weight": 2288,
          "accel": 17,
          "origin": "Asia",
          "size": 10
         },
         {
          "index": 278,
          "mpg": 29,
          "displ": 90,
          "hp": 70,
          "weight": 1937,
          "accel": 14,
          "origin": "Europe",
          "size": 10
         },
         {
          "index": 279,
          "mpg": 16,
          "displ": 351,
          "hp": 149,
          "weight": 4335,
          "accel": 14.5,
          "origin": "US",
          "size": 20
         },
         {
          "index": 280,
          "mpg": 26.6,
          "displ": 151,
          "hp": 84,
          "weight": 2635,
          "accel": 16.4,
          "origin": "US",
          "size": 10
         },
         {
          "index": 281,
          "mpg": 19,
          "displ": 70,
          "hp": 97,
          "weight": 2330,
          "accel": 13.5,
          "origin": "Asia",
          "size": 7.5
         },
         {
          "index": 282,
          "mpg": 32.8,
          "displ": 78,
          "hp": 52,
          "weight": 1985,
          "accel": 19.4,
          "origin": "Asia",
          "size": 10
         },
         {
          "index": 283,
          "mpg": 22,
          "displ": 140,
          "hp": 72,
          "weight": 2408,
          "accel": 19,
          "origin": "US",
          "size": 10
         },
         {
          "index": 284,
          "mpg": 19,
          "displ": 122,
          "hp": 85,
          "weight": 2310,
          "accel": 18.5,
          "origin": "US",
          "size": 10
         },
         {
          "index": 285,
          "mpg": 31,
          "displ": 76,
          "hp": 52,
          "weight": 1649,
          "accel": 16.5,
          "origin": "Asia",
          "size": 10
         },
         {
          "index": 286,
          "mpg": 23,
          "displ": 115,
          "hp": 95,
          "weight": 2694,
          "accel": 15,
          "origin": "Europe",
          "size": 10
         },
         {
          "index": 287,
          "mpg": 29.5,
          "displ": 97,
          "hp": 71,
          "weight": 1825,
          "accel": 12.2,
          "origin": "Europe",
          "size": 10
         },
         {
          "index": 288,
          "mpg": 17.5,
          "displ": 318,
          "hp": 140,
          "weight": 4080,
          "accel": 13.7,
          "origin": "US",
          "size": 20
         },
         {
          "index": 289,
          "mpg": 19,
          "displ": 250,
          "hp": 100,
          "weight": 3282,
          "accel": 15,
          "origin": "US",
          "size": 15
         },
         {
          "index": 290,
          "mpg": 24,
          "displ": 134,
          "hp": 96,
          "weight": 2702,
          "accel": 13.5,
          "origin": "Asia",
          "size": 10
         },
         {
          "index": 291,
          "mpg": 14,
          "displ": 304,
          "hp": 150,
          "weight": 4257,
          "accel": 15.5,
          "origin": "US",
          "size": 20
         },
         {
          "index": 292,
          "mpg": 28,
          "displ": 90,
          "hp": 75,
          "weight": 2125,
          "accel": 14.5,
          "origin": "US",
          "size": 10
         },
         {
          "index": 293,
          "mpg": 21,
          "displ": 155,
          "hp": 107,
          "weight": 2472,
          "accel": 14,
          "origin": "US",
          "size": 15
         },
         {
          "index": 294,
          "mpg": 22.4,
          "displ": 231,
          "hp": 110,
          "weight": 3415,
          "accel": 15.8,
          "origin": "US",
          "size": 15
         },
         {
          "index": 295,
          "mpg": 36,
          "displ": 107,
          "hp": 75,
          "weight": 2205,
          "accel": 14.5,
          "origin": "Asia",
          "size": 10
         },
         {
          "index": 296,
          "mpg": 18,
          "displ": 171,
          "hp": 97,
          "weight": 2984,
          "accel": 14.5,
          "origin": "US",
          "size": 15
         },
         {
          "index": 297,
          "mpg": 16.2,
          "displ": 163,
          "hp": 133,
          "weight": 3410,
          "accel": 15.8,
          "origin": "Europe",
          "size": 15
         },
         {
          "index": 298,
          "mpg": 39.4,
          "displ": 85,
          "hp": 70,
          "weight": 2070,
          "accel": 18.6,
          "origin": "Asia",
          "size": 10
         },
         {
          "index": 299,
          "mpg": 30,
          "displ": 97,
          "hp": 67,
          "weight": 1985,
          "accel": 16.4,
          "origin": "Asia",
          "size": 10
         },
         {
          "index": 300,
          "mpg": 18,
          "displ": 121,
          "hp": 112,
          "weight": 2933,
          "accel": 14.5,
          "origin": "Europe",
          "size": 10
         },
         {
          "index": 301,
          "mpg": 17.5,
          "displ": 305,
          "hp": 145,
          "weight": 3880,
          "accel": 12.5,
          "origin": "US",
          "size": 20
         },
         {
          "index": 302,
          "mpg": 28.8,
          "displ": 173,
          "hp": 115,
          "weight": 2595,
          "accel": 11.3,
          "origin": "US",
          "size": 15
         },
         {
          "index": 303,
          "mpg": 22,
          "displ": 121,
          "hp": 98,
          "weight": 2945,
          "accel": 14.5,
          "origin": "Europe",
          "size": 10
         },
         {
          "index": 304,
          "mpg": 34.2,
          "displ": 105,
          "hp": 70,
          "weight": 2200,
          "accel": 13.2,
          "origin": "US",
          "size": 10
         },
         {
          "index": 305,
          "mpg": 30.5,
          "displ": 97,
          "hp": 78,
          "weight": 2190,
          "accel": 14.1,
          "origin": "Europe",
          "size": 10
         },
         {
          "index": 306,
          "mpg": 16,
          "displ": 400,
          "hp": 230,
          "weight": 4278,
          "accel": 9.5,
          "origin": "US",
          "size": 20
         },
         {
          "index": 307,
          "mpg": 38,
          "displ": 105,
          "hp": 63,
          "weight": 2125,
          "accel": 14.7,
          "origin": "US",
          "size": 10
         },
         {
          "index": 308,
          "mpg": 41.5,
          "displ": 98,
          "hp": 76,
          "weight": 2144,
          "accel": 14.7,
          "origin": "Europe",
          "size": 10
         },
         {
          "index": 309,
          "mpg": 27.9,
          "displ": 156,
          "hp": 105,
          "weight": 2800,
          "accel": 14.4,
          "origin": "US",
          "size": 10
         },
         {
          "index": 310,
          "mpg": 22,
          "displ": 198,
          "hp": 95,
          "weight": 2833,
          "accel": 15.5,
          "origin": "US",
          "size": 15
         },
         {
          "index": 311,
          "mpg": 29.8,
          "displ": 89,
          "hp": 62,
          "weight": 1845,
          "accel": 15.3,
          "origin": "Europe",
          "size": 10
         },
         {
          "index": 312,
          "mpg": 17.7,
          "displ": 231,
          "hp": 165,
          "weight": 3445,
          "accel": 13.4,
          "origin": "US",
          "size": 15
         },
         {
          "index": 313,
          "mpg": 15,
          "displ": 350,
          "hp": 165,
          "weight": 3693,
          "accel": 11.5,
          "origin": "US",
          "size": 20
         },
         {
          "index": 314,
          "mpg": 14,
          "displ": 340,
          "hp": 160,
          "weight": 3609,
          "accel": 8,
          "origin": "US",
          "size": 20
         },
         {
          "index": 315,
          "mpg": 15.5,
          "displ": 400,
          "hp": 190,
          "weight": 4325,
          "accel": 12.2,
          "origin": "US",
          "size": 20
         },
         {
          "index": 316,
          "mpg": 17.5,
          "displ": 258,
          "hp": 95,
          "weight": 3193,
          "accel": 17.8,
          "origin": "US",
          "size": 15
         },
         {
          "index": 317,
          "mpg": 12,
          "displ": 350,
          "hp": 180,
          "weight": 4499,
          "accel": 12.5,
          "origin": "US",
          "size": 20
         },
         {
          "index": 318,
          "mpg": 29,
          "displ": 97,
          "hp": 78,
          "weight": 1940,
          "accel": 14.5,
          "origin": "Europe",
          "size": 10
         },
         {
          "index": 319,
          "mpg": 15.5,
          "displ": 304,
          "hp": 120,
          "weight": 3962,
          "accel": 13.9,
          "origin": "US",
          "size": 20
         },
         {
          "index": 320,
          "mpg": 35.7,
          "displ": 98,
          "hp": 80,
          "weight": 1915,
          "accel": 14.4,
          "origin": "US",
          "size": 10
         },
         {
          "index": 321,
          "mpg": 26,
          "displ": 97,
          "hp": 75,
          "weight": 2265,
          "accel": 18.2,
          "origin": "Asia",
          "size": 10
         },
         {
          "index": 322,
          "mpg": 30,
          "displ": 98,
          "hp": 68,
          "weight": 2155,
          "accel": 16.5,
          "origin": "US",
          "size": 10
         },
         {
          "index": 323,
          "mpg": 33.8,
          "displ": 97,
          "hp": 67,
          "weight": 2145,
          "accel": 18,
          "origin": "Asia",
          "size": 10
         },
         {
          "index": 324,
          "mpg": 18,
          "displ": 225,
          "hp": 95,
          "weight": 3785,
          "accel": 19,
          "origin": "US",
          "size": 15
         },
         {
          "index": 325,
          "mpg": 13,
          "displ": 302,
          "hp": 140,
          "weight": 4294,
          "accel": 16,
          "origin": "US",
          "size": 20
         },
         {
          "index": 326,
          "mpg": 20,
          "displ": 262,
          "hp": 110,
          "weight": 3221,
          "accel": 13.5,
          "origin": "US",
          "size": 20
         },
         {
          "index": 327,
          "mpg": 32.4,
          "displ": 107,
          "hp": 72,
          "weight": 2290,
          "accel": 17,
          "origin": "Asia",
          "size": 10
         },
         {
          "index": 328,
          "mpg": 16,
          "displ": 304,
          "hp": 150,
          "weight": 3433,
          "accel": 12,
          "origin": "US",
          "size": 20
         },
         {
          "index": 329,
          "mpg": 27.5,
          "displ": 134,
          "hp": 95,
          "weight": 2560,
          "accel": 14.2,
          "origin": "Asia",
          "size": 10
         },
         {
          "index": 330,
          "mpg": 23,
          "displ": 97,
          "hp": 54,
          "weight": 2254,
          "accel": 23.5,
          "origin": "Europe",
          "size": 10
         },
         {
          "index": 331,
          "mpg": 14,
          "displ": 351,
          "hp": 153,
          "weight": 4129,
          "accel": 13,
          "origin": "US",
          "size": 20
         },
         {
          "index": 332,
          "mpg": 17,
          "displ": 305,
          "hp": 130,
          "weight": 3840,
          "accel": 15.4,
          "origin": "US",
          "size": 20
         },
         {
          "index": 333,
          "mpg": 16,
          "displ": 400,
          "hp": 170,
          "weight": 4668,
          "accel": 11.5,
          "origin": "US",
          "size": 20
         },
         {
          "index": 334,
          "mpg": 23,
          "displ": 122,
          "hp": 86,
          "weight": 2220,
          "accel": 14,
          "origin": "US",
          "size": 10
         },
         {
          "index": 335,
          "mpg": 24,
          "displ": 119,
          "hp": 97,
          "weight": 2545,
          "accel": 17,
          "origin": "Asia",
          "size": 10
         },
         {
          "index": 336,
          "mpg": 27,
          "displ": 151,
          "hp": 90,
          "weight": 2735,
          "accel": 18,
          "origin": "US",
          "size": 10
         },
         {
          "index": 337,
          "mpg": 15,
          "displ": 350,
          "hp": 145,
          "weight": 4082,
          "accel": 13,
          "origin": "US",
          "size": 20
         },
         {
          "index": 338,
          "mpg": 27,
          "displ": 140,
          "hp": 86,
          "weight": 2790,
          "accel": 15.6,
          "origin": "US",
          "size": 10
         },
         {
          "index": 339,
          "mpg": 28,
          "displ": 120,
          "hp": 79,
          "weight": 2625,
          "accel": 18.6,
          "origin": "US",
          "size": 10
         },
         {
          "index": 340,
          "mpg": 14,
          "displ": 350,
          "hp": 165,
          "weight": 4209,
          "accel": 12,
          "origin": "US",
          "size": 20
         },
         {
          "index": 341,
          "mpg": 33.5,
          "displ": 98,
          "hp": 83,
          "weight": 2075,
          "accel": 15.9,
          "origin": "US",
          "size": 10
         },
         {
          "index": 342,
          "mpg": 39,
          "displ": 86,
          "hp": 64,
          "weight": 1875,
          "accel": 16.4,
          "origin": "US",
          "size": 10
         },
         {
          "index": 343,
          "mpg": 24,
          "displ": 140,
          "hp": 92,
          "weight": 2865,
          "accel": 16.4,
          "origin": "US",
          "size": 10
         },
         {
          "index": 344,
          "mpg": 26.5,
          "displ": 140,
          "hp": 72,
          "weight": 2565,
          "accel": 13.6,
          "origin": "US",
          "size": 10
         },
         {
          "index": 345,
          "mpg": 19.4,
          "displ": 318,
          "hp": 140,
          "weight": 3735,
          "accel": 13.2,
          "origin": "US",
          "size": 20
         },
         {
          "index": 346,
          "mpg": 15,
          "displ": 318,
          "hp": 150,
          "weight": 4135,
          "accel": 13.5,
          "origin": "US",
          "size": 20
         },
         {
          "index": 347,
          "mpg": 25.5,
          "displ": 122,
          "hp": 96,
          "weight": 2300,
          "accel": 15.5,
          "origin": "US",
          "size": 10
         },
         {
          "index": 348,
          "mpg": 14,
          "displ": 304,
          "hp": 150,
          "weight": 3672,
          "accel": 11.5,
          "origin": "US",
          "size": 20
         },
         {
          "index": 349,
          "mpg": 27.4,
          "displ": 121,
          "hp": 80,
          "weight": 2670,
          "accel": 15,
          "origin": "US",
          "size": 10
         },
         {
          "index": 350,
          "mpg": 13,
          "displ": 302,
          "hp": 130,
          "weight": 3870,
          "accel": 15,
          "origin": "US",
          "size": 20
         },
         {
          "index": 351,
          "mpg": 19,
          "displ": 225,
          "hp": 100,
          "weight": 3630,
          "accel": 17.7,
          "origin": "US",
          "size": 15
         },
         {
          "index": 352,
          "mpg": 17,
          "displ": 163,
          "hp": 125,
          "weight": 3140,
          "accel": 13.6,
          "origin": "Europe",
          "size": 15
         },
         {
          "index": 353,
          "mpg": 28,
          "displ": 116,
          "hp": 90,
          "weight": 2123,
          "accel": 14,
          "origin": "Europe",
          "size": 10
         },
         {
          "index": 354,
          "mpg": 22,
          "displ": 108,
          "hp": 94,
          "weight": 2379,
          "accel": 16.5,
          "origin": "Asia",
          "size": 10
         },
         {
          "index": 355,
          "mpg": 30,
          "displ": 88,
          "hp": 76,
          "weight": 2065,
          "accel": 14.5,
          "origin": "Europe",
          "size": 10
         },
         {
          "index": 356,
          "mpg": 18,
          "displ": 70,
          "hp": 90,
          "weight": 2124,
          "accel": 13.5,
          "origin": "Asia",
          "size": 7.5
         },
         {
          "index": 357,
          "mpg": 14,
          "displ": 318,
          "hp": 150,
          "weight": 4077,
          "accel": 14,
          "origin": "US",
          "size": 20
         },
         {
          "index": 358,
          "mpg": 22,
          "displ": 146,
          "hp": 97,
          "weight": 2815,
          "accel": 14.5,
          "origin": "Asia",
          "size": 15
         },
         {
          "index": 359,
          "mpg": 23.8,
          "displ": 151,
          "hp": 85,
          "weight": 2855,
          "accel": 17.6,
          "origin": "US",
          "size": 10
         },
         {
          "index": 360,
          "mpg": 24,
          "displ": 200,
          "hp": 81,
          "weight": 3012,
          "accel": 17.6,
          "origin": "US",
          "size": 15
         },
         {
          "index": 361,
          "mpg": 26,
          "displ": 97,
          "hp": 78,
          "weight": 2300,
          "accel": 14.5,
          "origin": "Europe",
          "size": 10
         },
         {
          "index": 362,
          "mpg": 26,
          "displ": 97,
          "hp": 46,
          "weight": 1950,
          "accel": 21,
          "origin": "Europe",
          "size": 10
         },
         {
          "index": 363,
          "mpg": 30,
          "displ": 135,
          "hp": 84,
          "weight": 2385,
          "accel": 12.9,
          "origin": "US",
          "size": 10
         },
         {
          "index": 364,
          "mpg": 29,
          "displ": 90,
          "hp": 70,
          "weight": 1937,
          "accel": 14.2,
          "origin": "Europe",
          "size": 10
         },
         {
          "index": 365,
          "mpg": 14,
          "displ": 351,
          "hp": 153,
          "weight": 4154,
          "accel": 13.5,
          "origin": "US",
          "size": 20
         },
         {
          "index": 366,
          "mpg": 25.4,
          "displ": 168,
          "hp": 116,
          "weight": 2900,
          "accel": 12.6,
          "origin": "Asia",
          "size": 15
         },
         {
          "index": 367,
          "mpg": 19,
          "displ": 232,
          "hp": 100,
          "weight": 2901,
          "accel": 16,
          "origin": "US",
          "size": 15
         },
         {
          "index": 368,
          "mpg": 12,
          "displ": 400,
          "hp": 167,
          "weight": 4906,
          "accel": 12.5,
          "origin": "US",
          "size": 20
         },
         {
          "index": 369,
          "mpg": 20,
          "displ": 97,
          "hp": 88,
          "weight": 2279,
          "accel": 19,
          "origin": "Asia",
          "size": 10
         },
         {
          "index": 370,
          "mpg": 27,
          "displ": 97,
          "hp": 88,
          "weight": 2130,
          "accel": 14.5,
          "origin": "Asia",
          "size": 10
         },
         {
          "index": 371,
          "mpg": 22.3,
          "displ": 140,
          "hp": 88,
          "weight": 2890,
          "accel": 17.3,
          "origin": "US",
          "size": 10
         },
         {
          "index": 372,
          "mpg": 10,
          "displ": 307,
          "hp": 200,
          "weight": 4376,
          "accel": 15,
          "origin": "US",
          "size": 20
         },
         {
          "index": 373,
          "mpg": 19.2,
          "displ": 267,
          "hp": 125,
          "weight": 3605,
          "accel": 15,
          "origin": "US",
          "size": 20
         },
         {
          "index": 374,
          "mpg": 26,
          "displ": 156,
          "hp": 92,
          "weight": 2585,
          "accel": 14.5,
          "origin": "US",
          "size": 10
         },
         {
          "index": 375,
          "mpg": 16,
          "displ": 258,
          "hp": 110,
          "weight": 3632,
          "accel": 18,
          "origin": "US",
          "size": 15
         },
         {
          "index": 376,
          "mpg": 37.3,
          "displ": 91,
          "hp": 69,
          "weight": 2130,
          "accel": 14.7,
          "origin": "Europe",
          "size": 10
         },
         {
          "index": 377,
          "mpg": 26,
          "displ": 79,
          "hp": 67,
          "weight": 1963,
          "accel": 15.5,
          "origin": "Europe",
          "size": 10
         },
         {
          "index": 378,
          "mpg": 20.2,
          "displ": 232,
          "hp": 90,
          "weight": 3265,
          "accel": 18.2,
          "origin": "US",
          "size": 15
         },
         {
          "index": 379,
          "mpg": 13,
          "displ": 318,
          "hp": 150,
          "weight": 3755,
          "accel": 14,
          "origin": "US",
          "size": 20
         },
         {
          "index": 380,
          "mpg": 21,
          "displ": 199,
          "hp": 90,
          "weight": 2648,
          "accel": 15,
          "origin": "US",
          "size": 15
         },
         {
          "index": 381,
          "mpg": 25,
          "displ": 90,
          "hp": 71,
          "weight": 2223,
          "accel": 16.5,
          "origin": "Europe",
          "size": 10
         },
         {
          "index": 382,
          "mpg": 20.5,
          "displ": 231,
          "hp": 105,
          "weight": 3425,
          "accel": 16.9,
          "origin": "US",
          "size": 15
         },
         {
          "index": 383,
          "mpg": 37.7,
          "displ": 89,
          "hp": 62,
          "weight": 2050,
          "accel": 17.3,
          "origin": "Asia",
          "size": 10
         },
         {
          "index": 384,
          "mpg": 36,
          "displ": 120,
          "hp": 88,
          "weight": 2160,
          "accel": 14.5,
          "origin": "Asia",
          "size": 10
         },
         {
          "index": 385,
          "mpg": 20,
          "displ": 156,
          "hp": 122,
          "weight": 2807,
          "accel": 13.5,
          "origin": "Asia",
          "size": 15
         },
         {
          "index": 386,
          "mpg": 37,
          "displ": 85,
          "hp": 65,
          "weight": 1975,
          "accel": 19.4,
          "origin": "Asia",
          "size": 10
         },
         {
          "index": 387,
          "mpg": 18,
          "displ": 250,
          "hp": 88,
          "weight": 3021,
          "accel": 16.5,
          "origin": "US",
          "size": 15
         },
         {
          "index": 388,
          "mpg": 27,
          "displ": 151,
          "hp": 90,
          "weight": 2950,
          "accel": 17.3,
          "origin": "US",
          "size": 10
         },
         {
          "index": 389,
          "mpg": 29.5,
          "displ": 98,
          "hp": 68,
          "weight": 2135,
          "accel": 16.6,
          "origin": "Asia",
          "size": 10
         },
         {
          "index": 390,
          "mpg": 17.5,
          "displ": 250,
          "hp": 110,
          "weight": 3520,
          "accel": 16.4,
          "origin": "US",
          "size": 15
         },
         {
          "index": 391,
          "mpg": 25.1,
          "displ": 140,
          "hp": 88,
          "weight": 2720,
          "accel": 15.4,
          "origin": "US",
          "size": 10
         }
        ]
       },
       "total_rows": 392,
       "truncation_type": null
      },
      "text/plain": "      mpg  displ   hp  weight  accel  origin  size\n0    18.0  250.0   88    3139   14.5      US  15.0\n1     9.0  304.0  193    4732   18.5      US  20.0\n2    36.1   91.0   60    1800   16.4    Asia  10.0\n3    18.5  250.0   98    3525   19.0      US  15.0\n4    34.3   97.0   78    2188   15.8  Europe  10.0\n..    ...    ...  ...     ...    ...     ...   ...\n387  18.0  250.0   88    3021   16.5      US  15.0\n388  27.0  151.0   90    2950   17.3      US  10.0\n389  29.5   98.0   68    2135   16.6    Asia  10.0\n390  17.5  250.0  110    3520   16.4      US  15.0\n391  25.1  140.0   88    2720   15.4      US  10.0\n\n[392 rows x 7 columns]",
      "text/html": "<div>\n<style scoped>\n    .dataframe tbody tr th:only-of-type {\n        vertical-align: middle;\n    }\n\n    .dataframe tbody tr th {\n        vertical-align: top;\n    }\n\n    .dataframe thead th {\n        text-align: right;\n    }\n</style>\n<table border=\"1\" class=\"dataframe\">\n  <thead>\n    <tr style=\"text-align: right;\">\n      <th></th>\n      <th>mpg</th>\n      <th>displ</th>\n      <th>hp</th>\n      <th>weight</th>\n      <th>accel</th>\n      <th>origin</th>\n      <th>size</th>\n    </tr>\n  </thead>\n  <tbody>\n    <tr>\n      <th>0</th>\n      <td>18.0</td>\n      <td>250.0</td>\n      <td>88</td>\n      <td>3139</td>\n      <td>14.5</td>\n      <td>US</td>\n      <td>15.0</td>\n    </tr>\n    <tr>\n      <th>1</th>\n      <td>9.0</td>\n      <td>304.0</td>\n      <td>193</td>\n      <td>4732</td>\n      <td>18.5</td>\n      <td>US</td>\n      <td>20.0</td>\n    </tr>\n    <tr>\n      <th>2</th>\n      <td>36.1</td>\n      <td>91.0</td>\n      <td>60</td>\n      <td>1800</td>\n      <td>16.4</td>\n      <td>Asia</td>\n      <td>10.0</td>\n    </tr>\n    <tr>\n      <th>3</th>\n      <td>18.5</td>\n      <td>250.0</td>\n      <td>98</td>\n      <td>3525</td>\n      <td>19.0</td>\n      <td>US</td>\n      <td>15.0</td>\n    </tr>\n    <tr>\n      <th>4</th>\n      <td>34.3</td>\n      <td>97.0</td>\n      <td>78</td>\n      <td>2188</td>\n      <td>15.8</td>\n      <td>Europe</td>\n      <td>10.0</td>\n    </tr>\n    <tr>\n      <th>...</th>\n      <td>...</td>\n      <td>...</td>\n      <td>...</td>\n      <td>...</td>\n      <td>...</td>\n      <td>...</td>\n      <td>...</td>\n    </tr>\n    <tr>\n      <th>387</th>\n      <td>18.0</td>\n      <td>250.0</td>\n      <td>88</td>\n      <td>3021</td>\n      <td>16.5</td>\n      <td>US</td>\n      <td>15.0</td>\n    </tr>\n    <tr>\n      <th>388</th>\n      <td>27.0</td>\n      <td>151.0</td>\n      <td>90</td>\n      <td>2950</td>\n      <td>17.3</td>\n      <td>US</td>\n      <td>10.0</td>\n    </tr>\n    <tr>\n      <th>389</th>\n      <td>29.5</td>\n      <td>98.0</td>\n      <td>68</td>\n      <td>2135</td>\n      <td>16.6</td>\n      <td>Asia</td>\n      <td>10.0</td>\n    </tr>\n    <tr>\n      <th>390</th>\n      <td>17.5</td>\n      <td>250.0</td>\n      <td>110</td>\n      <td>3520</td>\n      <td>16.4</td>\n      <td>US</td>\n      <td>15.0</td>\n    </tr>\n    <tr>\n      <th>391</th>\n      <td>25.1</td>\n      <td>140.0</td>\n      <td>88</td>\n      <td>2720</td>\n      <td>15.4</td>\n      <td>US</td>\n      <td>10.0</td>\n    </tr>\n  </tbody>\n</table>\n<p>392 rows × 7 columns</p>\n</div>"
     },
     "metadata": {}
    }
   ]
  },
  {
   "source": [
    "## Challenge Yourself\n",
    "\n",
    "Don't know where to start? **Add code** to the code cell below to try the following challenge:\n",
    "\n",
    ">You work for a used car website where people can list their cars for sale. Although users submit details such as the horsepower, weight, and place of origin, they are often unable to provide the precise miles per gallon (`mpg`). Your manager has asked you whether it is possible to use these various features to predict the mpg of cars so that the website can add the information automatically. You have access to the `auto` DataFrame to train a model and make predictions.\n",
    ">   \n",
    ">Try to use all of the relevant techniques you learned in Supervised Learning with scikit-learn. This includes preprocessing the data and fine-tuning your model.\n",
    "\n",
    "_Reminder: To execute the code you add to a cell, click inside the cell to select it and click \"Run\" or the ► icon. You can also use Shift-Enter to run a selected cell and automatically switch to the next cell._"
   ],
   "metadata": {
    "pycharm": {
     "name": "#%% md\n"
    }
   },
   "id": "cheap-munich",
   "cell_type": "markdown"
  },
  {
   "source": [
    "# Use this cell (and add others as needed) to predict the mpg of cars in the auto DataFrame\n"
   ],
   "metadata": {
    "pycharm": {
     "name": "#%%\n"
    }
   },
   "id": "079c7628-464c-471b-9867-b684acc232b9",
   "cell_type": "code",
   "execution_count": 62,
   "outputs": []
  },
  {
   "source": [
    "## Continue to Explore\n",
    "\n",
    "Feeling confident about your skills? Continue to [Unsupervised Learning in Python](https://app.datacamp.com/learn/courses/unsupervised-learning-in-python), or check out the other courses in the [Machine Learning Scientist with Python](https://app.datacamp.com/learn/career-tracks/machine-learning-scientist-with-python) Career Track to learn other advanced machine learning techniques.\n",
    "\n",
    "If you're interested in exploring the remaining course datasets, you can refer to the DataFrames and potential target variables below:\n",
    "\n",
    "- `boston`: `MEDV`, the median value of owner-occupied homes in thousands of dollars.\n",
    "- `diabetes`: `diabetes`, `0` indicates that the patient does _not_ have diabetes, while a value of `1` indicates that the patient _does_ have diabetes.\n",
    "- `gapminder`: `life`, life expectancy\n",
    "- `party`: party affiliation (`democrat` or `republican`)\n",
    "- `whitewine`: `quality`"
   ],
   "metadata": {
    "pycharm": {
     "name": "#%% md\n"
    }
   },
   "id": "b3317e25-17e0-4f71-89fb-18d950b5bd85",
   "cell_type": "markdown"
  },
  {
   "source": [
    "**EDA of IRIS dataset**"
   ],
   "metadata": {
    "pycharm": {
     "name": "#%% md\n"
    }
   },
   "id": "b04d1434-df03-4e32-9063-6540ed234b9b",
   "cell_type": "markdown"
  },
  {
   "source": [
    "from sklearn import datasets\n",
    "plt.style.use('ggplot')"
   ],
   "metadata": {
    "pycharm": {
     "name": "#%%\n"
    }
   },
   "id": "db6ca612-f431-4462-9472-e631d0f4075c",
   "cell_type": "code",
   "execution_count": 63,
   "outputs": []
  },
  {
   "source": [
    "iris=datasets.load_iris()\n",
    "print(type(iris))\n",
    "print(iris.keys())\n",
    "print(type(iris.data))\n",
    "print(type(iris.keys))\n",
    "print(iris.data.shape)\n",
    "print(iris.target_names)"
   ],
   "metadata": {
    "pycharm": {
     "name": "#%%\n"
    }
   },
   "id": "76f36721-5611-45e7-8078-78a9fc3ad070",
   "cell_type": "code",
   "execution_count": 64,
   "outputs": [
    {
     "output_type": "stream",
     "name": "stdout",
     "text": "<class 'sklearn.utils._bunch.Bunch'>\ndict_keys(['data', 'target', 'frame', 'target_names', 'DESCR', 'feature_names', 'filename', 'data_module'])\n<class 'numpy.ndarray'>\n<class 'builtin_function_or_method'>\n(150, 4)\n['setosa' 'versicolor' 'virginica']\n"
    }
   ]
  },
  {
   "source": [
    "x=iris.data\n",
    "y=iris.target\n",
    "df=pd.DataFrame(x,columns=iris.feature_names)\n",
    "print(df.head())"
   ],
   "metadata": {
    "pycharm": {
     "name": "#%%\n"
    }
   },
   "id": "a994716e-e03e-4f69-bdb3-d2e46761a493",
   "cell_type": "code",
   "execution_count": 65,
   "outputs": [
    {
     "output_type": "stream",
     "name": "stdout",
     "text": "   sepal length (cm)  sepal width (cm)  petal length (cm)  petal width (cm)\n0                5.1               3.5                1.4               0.2\n1                4.9               3.0                1.4               0.2\n2                4.7               3.2                1.3               0.2\n3                4.6               3.1                1.5               0.2\n4                5.0               3.6                1.4               0.2\n"
    }
   ]
  },
  {
   "source": [
    "_ = pd.plotting.scatter_matrix(df, c = y, figsize = [8, 8],                           s=150, marker = 'D')"
   ],
   "metadata": {
    "pycharm": {
     "name": "#%%\n"
    }
   },
   "id": "ad3d1c43-afa3-4c86-ac34-8661fe476fa3",
   "cell_type": "code",
   "execution_count": 66,
   "outputs": [
    {
     "output_type": "display_data",
     "data": {
      "text/plain": "<Figure size 800x800 with 16 Axes>",
      "image/png": "[encoded data removed]"
     },
     "metadata": {}
    }
   ]
  },
  {
   "source": [
    "**Basic EDA of votes dataset**"
   ],
   "metadata": {
    "pycharm": {
     "name": "#%% md\n"
    }
   },
   "id": "f91d2475-0ee4-41db-bd5e-b46d48e1c4b8",
   "cell_type": "markdown"
  },
  {
   "source": [
    "votes.head()"
   ],
   "metadata": {
    "pycharm": {
     "name": "#%%\n"
    }
   },
   "id": "5005bf18-8477-4611-988e-e182dc108f5c",
   "cell_type": "code",
   "execution_count": 67,
   "outputs": [
    {
     "output_type": "execute_result",
     "execution_count": 67,
     "data": {
      "application/com.datacamp.data-table.v1+json": {
       "table": {
        "schema": {
         "fields": [
          {
           "name": "index",
           "type": "integer"
          },
          {
           "name": "party",
           "type": "string"
          },
          {
           "name": "infants",
           "type": "string"
          },
          {
           "name": "water",
           "type": "string"
          },
          {
           "name": "budget",
           "type": "string"
          },
          {
           "name": "physician",
           "type": "string"
          },
          {
           "name": "salvador",
           "type": "string"
          },
          {
           "name": "religious",
           "type": "string"
          },
          {
           "name": "satellite",
           "type": "string"
          },
          {
           "name": "aid",
           "type": "string"
          },
          {
           "name": "missile",
           "type": "string"
          },
          {
           "name": "immigration",
           "type": "string"
          },
          {
           "name": "synfuels",
           "type": "string"
          },
          {
           "name": "education",
           "type": "string"
          },
          {
           "name": "superfund",
           "type": "string"
          },
          {
           "name": "crime",
           "type": "string"
          },
          {
           "name": "duty_free_exports",
           "type": "string"
          },
          {
           "name": "eaa_rsa",
           "type": "string"
          }
         ],
         "primaryKey": [
          "index"
         ],
         "pandas_version": "1.4.0"
        },
        "data": [
         {
          "index": 0,
          "party": "republican",
          "infants": "n",
          "water": "y",
          "budget": "n",
          "physician": "y",
          "salvador": "y",
          "religious": "y",
          "satellite": "n",
          "aid": "n",
          "missile": "n",
          "immigration": "y",
          "synfuels": "?",
          "education": "y",
          "superfund": "y",
          "crime": "y",
          "duty_free_exports": "n",
          "eaa_rsa": "y"
         },
         {
          "index": 1,
          "party": "republican",
          "infants": "n",
          "water": "y",
          "budget": "n",
          "physician": "y",
          "salvador": "y",
          "religious": "y",
          "satellite": "n",
          "aid": "n",
          "missile": "n",
          "immigration": "n",
          "synfuels": "n",
          "education": "y",
          "superfund": "y",
          "crime": "y",
          "duty_free_exports": "n",
          "eaa_rsa": "?"
         },
         {
          "index": 2,
          "party": "democrat",
          "infants": "?",
          "water": "y",
          "budget": "y",
          "physician": "?",
          "salvador": "y",
          "religious": "y",
          "satellite": "n",
          "aid": "n",
          "missile": "n",
          "immigration": "n",
          "synfuels": "y",
          "education": "n",
          "superfund": "y",
          "crime": "y",
          "duty_free_exports": "n",
          "eaa_rsa": "n"
         },
         {
          "index": 3,
          "party": "democrat",
          "infants": "n",
          "water": "y",
          "budget": "y",
          "physician": "n",
          "salvador": "?",
          "religious": "y",
          "satellite": "n",
          "aid": "n",
          "missile": "n",
          "immigration": "n",
          "synfuels": "y",
          "education": "n",
          "superfund": "y",
          "crime": "n",
          "duty_free_exports": "n",
          "eaa_rsa": "y"
         },
         {
          "index": 4,
          "party": "democrat",
          "infants": "y",
          "water": "y",
          "budget": "y",
          "physician": "n",
          "salvador": "y",
          "religious": "y",
          "satellite": "n",
          "aid": "n",
          "missile": "n",
          "immigration": "n",
          "synfuels": "y",
          "education": "?",
          "superfund": "y",
          "crime": "y",
          "duty_free_exports": "y",
          "eaa_rsa": "y"
         }
        ]
       },
       "total_rows": 5,
       "truncation_type": null
      },
      "text/plain": "        party infants water budget physician salvador religious satellite aid  \\\n0  republican       n     y      n         y        y         y         n   n   \n1  republican       n     y      n         y        y         y         n   n   \n2    democrat       ?     y      y         ?        y         y         n   n   \n3    democrat       n     y      y         n        ?         y         n   n   \n4    democrat       y     y      y         n        y         y         n   n   \n\n  missile immigration synfuels education superfund crime duty_free_exports  \\\n0       n           y        ?         y         y     y                 n   \n1       n           n        n         y         y     y                 n   \n2       n           n        y         n         y     y                 n   \n3       n           n        y         n         y     n                 n   \n4       n           n        y         ?         y     y                 y   \n\n  eaa_rsa  \n0       y  \n1       ?  \n2       n  \n3       y  \n4       y  ",
      "text/html": "<div>\n<style scoped>\n    .dataframe tbody tr th:only-of-type {\n        vertical-align: middle;\n    }\n\n    .dataframe tbody tr th {\n        vertical-align: top;\n    }\n\n    .dataframe thead th {\n        text-align: right;\n    }\n</style>\n<table border=\"1\" class=\"dataframe\">\n  <thead>\n    <tr style=\"text-align: right;\">\n      <th></th>\n      <th>party</th>\n      <th>infants</th>\n      <th>water</th>\n      <th>budget</th>\n      <th>physician</th>\n      <th>salvador</th>\n      <th>religious</th>\n      <th>satellite</th>\n      <th>aid</th>\n      <th>missile</th>\n      <th>immigration</th>\n      <th>synfuels</th>\n      <th>education</th>\n      <th>superfund</th>\n      <th>crime</th>\n      <th>duty_free_exports</th>\n      <th>eaa_rsa</th>\n    </tr>\n  </thead>\n  <tbody>\n    <tr>\n      <th>0</th>\n      <td>republican</td>\n      <td>n</td>\n      <td>y</td>\n      <td>n</td>\n      <td>y</td>\n      <td>y</td>\n      <td>y</td>\n      <td>n</td>\n      <td>n</td>\n      <td>n</td>\n      <td>y</td>\n      <td>?</td>\n      <td>y</td>\n      <td>y</td>\n      <td>y</td>\n      <td>n</td>\n      <td>y</td>\n    </tr>\n    <tr>\n      <th>1</th>\n      <td>republican</td>\n      <td>n</td>\n      <td>y</td>\n      <td>n</td>\n      <td>y</td>\n      <td>y</td>\n      <td>y</td>\n      <td>n</td>\n      <td>n</td>\n      <td>n</td>\n      <td>n</td>\n      <td>n</td>\n      <td>y</td>\n      <td>y</td>\n      <td>y</td>\n      <td>n</td>\n      <td>?</td>\n    </tr>\n    <tr>\n      <th>2</th>\n      <td>democrat</td>\n      <td>?</td>\n      <td>y</td>\n      <td>y</td>\n      <td>?</td>\n      <td>y</td>\n      <td>y</td>\n      <td>n</td>\n      <td>n</td>\n      <td>n</td>\n      <td>n</td>\n      <td>y</td>\n      <td>n</td>\n      <td>y</td>\n      <td>y</td>\n      <td>n</td>\n      <td>n</td>\n    </tr>\n    <tr>\n      <th>3</th>\n      <td>democrat</td>\n      <td>n</td>\n      <td>y</td>\n      <td>y</td>\n      <td>n</td>\n      <td>?</td>\n      <td>y</td>\n      <td>n</td>\n      <td>n</td>\n      <td>n</td>\n      <td>n</td>\n      <td>y</td>\n      <td>n</td>\n      <td>y</td>\n      <td>n</td>\n      <td>n</td>\n      <td>y</td>\n    </tr>\n    <tr>\n      <th>4</th>\n      <td>democrat</td>\n      <td>y</td>\n      <td>y</td>\n      <td>y</td>\n      <td>n</td>\n      <td>y</td>\n      <td>y</td>\n      <td>n</td>\n      <td>n</td>\n      <td>n</td>\n      <td>n</td>\n      <td>y</td>\n      <td>?</td>\n      <td>y</td>\n      <td>y</td>\n      <td>y</td>\n      <td>y</td>\n    </tr>\n  </tbody>\n</table>\n</div>"
     },
     "metadata": {}
    }
   ]
  },
  {
   "source": [
    "votes.info()"
   ],
   "metadata": {
    "pycharm": {
     "name": "#%%\n"
    }
   },
   "id": "c5ae711a-a806-45bc-8db0-45faf1bae8fc",
   "cell_type": "code",
   "execution_count": 68,
   "outputs": [
    {
     "output_type": "stream",
     "name": "stdout",
     "text": "<class 'pandas.core.frame.DataFrame'>\nRangeIndex: 435 entries, 0 to 434\nData columns (total 17 columns):\n #   Column             Non-Null Count  Dtype \n---  ------             --------------  ----- \n 0   party              435 non-null    object\n 1   infants            435 non-null    object\n 2   water              435 non-null    object\n 3   budget             435 non-null    object\n 4   physician          435 non-null    object\n 5   salvador           435 non-null    object\n 6   religious          435 non-null    object\n 7   satellite          435 non-null    object\n 8   aid                435 non-null    object\n 9   missile            435 non-null    object\n 10  immigration        435 non-null    object\n 11  synfuels           435 non-null    object\n 12  education          435 non-null    object\n 13  superfund          435 non-null    object\n 14  crime              435 non-null    object\n 15  duty_free_exports  435 non-null    object\n 16  eaa_rsa            435 non-null    object\ndtypes: object(17)\nmemory usage: 57.9+ KB\n"
    }
   ]
  },
  {
   "source": [
    "votes.describe()"
   ],
   "metadata": {
    "pycharm": {
     "name": "#%%\n"
    }
   },
   "id": "5acf5373-c0e2-4711-af65-b7c7d9bd7d5a",
   "cell_type": "code",
   "execution_count": 69,
   "outputs": [
    {
     "output_type": "execute_result",
     "execution_count": 69,
     "data": {
      "application/com.datacamp.data-table.v1+json": {
       "table": {
        "schema": {
         "fields": [
          {
           "name": "index",
           "type": "string"
          },
          {
           "name": "party",
           "type": "string"
          },
          {
           "name": "infants",
           "type": "string"
          },
          {
           "name": "water",
           "type": "string"
          },
          {
           "name": "budget",
           "type": "string"
          },
          {
           "name": "physician",
           "type": "string"
          },
          {
           "name": "salvador",
           "type": "string"
          },
          {
           "name": "religious",
           "type": "string"
          },
          {
           "name": "satellite",
           "type": "string"
          },
          {
           "name": "aid",
           "type": "string"
          },
          {
           "name": "missile",
           "type": "string"
          },
          {
           "name": "immigration",
           "type": "string"
          },
          {
           "name": "synfuels",
           "type": "string"
          },
          {
           "name": "education",
           "type": "string"
          },
          {
           "name": "superfund",
           "type": "string"
          },
          {
           "name": "crime",
           "type": "string"
          },
          {
           "name": "duty_free_exports",
           "type": "string"
          },
          {
           "name": "eaa_rsa",
           "type": "string"
          }
         ],
         "primaryKey": [
          "index"
         ],
         "pandas_version": "1.4.0"
        },
        "data": [
         {
          "index": "count",
          "party": 435,
          "infants": 435,
          "water": 435,
          "budget": 435,
          "physician": 435,
          "salvador": 435,
          "religious": 435,
          "satellite": 435,
          "aid": 435,
          "missile": 435,
          "immigration": 435,
          "synfuels": 435,
          "education": 435,
          "superfund": 435,
          "crime": 435,
          "duty_free_exports": 435,
          "eaa_rsa": 435
         },
         {
          "index": "unique",
          "party": 2,
          "infants": 3,
          "water": 3,
          "budget": 3,
          "physician": 3,
          "salvador": 3,
          "religious": 3,
          "satellite": 3,
          "aid": 3,
          "missile": 3,
          "immigration": 3,
          "synfuels": 3,
          "education": 3,
          "superfund": 3,
          "crime": 3,
          "duty_free_exports": 3,
          "eaa_rsa": 3
         },
         {
          "index": "top",
          "party": "democrat",
          "infants": "n",
          "water": "y",
          "budget": "y",
          "physician": "n",
          "salvador": "y",
          "religious": "y",
          "satellite": "y",
          "aid": "y",
          "missile": "y",
          "immigration": "y",
          "synfuels": "n",
          "education": "n",
          "superfund": "y",
          "crime": "y",
          "duty_free_exports": "n",
          "eaa_rsa": "y"
         },
         {
          "index": "freq",
          "party": 267,
          "infants": 236,
          "water": 195,
          "budget": 253,
          "physician": 247,
          "salvador": 212,
          "religious": 272,
          "satellite": 239,
          "aid": 242,
          "missile": 207,
          "immigration": 216,
          "synfuels": 264,
          "education": 233,
          "superfund": 209,
          "crime": 248,
          "duty_free_exports": 233,
          "eaa_rsa": 269
         }
        ]
       },
       "total_rows": 4,
       "truncation_type": null
      },
      "text/plain": "           party infants water budget physician salvador religious satellite  \\\ncount        435     435   435    435       435      435       435       435   \nunique         2       3     3      3         3        3         3         3   \ntop     democrat       n     y      y         n        y         y         y   \nfreq         267     236   195    253       247      212       272       239   \n\n        aid missile immigration synfuels education superfund crime  \\\ncount   435     435         435      435       435       435   435   \nunique    3       3           3        3         3         3     3   \ntop       y       y           y        n         n         y     y   \nfreq    242     207         216      264       233       209   248   \n\n       duty_free_exports eaa_rsa  \ncount                435     435  \nunique                 3       3  \ntop                    n       y  \nfreq                 233     269  ",
      "text/html": "<div>\n<style scoped>\n    .dataframe tbody tr th:only-of-type {\n        vertical-align: middle;\n    }\n\n    .dataframe tbody tr th {\n        vertical-align: top;\n    }\n\n    .dataframe thead th {\n        text-align: right;\n    }\n</style>\n<table border=\"1\" class=\"dataframe\">\n  <thead>\n    <tr style=\"text-align: right;\">\n      <th></th>\n      <th>party</th>\n      <th>infants</th>\n      <th>water</th>\n      <th>budget</th>\n      <th>physician</th>\n      <th>salvador</th>\n      <th>religious</th>\n      <th>satellite</th>\n      <th>aid</th>\n      <th>missile</th>\n      <th>immigration</th>\n      <th>synfuels</th>\n      <th>education</th>\n      <th>superfund</th>\n      <th>crime</th>\n      <th>duty_free_exports</th>\n      <th>eaa_rsa</th>\n    </tr>\n  </thead>\n  <tbody>\n    <tr>\n      <th>count</th>\n      <td>435</td>\n      <td>435</td>\n      <td>435</td>\n      <td>435</td>\n      <td>435</td>\n      <td>435</td>\n      <td>435</td>\n      <td>435</td>\n      <td>435</td>\n      <td>435</td>\n      <td>435</td>\n      <td>435</td>\n      <td>435</td>\n      <td>435</td>\n      <td>435</td>\n      <td>435</td>\n      <td>435</td>\n    </tr>\n    <tr>\n      <th>unique</th>\n      <td>2</td>\n      <td>3</td>\n      <td>3</td>\n      <td>3</td>\n      <td>3</td>\n      <td>3</td>\n      <td>3</td>\n      <td>3</td>\n      <td>3</td>\n      <td>3</td>\n      <td>3</td>\n      <td>3</td>\n      <td>3</td>\n      <td>3</td>\n      <td>3</td>\n      <td>3</td>\n      <td>3</td>\n    </tr>\n    <tr>\n      <th>top</th>\n      <td>democrat</td>\n      <td>n</td>\n      <td>y</td>\n      <td>y</td>\n      <td>n</td>\n      <td>y</td>\n      <td>y</td>\n      <td>y</td>\n      <td>y</td>\n      <td>y</td>\n      <td>y</td>\n      <td>n</td>\n      <td>n</td>\n      <td>y</td>\n      <td>y</td>\n      <td>n</td>\n      <td>y</td>\n    </tr>\n    <tr>\n      <th>freq</th>\n      <td>267</td>\n      <td>236</td>\n      <td>195</td>\n      <td>253</td>\n      <td>247</td>\n      <td>212</td>\n      <td>272</td>\n      <td>239</td>\n      <td>242</td>\n      <td>207</td>\n      <td>216</td>\n      <td>264</td>\n      <td>233</td>\n      <td>209</td>\n      <td>248</td>\n      <td>233</td>\n      <td>269</td>\n    </tr>\n  </tbody>\n</table>\n</div>"
     },
     "metadata": {}
    }
   ]
  },
  {
   "source": [
    "votes.shape"
   ],
   "metadata": {
    "pycharm": {
     "name": "#%%\n"
    }
   },
   "id": "b22fa6cf-87e2-4ba5-8e6e-9d3f706e8263",
   "cell_type": "code",
   "execution_count": 70,
   "outputs": [
    {
     "output_type": "execute_result",
     "execution_count": 70,
     "data": {
      "text/plain": "(435, 17)"
     },
     "metadata": {}
    }
   ]
  },
  {
   "source": [
    "plt.figure()\n",
    "sns.countplot(x='education', hue='party', data=votes, palette='RdBu')\n",
    "plt.xticks([0,1],['No','Yes'])\n",
    "plt.show()"
   ],
   "metadata": {
    "pycharm": {
     "name": "#%%\n"
    }
   },
   "id": "76181875-9f06-403b-808a-e941aef66f00",
   "cell_type": "code",
   "execution_count": 71,
   "outputs": [
    {
     "output_type": "display_data",
     "data": {
      "text/plain": "<Figure size 640x480 with 1 Axes>",
      "image/png": "[encoded data removed]"
     },
     "metadata": {}
    }
   ]
  },
  {
   "source": [
    "plt.figure()\n",
    "sns.countplot(x='satellite', hue='party', data=votes, palette='RdBu')\n",
    "plt.xticks([0,1], ['No', 'Yes'])\n",
    "plt.show()"
   ],
   "metadata": {
    "pycharm": {
     "name": "#%%\n"
    }
   },
   "id": "6305ce4e-e4ba-42c4-809e-0438e0e09eb8",
   "cell_type": "code",
   "execution_count": 72,
   "outputs": [
    {
     "output_type": "display_data",
     "data": {
      "text/plain": "<Figure size 640x480 with 1 Axes>",
      "image/png": "[encoded data removed]"
     },
     "metadata": {}
    }
   ]
  },
  {
   "source": [
    "plt.figure()\n",
    "sns.countplot(x='missile', hue='party', data=votes, palette='RdBu')\n",
    "plt.xticks([0,1], ['No', 'Yes'])\n",
    "plt.show()"
   ],
   "metadata": {
    "pycharm": {
     "name": "#%%\n"
    }
   },
   "id": "092709fc-39a5-4ff8-a44c-950e733c095f",
   "cell_type": "code",
   "execution_count": 73,
   "outputs": [
    {
     "output_type": "display_data",
     "data": {
      "text/plain": "<Figure size 640x480 with 1 Axes>",
      "image/png": "[encoded data removed]"
     },
     "metadata": {}
    }
   ]
  },
  {
   "source": [
    "**Using scikit-learn to fit classifier for IRIS data to fit a classifier**"
   ],
   "metadata": {
    "pycharm": {
     "name": "#%% md\n"
    }
   },
   "id": "2ae668df-30f7-4936-8046-aabfa07253d3",
   "cell_type": "markdown"
  },
  {
   "source": [
    "from sklearn.neighbors import KNeighborsClassifier\n",
    "knn=KNeighborsClassifier(n_neighbors=6)\n",
    "knn.fit(iris['data'],iris['target'])"
   ],
   "metadata": {
    "pycharm": {
     "name": "#%%\n"
    }
   },
   "id": "3725cd14-0589-4410-8141-459854f7ef7f",
   "cell_type": "code",
   "execution_count": 74,
   "outputs": [
    {
     "output_type": "execute_result",
     "execution_count": 74,
     "data": {
      "text/plain": "KNeighborsClassifier(n_neighbors=6)",
      "text/html": "<style>#sk-container-id-3 {color: black;background-color: white;}#sk-container-id-3 pre{padding: 0;}#sk-container-id-3 div.sk-toggleable {background-color: white;}#sk-container-id-3 label.sk-toggleable__label {cursor: pointer;display: block;width: 100%;margin-bottom: 0;padding: 0.3em;box-sizing: border-box;text-align: center;}#sk-container-id-3 label.sk-toggleable__label-arrow:before {content: \"▸\";float: left;margin-right: 0.25em;color: #696969;}#sk-container-id-3 label.sk-toggleable__label-arrow:hover:before {color: black;}#sk-container-id-3 div.sk-estimator:hover label.sk-toggleable__label-arrow:before {color: black;}#sk-container-id-3 div.sk-toggleable__content {max-height: 0;max-width: 0;overflow: hidden;text-align: left;background-color: #f0f8ff;}#sk-container-id-3 div.sk-toggleable__content pre {margin: 0.2em;color: black;border-radius: 0.25em;background-color: #f0f8ff;}#sk-container-id-3 input.sk-toggleable__control:checked~div.sk-toggleable__content {max-height: 200px;max-width: 100%;overflow: auto;}#sk-container-id-3 input.sk-toggleable__control:checked~label.sk-toggleable__label-arrow:before {content: \"▾\";}#sk-container-id-3 div.sk-estimator input.sk-toggleable__control:checked~label.sk-toggleable__label {background-color: #d4ebff;}#sk-container-id-3 div.sk-label input.sk-toggleable__control:checked~label.sk-toggleable__label {background-color: #d4ebff;}#sk-container-id-3 input.sk-hidden--visually {border: 0;clip: rect(1px 1px 1px 1px);clip: rect(1px, 1px, 1px, 1px);height: 1px;margin: -1px;overflow: hidden;padding: 0;position: absolute;width: 1px;}#sk-container-id-3 div.sk-estimator {font-family: monospace;background-color: #f0f8ff;border: 1px dotted black;border-radius: 0.25em;box-sizing: border-box;margin-bottom: 0.5em;}#sk-container-id-3 div.sk-estimator:hover {background-color: #d4ebff;}#sk-container-id-3 div.sk-parallel-item::after {content: \"\";width: 100%;border-bottom: 1px solid gray;flex-grow: 1;}#sk-container-id-3 div.sk-label:hover label.sk-toggleable__label {background-color: #d4ebff;}#sk-container-id-3 div.sk-serial::before {content: \"\";position: absolute;border-left: 1px solid gray;box-sizing: border-box;top: 0;bottom: 0;left: 50%;z-index: 0;}#sk-container-id-3 div.sk-serial {display: flex;flex-direction: column;align-items: center;background-color: white;padding-right: 0.2em;padding-left: 0.2em;position: relative;}#sk-container-id-3 div.sk-item {position: relative;z-index: 1;}#sk-container-id-3 div.sk-parallel {display: flex;align-items: stretch;justify-content: center;background-color: white;position: relative;}#sk-container-id-3 div.sk-item::before, #sk-container-id-3 div.sk-parallel-item::before {content: \"\";position: absolute;border-left: 1px solid gray;box-sizing: border-box;top: 0;bottom: 0;left: 50%;z-index: -1;}#sk-container-id-3 div.sk-parallel-item {display: flex;flex-direction: column;z-index: 1;position: relative;background-color: white;}#sk-container-id-3 div.sk-parallel-item:first-child::after {align-self: flex-end;width: 50%;}#sk-container-id-3 div.sk-parallel-item:last-child::after {align-self: flex-start;width: 50%;}#sk-container-id-3 div.sk-parallel-item:only-child::after {width: 0;}#sk-container-id-3 div.sk-dashed-wrapped {border: 1px dashed gray;margin: 0 0.4em 0.5em 0.4em;box-sizing: border-box;padding-bottom: 0.4em;background-color: white;}#sk-container-id-3 div.sk-label label {font-family: monospace;font-weight: bold;display: inline-block;line-height: 1.2em;}#sk-container-id-3 div.sk-label-container {text-align: center;}#sk-container-id-3 div.sk-container {/* jupyter's `normalize.less` sets `[hidden] { display: none; }` but bootstrap.min.css set `[hidden] { display: none !important; }` so we also need the `!important` here to be able to override the default hidden behavior on the sphinx rendered scikit-learn.org. See: https://github.com/scikit-learn/scikit-learn/issues/21755 */display: inline-block !important;position: relative;}#sk-container-id-3 div.sk-text-repr-fallback {display: none;}</style><div id=\"sk-container-id-3\" class=\"sk-top-container\"><div class=\"sk-text-repr-fallback\"><pre>KNeighborsClassifier(n_neighbors=6)</pre><b>In a Jupyter environment, please rerun this cell to show the HTML representation or trust the notebook. <br />On GitHub, the HTML representation is unable to render, please try loading this page with nbviewer.org.</b></div><div class=\"sk-container\" hidden><div class=\"sk-item\"><div class=\"sk-estimator sk-toggleable\"><input class=\"sk-toggleable__control sk-hidden--visually\" id=\"sk-estimator-id-3\" type=\"checkbox\" checked><label for=\"sk-estimator-id-3\" class=\"sk-toggleable__label sk-toggleable__label-arrow\">KNeighborsClassifier</label><div class=\"sk-toggleable__content\"><pre>KNeighborsClassifier(n_neighbors=6)</pre></div></div></div></div></div>"
     },
     "metadata": {}
    }
   ]
  },
  {
   "source": [
    "print(iris['data'].shape)\n",
    "print(iris['target'].shape)"
   ],
   "metadata": {
    "pycharm": {
     "name": "#%%\n"
    }
   },
   "id": "3d9a3c7b-752a-4248-b64b-b8a7280b267a",
   "cell_type": "code",
   "execution_count": 75,
   "outputs": [
    {
     "output_type": "stream",
     "name": "stdout",
     "text": "(150, 4)\n(150,)\n"
    }
   ]
  },
  {
   "source": [
    "**Predicting on unlabeled data**"
   ],
   "metadata": {
    "pycharm": {
     "name": "#%% md\n"
    }
   },
   "id": "0fdf4d56-841c-4a64-83ca-0591004c0e30",
   "cell_type": "markdown"
  },
  {
   "source": [
    "X_new = np.array([[5.6, 2.8, 3.9, 1.1],\n",
    "[5.7, 2.6, 3.8, 1.3],\n",
    "[4.7, 3.2, 1.3, 0.2]])\n",
    "\n",
    "prediction = knn.predict(X_new)\n",
    "X_new.shape"
   ],
   "metadata": {
    "pycharm": {
     "name": "#%%\n"
    }
   },
   "id": "b7f144c5-6c06-4604-8afd-58d9d027766e",
   "cell_type": "code",
   "execution_count": 76,
   "outputs": [
    {
     "output_type": "execute_result",
     "execution_count": 76,
     "data": {
      "text/plain": "(3, 4)"
     },
     "metadata": {}
    }
   ]
  },
  {
   "source": [
    "print('Prediction: {}'.format(prediction))"
   ],
   "metadata": {
    "pycharm": {
     "name": "#%%\n"
    }
   },
   "id": "7c4e8362-0db4-4c66-8fc3-f351988d974d",
   "cell_type": "code",
   "execution_count": 77,
   "outputs": [
    {
     "output_type": "stream",
     "name": "stdout",
     "text": "Prediction: [1 1 0]\n"
    }
   ]
  },
  {
   "source": [
    "Here above it predicts one which relates to 'versicolor' for first two observation & 0 which relates to 'setosa' for the third observation as shown below"
   ],
   "metadata": {
    "pycharm": {
     "name": "#%% md\n"
    }
   },
   "id": "3f7778df-eeb6-4848-a20b-e4c55dcacdd0",
   "cell_type": "markdown"
  },
  {
   "source": [
    "print(iris.target_names)"
   ],
   "metadata": {
    "pycharm": {
     "name": "#%%\n"
    }
   },
   "id": "eea9c30b-cfda-40d6-ad86-a648e3e1b1f3",
   "cell_type": "code",
   "execution_count": 78,
   "outputs": [
    {
     "output_type": "stream",
     "name": "stdout",
     "text": "['setosa' 'versicolor' 'virginica']\n"
    }
   ]
  },
  {
   "source": [
    "**k-Nearest Neighbors: Fit**\n",
    "\n",
    "Now that you have explored the Congressional voting records dataset, it is time to build your first classifier. You will fit a k-Nearest Neighbors classifier to the voting dataset, which has once again been loaded into a DataFrame.\n",
    "\n",
    "Hugo discussed the importance of making sure your data conforms to the scikit-learn API format. It is necessary to place the features in an array where each column represents a feature and each row represents an observation or data point - in this case, a Congressman's voting record. The target column must have the same number of observations as the feature data. This exercise has done this for you. Notice we named the feature array X and response variable y: This is in accordance with the common scikit-learn practice.\n",
    "\n",
    "By specifying the n_neighbors parameter, you need to create a k-NN classifier with 6 neighbors and then fit it to the data"
   ],
   "metadata": {
    "pycharm": {
     "name": "#%% md\n"
    }
   },
   "id": "0c283a6c-03b3-4af0-9c04-80bd147d64cf",
   "cell_type": "markdown"
  },
  {
   "source": [
    "# Create arrays for the features and the response variable\n",
    "#Here I need to load tranformed / cleaned data for votes which replace 'n' with 0 and 'y' with 1\n",
    "df_votes = pd.read_csv(\"datasets/votes-ch1.csv\")\n",
    "y = df_votes['party'].values\n",
    "X = df_votes.drop('party', axis=1).values\n",
    "\n",
    "# Create a k-NN classifier with 6 neighbors\n",
    "knn = KNeighborsClassifier(n_neighbors=6)\n",
    "\n",
    "# Fit the classifier to the data\n",
    "knn.fit(X,y)"
   ],
   "metadata": {
    "pycharm": {
     "name": "#%%\n"
    }
   },
   "id": "7f32fdf5-4339-42c7-8247-7224e4bc6af4",
   "cell_type": "code",
   "execution_count": 79,
   "outputs": [
    {
     "output_type": "execute_result",
     "execution_count": 79,
     "data": {
      "text/plain": "KNeighborsClassifier(n_neighbors=6)",
      "text/html": "<style>#sk-container-id-4 {color: black;background-color: white;}#sk-container-id-4 pre{padding: 0;}#sk-container-id-4 div.sk-toggleable {background-color: white;}#sk-container-id-4 label.sk-toggleable__label {cursor: pointer;display: block;width: 100%;margin-bottom: 0;padding: 0.3em;box-sizing: border-box;text-align: center;}#sk-container-id-4 label.sk-toggleable__label-arrow:before {content: \"▸\";float: left;margin-right: 0.25em;color: #696969;}#sk-container-id-4 label.sk-toggleable__label-arrow:hover:before {color: black;}#sk-container-id-4 div.sk-estimator:hover label.sk-toggleable__label-arrow:before {color: black;}#sk-container-id-4 div.sk-toggleable__content {max-height: 0;max-width: 0;overflow: hidden;text-align: left;background-color: #f0f8ff;}#sk-container-id-4 div.sk-toggleable__content pre {margin: 0.2em;color: black;border-radius: 0.25em;background-color: #f0f8ff;}#sk-container-id-4 input.sk-toggleable__control:checked~div.sk-toggleable__content {max-height: 200px;max-width: 100%;overflow: auto;}#sk-container-id-4 input.sk-toggleable__control:checked~label.sk-toggleable__label-arrow:before {content: \"▾\";}#sk-container-id-4 div.sk-estimator input.sk-toggleable__control:checked~label.sk-toggleable__label {background-color: #d4ebff;}#sk-container-id-4 div.sk-label input.sk-toggleable__control:checked~label.sk-toggleable__label {background-color: #d4ebff;}#sk-container-id-4 input.sk-hidden--visually {border: 0;clip: rect(1px 1px 1px 1px);clip: rect(1px, 1px, 1px, 1px);height: 1px;margin: -1px;overflow: hidden;padding: 0;position: absolute;width: 1px;}#sk-container-id-4 div.sk-estimator {font-family: monospace;background-color: #f0f8ff;border: 1px dotted black;border-radius: 0.25em;box-sizing: border-box;margin-bottom: 0.5em;}#sk-container-id-4 div.sk-estimator:hover {background-color: #d4ebff;}#sk-container-id-4 div.sk-parallel-item::after {content: \"\";width: 100%;border-bottom: 1px solid gray;flex-grow: 1;}#sk-container-id-4 div.sk-label:hover label.sk-toggleable__label {background-color: #d4ebff;}#sk-container-id-4 div.sk-serial::before {content: \"\";position: absolute;border-left: 1px solid gray;box-sizing: border-box;top: 0;bottom: 0;left: 50%;z-index: 0;}#sk-container-id-4 div.sk-serial {display: flex;flex-direction: column;align-items: center;background-color: white;padding-right: 0.2em;padding-left: 0.2em;position: relative;}#sk-container-id-4 div.sk-item {position: relative;z-index: 1;}#sk-container-id-4 div.sk-parallel {display: flex;align-items: stretch;justify-content: center;background-color: white;position: relative;}#sk-container-id-4 div.sk-item::before, #sk-container-id-4 div.sk-parallel-item::before {content: \"\";position: absolute;border-left: 1px solid gray;box-sizing: border-box;top: 0;bottom: 0;left: 50%;z-index: -1;}#sk-container-id-4 div.sk-parallel-item {display: flex;flex-direction: column;z-index: 1;position: relative;background-color: white;}#sk-container-id-4 div.sk-parallel-item:first-child::after {align-self: flex-end;width: 50%;}#sk-container-id-4 div.sk-parallel-item:last-child::after {align-self: flex-start;width: 50%;}#sk-container-id-4 div.sk-parallel-item:only-child::after {width: 0;}#sk-container-id-4 div.sk-dashed-wrapped {border: 1px dashed gray;margin: 0 0.4em 0.5em 0.4em;box-sizing: border-box;padding-bottom: 0.4em;background-color: white;}#sk-container-id-4 div.sk-label label {font-family: monospace;font-weight: bold;display: inline-block;line-height: 1.2em;}#sk-container-id-4 div.sk-label-container {text-align: center;}#sk-container-id-4 div.sk-container {/* jupyter's `normalize.less` sets `[hidden] { display: none; }` but bootstrap.min.css set `[hidden] { display: none !important; }` so we also need the `!important` here to be able to override the default hidden behavior on the sphinx rendered scikit-learn.org. See: https://github.com/scikit-learn/scikit-learn/issues/21755 */display: inline-block !important;position: relative;}#sk-container-id-4 div.sk-text-repr-fallback {display: none;}</style><div id=\"sk-container-id-4\" class=\"sk-top-container\"><div class=\"sk-text-repr-fallback\"><pre>KNeighborsClassifier(n_neighbors=6)</pre><b>In a Jupyter environment, please rerun this cell to show the HTML representation or trust the notebook. <br />On GitHub, the HTML representation is unable to render, please try loading this page with nbviewer.org.</b></div><div class=\"sk-container\" hidden><div class=\"sk-item\"><div class=\"sk-estimator sk-toggleable\"><input class=\"sk-toggleable__control sk-hidden--visually\" id=\"sk-estimator-id-4\" type=\"checkbox\" checked><label for=\"sk-estimator-id-4\" class=\"sk-toggleable__label sk-toggleable__label-arrow\">KNeighborsClassifier</label><div class=\"sk-toggleable__content\"><pre>KNeighborsClassifier(n_neighbors=6)</pre></div></div></div></div></div>"
     },
     "metadata": {}
    }
   ]
  },
  {
   "source": [
    "Now that as above shows our k-NN classifier with 6 neighbors has been fit to the data, it can be used to predict the labels of new data points."
   ],
   "metadata": {
    "pycharm": {
     "name": "#%% md\n"
    }
   },
   "id": "824e353b-2a8c-4d40-9249-a6564fa84224",
   "cell_type": "markdown"
  },
  {
   "source": [
    "**Predict k-nearest neighbors**\n",
    "\n",
    "Once we have fitted a k-NN classifier, we can use it to predict a new data point's label. Due to the fact that all the data was used to fit the model, there are no unlabeled data available! In some cases, we can still use the .predict() method on the X that was used to fit the model, but it is not a good indicator of the model's ability to generalize to new data sets.\n",
    "\n",
    "Hugo will discuss a solution to this problem in the next video. For now, an unlabeled random data point has been generated and is available to you as X_new. As well as using the training data X, we will use your classifier to predict the label for this new data point. If you use .predict() on X_new, we will generate one prediction, but if you we it on X, we will generate 435 predictions: one for each sample.\n",
    "\n",
    "The DataFrame has been pre-loaded as df. You will create the feature array X and target variable array Y yourself this time. DataFrame df has been pre-loaded with the data."
   ],
   "metadata": {
    "pycharm": {
     "name": "#%% md\n"
    }
   },
   "id": "c330d294-8832-401a-905f-0cd566a813a9",
   "cell_type": "markdown"
  },
  {
   "source": [
    "X_new = pd.DataFrame((np.random.rand(1,16)))\n",
    "\n",
    "# Predict the labels for the training data X\n",
    "y_pred = knn.predict(X)\n",
    "\n",
    "# Predict and print the label for the new data point X_new\n",
    "new_prediction = knn.predict(X_new)\n",
    "print(\"Prediction: {}\".format(new_prediction))"
   ],
   "metadata": {
    "pycharm": {
     "name": "#%%\n"
    }
   },
   "id": "1e9abac4-b251-46b0-ade0-96b414c64133",
   "cell_type": "code",
   "execution_count": 80,
   "outputs": [
    {
     "output_type": "stream",
     "name": "stdout",
     "text": "Prediction: ['democrat']\n"
    }
   ]
  },
  {
   "source": [
    "Our model predict 'democrat' or 'republican'? How sure can you be of its predictions? In other words, how can you measure its performance? This is what you will learn in below"
   ],
   "metadata": {
    "pycharm": {
     "name": "#%% md\n"
    }
   },
   "id": "d1bba06a-03f6-44c8-9452-12eddd8eab0a",
   "cell_type": "markdown"
  },
  {
   "source": [
    "**The digits recognition dataset**\n",
    "\n",
    "Up until now, you have been performing binary classification, since the target variable had two possible outcomes. Hugo, however, got to perform multi-class classification in the videos, where the target variable could take on three possible outcomes. Why does he get to have all the fun?! In the following exercises, you'll be working with the [MNIST](http://yann.lecun.com/exdb/mnist/) digits recognition dataset, which has 10 classes, the digits 0 through 9! A reduced version of the MNIST dataset is one of scikit-learn's included datasets, and that is the one we will use in this exercise.\n",
    "\n",
    "Each sample in this scikit-learn dataset is an 8x8 image representing a handwritten digit. Each pixel is represented by an integer in the range 0 to 16, indicating varying levels of black. Recall that scikit-learn's built-in datasets are of type Bunch, which are dictionary-like objects. Helpfully for the MNIST dataset, scikit-learn provides an 'images' key in addition to the 'data' and 'target' keys that you have seen with the Iris data. Because it is a 2D array of the images corresponding to each sample, this 'images' key is useful for visualizing the images, as you'll see in this exercise (for more on plotting 2D arrays, see [Chapter 2](https://www.datacamp.com/courses/introduction-to-data-visualization-with-python) of DataCamp's course on Data Visualization with Python). On the other hand, the 'data' key contains the feature array - that is, the images as a flattened array of 64 pixels.\n",
    "\n",
    "Notice that you can access the keys of these Bunch objects in two different ways: By using the . notation, as in digits.images, or the [] notation, as in digits['images'].\n",
    "\n",
    "For more on the MNIST data, check out [this exercise](https://campus.datacamp.com/courses/importing-data-in-python-part-1/introduction-and-flat-files-1?ex=10) in Part 1 of DataCamp's Importing Data in Python course. There, the full version of the MNIST dataset is used, in which the images are 28x28. It is a famous dataset in machine learning and computer vision, and frequently used as a benchmark to evaluate the performance of a new model."
   ],
   "metadata": {
    "pycharm": {
     "name": "#%% md\n"
    }
   },
   "id": "64b28e63-feee-40ae-82bf-af22b7996b9a",
   "cell_type": "markdown"
  },
  {
   "source": [
    "# Import necessary modules\n",
    "from sklearn import datasets\n",
    "import matplotlib.pyplot as plt\n",
    "\n",
    "# Load the digits dataset: digits\n",
    "digits = datasets.load_digits()\n",
    "\n",
    "# Print the keys and DESCR of the dataset\n",
    "print(digits.keys())\n",
    "print(digits['DESCR'])\n",
    "\n",
    "# Print the shape of the images and data keys\n",
    "print(digits.images.shape)\n",
    "print(digits.data.shape)\n",
    "\n",
    "# Display digit 1010\n",
    "plt.imshow(digits.images[1010], cmap=plt.cm.gray_r, interpolation='nearest')\n",
    "plt.show()"
   ],
   "metadata": {
    "pycharm": {
     "name": "#%%\n"
    }
   },
   "id": "202d2e9b-5631-4548-bfed-7713690bbbed",
   "cell_type": "code",
   "execution_count": 81,
   "outputs": [
    {
     "output_type": "stream",
     "name": "stdout",
     "text": "dict_keys(['data', 'target', 'frame', 'feature_names', 'target_names', 'images', 'DESCR'])\n.. _digits_dataset:\n\nOptical recognition of handwritten digits dataset\n--------------------------------------------------\n\n**Data Set Characteristics:**\n\n    :Number of Instances: 1797\n    :Number of Attributes: 64\n    :Attribute Information: 8x8 image of integer pixels in the range 0..16.\n    :Missing Attribute Values: None\n    :Creator: E. Alpaydin (alpaydin '@' boun.edu.tr)\n    :Date: July; 1998\n\nThis is a copy of the test set of the UCI ML hand-written digits datasets\nhttps://archive.ics.uci.edu/ml/datasets/Optical+Recognition+of+Handwritten+Digits\n\nThe data set contains images of hand-written digits: 10 classes where\neach class refers to a digit.\n\nPreprocessing programs made available by NIST were used to extract\nnormalized bitmaps of handwritten digits from a preprinted form. From a\ntotal of 43 people, 30 contributed to the training set and different 13\nto the test set. 32x32 bitmaps are divided into nonoverlapping blocks of\n4x4 and the number of on pixels are counted in each block. This generates\nan input matrix of 8x8 where each element is an integer in the range\n0..16. This reduces dimensionality and gives invariance to small\ndistortions.\n\nFor info on NIST preprocessing routines, see M. D. Garris, J. L. Blue, G.\nT. Candela, D. L. Dimmick, J. Geist, P. J. Grother, S. A. Janet, and C.\nL. Wilson, NIST Form-Based Handprint Recognition System, NISTIR 5469,\n1994.\n\n.. topic:: References\n\n  - C. Kaynak (1995) Methods of Combining Multiple Classifiers and Their\n    Applications to Handwritten Digit Recognition, MSc Thesis, Institute of\n    Graduate Studies in Science and Engineering, Bogazici University.\n  - E. Alpaydin, C. Kaynak (1998) Cascading Classifiers, Kybernetika.\n  - Ken Tang and Ponnuthurai N. Suganthan and Xi Yao and A. Kai Qin.\n    Linear dimensionalityreduction using relevance weighted LDA. School of\n    Electrical and Electronic Engineering Nanyang Technological University.\n    2005.\n  - Claudio Gentile. A New Approximate Maximal Margin Classification\n    Algorithm. NIPS. 2000.\n\n(1797, 8, 8)\n(1797, 64)\n"
    },
    {
     "output_type": "display_data",
     "data": {
      "text/plain": "<Figure size 640x480 with 1 Axes>",
      "image/png": "[encoded data removed]"
     },
     "metadata": {}
    }
   ]
  },
  {
   "source": [
    "Above It looks like the image in question corresponds to the digit '5'. Now, can we build a classifier that can make this prediction not only for this image, but for all the other ones in the dataset? we'll do so in the next exercise!"
   ],
   "metadata": {
    "pycharm": {
     "name": "#%% md\n"
    }
   },
   "id": "c31d9d1a-5d54-4367-b8d2-4700fd5eddea",
   "cell_type": "markdown"
  },
  {
   "source": [
    "**Train/Test Split + Fit/Predict/Accuracy**\n",
    "\n",
    "\n",
    "Now that we know why it's important to separate your data into training and test sets, let's practice on the digits dataset! Arrays for the features and target variable will be divided into training and test sets, and a k-NN classifier will be fitted to the training data and its accuracy will be calculated using .score()."
   ],
   "metadata": {
    "pycharm": {
     "name": "#%% md\n"
    }
   },
   "id": "0d734a65-61f5-4f58-a39d-7f4d2998e20d",
   "cell_type": "markdown"
  },
  {
   "source": [
    "# Import necessary modules\n",
    "from sklearn.neighbors import KNeighborsClassifier\n",
    "from sklearn.model_selection import train_test_split\n",
    "\n",
    "# Create feature and target arrays\n",
    "X = digits.data\n",
    "y = digits.target\n",
    "\n",
    "# Split into training and test set\n",
    "X_train, X_test, y_train, y_test = train_test_split(X, y, test_size = 0.2, random_state=42, stratify=y)\n",
    "\n",
    "# Create a k-NN classifier with 7 neighbors: knn\n",
    "knn = KNeighborsClassifier(n_neighbors=7)\n",
    "\n",
    "# Fit the classifier to the training data\n",
    "knn.fit(X_train,y_train)\n",
    "\n",
    "# Print the accuracy\n",
    "print(knn.score(X_test, y_test))\n"
   ],
   "metadata": {
    "pycharm": {
     "name": "#%%\n"
    }
   },
   "id": "b3cb48cd-e265-4325-89e6-e5b50d6ffd69",
   "cell_type": "code",
   "execution_count": 82,
   "outputs": [
    {
     "output_type": "stream",
     "name": "stdout",
     "text": "0.9833333333333333\n"
    }
   ]
  },
  {
   "source": [
    "Incredibly, this out of the box k-NN classifier with 7 neighbors has learned from the training data and predicted the labels of the images in the test set with 98% accuracy, and it did so in less than a second! This is one illustration of how incredibly useful machine learning techniques can be"
   ],
   "metadata": {
    "pycharm": {
     "name": "#%% md\n"
    }
   },
   "id": "66b24016-29b7-4c27-a742-ec189b74ecd9",
   "cell_type": "markdown"
  },
  {
   "source": [
    "# Setup arrays to store train and test accuracies\n",
    "neighbors = np.arange(1, 9)\n",
    "train_accuracy = np.empty(len(neighbors))\n",
    "test_accuracy = np.empty(len(neighbors))\n",
    "\n",
    "# Loop over different values of k\n",
    "for i, k in enumerate(neighbors):\n",
    "    # Setup a k-NN Classifier with k neighbors: knn\n",
    "    knn = KNeighborsClassifier(n_neighbors=k)\n",
    "\n",
    "    # Fit the classifier to the training data\n",
    "    knn.fit(X_train,y_train)\n",
    "    \n",
    "    #Compute accuracy on the training set\n",
    "    train_accuracy[i] = knn.score(X_train,y_train)\n",
    "\n",
    "    #Compute accuracy on the testing set\n",
    "    test_accuracy[i] = knn.score(X_test, y_test)\n",
    "\n",
    "# Generate plot\n",
    "plt.title('k-NN: Varying Number of Neighbors')\n",
    "plt.plot(neighbors, test_accuracy, label = 'Testing Accuracy')\n",
    "plt.plot(neighbors, train_accuracy, label = 'Training Accuracy')\n",
    "plt.legend()\n",
    "plt.xlabel('Number of Neighbors')\n",
    "plt.ylabel('Accuracy')\n",
    "plt.show()\n"
   ],
   "metadata": {
    "pycharm": {
     "name": "#%%\n"
    }
   },
   "id": "8fb43070-dc24-4580-a31c-3f6ca20a0a6b",
   "cell_type": "code",
   "execution_count": 83,
   "outputs": [
    {
     "output_type": "display_data",
     "data": {
      "text/plain": "<Figure size 640x480 with 1 Axes>",
      "image/png": "[encoded data removed]"
     },
     "metadata": {}
    }
   ]
  },
  {
   "source": [
    "It looks like the test accuracy is highest when using 3 and 5 neighbors. Using 8 neighbors or more seems to result in a simple model that underfits the data"
   ],
   "metadata": {
    "pycharm": {
     "name": "#%% md\n"
    }
   },
   "id": "a2adb024-c037-4a34-86c3-3b0dc212c037",
   "cell_type": "markdown"
  },
  {
   "source": [
    "**Data import for supervised learning**\n",
    "\n",
    "The data from Gapminder has been consolidated into a single CSV file called 'gapminder.csv' in the workspace. Based on features such as a country's GDP, fertility rate, and population, you will use this data to predict life expectancy in that country. The dataset has been preprocessed as in Chapter 1.\n",
    "\n",
    "The target variable here is quantitative, so this is a regression problem. First, you will fit a linear regression with one feature: 'fertility', which is the average number of children a woman gives birth to in a given country. Regression models will be built using all the features in later exercises.\n",
    "\n",
    "First, you must import the data and prepare it for scikit-learn. Feature and target variable arrays must be created. Additionally, since you will only use one feature to begin with, you'll need to reshape it using NumPy's .reshape() method."
   ],
   "metadata": {
    "pycharm": {
     "name": "#%% md\n"
    }
   },
   "id": "756ee6f0-1955-46cf-bd58-525d0598c366",
   "cell_type": "markdown"
  },
  {
   "source": [
    "import numpy as np\n",
    "import pandas as pd\n",
    "import seaborn as sns"
   ],
   "metadata": {
    "pycharm": {
     "name": "#%%\n"
    }
   },
   "id": "c08de835-aaeb-474d-9889-ccc3964a4bc1",
   "cell_type": "code",
   "execution_count": 84,
   "outputs": []
  },
  {
   "source": [
    "# Read the CSV file into a DataFrame: df\n",
    "df = pd.read_csv('datasets/gm_2008_region.csv')\n",
    "\n",
    "# Create arrays for features and target variable\n",
    "y = df['life'].values\n",
    "X = df['fertility'].values\n",
    "\n",
    "# Print the dimensions of y and X before reshaping\n",
    "print(\"Dimensions of y before reshaping: \", y.shape)\n",
    "print(\"Dimensions of X before reshaping: \", X.shape)\n",
    "\n",
    "# Reshape X and y\n",
    "y_reshaped = y.reshape(-1,1)\n",
    "X_reshaped = X.reshape(-1,1)\n",
    "\n",
    "# Print the dimensions of y_reshaped and X_reshaped\n",
    "print(\"Dimensions of y after reshaping: \", y_reshaped.shape)\n",
    "print(\"Dimensions of X after reshaping: \", X_reshaped.shape)"
   ],
   "metadata": {
    "pycharm": {
     "name": "#%%\n"
    }
   },
   "id": "d076ffb7-dea4-438c-a30f-de615fe2fe8b",
   "cell_type": "code",
   "execution_count": 85,
   "outputs": [
    {
     "output_type": "stream",
     "name": "stdout",
     "text": "Dimensions of y before reshaping:  (139,)\nDimensions of X before reshaping:  (139,)\nDimensions of y after reshaping:  (139, 1)\nDimensions of X after reshaping:  (139, 1)\n"
    }
   ]
  },
  {
   "source": [
    "sns.heatmap(df.corr(),square=True,cmap='RdYlGn')"
   ],
   "metadata": {
    "pycharm": {
     "name": "#%%\n"
    }
   },
   "id": "e7a2bc52-f04a-4beb-91ac-bd36dade13f9",
   "cell_type": "code",
   "execution_count": 86,
   "outputs": [
    {
     "output_type": "execute_result",
     "execution_count": 86,
     "data": {
      "text/plain": "<AxesSubplot:>"
     },
     "metadata": {}
    },
    {
     "output_type": "display_data",
     "data": {
      "text/plain": "<Figure size 640x480 with 2 Axes>",
      "image/png": "[encoded data removed]"
     },
     "metadata": {}
    }
   ]
  },
  {
   "source": [
    "![](linearRegression.png)"
   ],
   "metadata": {
    "pycharm": {
     "name": "#%% md\n"
    }
   },
   "id": "96022915-5623-4ae5-848c-ea8dc6b6e8ed",
   "cell_type": "markdown"
  },
  {
   "source": [
    "**Fit & predict for regression**\n",
    "\n",
    "Now, you will fit a linear regression and predict life expectancy using just one feature. You saw Andy do this earlier using the 'RM' feature of the Boston housing dataset. In this exercise, you will use the 'fertility' feature of the Gapminder dataset. Since the goal is to predict life expectancy, the target variable here is 'life'. The array for the target variable has been pre-loaded as y and the array for 'fertility' has been pre-loaded as X_fertility.\n",
    "\n",
    "A scatter plot with 'fertility' on the x-axis and 'life' on the y-axis has been generated. As you can see, there is a strongly negative correlation, so a linear regression should be able to capture this trend. Your job is to fit a linear regression and then predict the life expectancy, overlaying these predicted values on the plot to generate a regression line. You will also compute and print the\n",
    "score using scikit-learn's .score() method."
   ],
   "metadata": {
    "pycharm": {
     "name": "#%% md\n"
    }
   },
   "id": "e4cc8077-979d-4c6f-b8e6-497cccf62400",
   "cell_type": "markdown"
  },
  {
   "source": [
    "import matplotlib.pyplot as plt\n",
    "plt.style.use('ggplot')\n",
    "\n",
    "#This need to be imported because its is cleaned and processed data\n",
    "df=pd.read_csv(\"gapminder-clean.csv\")\n",
    "\n",
    "y=df['life'].values\n",
    "X=df.drop('life',axis=1)\n",
    "\n",
    "#reshape to 1-D\n",
    "y=y.reshape(-1,1)\n",
    "X_fertility=X['fertility'].values.reshape(-1,1)\n",
    "\n",
    "_ = plt.scatter(X['fertility'],y,color='blue')\n",
    "_=plt.ylabel('Life Expectancy')\n",
    "_=plt.xlabel('Fertility')\n",
    "\n",
    "# Import LinearRegression\n",
    "from sklearn.linear_model import LinearRegression\n",
    "\n",
    "# Create the regression\n",
    "reg=LinearRegression()\n",
    "\n",
    "# Create the prediction space\n",
    "prediction_space = np.linspace(min(X_fertility),max(X_fertility)).reshape(-1,1)\n",
    "\n",
    "# Fit model to the data\n",
    "reg.fit(X_fertility,y)\n",
    "\n",
    "# Compute predictions over the prediction space: y_pred\n",
    "y_pred = reg.predict(prediction_space)\n",
    "\n",
    "# print R^2\n",
    "print(reg.score(X_fertility,y))\n",
    "\n",
    "# plot regression line\n",
    "plt.plot(prediction_space,y_pred, color='black',linewidth=3)\n",
    "plt.show()"
   ],
   "metadata": {
    "pycharm": {
     "name": "#%%\n"
    }
   },
   "id": "54735322-ea2e-478b-8e3d-bdcaefb03fdd",
   "cell_type": "code",
   "execution_count": 87,
   "outputs": [
    {
     "output_type": "stream",
     "name": "stdout",
     "text": "0.6192442167740035\n"
    },
    {
     "output_type": "display_data",
     "data": {
      "text/plain": "<Figure size 640x480 with 1 Axes>",
      "image/png": "[encoded data removed]"
     },
     "metadata": {}
    }
   ]
  },
  {
   "source": [
    " Notice how the line captures the underlying trend in the data. And the performance is quite decent for this basic regression model with only one feature!"
   ],
   "metadata": {
    "pycharm": {
     "name": "#%% md\n"
    }
   },
   "id": "afb4764e-28df-46c2-9d3e-cfeef99d49d9",
   "cell_type": "markdown"
  },
  {
   "source": [
    "**Regression training/testing split**\n",
    "\n",
    "Your supervised learning model must be able to generalize well to new data, as you learned in Chapter 1. In both classification and linear regression models, this is true.\n",
    "\n",
    "You will divide the Gapminder dataset into training and testing sets, and then fit and predict a linear regression over all features. You will also compute the Root Mean Squared Error (RMSE) when evaluating regression models in addition to the R2R2score."
   ],
   "metadata": {
    "pycharm": {
     "name": "#%% md\n"
    }
   },
   "id": "bfb0a6b9-a8f2-441b-a56c-aa041300f532",
   "cell_type": "markdown"
  },
  {
   "source": [
    "# Import necessary modules\n",
    "from sklearn.linear_model import LinearRegression\n",
    "from sklearn.metrics import mean_squared_error\n",
    "from sklearn.model_selection import train_test_split\n",
    "\n",
    "# Import necessary modules\n",
    "from sklearn.linear_model import LinearRegression\n",
    "from sklearn.metrics import mean_squared_error\n",
    "from sklearn.model_selection import train_test_split\n",
    "\n",
    "# Create training and test sets\n",
    "X_train, X_test, y_train, y_test = train_test_split(X, y, test_size = 0.3, random_state=42)\n",
    "\n",
    "# Create the regressor: reg_all\n",
    "reg_all = LinearRegression()\n",
    "\n",
    "# Fit the regressor to the training data\n",
    "reg_all.fit(X_train,y_train)\n",
    "\n",
    "# Predict on the test data: y_pred\n",
    "y_pred = reg_all.predict(X_test)\n",
    "\n",
    "# Compute and print R^2 and RMSE\n",
    "print(\"R^2: {}\".format(reg_all.score(X_test, y_test)))\n",
    "rmse = np.sqrt(mean_squared_error(y_test,y_pred))\n",
    "print(\"Root Mean Squared Error: {}\".format(rmse))\n"
   ],
   "metadata": {
    "pycharm": {
     "name": "#%%\n"
    }
   },
   "id": "a17810b1-a7bd-4a73-b4bc-3e8e3daee8d7",
   "cell_type": "code",
   "execution_count": 88,
   "outputs": [
    {
     "output_type": "stream",
     "name": "stdout",
     "text": "R^2: 0.8380468731429505\nRoot Mean Squared Error: 3.2476010800375774\n"
    }
   ]
  },
  {
   "source": [
    "Using all features has improved the model score. This makes sense, as the model has more information to learn from. However, there is one potential pitfall to this process. Can you spot it? You'll learn about this as well how to better validate your models in the below code flow"
   ],
   "metadata": {
    "pycharm": {
     "name": "#%% md\n"
    }
   },
   "id": "be1d64fc-376b-409b-9f2d-d501b74fe972",
   "cell_type": "markdown"
  },
  {
   "source": [
    "**5-fold cross-validation**\n",
    "\n",
    "In order to evaluate a model, cross-validation is essential. A maximum amount of data is used to train the model, since the model is not only trained, but also tested on all available data during training.\n",
    "\n",
    "Using Gapminder data, we will practice 5-fold cross validation. The cross_val_score() function in scikit-learn uses\n",
    "\n",
    " In regression, this is the metric of choice. As we are performing 5-fold cross-validation, the function will return 5 scores. The average of these five scores is what we need to do."
   ],
   "metadata": {
    "pycharm": {
     "name": "#%% md\n"
    }
   },
   "id": "c86cc615-01a3-4875-8dee-a576a43d06fd",
   "cell_type": "markdown"
  },
  {
   "source": [
    "# Import the necessary modules\n",
    "# Import the necessary modules\n",
    "from sklearn.linear_model import LinearRegression\n",
    "from sklearn.model_selection import cross_val_score\n",
    "\n",
    "\n",
    "# Create a linear regression object: reg\n",
    "reg = LinearRegression()\n",
    "\n",
    "# Compute 5-fold cross-validation scores: cv_scores\n",
    "cv_scores = cross_val_score(reg,X,y,cv=5)\n",
    "\n",
    "# Print the 5-fold cross-validation scores\n",
    "print(cv_scores)\n",
    "\n",
    "print(\"Average 5-Fold CV Score: {}\".format(np.mean(cv_scores)))\n"
   ],
   "metadata": {
    "pycharm": {
     "name": "#%%\n"
    }
   },
   "id": "48980a1c-aa31-4df8-ba9b-b786d768864b",
   "cell_type": "code",
   "execution_count": 89,
   "outputs": [
    {
     "output_type": "stream",
     "name": "stdout",
     "text": "[0.81720569 0.82917058 0.90214134 0.80633989 0.94495637]\nAverage 5-Fold CV Score: 0.8599627722793286\n"
    }
   ]
  },
  {
   "source": [
    "**K-Fold CV comparison**\n",
    "\n",
    "Cross validation is essential but do not forget that the more folds you use, the more computationally expensive cross-validation becomes. In this exercise, you will explore this for yourself. Your job is to perform 3-fold cross-validation and then 10-fold cross-validation on the Gapminder dataset.\n",
    "\n",
    "In the IPython Shell, you can use %timeit to see how long each 3-fold CV takes compared to 10-fold CV by executing the following cv=3 and cv=10:\n",
    "\n",
    "%timeit cross_val_score(reg, X, y, cv = ____)\n"
   ],
   "metadata": {
    "pycharm": {
     "name": "#%% md\n"
    }
   },
   "id": "d55d9001-b252-492b-8fee-b40cd0aea769",
   "cell_type": "markdown"
  },
  {
   "source": [
    "# Import the necessary modules\n",
    "from sklearn.linear_model import LinearRegression\n",
    "from sklearn.model_selection import cross_val_score\n",
    "\n",
    "# Create a linear regression object: reg\n",
    "reg = LinearRegression()\n",
    "\n",
    "# Perform 3-fold CV\n",
    "cvscores_3 = cross_val_score(reg,X,y,cv=3)\n",
    "print(np.mean(cvscores_3))\n",
    "\n",
    "# Perform 10-fold CV\n",
    "cvscores_10 = cross_val_score(reg,X,y,cv=10)\n",
    "print(np.mean(cvscores_10))\n"
   ],
   "metadata": {
    "pycharm": {
     "name": "#%%\n"
    }
   },
   "id": "2fb69551-03a7-4758-9aa6-b35d487de2b0",
   "cell_type": "code",
   "execution_count": 90,
   "outputs": [
    {
     "output_type": "stream",
     "name": "stdout",
     "text": "0.8718712782622156\n0.8436128620131239\n"
    }
   ]
  },
  {
   "source": [
    "![](Regularize_RidgeAndLasso_Regression.png)"
   ],
   "metadata": {
    "pycharm": {
     "name": "#%% md\n"
    }
   },
   "id": "fc24ec0d-b2c8-4e43-ba58-45a722674592",
   "cell_type": "markdown"
  },
  {
   "source": [
    "**Regularization I: Lasso**\n",
    "\n",
    "In this study, we examine how Lasso selected RM as the most important feature for predicting Boston house prices, while shrinking the coefficients of certain other features to 0. When dealing with data involving thousands of features, its ability to perform feature selection in this manner becomes even more useful.\n",
    "\n",
    "We will fit a lasso regression to the Gapminder data you have been working with and plot the coefficients. Similarly to Boston data, you will find that some coefficients are shrunk to 0, leaving only the most significant ones."
   ],
   "metadata": {
    "pycharm": {
     "name": "#%% md\n"
    }
   },
   "id": "710863e4-4651-4b98-8fd4-7e2e107e2bb1",
   "cell_type": "markdown"
  },
  {
   "source": [
    "y = df['life'].values\n",
    "X = df.drop('life', axis=1).values\n",
    "\n",
    "df_columns = df.drop('life', axis=1).columns\n",
    "\n",
    "# Import Lasso\n",
    "from sklearn.linear_model import Lasso\n",
    "\n",
    "# Instantiate a lasso regressor: lasso\n",
    "lasso = Lasso(alpha=0.4,normalize=True)\n",
    "\n",
    "# Fit the regressor to the data\n",
    "lasso.fit(X,y)\n",
    "\n",
    "# Compute and print the coefficients\n",
    "lasso_coef = lasso.coef_\n",
    "print(lasso_coef)\n",
    "\n",
    "# Plot the coefficients\n",
    "plt.plot(range(len(df_columns)), lasso_coef)\n",
    "plt.xticks(range(len(df_columns)), df_columns.values, rotation=60)\n",
    "plt.margins(0.02)\n",
    "plt.show()"
   ],
   "metadata": {
    "pycharm": {
     "name": "#%%\n"
    }
   },
   "id": "5349985c-6465-47ab-889d-c645a2fd329d",
   "cell_type": "code",
   "execution_count": 120,
   "outputs": [
    {
     "output_type": "stream",
     "name": "stdout",
     "text": "[-0.         -0.         -0.          0.          0.          0.\n -0.         -0.07087587]\n"
    },
    {
     "output_type": "display_data",
     "data": {
      "text/plain": "<Figure size 640x480 with 1 Axes>",
      "image/png": "[encoded data removed]"
     },
     "metadata": {}
    }
   ]
  },
  {
   "source": [
    "According to the lasso algorithm, it seems like 'child_mortality' is the most important feature when predicting life expectancy."
   ],
   "metadata": {
    "pycharm": {
     "name": "#%% md\n"
    }
   },
   "id": "41fe2da4-5c2d-4b3e-9577-b014328e8382",
   "cell_type": "markdown"
  },
  {
   "source": [
    "**Regularization II: Ridge**\n",
    "\n",
    "You should use Ridge regression when building regression models rather than Lasso when selecting features.\n",
    "\n",
    "LASSO performs regularization by adding to the loss function a penalty term of the absolute value of each coefficient multiplied by some alpha. Also known as\n",
    "\n",
    " The regularization term is the regularization term \n",
    "\n",
    "The coefficients' norm. However, this is not the only way to regularize.\n",
    "\n",
    "Alternatively, you could take the squared values of the coefficients multiplied by some alpha - like Ridge regression - and compute\n",
    "\n",
    " As a rule. As part of this exercise, you will fit ridge regression models with a range of different alphas, and plot cross-validated scores for each using this function, which plots the score and standard error for each alpha:"
   ],
   "metadata": {
    "pycharm": {
     "name": "#%% md\n"
    }
   },
   "id": "edc38de0-7a4b-490c-8fc4-1477323802fd",
   "cell_type": "markdown"
  },
  {
   "source": [
    "def display_plot(cv_scores, cv_scores_std):\n",
    "    fig = plt.figure()\n",
    "    ax = fig.add_subplot(1,1,1)\n",
    "    ax.plot(alpha_space, cv_scores)\n",
    "\n",
    "    std_error = cv_scores_std / np.sqrt(10)\n",
    "\n",
    "    ax.fill_between(alpha_space, cv_scores + std_error, cv_scores - std_error, alpha=0.2)\n",
    "    ax.set_ylabel('CV Score +/- Std Error')\n",
    "    ax.set_xlabel('Alpha')\n",
    "    ax.axhline(np.max(cv_scores), linestyle='--', color='.5')\n",
    "    ax.set_xlim([alpha_space[0], alpha_space[-1]])\n",
    "    ax.set_xscale('log')\n",
    "    plt.show()"
   ],
   "metadata": {
    "pycharm": {
     "name": "#%%\n"
    }
   },
   "id": "46ec6004-47cc-44cb-bac1-948575ac14b5",
   "cell_type": "code",
   "execution_count": 92,
   "outputs": []
  },
  {
   "source": [
    "# Import necessary modules\n",
    "from sklearn.linear_model import Ridge\n",
    "from sklearn.model_selection import cross_val_score\n",
    "\n",
    "# Setup the array of alphas and lists to store scores\n",
    "alpha_space = np.logspace(-4, 0, 50)\n",
    "ridge_scores = []\n",
    "ridge_scores_std = []\n",
    "\n",
    "# Create a ridge regressor: ridge\n",
    "ridge = Ridge(normalize=True)\n",
    "\n",
    "# Compute scores over range of alphas\n",
    "for alpha in alpha_space:\n",
    "\n",
    "    # Specify the alpha value to use: ridge.alpha\n",
    "    ridge.alpha = alpha\n",
    "    \n",
    "    # Perform 10-fold CV: ridge_cv_scores\n",
    "    ridge_cv_scores = cross_val_score(ridge,X,y,cv=10)\n",
    "    \n",
    "    # Append the mean of ridge_cv_scores to ridge_scores\n",
    "    ridge_scores.append(np.mean(ridge_cv_scores))\n",
    "    \n",
    "    # Append the std of ridge_cv_scores to ridge_scores_std\n",
    "    ridge_scores_std.append(np.std(ridge_cv_scores))\n",
    "\n",
    "# Display the plot\n",
    "display_plot(ridge_scores, ridge_scores_std)\n"
   ],
   "metadata": {
    "pycharm": {
     "name": "#%%\n"
    }
   },
   "id": "88692109-229b-4cd6-8a07-61c4a72f6214",
   "cell_type": "code",
   "execution_count": 93,
   "outputs": [
    {
     "output_type": "display_data",
     "data": {
      "text/plain": "<Figure size 640x480 with 1 Axes>",
      "image/png": "[encoded data removed]"
     },
     "metadata": {}
    }
   ]
  },
  {
   "source": [
    "Notice how the cross-validation scores change with different alphas. Which alpha should you pick? How can you fine-tune your model? You'll learn all about this in the next section"
   ],
   "metadata": {
    "pycharm": {
     "name": "#%% md\n"
    }
   },
   "id": "03445a62-3582-4300-aa6b-780ffca0edf4",
   "cell_type": "markdown"
  },
  {
   "source": [
    "# **Optimizing your model**\n",
    "\n",
    "After training your model, we must evaluate its performance. In this section, we will explore some of the other metrics available in scikit-learn for assessing our model's performance. Using hyperparameter tuning, you can optimize your classification and regression models."
   ],
   "metadata": {
    "pycharm": {
     "name": "#%% md\n"
    }
   },
   "id": "293051d1-efbd-48c2-b50f-75fd4243663d",
   "cell_type": "markdown"
  },
  {
   "source": [
    "![](ConfusionMatrix.png)"
   ],
   "metadata": {
    "pycharm": {
     "name": "#%% md\n"
    }
   },
   "id": "7a26fd52-da63-4ffd-93c7-cf4eef679092",
   "cell_type": "markdown"
  },
  {
   "source": [
    "**Classification metrics**\n",
    "\n",
    "Chapter 1 evaluated the accuracy of your k-NN classifier. As Andy discussed, accuracy is not always an informative metric. By computing a confusion matrix and generating a classification report, you will evaluate the performance of binary classifiers.\n",
    "\n",
    "The classification report consisted of three rows and an additional support column, as shown in the video. In the video example, the support was the number of Republicans or Democrats in the test set used to compute the classification report. These columns gave the precision, recall, and f1-score metrics for that particular class.\n",
    "\n",
    "This tutorial uses the [PIMA Indians](https://www.kaggle.com/uciml/pima-indians-diabetes-database) dataset available at the UCI Machine Learning Repository. Based on factors such as BMI, age, and number of pregnancies, we can predict whether or not a given female patient will develop diabetes. As a result, it is a binary classification problem. Diabetes is not present in a patient with a target value of 0, whereas diabetes is present in a patient with a target value of 1. To deal with missing values, the dataset has been preprocessed in earlier excercises.\n"
   ],
   "metadata": {
    "pycharm": {
     "name": "#%% md\n"
    }
   },
   "id": "9a829c2f-d973-4643-a734-decb27178f06",
   "cell_type": "markdown"
  },
  {
   "source": [
    "from sklearn.metrics import classification_report\n",
    "from sklearn.metrics import confusion_matrix\n",
    "from sklearn.model_selection import train_test_split\n",
    "from sklearn.neighbors import KNeighborsClassifier\n",
    "df=pd.read_csv('datasets/diabetes.csv')\n",
    "\n",
    "df.insulin.replace(0, np.nan, inplace=True)\n",
    "df.triceps.replace(0, np.nan, inplace=True)\n",
    "df.bmi.replace(0, np.nan, inplace=True)\n",
    "\n",
    "df.iloc[:, 1:] = df.iloc[:, 1:].apply(lambda x: x.fillna(x.mean()))\n",
    "y = df['diabetes']\n",
    "X = df.drop('diabetes', axis=1)\n",
    "\n",
    "# Create training and test set\n",
    "X_train, X_test, y_train, y_test = train_test_split(X,y,test_size=0.4,random_state=42)\n",
    "\n",
    "# Instantiate a k-NN classifier: knn\n",
    "knn = KNeighborsClassifier(n_neighbors=6)\n",
    "\n",
    "# Fit the classifier to the training data\n",
    "knn.fit(X_train,y_train)\n",
    "\n",
    "# Predict the labels of the test data: y_pred\n",
    "y_pred = knn.predict(X_test)\n",
    "\n",
    "# Generate the confusion matrix and classification report\n",
    "print(confusion_matrix(y_test, y_pred))\n",
    "print(classification_report(y_test, y_pred))"
   ],
   "metadata": {
    "pycharm": {
     "name": "#%%\n"
    }
   },
   "id": "ddaed3e2-7557-41c3-8026-e248ac2f4d85",
   "cell_type": "code",
   "execution_count": 69,
   "outputs": [
    {
     "output_type": "stream",
     "name": "stdout",
     "text": "[[176  30]\n [ 52  50]]\n              precision    recall  f1-score   support\n\n           0       0.77      0.85      0.81       206\n           1       0.62      0.49      0.55       102\n\n    accuracy                           0.73       308\n   macro avg       0.70      0.67      0.68       308\nweighted avg       0.72      0.73      0.72       308\n\n"
    }
   ]
  },
  {
   "source": [
    "An ROC curve (receiver operating characteristic curve) is a graph showing the performance of a classification model at all classification thresholds. This curve plots two parameters: True Positive Rate. False Positive Rate\n",
    "\n",
    "![](ReceiverOperatorCharacteristic(ROC)Curve.png)![](LogisticRegressionAndLinearDecisionBoundary.png)"
   ],
   "metadata": {
    "pycharm": {
     "name": "#%% md\n"
    }
   },
   "id": "98134d70-6b05-4f9f-a6fc-9cc10aeec856",
   "cell_type": "markdown"
  },
  {
   "source": [
    "**Building a logistic regression model**\n",
    "\n",
    "Time to build your first logistic regression model! As Hugo showed in the video, scikit-learn makes it very easy to try different models, since the Train-Test-Split/Instantiate/Fit/Predict paradigm applies to all classifiers and regressors - which are known in scikit-learn as 'estimators'. You'll see this now for yourself as you train a logistic regression model on exactly the same data as in the previous exercise. Will it outperform k-NN? There's only one way to find out!"
   ],
   "metadata": {
    "pycharm": {
     "name": "#%% md\n"
    }
   },
   "id": "6146d45f-281e-42c1-a231-17dd985369ab",
   "cell_type": "markdown"
  },
  {
   "source": [
    "# Import the necessary modules\n",
    "from sklearn.linear_model import LogisticRegression\n",
    "\n",
    "# Create training and test sets\n",
    "X_train, X_test, y_train, y_test = train_test_split(X, y, test_size = 0.4, random_state=42)\n",
    "\n",
    "# Create the classifier: logreg\n",
    "logreg = LogisticRegression(solver=\"liblinear\")\n",
    "\n",
    "# Fit the classifier to the training data\n",
    "logreg.fit(X_train,y_train)\n",
    "\n",
    "# Predict the labels of the test set: y_pred\n",
    "y_pred = logreg.predict(X_test)\n",
    "\n",
    "# Compute and print the confusion matrix and classification report\n",
    "print(confusion_matrix(y_test, y_pred))\n",
    "print(classification_report(y_test, y_pred))"
   ],
   "metadata": {
    "pycharm": {
     "name": "#%%\n"
    }
   },
   "id": "701d931a-f0c2-4174-81aa-bebac5c34848",
   "cell_type": "code",
   "execution_count": 70,
   "outputs": [
    {
     "output_type": "stream",
     "name": "stdout",
     "text": "[[176  30]\n [ 35  67]]\n              precision    recall  f1-score   support\n\n           0       0.83      0.85      0.84       206\n           1       0.69      0.66      0.67       102\n\n    accuracy                           0.79       308\n   macro avg       0.76      0.76      0.76       308\nweighted avg       0.79      0.79      0.79       308\n\n"
    }
   ]
  },
  {
   "source": [
    "**ROC curve plotting**\n",
    "\n",
    "The previous exercise was a great success - you now have a new classifier in your toolbox!\n",
    "\n",
    "Model performance can be evaluated quantitatively using classification reports and confusion matrices, while visually using ROC curves. Most scikit-learn classifiers have a .predict_proba() method that returns the probability of a given sample being in a particular class, as Hugo demonstrated in the video. After building a logistic regression model, you will plot an ROC curve to evaluate its performance. As a result, you will become familiar with the .predict_proba() method.\n",
    "\n",
    "You'll continue working with the PIMA Indians diabetes dataset here"
   ],
   "metadata": {
    "pycharm": {
     "name": "#%% md\n"
    }
   },
   "id": "b1a52cde-dbcf-4636-b2f6-4790ee9f071c",
   "cell_type": "markdown"
  },
  {
   "source": [
    "# Import necessary modules\n",
    "from sklearn.metrics import roc_curve\n",
    "\n",
    "# Compute predicted probabilities: y_pred_prob\n",
    "y_pred_prob = logreg.predict_proba(X_test)[:,1]\n",
    "\n",
    "# Generate ROC curve values: fpr, tpr, thresholds\n",
    "fpr, tpr, thresholds = roc_curve(y_test, y_pred_prob)\n",
    "\n",
    "# Plot ROC curve\n",
    "plt.plot([0, 1], [0, 1], 'k--')\n",
    "plt.plot(fpr, tpr)\n",
    "plt.xlabel('False Positive Rate')\n",
    "plt.ylabel('True Positive Rate')\n",
    "plt.title('ROC Curve')\n",
    "plt.show()"
   ],
   "metadata": {
    "pycharm": {
     "name": "#%%\n"
    }
   },
   "id": "cceff8c5-181f-4c7a-ab85-47cd67ed5606",
   "cell_type": "code",
   "execution_count": 71,
   "outputs": [
    {
     "output_type": "display_data",
     "data": {
      "text/plain": "<Figure size 640x480 with 1 Axes>",
      "image/png": "[encoded data removed]"
     },
     "metadata": {}
    }
   ]
  },
  {
   "source": [],
   "metadata": {
    "pycharm": {
     "name": "#%% md\n"
    }
   },
   "id": "dd9cda1d-ac5e-40b3-bacd-9c91fccec73f",
   "cell_type": "markdown"
  },
  {
   "source": [
    "# **Optimizing your model**\n",
    "\n",
    "After training your model, we must evaluate its performance. In this section, we will explore some of the other metrics available in scikit-learn for assessing our model's performance. Using hyperparameter tuning, you can optimize your classification and regression models."
   ],
   "metadata": {
    "pycharm": {
     "name": "#%% md\n"
    }
   },
   "id": "293051d1-efbd-48c2-b50f-75fd4243663d",
   "cell_type": "markdown"
  },
  {
   "source": [
    "![](ConfusionMatrix.png)"
   ],
   "metadata": {
    "pycharm": {
     "name": "#%% md\n"
    }
   },
   "id": "7a26fd52-da63-4ffd-93c7-cf4eef679092",
   "cell_type": "markdown"
  },
  {
   "source": [
    "**Classification metrics**\n",
    "\n",
    "Chapter 1 evaluated the accuracy of your k-NN classifier. As Andy discussed, accuracy is not always an informative metric. By computing a confusion matrix and generating a classification report, you will evaluate the performance of binary classifiers.\n",
    "\n",
    "The classification report consisted of three rows and an additional support column, as shown in the video. In the video example, the support was the number of Republicans or Democrats in the test set used to compute the classification report. These columns gave the precision, recall, and f1-score metrics for that particular class.\n",
    "\n",
    "This tutorial uses the [PIMA Indians](https://www.kaggle.com/uciml/pima-indians-diabetes-database) dataset available at the UCI Machine Learning Repository. Based on factors such as BMI, age, and number of pregnancies, we can predict whether or not a given female patient will develop diabetes. As a result, it is a binary classification problem. Diabetes is not present in a patient with a target value of 0, whereas diabetes is present in a patient with a target value of 1. To deal with missing values, the dataset has been preprocessed in earlier excercises.\n"
   ],
   "metadata": {
    "pycharm": {
     "name": "#%% md\n"
    }
   },
   "id": "9a829c2f-d973-4643-a734-decb27178f06",
   "cell_type": "markdown"
  },
  {
   "source": [
    "from sklearn.metrics import classification_report\n",
    "from sklearn.metrics import confusion_matrix\n",
    "from sklearn.model_selection import train_test_split\n",
    "from sklearn.neighbors import KNeighborsClassifier\n",
    "df=pd.read_csv('datasets/diabetes.csv')\n",
    "\n",
    "df.insulin.replace(0, np.nan, inplace=True)\n",
    "df.triceps.replace(0, np.nan, inplace=True)\n",
    "df.bmi.replace(0, np.nan, inplace=True)\n",
    "\n",
    "df.iloc[:, 1:] = df.iloc[:, 1:].apply(lambda x: x.fillna(x.mean()))\n",
    "y = df['diabetes']\n",
    "X = df.drop('diabetes', axis=1)\n",
    "\n",
    "# Create training and test set\n",
    "X_train, X_test, y_train, y_test = train_test_split(X,y,test_size=0.4,random_state=42)\n",
    "\n",
    "# Instantiate a k-NN classifier: knn\n",
    "knn = KNeighborsClassifier(n_neighbors=6)\n",
    "\n",
    "# Fit the classifier to the training data\n",
    "knn.fit(X_train,y_train)\n",
    "\n",
    "# Predict the labels of the test data: y_pred\n",
    "y_pred = knn.predict(X_test)\n",
    "\n",
    "# Generate the confusion matrix and classification report\n",
    "print(confusion_matrix(y_test, y_pred))\n",
    "print(classification_report(y_test, y_pred))"
   ],
   "metadata": {
    "pycharm": {
     "name": "#%%\n"
    }
   },
   "id": "ddaed3e2-7557-41c3-8026-e248ac2f4d85",
   "cell_type": "code",
   "execution_count": 121,
   "outputs": [
    {
     "output_type": "stream",
     "name": "stdout",
     "text": "[[176  30]\n [ 52  50]]\n              precision    recall  f1-score   support\n\n           0       0.77      0.85      0.81       206\n           1       0.62      0.49      0.55       102\n\n    accuracy                           0.73       308\n   macro avg       0.70      0.67      0.68       308\nweighted avg       0.72      0.73      0.72       308\n\n"
    }
   ]
  },
  {
   "source": [
    "An ROC curve (receiver operating characteristic curve) is a graph showing the performance of a classification model at all classification thresholds. This curve plots two parameters: True Positive Rate. False Positive Rate\n",
    "\n",
    "![](ReceiverOperatorCharacteristic(ROC)Curve.png)![](LogisticRegressionAndLinearDecisionBoundary.png)"
   ],
   "metadata": {
    "pycharm": {
     "name": "#%% md\n"
    }
   },
   "id": "98134d70-6b05-4f9f-a6fc-9cc10aeec856",
   "cell_type": "markdown"
  },
  {
   "source": [
    "**Building a logistic regression model**\n",
    "\n",
    "Time to build your first logistic regression model! As Hugo showed in the video, scikit-learn makes it very easy to try different models, since the Train-Test-Split/Instantiate/Fit/Predict paradigm applies to all classifiers and regressors - which are known in scikit-learn as 'estimators'. You'll see this now for yourself as you train a logistic regression model on exactly the same data as in the previous exercise. Will it outperform k-NN? There's only one way to find out!"
   ],
   "metadata": {
    "pycharm": {
     "name": "#%% md\n"
    }
   },
   "id": "6146d45f-281e-42c1-a231-17dd985369ab",
   "cell_type": "markdown"
  },
  {
   "source": [
    "# Import the necessary modules\n",
    "from sklearn.linear_model import LogisticRegression\n",
    "\n",
    "# Create training and test sets\n",
    "X_train, X_test, y_train, y_test = train_test_split(X, y, test_size = 0.4, random_state=42)\n",
    "\n",
    "# Create the classifier: logreg\n",
    "logreg = LogisticRegression(solver=\"liblinear\")\n",
    "\n",
    "# Fit the classifier to the training data\n",
    "logreg.fit(X_train,y_train)\n",
    "\n",
    "# Predict the labels of the test set: y_pred\n",
    "y_pred = logreg.predict(X_test)\n",
    "\n",
    "# Compute and print the confusion matrix and classification report\n",
    "print(confusion_matrix(y_test, y_pred))\n",
    "print(classification_report(y_test, y_pred))"
   ],
   "metadata": {
    "pycharm": {
     "name": "#%%\n"
    }
   },
   "id": "701d931a-f0c2-4174-81aa-bebac5c34848",
   "cell_type": "code",
   "execution_count": 98,
   "outputs": [
    {
     "output_type": "stream",
     "name": "stdout",
     "text": "[[176  30]\n [ 35  67]]\n              precision    recall  f1-score   support\n\n           0       0.83      0.85      0.84       206\n           1       0.69      0.66      0.67       102\n\n    accuracy                           0.79       308\n   macro avg       0.76      0.76      0.76       308\nweighted avg       0.79      0.79      0.79       308\n\n[[176  30]\n [ 35  67]]\n              precision    recall  f1-score   support\n\n           0       0.83      0.85      0.84       206\n           1       0.69      0.66      0.67       102\n\n    accuracy                           0.79       308\n   macro avg       0.76      0.76      0.76       308\nweighted avg       0.79      0.79      0.79       308\n\n"
    }
   ]
  },
  {
   "source": [
    "**ROC curve plotting**\n",
    "\n",
    "The previous exercise was a great success - you now have a new classifier in your toolbox!\n",
    "\n",
    "Model performance can be evaluated quantitatively using classification reports and confusion matrices, while visually using ROC curves. Most scikit-learn classifiers have a .predict_proba() method that returns the probability of a given sample being in a particular class, as Hugo demonstrated in the video. After building a logistic regression model, you will plot an ROC curve to evaluate its performance. As a result, you will become familiar with the .predict_proba() method.\n",
    "\n",
    "You'll continue working with the PIMA Indians diabetes dataset here"
   ],
   "metadata": {
    "pycharm": {
     "name": "#%% md\n"
    }
   },
   "id": "b1a52cde-dbcf-4636-b2f6-4790ee9f071c",
   "cell_type": "markdown"
  },
  {
   "source": [
    "# Import necessary modules\n",
    "from sklearn.metrics import roc_curve\n",
    "\n",
    "# Compute predicted probabilities: y_pred_prob\n",
    "y_pred_prob = logreg.predict_proba(X_test)[:,1]\n",
    "\n",
    "# Generate ROC curve values: fpr, tpr, thresholds\n",
    "fpr, tpr, thresholds = roc_curve(y_test, y_pred_prob)\n",
    "\n",
    "# Plot ROC curve\n",
    "plt.plot([0, 1], [0, 1], 'k--')\n",
    "plt.plot(fpr, tpr)\n",
    "plt.xlabel('False Positive Rate')\n",
    "plt.ylabel('True Positive Rate')\n",
    "plt.title('ROC Curve')\n",
    "plt.show()"
   ],
   "metadata": {
    "pycharm": {
     "name": "#%%\n"
    }
   },
   "id": "cceff8c5-181f-4c7a-ab85-47cd67ed5606",
   "cell_type": "code",
   "execution_count": 99,
   "outputs": [
    {
     "output_type": "display_data",
     "data": {
      "text/plain": "<Figure size 640x480 with 1 Axes>",
      "image/png": "[encoded data removed]"
     },
     "metadata": {}
    },
    {
     "output_type": "display_data",
     "data": {
      "text/plain": "<Figure size 640x480 with 1 Axes>",
      "image/png": "[encoded data removed]"
     },
     "metadata": {}
    }
   ]
  },
  {
   "source": [],
   "metadata": {
    "pycharm": {
     "name": "#%% md\n"
    }
   },
   "id": "dd9cda1d-ac5e-40b3-bacd-9c91fccec73f",
   "cell_type": "markdown"
  },
  {
   "source": [
    "Curve of precision-recall\n",
    "\n",
    "We may have noticed that your ROC curve's y-axis (True positive rate) is also known as recall. ROC curves are not the only way to evaluate model performance visually. Precision-recall curves are generated by plotting precision and recall at different thresholds. Recall that precision and recall are defined as follows:\n",
    "\n",
    "![](Precission-recallCurve.png)\n",
    "\n",
    "The precision-recall curve for the diabetes dataset can be seen below. IPython Shell displays the classification report and confusion matrix.\n",
    "\n",
    "Take a look at the precision-recall curve and then consider the following statements. Pick the statement that is not true. If the individual has diabetes, the class is positive (1)."
   ],
   "metadata": {
    "pycharm": {
     "name": "#%% md\n"
    }
   },
   "id": "772d022d-90db-4bcc-9caf-3f1a1dea633a",
   "cell_type": "markdown"
  },
  {
   "source": [
    "import numpy as np\n",
    "import pandas as pd\n",
    "import matplotlib.pyplot as plt\n",
    "from sklearn.metrics import classification_report\n",
    "from sklearn.metrics import confusion_matrix\n",
    "from sklearn.model_selection import train_test_split\n",
    "from sklearn.linear_model import LogisticRegression\n",
    "\n",
    "#\n",
    "\n",
    "df = pd.read_csv('datasets/diabetes.csv')\n",
    "\n",
    "df.insulin.replace(0, np.nan, inplace=True)\n",
    "df.triceps.replace(0, np.nan, inplace=True)\n",
    "df.bmi.replace(0, np.nan, inplace=True)\n",
    "\n",
    "df.iloc[:, 1:] = df.iloc[:, 1:].apply(lambda x: x.fillna(x.mean()))\n",
    "\n",
    "#\n",
    "y = df['diabetes']\n",
    "X = df.drop('diabetes', axis=1)\n",
    "X_train, X_test, y_train, y_test = train_test_split(X, y, test_size = 0.4, random_state=42)\n",
    "\n",
    "#\n",
    "clf = LogisticRegression(solver=\"liblinear\")#add solver by Jinny\n",
    "clf.fit(X_train, y_train)\n",
    "\n",
    "#\n",
    "from sklearn.metrics import precision_recall_curve\n",
    "\n",
    "#\n",
    "y_pred_prob = clf.predict_proba(X_test)[:,1]\n",
    "\n",
    "y_pred = clf.predict(X_test)\n",
    "\n",
    "print(classification_report(y_test, y_pred))\n",
    "print(confusion_matrix(y_test, y_pred))\n",
    "\n",
    "#\n",
    "precision, recall, thresholds = precision_recall_curve(y_test, y_pred_prob)\n",
    "\n",
    "#\n",
    "plt.figure(figsize=(6, 6), dpi=None)\n",
    "plt.plot(recall, precision)\n",
    "plt.xlabel('Recall')\n",
    "plt.ylabel('Precision')\n",
    "plt.title('Precision-Recall Curve')\n",
    "plt.legend(loc='best')\n",
    "plt.show()"
   ],
   "metadata": {
    "pycharm": {
     "name": "#%%\n"
    }
   },
   "id": "0f20863c-5545-4ee1-9925-f49c18d83d3d",
   "cell_type": "code",
   "execution_count": 100,
   "outputs": [
    {
     "output_type": "stream",
     "name": "stdout",
     "text": "              precision    recall  f1-score   support\n\n           0       0.83      0.85      0.84       206\n           1       0.69      0.66      0.67       102\n\n    accuracy                           0.79       308\n   macro avg       0.76      0.76      0.76       308\nweighted avg       0.79      0.79      0.79       308\n\n[[176  30]\n [ 35  67]]\n"
    },
    {
     "output_type": "display_data",
     "data": {
      "text/plain": "<Figure size 600x600 with 1 Axes>",
      "image/png": "[encoded data removed]"
     },
     "metadata": {}
    }
   ]
  },
  {
   "source": [
    "import numpy as np\n",
    "import pandas as pd\n",
    "import matplotlib.pyplot as plt\n",
    "from sklearn.model_selection import train_test_split\n",
    "from sklearn.neighbors import KNeighborsClassifier\n",
    "\n",
    "#\n",
    "\n",
    "\n",
    "df = pd.read_csv('datasets/diabetes.csv')\n",
    "\n",
    "df.insulin.replace(0, np.nan, inplace=True)\n",
    "df.triceps.replace(0, np.nan, inplace=True)\n",
    "df.bmi.replace(0, np.nan, inplace=True)\n",
    "\n",
    "df.iloc[:, 1:] = df.iloc[:, 1:].apply(lambda x: x.fillna(x.mean()))\n",
    "y = df['diabetes']\n",
    "X = df.drop('diabetes', axis=1)\n",
    "# Import necessary modules\n",
    "from sklearn.metrics import classification_report\n",
    "from sklearn.metrics import confusion_matrix\n",
    "\n",
    "# Create training and test set\n",
    "X_train, X_test, y_train, y_test = train_test_split(X, y, test_size = 0.4, random_state=42)\n",
    "\n",
    "# Instantiate a k-NN classifier: knn\n",
    "knn = KNeighborsClassifier(n_neighbors=6)\n",
    "\n",
    "# Fit the classifier to the training data\n",
    "knn.fit(X_train, y_train)\n",
    "\n",
    "# Predict the labels of the test data: y_pred\n",
    "y_pred = knn.predict(X_test)\n",
    "\n",
    "# Generate the confusion matrix and classification report\n",
    "print(confusion_matrix(y_test, y_pred))\n",
    "print(classification_report(y_test, y_pred))"
   ],
   "metadata": {
    "pycharm": {
     "name": "#%%\n"
    }
   },
   "id": "25ee0569-7ebf-4282-868d-9e892685ae3c",
   "cell_type": "code",
   "execution_count": 101,
   "outputs": [
    {
     "output_type": "stream",
     "name": "stdout",
     "text": "[[176  30]\n [ 52  50]]\n              precision    recall  f1-score   support\n\n           0       0.77      0.85      0.81       206\n           1       0.62      0.49      0.55       102\n\n    accuracy                           0.73       308\n   macro avg       0.70      0.67      0.68       308\nweighted avg       0.72      0.73      0.72       308\n\n"
    }
   ]
  },
  {
   "source": [
    "**Compute the AUC**\n",
    "\n",
    "Suppose we have a binary classifier that makes guesses at random. It would be correct approximately 50% of the time, and the ROC curve would be a diagonal line where the True Positive Rate and False Positive Rate are always equal. This ROC curve has an Area under it of 0.5. Hugo discussed the AUC in the video as an informative metric for evaluating models. The model is better than random guessing if the AUC is greater than 0.5. Always a good sign!\n",
    "\n",
    "We will calculate AUC scores on the diabetes dataset using the roc_auc_score() function from sklearn.metrics."
   ],
   "metadata": {
    "pycharm": {
     "name": "#%% md\n"
    }
   },
   "id": "056e89a7-fce4-4a24-98ce-da61c0aca20d",
   "cell_type": "markdown"
  },
  {
   "source": [
    "# Import necessary modules\n",
    "from sklearn.metrics import roc_auc_score\n",
    "from sklearn.model_selection import cross_val_score\n",
    "\n",
    "# Compute predicted probabilities: y_pred_prob\n",
    "y_pred_prob = logreg.predict_proba(X_test)[:,1]\n",
    "\n",
    "# Compute and print AUC score\n",
    "print(\"AUC: {}\".format(roc_auc_score(y_test, y_pred_prob)))\n",
    "\n",
    "# Compute cross-validated AUC scores: cv_auc\n",
    "cv_auc = cross_val_score(logreg,X,y,cv=5,scoring='roc_auc')\n",
    "\n",
    "# Print list of AUC scores\n",
    "print(\"AUC scores computed using 5-fold cross-validation: {}\".format(cv_auc))\n"
   ],
   "metadata": {
    "pycharm": {
     "name": "#%%\n"
    }
   },
   "id": "bef640d9-d0d9-43a3-b180-4e47c086ccc4",
   "cell_type": "code",
   "execution_count": 102,
   "outputs": [
    {
     "output_type": "stream",
     "name": "stdout",
     "text": "AUC: 0.8254806777079765\nAUC scores computed using 5-fold cross-validation: [0.80185185 0.8062963  0.81481481 0.86245283 0.8554717 ]\n"
    }
   ]
  },
  {
   "source": [
    "**Hyperparameter tuning with GridSearchCV**\n",
    "\n",
    "Using GridSearchCV on the voting dataset, we tune the n_neighbors parameter of KNeighborsClassifier(). Now we will practice this thoroughly using logistic regression on the diabetes dataset instead!\n",
    "\n",
    "We saw earlier that logistic regression also has a regularization parameter: C. This parameter controls the inverse of regularization strength. A large number can result in an overfit model, while a small number can result in an underfit model.\n",
    "\n",
    "You have been provided with the hyperparameter space for C. We will use GridSearchCV and logistic regression to find the optimal C. X represents the feature array and Y represents the target variable array.\n",
    "\n",
    "This is why we haven't separated the data into training and test sets. I agree with your observation! We will focus on setting up the hyperparameter grid and performing grid-search cross-validation. In practice, we will indeed want to hold out a portion of your data for evaluation purposes, and you will learn all about this in the next video!"
   ],
   "metadata": {
    "pycharm": {
     "name": "#%% md\n"
    }
   },
   "id": "08cf6368-62bc-411a-941c-a50318ece1dc",
   "cell_type": "markdown"
  },
  {
   "source": [
    "# Import necessary modules\n",
    "from sklearn.linear_model import LogisticRegression\n",
    "from sklearn.model_selection import GridSearchCV\n",
    "\n",
    "# Setup the hyperparameter grid\n",
    "c_space = np.logspace(-5, 8, 15)\n",
    "param_grid = {'C': c_space}\n",
    "\n",
    "# Instantiate a logistic regression classifier: logreg\n",
    "logreg = LogisticRegression(solver=\"liblinear\")\n",
    "\n",
    "# Instantiate the GridSearchCV object: logreg_cv\n",
    "logreg_cv = GridSearchCV(logreg, param_grid, cv=5)\n",
    "\n",
    "# Fit it to the data\n",
    "logreg_cv.fit(X,y)\n",
    "\n",
    "# Print the tuned parameters and score\n",
    "print(\"Tuned Logistic Regression Parameters: {}\".format(logreg_cv.best_params_)) \n",
    "print(\"Best score is {}\".format(logreg_cv.best_score_))\n"
   ],
   "metadata": {
    "pycharm": {
     "name": "#%%\n"
    }
   },
   "id": "5c5ae5d9-2500-4428-bcba-f828c7efd8d4",
   "cell_type": "code",
   "execution_count": 103,
   "outputs": [
    {
     "output_type": "stream",
     "name": "stdout",
     "text": "Tuned Logistic Regression Parameters: {'C': 3.727593720314938}\nBest score is 0.7708768355827178\n"
    }
   ]
  },
  {
   "source": [
    "**Hyperparameter tuning with RandomizedSearchCV**\n",
    "\n",
    "GridSearchCV is computationally expensive, especially when dealing with multiple hyperparameters and large hyperparameter spaces. To solve this problem, RandomizedSearchCV can be used, in which not all hyperparameter values are tested. A fixed number of hyperparameter settings is instead sampled from specified probability distributions. In this exercise, you will practice using RandomizedSearchCV.\n",
    "\n",
    "You will also be introduced to a new model: the Decision Tree. You don't need to worry about the specifics of how this model works. In scikit-learn, decision trees also have .fit() and .predict() methods, just like k-NN, linear regression, and logistic regression. In RandomizedSearchCV, decision trees are ideal because they have many parameters that can be tuned, such as max_features, max_depth, and min_samples_leaf.\n",
    "\n",
    "The diabetes dataset has been preloaded with the feature array X and target variable array Y. You have been given the hyperparameter settings. To determine the optimal hyperparameters, you will use RandomizedSearchCV"
   ],
   "metadata": {
    "pycharm": {
     "name": "#%% md\n"
    }
   },
   "id": "20f68d59-7e2d-48d1-91a0-200e7a3a8473",
   "cell_type": "markdown"
  },
  {
   "source": [
    "# Import necessary modules\n",
    "from scipy.stats import randint\n",
    "from sklearn.tree import DecisionTreeClassifier\n",
    "from sklearn.model_selection import RandomizedSearchCV\n",
    "\n",
    "# Setup the parameters and distributions to sample from: param_dist\n",
    "param_dist = {\"max_depth\": [3, None],\n",
    "              \"max_features\": randint(1, 9),\n",
    "              \"min_samples_leaf\": randint(1, 9),\n",
    "              \"criterion\": [\"gini\", \"entropy\"]}\n",
    "\n",
    "# Instantiate a Decision Tree classifier: tree\n",
    "tree = DecisionTreeClassifier()\n",
    "\n",
    "# Instantiate the RandomizedSearchCV object: tree_cv\n",
    "tree_cv = RandomizedSearchCV(tree, param_dist, cv=5)\n",
    "\n",
    "# Fit it to the data\n",
    "tree_cv.fit(X,y)\n",
    "\n",
    "# Print the tuned parameters and score\n",
    "print(\"Tuned Decision Tree Parameters: {}\".format(tree_cv.best_params_))\n",
    "print(\"Best score is {}\".format(tree_cv.best_score_))\n"
   ],
   "metadata": {
    "pycharm": {
     "name": "#%%\n"
    }
   },
   "id": "19e31f23-6c57-4467-a6e3-30cebb6184ff",
   "cell_type": "code",
   "execution_count": 104,
   "outputs": [
    {
     "output_type": "stream",
     "name": "stdout",
     "text": "Tuned Decision Tree Parameters: {'criterion': 'entropy', 'max_depth': 3, 'max_features': 5, 'min_samples_leaf': 3}\nBest score is 0.7357524828113065\n"
    }
   ]
  },
  {
   "source": [
    "**Hold-out set in practice I: Classification**\n",
    "\n",
    "We will now practice evaluating a model with tuned hyperparameters on a hold-out set. X and Y have been preloaded from the diabetes dataset as feature arrays and target variable arrays, respectively.\n",
    "\n",
    "In addition to CC, logistic regression also has a 'penalty' hyperparameter that specifies whether 'l1' or 'l2' regularization should be used. This exercise requires you to create a hold-out set, tune the 'C' and 'penalty' hyperparameters of a logistic regression classifier using GridSearchCV."
   ],
   "metadata": {
    "pycharm": {
     "name": "#%% md\n"
    }
   },
   "id": "42c29be8-0d97-41a5-b7d0-82360fcd90e2",
   "cell_type": "markdown"
  },
  {
   "source": [
    "# Import necessary modules\n",
    "from sklearn.model_selection import train_test_split\n",
    "from sklearn.linear_model import LogisticRegression\n",
    "from sklearn.model_selection import GridSearchCV\n",
    "\n",
    "# Create the hyperparameter grid\n",
    "c_space = np.logspace(-5, 8, 15)\n",
    "param_grid = {'C': c_space, 'penalty': ['l1', 'l2']}\n",
    "\n",
    "# Instantiate the logistic regression classifier: logreg\n",
    "logreg = LogisticRegression(solver='liblinear')\n",
    "\n",
    "# Create train and test sets\n",
    "X_train, X_test, y_train, y_test = train_test_split(X,y,test_size=0.4,random_state=42)\n",
    "\n",
    "# Instantiate the GridSearchCV object: logreg_cv\n",
    "logreg_cv = GridSearchCV(logreg,param_grid,cv=5)\n",
    "\n",
    "# Fit it to the training data\n",
    "logreg_cv.fit(X_train,y_train)\n",
    "\n",
    "# Print the optimal parameters and best score\n",
    "print(\"Tuned Logistic Regression Parameter: {}\".format(logreg_cv.best_params_))\n",
    "print(\"Tuned Logistic Regression Accuracy: {}\".format(logreg_cv.best_score_))"
   ],
   "metadata": {
    "pycharm": {
     "name": "#%%\n"
    }
   },
   "id": "336be9f8-10eb-4a2f-a2a8-94e27f6ff4e5",
   "cell_type": "code",
   "execution_count": 105,
   "outputs": [
    {
     "output_type": "stream",
     "name": "stdout",
     "text": "Tuned Logistic Regression Parameter: {'C': 0.4393970560760795, 'penalty': 'l1'}\nTuned Logistic Regression Accuracy: 0.7673913043478262\n"
    }
   ]
  },
  {
   "source": [
    "**Hold-out set in practice II: Regression**\n",
    "\n",
    "Remember lasso and ridge regression from the previous chapter? Lasso used the\n",
    "penalty to regularize, while ridge used the penalty. There is another type of regularized regression known as the elastic net. In elastic net regularization, the penalty term is a linear combination of the L1 and L2 penalties:\n",
    "\n",
    "![](HoldOutSet-Regression.png)\n",
    "\n",
    "In scikit-learn, this term is represented by the 'l1_ratio'parameter: An 'l1_ratio' of 1 corresponds to an L1L1penalty, and anything lower is a combination of L1 and L2.\n",
    "\n",
    "In this exercise, you will GridSearchCV to tune the 'l1_ratio' of an elastic net model trained on the Gapminder data. As in the previous exercise, use a hold-out set to evaluate your model's performance."
   ],
   "metadata": {
    "pycharm": {
     "name": "#%% md\n"
    }
   },
   "id": "54a9022d-c807-4aa3-aef3-b7a1efbb127a",
   "cell_type": "markdown"
  },
  {
   "source": [
    "df = pd.read_csv('gapminder-clean.csv')\n",
    "y = df['life'].values\n",
    "X = df.drop('life', axis=1).values"
   ],
   "metadata": {
    "pycharm": {
     "name": "#%%\n"
    }
   },
   "id": "7671fe3e-5130-45dd-83e9-e2c397e47108",
   "cell_type": "code",
   "execution_count": 106,
   "outputs": []
  },
  {
   "source": [
    "# Import necessary modules\n",
    "from sklearn.linear_model import ElasticNet\n",
    "from sklearn.metrics import mean_squared_error\n",
    "from sklearn.model_selection import GridSearchCV\n",
    "from sklearn.model_selection import train_test_split\n",
    "\n",
    "# Create train and test sets\n",
    "X_train, X_test, y_train, y_test = train_test_split(X,y,test_size=0.4,random_state=42)\n",
    "\n",
    "# Create the hyperparameter grid\n",
    "l1_space = np.linspace(0, 1, 30)\n",
    "param_grid = {'l1_ratio': l1_space}\n",
    "\n",
    "# Instantiate the ElasticNet regressor: elastic_net\n",
    "elastic_net = ElasticNet()\n",
    "\n",
    "# Setup the GridSearchCV object: gm_cv\n",
    "gm_cv = GridSearchCV(elastic_net, param_grid, cv=5)\n",
    "\n",
    "# Fit it to the training data\n",
    "gm_cv.fit(X_train,y_train)\n",
    "\n",
    "# Predict on the test set and compute metrics\n",
    "y_pred = gm_cv.predict(X_test)\n",
    "r2 = gm_cv.score(X_test, y_test)\n",
    "mse = mean_squared_error(y_test, y_pred)\n",
    "print(\"Tuned ElasticNet l1 ratio: {}\".format(gm_cv.best_params_))\n",
    "print(\"Tuned ElasticNet R squared: {}\".format(r2))\n",
    "print(\"Tuned ElasticNet MSE: {}\".format(mse))"
   ],
   "metadata": {
    "pycharm": {
     "name": "#%%\n"
    }
   },
   "id": "6eb11d0b-fef0-4990-8501-aeb472679e66",
   "cell_type": "code",
   "execution_count": 107,
   "outputs": [
    {
     "output_type": "stream",
     "name": "stdout",
     "text": "Tuned ElasticNet l1 ratio: {'l1_ratio': 0.20689655172413793}\nTuned ElasticNet R squared: 0.8668305372460283\nTuned ElasticNet MSE: 10.057914133398445\n"
    }
   ]
  },
  {
   "source": [
    "Now that we have basic understanding how to fine-tune your models, it's time to learn about preprocessing techniques and how to piece together all the different stages of the machine learning process into a pipeline!"
   ],
   "metadata": {
    "pycharm": {
     "name": "#%% md\n"
    }
   },
   "id": "f906a078-3a24-4015-9b46-0d3cddfe96ec",
   "cell_type": "markdown"
  },
  {
   "source": [
    "**Exploring categorical features**\n",
    "\n",
    "Gapminder datasets that you worked with in previous chapters also contained a categorical 'Region' feature, which we dropped since we didn't have the tools. We have added it back in now that you know about it!"
   ],
   "metadata": {
    "pycharm": {
     "name": "#%% md\n"
    }
   },
   "id": "a6b6cc34-a59f-43d1-9000-6bc478193747",
   "cell_type": "markdown"
  },
  {
   "source": [
    "# Import pandas\n",
    "import pandas as pd\n",
    "\n",
    "# Read 'gapminder.csv' into a DataFrame: df\n",
    "df = pd.read_csv(\"datasets/gm_2008_region.csv\")\n",
    "\n",
    "# Create a boxplot of life expectancy per region\n",
    "df.boxplot('life', 'Region', rot=60)\n",
    "\n",
    "# Show the plot\n",
    "plt.show()\n"
   ],
   "metadata": {
    "pycharm": {
     "name": "#%%\n"
    }
   },
   "id": "2c1b4b54-534a-456c-9673-dcbc1845e00c",
   "cell_type": "code",
   "execution_count": 108,
   "outputs": [
    {
     "output_type": "display_data",
     "data": {
      "text/plain": "<Figure size 640x480 with 1 Axes>",
      "image/png": "[encoded data removed]"
     },
     "metadata": {}
    }
   ]
  },
  {
   "source": [
    "**Creating dummy variables**\n",
    "\n",
    "Scikit-learn does not accept non-numerical features. Earlier we have learned that the 'Region' feature contains useful information for predicting life expectancy. Compared to Europe and Central Asia, Sub-Saharan Africa has a lower life expectancy. Thus, retaining the 'Region' feature is preferable if we are trying to predict life expectancy. In this exercise, we "
   ],
   "metadata": {
    "pycharm": {
     "name": "#%% md\n"
    }
   },
   "id": "e2681688-33ac-436c-b10d-f53403c59081",
   "cell_type": "markdown"
  },
  {
   "source": [
    "# Create dummy variables: df_region\n",
    "df_region = pd.get_dummies(df)\n",
    "\n",
    "# Print the columns of df_region\n",
    "print(df_region.columns)\n",
    "print(df.sample(10))\n",
    "\n",
    "# Create dummy variables with drop_first=True: df_region\n",
    "df_region = pd.get_dummies(df,drop_first=True)\n",
    "\n",
    "# Print the new columns of df_region\n",
    "print(df_region.columns)\n",
    "print(df.sample(10))"
   ],
   "metadata": {
    "pycharm": {
     "name": "#%%\n"
    }
   },
   "id": "096bd22f-70ef-4d63-86b0-599df78c9881",
   "cell_type": "code",
   "execution_count": 109,
   "outputs": [
    {
     "output_type": "stream",
     "name": "stdout",
     "text": "Index(['population', 'fertility', 'HIV', 'CO2', 'BMI_male', 'GDP',\n       'BMI_female', 'life', 'child_mortality', 'Region_America',\n       'Region_East Asia & Pacific', 'Region_Europe & Central Asia',\n       'Region_Middle East & North Africa', 'Region_South Asia',\n       'Region_Sub-Saharan Africa'],\n      dtype='object')\n      population  fertility  HIV       CO2  BMI_male      GDP  BMI_female  \\\n5      8331465.0       1.41  0.3  8.183160  26.46741  43952.0    124.1394   \n135   26952719.0       2.46  0.1  4.476669  25.32054   3733.0    124.3462   \n93   151115683.0       6.02  3.6  0.614690  23.03322   4684.0    135.4920   \n78    14223403.0       6.82  1.0  0.041079  21.78881   1602.0    128.0308   \n44     1473741.0       4.28  5.3  1.079539  24.07620  15800.0    130.3625   \n118   34470138.0       4.79  1.0  0.382118  22.40484   3246.0    129.7199   \n109    9109535.0       1.41  0.1  5.271223  26.51495  12522.0    130.3755   \n98     6540267.0       4.07  0.9  0.530746  25.01506   1982.0    120.0524   \n15     9599916.0       3.48  0.2  1.431829  24.43335   5066.0    122.4155   \n131   46028476.0       1.38  1.1  7.032359  25.42379   8762.0    131.4962   \n\n     life  child_mortality                 Region  \n5    80.4              4.6  Europe & Central Asia  \n135  68.7             49.2  Europe & Central Asia  \n93   58.0            140.9     Sub-Saharan Africa  \n78   55.8            148.3     Sub-Saharan Africa  \n44   57.5             68.0     Sub-Saharan Africa  \n118  67.4             84.7     Sub-Saharan Africa  \n109  76.4              8.0  Europe & Central Asia  \n98   58.2             69.7    East Asia & Pacific  \n15   70.9             52.0                America  \n131  68.2             12.9  Europe & Central Asia  \nIndex(['population', 'fertility', 'HIV', 'CO2', 'BMI_male', 'GDP',\n       'BMI_female', 'life', 'child_mortality', 'Region_East Asia & Pacific',\n       'Region_Europe & Central Asia', 'Region_Middle East & North Africa',\n       'Region_South Asia', 'Region_Sub-Saharan Africa'],\n      dtype='object')\n     population  fertility    HIV        CO2  BMI_male      GDP  BMI_female  \\\n68    2144215.0       1.50   0.60   3.341849  26.45693  20977.0    129.5746   \n2    40381860.0       2.24   0.50   4.785170  27.50170  14646.0    118.8915   \n86   22994867.0       5.54  11.40   0.104748  21.93536    864.0    135.3949   \n129  70344357.0       2.15   0.06   4.021903  26.70371  16454.0    124.0675   \n23   33363256.0       1.68   0.20  16.350399  27.45210  41468.0    118.0571   \n26   44901660.0       2.43   0.50   1.476092  24.94041  10489.0    124.0235   \n120   1153750.0       3.70  25.90   0.949861  23.16969   5887.0    131.8793   \n25   16645940.0       1.89   0.40   4.240259  27.01542  18698.0    125.5417   \n114   9132589.0       7.06   0.60   0.068219  21.96917    615.0    131.5318   \n77     321026.0       2.38   0.06   3.277726  23.21991  12029.0    123.3223   \n\n     life  child_mortality                 Region  \n68   72.3             10.5  Europe & Central Asia  \n2    75.5             15.4                America  \n86   55.0            114.4     Sub-Saharan Africa  \n129  75.1             22.2  Europe & Central Asia  \n23   80.7              5.8                America  \n26   75.1             19.7                America  \n120  46.1            112.2     Sub-Saharan Africa  \n25   78.9              8.9                America  \n114  56.7            168.5     Sub-Saharan Africa  \n77   78.2             16.0             South Asia  \n"
    }
   ]
  },
  {
   "source": [
    "**Using categorical features in regression**\n",
    "\n",
    "We can now build regression models using the dummy variables we have created using the 'Region' feature. We will perform 5-fold cross-validation here using ridge regression."
   ],
   "metadata": {
    "pycharm": {
     "name": "#%% md\n"
    }
   },
   "id": "7ad281e0-d744-4c9f-bd7c-d896d148fc5f",
   "cell_type": "markdown"
  },
  {
   "source": [
    "df=pd.read_csv('datasets/gm_2008_region.csv')\n",
    "df_region=pd.get_dummies(df)\n",
    "df_region=df_region.drop('Region_America',axis=1)\n",
    "X=df_region.drop('life',axis=1).values\n",
    "y=df_region['life'].values"
   ],
   "metadata": {
    "pycharm": {
     "name": "#%%\n"
    }
   },
   "id": "d0c0c327-3961-418b-b4d2-c452e529e27e",
   "cell_type": "code",
   "execution_count": 110,
   "outputs": []
  },
  {
   "source": [
    "# Import necessary modules\n",
    "from sklearn.linear_model import Ridge\n",
    "from sklearn.model_selection import cross_val_score\n",
    "\n",
    "# Instantiate a ridge regressor: ridge\n",
    "ridge = Ridge(alpha=0.5, normalize=True)\n",
    "\n",
    "# Perform 5-fold cross-validation: ridge_cv\n",
    "ridge_cv = cross_val_score(ridge,X,y,cv=5)\n",
    "\n",
    "# Print the cross-validated scores\n",
    "print(ridge_cv)\n"
   ],
   "metadata": {
    "pycharm": {
     "name": "#%%\n"
    }
   },
   "id": "8079096f-7a65-4138-83d9-0bcd6271bad7",
   "cell_type": "code",
   "execution_count": 111,
   "outputs": [
    {
     "output_type": "stream",
     "name": "stdout",
     "text": "[0.86808336 0.80623545 0.84004203 0.7754344  0.87503712]\n"
    }
   ]
  },
  {
   "source": [
    "**Dropping missing data**\n",
    "\n",
    "Earlier excercise voting dataset contained a bunch of missing values that we handled behind the scenes. Now it's your turn!\n",
    "\n",
    "DataFrame df loaded with unprocessed dataset. Use the .head() method in the IPython Shell. Some data points are labeled with '?'. Missing values are here. Different datasets encode missing values differently. Data in real life can be messy - sometimes a 9999, sometimes a 0. It's possible that the missing values are already encoded as NaN. By using NaN, we can take advantage of pandas methods like .dropna() and .fillna(), as well as scikit-learn's Imputation transformer Imputer().\n",
    "\n",
    "This exercise requires you to convert '? to NaNs, and then drop the rows that contain them."
   ],
   "metadata": {
    "pycharm": {
     "name": "#%% md\n"
    }
   },
   "id": "3705e3f3-fa4d-4e96-af63-73dd032b1e9e",
   "cell_type": "markdown"
  },
  {
   "source": [
    "# Convert '?' to NaN\n",
    "df[df == '?'] = np.nan\n",
    "\n",
    "# Print the number of NaNs\n",
    "print(df.isnull().sum())\n",
    "\n",
    "# Print shape of original DataFrame\n",
    "print(\"Shape of Original DataFrame: {}\".format(df.shape))\n",
    "\n",
    "# Drop missing values and print shape of new DataFrame\n",
    "df = df.dropna()\n",
    "\n",
    "# Print shape of new DataFrame\n",
    "print(\"Shape of DataFrame After Dropping All Rows with Missing Values: {}\".format(df.shape))\n"
   ],
   "metadata": {
    "pycharm": {
     "name": "#%%\n"
    }
   },
   "id": "55ccdf16-e627-4f71-b1c4-f0a9ee93624d",
   "cell_type": "code",
   "execution_count": 112,
   "outputs": [
    {
     "output_type": "stream",
     "name": "stdout",
     "text": "population         0\nfertility          0\nHIV                0\nCO2                0\nBMI_male           0\nGDP                0\nBMI_female         0\nlife               0\nchild_mortality    0\nRegion             0\ndtype: int64\nShape of Original DataFrame: (139, 10)\nShape of DataFrame After Dropping All Rows with Missing Values: (139, 10)\n"
    }
   ]
  },
  {
   "source": [
    "When many values in your dataset are missing, if you drop them, you may end up throwing away valuable information along with the missing data. It's better instead to develop an imputation strategy. This is where domain knowledge is useful, but in the absence of it, you can impute missing values with the mean or the median of the row or column that the missing value is in"
   ],
   "metadata": {
    "pycharm": {
     "name": "#%% md\n"
    }
   },
   "id": "cd0cc375-8abb-4e60-a8a4-f62e4beac1e9",
   "cell_type": "markdown"
  },
  {
   "source": [
    "**Imputing missing data in a ML Pipeline I**\n",
    "\n",
    "The process of building a model involves many steps, such as creating training and test sets, fitting a classifier or regressor, tuning its parameters, and evaluating its performance. In this machine learning process, imputation is the first step, which is viewed as part of a pipeline. With Scikit-learn, we can piece together these steps into one process and simplify your workflow.\n",
    "\n",
    "We will now practice setting up a pipeline with two steps: imputation and classifier instantiation. We have so far tried three classifiers: k-NN, logistic regression, and decision trees. The Support Vector Machine, or SVM, is the fourth. Don't worry about how it works. As with the scikit-learn estimators we have worked with before, it has the same .fit() and .predict() methods."
   ],
   "metadata": {
    "pycharm": {
     "name": "#%% md\n"
    }
   },
   "id": "e9ac243d-db74-4304-8caf-23a61a5367b8",
   "cell_type": "markdown"
  },
  {
   "source": [
    "# Import the Imputer module\n",
    "from sklearn.impute import SimpleImputer\n",
    "from sklearn.svm import SVC\n",
    "\n",
    "# Setup the Imputation transformer: imp\n",
    "imp = SimpleImputer(missing_values='NaN', strategy='most_frequent')\n",
    "\n",
    "# Instantiate the SVC classifier: clf\n",
    "clf = SVC()\n",
    "\n",
    "# Setup the pipeline with the required steps: steps\n",
    "steps = [('imputation', imp),\n",
    "        ('SVM', clf)]"
   ],
   "metadata": {
    "pycharm": {
     "name": "#%%\n"
    }
   },
   "id": "92c9a202-f2a1-4749-bd32-0d1cec0de3cd",
   "cell_type": "code",
   "execution_count": 113,
   "outputs": []
  },
  {
   "source": [
    "**Imputing missing data in a ML Pipeline II**\n",
    "\n",
    "Having setup the steps of the pipeline in the previous exercise, you will now use it on the voting dataset to classify a Congressman's party affiliation. What makes pipelines so incredibly useful is the simple interface that they provide. You can use the .fit() and .predict() methods on pipelines just as you did with your classifiers and regressors! "
   ],
   "metadata": {
    "pycharm": {
     "name": "#%% md\n"
    }
   },
   "id": "fff08e1e-5327-4b13-8e0c-2136ecdf0c10",
   "cell_type": "markdown"
  },
  {
   "source": [
    "# Import necessary modules\n",
    "from sklearn.pipeline import Pipeline\n",
    "\n",
    "df = pd.read_csv('datasets/votes-ch1.csv')\n",
    "y = df['party'].values\n",
    "X = df.drop('party', axis=1).values\n",
    "\n",
    "# Setup the pipeline steps: steps\n",
    "steps = [('imputation', SimpleImputer(missing_values=np.nan, strategy='most_frequent')),\n",
    "        ('SVM', SVC())]\n",
    "\n",
    "# Create the pipeline: pipeline\n",
    "pipeline = Pipeline(steps)\n",
    "\n",
    "# Create training and test sets\n",
    "X_train, X_test, y_train, y_test = train_test_split(X,y,test_size=0.3,random_state=42)\n",
    "\n",
    "# Fit the pipeline to the train set\n",
    "pipeline.fit(X_train,y_train)\n",
    "\n",
    "# Predict the labels of the test set\n",
    "y_pred = pipeline.predict(X_test)\n",
    "\n",
    "# Compute metrics\n",
    "print(classification_report(y_test, y_pred))\n"
   ],
   "metadata": {
    "pycharm": {
     "name": "#%%\n"
    }
   },
   "id": "ea5c46a7-67f3-475f-83e2-e5a136ff6506",
   "cell_type": "code",
   "execution_count": 114,
   "outputs": [
    {
     "output_type": "stream",
     "name": "stdout",
     "text": "              precision    recall  f1-score   support\n\n    democrat       0.98      0.96      0.97        85\n  republican       0.94      0.96      0.95        46\n\n    accuracy                           0.96       131\n   macro avg       0.96      0.96      0.96       131\nweighted avg       0.96      0.96      0.96       131\n\n"
    }
   ]
  },
  {
   "source": [
    "**Centering and scaling your data**\n",
    "\n",
    "In the video, Hugo demonstrated how significantly the performance of a model can improve if the features are scaled. Note that this is not always the case: In the Congressional voting records dataset, for example, all of the features are binary. In such a situation, scaling will have minimal impact.\n",
    "\n",
    "You will now explore scaling for yourself on a new dataset - White Wine Quality! Hugo used the Red Wine Quality dataset in the video. We have used the 'quality' feature of the wine to create a binary target variable: If 'quality'is less than 5, the target variable is 1, and otherwise, it is 0.\n",
    "\n",
    "The DataFrame has been pre-loaded as df, along with the feature and target variable arrays X and y. Explore it in the IPython Shell. Notice how some features seem to have different units of measurement. 'density', for instance, takes values between 0.98 and 1.04, while 'total sulfur dioxide' ranges from 9 to 440. As a result, it may be worth scaling the features here. Your job in this exercise is to scale the features and compute the mean and standard deviation of the unscaled features compared to the scaled features."
   ],
   "metadata": {
    "pycharm": {
     "name": "#%% md\n"
    }
   },
   "id": "8f3a64e0-7af7-47ff-89db-951f1a632902",
   "cell_type": "markdown"
  },
  {
   "source": [
    "df = pd.read_csv('datasets/white-wine.csv')\n",
    "X = df.drop('quality' , 1).values # drop target variable\n",
    "y1 = df['quality'].values\n",
    "y = y1 <= 5\n",
    "\n",
    "# Import scale\n",
    "from sklearn.preprocessing import scale\n",
    "\n",
    "# Scale the features: X_scaled\n",
    "X_scaled = scale(X)\n",
    "\n",
    "# Print the mean and standard deviation of the unscaled features\n",
    "print(\"Mean of Unscaled Features: {}\".format(np.mean(X)))\n",
    "print(\"Standard Deviation of Unscaled Features: {}\".format(np.std(X)))\n",
    "\n",
    "# Print the mean and standard deviation of the scaled features\n",
    "print(\"Mean of Scaled Features: {}\".format(np.mean(X_scaled)))\n",
    "print(\"Standard Deviation of Scaled Features: {}\".format(np.std(X_scaled)))"
   ],
   "metadata": {
    "pycharm": {
     "name": "#%%\n"
    }
   },
   "id": "bbd1489a-e443-4fb0-bc91-5e99384f77c6",
   "cell_type": "code",
   "execution_count": 115,
   "outputs": [
    {
     "output_type": "stream",
     "name": "stdout",
     "text": "Mean of Unscaled Features: 18.432687072460002\nStandard Deviation of Unscaled Features: 41.54494764094571\nMean of Scaled Features: 2.7452128118308485e-15\nStandard Deviation of Scaled Features: 0.9999999999999999\n"
    }
   ]
  },
  {
   "source": [
    "**Centering and scaling in a pipeline**\n",
    "\n",
    "With regard to whether or not scaling is effective, the proof is in the pudding! See for yourself whether or not scaling the features of the White Wine Quality dataset has any impact on its performance. You will use a k-NN classifier as part of a pipeline that includes scaling, and for the purposes of comparison, a k-NN classifier trained on the unscaled data has been provided. "
   ],
   "metadata": {
    "pycharm": {
     "name": "#%% md\n"
    }
   },
   "id": "adbc894e-42e7-45d7-8e27-4763ae451741",
   "cell_type": "markdown"
  },
  {
   "source": [
    "# modified/added by Jinny\n",
    "import pandas as pd\n",
    "df = pd.read_csv('datasets/white-wine.csv')\n",
    "X = df.drop('quality' , 1).values # drop target variable\n",
    "y1 = df['quality'].values\n",
    "y = y1 <= 5\n",
    "\n",
    "from sklearn.model_selection import train_test_split\n",
    "from sklearn.neighbors import KNeighborsClassifier\n",
    "\n",
    "\n",
    "# Import the necessary modules\n",
    "from sklearn.preprocessing import StandardScaler\n",
    "from sklearn.pipeline import Pipeline\n",
    "\n",
    "# Setup the pipeline steps: steps\n",
    "steps = [('scaler', StandardScaler()),\n",
    "        ('knn', KNeighborsClassifier())]\n",
    "\n",
    "# Create the pipeline: pipeline\n",
    "pipeline = Pipeline(steps)\n",
    "\n",
    "# Create train and test sets\n",
    "X_train, X_test, y_train, y_test = train_test_split(X,y,test_size=0.3,random_state=42)\n",
    "\n",
    "# Fit the pipeline to the training set: knn_scaled\n",
    "knn_scaled = pipeline.fit(X_train,y_train)\n",
    "\n",
    "# Instantiate and fit a k-NN classifier to the unscaled data\n",
    "knn_unscaled = KNeighborsClassifier().fit(X_train, y_train)\n",
    "\n",
    "# Compute and print metrics\n",
    "print('Accuracy with Scaling: {}'.format(knn_scaled.score(X_test, y_test)))\n",
    "print('Accuracy without Scaling: {}'.format(knn_unscaled.score(X_test, y_test)))\n"
   ],
   "metadata": {
    "pycharm": {
     "name": "#%%\n"
    }
   },
   "id": "cb948d19-8f13-4bf4-a851-53b467c7992f",
   "cell_type": "code",
   "execution_count": 116,
   "outputs": [
    {
     "output_type": "stream",
     "name": "stdout",
     "text": "Accuracy with Scaling: 0.7700680272108843\nAccuracy without Scaling: 0.6979591836734694\n"
    }
   ]
  },
  {
   "source": [
    "Fantastic! It looks like scaling has significantly improved model performance!"
   ],
   "metadata": {
    "pycharm": {
     "name": "#%% md\n"
    }
   },
   "id": "5d5a6837-1c17-4f4a-bf5c-732d06365037",
   "cell_type": "markdown"
  },
  {
   "source": [
    "Bringing it all together I: Pipeline for classification\n",
    "\n",
    "It is time now to piece together everything you have learned so far into a pipeline for classification! Your job in this exercise is to build a pipeline that includes scaling and hyperparameter tuning to classify wine quality.\n",
    "\n",
    "You'll return to using the SVM classifier you were briefly introduced to earlier in this chapter. The hyperparameters you will tune are C and gamma. C controls the regularization strength. It is analogous to the you tuned for logistic regression in Chapter 3, while gammagamma controls the kernel coefficient: Do not worry about this now as it is beyond the scope of this course."
   ],
   "metadata": {
    "pycharm": {
     "name": "#%% md\n"
    }
   },
   "id": "0a753690-1b59-4ffb-93b1-ba1ce009ad50",
   "cell_type": "markdown"
  },
  {
   "source": [
    "import pandas as pd\n",
    "df = pd.read_csv('datasets/white-wine.csv')\n",
    "X = df.drop('quality' , 1).values # drop target variable\n",
    "y1 = df['quality'].values\n",
    "y = y1 <= 5\n",
    "import matplotlib.pyplot as plt\n",
    "\n",
    "from sklearn.preprocessing import StandardScaler\n",
    "\n",
    "from sklearn.model_selection import train_test_split\n",
    "from sklearn.pipeline import Pipeline\n",
    "from sklearn.metrics import accuracy_score\n",
    "from sklearn.metrics import classification_report\n",
    "from sklearn.model_selection import GridSearchCV\n",
    "from sklearn.svm import SVC"
   ],
   "metadata": {
    "pycharm": {
     "name": "#%%\n"
    }
   },
   "id": "8a1ed7a9-f339-43c0-bca6-55dcbd4c1ca8",
   "cell_type": "code",
   "execution_count": 117,
   "outputs": []
  },
  {
   "source": [
    "# Setup the pipeline\n",
    "steps = [('scaler', StandardScaler()),\n",
    "         ('SVM', SVC())]\n",
    "\n",
    "pipeline = Pipeline(steps)\n",
    "\n",
    "# Specify the hyperparameter space\n",
    "parameters = {'SVM__C':[1, 10, 100],\n",
    "              'SVM__gamma':[0.1, 0.01]}\n",
    "\n",
    "# Create train and test sets\n",
    "X_train, X_test, y_train, y_test = train_test_split(X,y,test_size=0.2,random_state=21)\n",
    "\n",
    "# Instantiate the GridSearchCV object: cv\n",
    "cv = GridSearchCV(pipeline,parameters,cv=3)\n",
    "\n",
    "# Fit to the training set\n",
    "cv.fit(X_train,y_train)\n",
    "\n",
    "# Predict the labels of the test set: y_pred\n",
    "y_pred = cv.predict(X_test)\n",
    "\n",
    "# Compute and print metrics\n",
    "print(\"Accuracy: {}\".format(cv.score(X_test, y_test)))\n",
    "print(classification_report(y_test, y_pred))\n",
    "print(\"Tuned Model Parameters: {}\".format(cv.best_params_))"
   ],
   "metadata": {
    "pycharm": {
     "name": "#%%\n"
    }
   },
   "id": "4f8778cd-715e-4279-8da1-0971870e6708",
   "cell_type": "code",
   "execution_count": 118,
   "outputs": [
    {
     "output_type": "stream",
     "name": "stdout",
     "text": "Accuracy: 0.7795918367346939\n              precision    recall  f1-score   support\n\n       False       0.83      0.85      0.84       662\n        True       0.67      0.63      0.65       318\n\n    accuracy                           0.78       980\n   macro avg       0.75      0.74      0.74       980\nweighted avg       0.78      0.78      0.78       980\n\nTuned Model Parameters: {'SVM__C': 10, 'SVM__gamma': 0.1}\n"
    }
   ]
  },
  {
   "source": [
    "**Bringing it all together II: Pipeline for regression**\n",
    "\n",
    "For this final exercise, you will return to the Gapminder dataset. Guess what? Even this dataset has missing values that we dealt with for you in earlier chapters! Now, you have all the tools to take care of them yourself!\n",
    "\n",
    "Your job is to build a pipeline that imputes the missing data, scales the features, and fits an ElasticNet to the Gapminder data. You will then tune the l1_ratio of your ElasticNet using GridSearchCV."
   ],
   "metadata": {
    "pycharm": {
     "name": "#%% md\n"
    }
   },
   "id": "53c47294-ba92-41df-93be-8466261c68a3",
   "cell_type": "markdown"
  },
  {
   "source": [
    "\n",
    "\n",
    "# modified/added by Jinny\n",
    "import numpy as np\n",
    "import pandas as pd\n",
    "import matplotlib.pyplot as plt\n",
    "plt.style.use('ggplot')\n",
    "df = pd.read_csv('gapminder-clean.csv')\n",
    "\n",
    "y = df['life'].values\n",
    "X = df.drop('life', axis=1).values\n",
    "\n",
    "from sklearn.impute import SimpleImputer\n",
    "from sklearn.pipeline import Pipeline\n",
    "from sklearn.model_selection import train_test_split\n",
    "from sklearn.linear_model import ElasticNet\n",
    "from sklearn.metrics import mean_squared_error\n",
    "from sklearn.metrics import r2_score\n",
    "from sklearn.model_selection import GridSearchCV\n",
    "from sklearn.model_selection import train_test_split\n",
    "from sklearn.preprocessing import StandardScaler\n",
    "\n",
    "\n",
    "\n",
    "\n",
    "# Setup the pipeline steps: steps\n",
    "# modified by Jinny: Imputer -> SimpleImputer\n",
    "steps = [('imputation', SimpleImputer(missing_values=np.nan, strategy='mean')),\n",
    "         ('scaler', StandardScaler()),\n",
    "         ('elasticnet', ElasticNet())]\n",
    "\n",
    "# Create the pipeline: pipeline\n",
    "pipeline = Pipeline(steps)\n",
    "\n",
    "# Specify the hyperparameter space\n",
    "parameters = {'elasticnet__l1_ratio':np.linspace(0,1,30)}\n",
    "\n",
    "# Create train and test sets\n",
    "X_train, X_test, y_train, y_test = train_test_split(X, y, test_size=0.4, random_state=42)\n",
    "\n",
    "# Create the GridSearchCV object: gm_cv\n",
    "gm_cv = GridSearchCV(pipeline, parameters, cv=3)\n",
    "\n",
    "# Fit to the training set\n",
    "gm_cv.fit(X_train, y_train)\n",
    "\n",
    "# Compute and print the metrics\n",
    "r2 = gm_cv.score(X_test, y_test)\n",
    "print(\"Tuned ElasticNet Alpha: {}\".format(gm_cv.best_params_))\n",
    "print(\"Tuned ElasticNet R squared: {}\".format(r2))\n"
   ],
   "metadata": {
    "pycharm": {
     "name": "#%%\n"
    }
   },
   "id": "60a36c21-c3af-421b-92a7-2c7e765c9581",
   "cell_type": "code",
   "execution_count": 119,
   "outputs": [
    {
     "output_type": "stream",
     "name": "stdout",
     "text": "Tuned ElasticNet Alpha: {'elasticnet__l1_ratio': 1.0}\nTuned ElasticNet R squared: 0.8862016570888216\n"
    }
   ]
  }
 ],
 "metadata": {
  "colab": {
   "name": "Welcome to DataCamp Workspaces.ipynb",
   "provenance": []
  },
  "kernelspec": {
   "display_name": "Python 3 (ipykernel)",
   "language": "python",
   "name": "python3"
  },
  "language_info": {
   "name": "python",
   "version": "3.8.10",
   "mimetype": "text/x-python",
   "codemirror_mode": {
    "name": "ipython",
    "version": 3
   },
   "pygments_lexer": "ipython3",
   "nbconvert_exporter": "python",
   "file_extension": ".py"
  },
  "editor": "DataCamp Workspace"
 },
 "nbformat": 4,
 "nbformat_minor": 5
}