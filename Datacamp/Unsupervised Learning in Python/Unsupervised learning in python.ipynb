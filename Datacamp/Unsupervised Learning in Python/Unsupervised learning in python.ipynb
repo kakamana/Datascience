{
 "cells": [
  {
   "cell_type": "markdown",
   "source": [
    "# **Unsupervised Learning in Python**\n",
    "\n",
    "Consider a collection of customers with varying characteristics, such as age, location, and financial history, and we wish to discover patterns and sort them. Maybe we have a set of texts, such as Wikipedia pages, that we wish to categorize.\n",
    "\n",
    "Unsupervised learning is when we uncover hidden structure from unlabeled data without guiding, supervising, or guiding, the pattern discovery. The field of unsupervised learning encompasses a variety of techniques, from clustering to dimension reduction to matrix factorization.\n",
    "\n",
    "Through scikit-learn and scipy, we'll learn and explore the fundamentals of unsupervised learning. We will learn how to cluster, transform, visualize, and extract insights from unlabeled datasets, and build a recommender system to recommend popular musical artists.\n",
    "\n",
    "\n",
    "\n",
    "1.  Clustering for dataset exploration\n",
    "2.  Visualization with hierarchical clustering and t-SNE\n",
    "3.  Decorrelating your data and dimension reduction\n",
    "4.  Discovering interpretable features\n",
    "\n",
    "\n",
    "\n"
   ],
   "metadata": {
    "collapsed": false,
    "pycharm": {
     "name": "#%% md\n"
    }
   }
  },
  {
   "cell_type": "markdown",
   "source": [
    "## 1. Clustering for dataset exploration"
   ],
   "metadata": {
    "collapsed": false,
    "pycharm": {
     "name": "#%% md\n"
    }
   }
  },
  {
   "cell_type": "code",
   "execution_count": 1,
   "outputs": [],
   "source": [
    "# Import plotting modules\n",
    "import matplotlib.pyplot as plt\n",
    "import seaborn as sns\n",
    "import pandas as pd\n",
    "import numpy as np\n",
    "plt.style.use('ggplot')"
   ],
   "metadata": {
    "collapsed": false,
    "pycharm": {
     "name": "#%%\n"
    }
   }
  },
  {
   "cell_type": "markdown",
   "source": [
    "### K-means clustering for Iris dataset"
   ],
   "metadata": {
    "collapsed": false,
    "pycharm": {
     "name": "#%% md\n"
    }
   }
  },
  {
   "cell_type": "code",
   "execution_count": 2,
   "outputs": [],
   "source": [
    "# k-means clustering with scikit-learn\n",
    "\n",
    "from sklearn.datasets import load_iris\n",
    "samples = load_iris()['data']"
   ],
   "metadata": {
    "collapsed": false,
    "pycharm": {
     "name": "#%%\n"
    }
   }
  },
  {
   "cell_type": "code",
   "execution_count": 4,
   "outputs": [
    {
     "name": "stdout",
     "output_type": "stream",
     "text": [
      "[[5.4 3.7 1.5 0.2]\n",
      " [4.8 3.4 1.6 0.2]\n",
      " [4.8 3.  1.4 0.1]\n",
      " [4.3 3.  1.1 0.1]\n",
      " [5.8 4.  1.2 0.2]\n",
      " [5.7 4.4 1.5 0.4]\n",
      " [5.4 3.9 1.3 0.4]\n",
      " [5.1 3.5 1.4 0.3]\n",
      " [5.7 3.8 1.7 0.3]\n",
      " [5.1 3.8 1.5 0.3]\n",
      " [5.4 3.4 1.7 0.2]\n",
      " [5.1 3.7 1.5 0.4]\n",
      " [4.6 3.6 1.  0.2]\n",
      " [5.1 3.3 1.7 0.5]\n",
      " [4.8 3.4 1.9 0.2]]\n"
     ]
    }
   ],
   "source": [
    "print(samples[10:25])"
   ],
   "metadata": {
    "collapsed": false,
    "pycharm": {
     "name": "#%%\n"
    }
   }
  },
  {
   "cell_type": "code",
   "execution_count": 5,
   "outputs": [
    {
     "data": {
      "text/plain": "KMeans(n_clusters=3)",
      "text/html": "<style>#sk-container-id-1 {color: black;background-color: white;}#sk-container-id-1 pre{padding: 0;}#sk-container-id-1 div.sk-toggleable {background-color: white;}#sk-container-id-1 label.sk-toggleable__label {cursor: pointer;display: block;width: 100%;margin-bottom: 0;padding: 0.3em;box-sizing: border-box;text-align: center;}#sk-container-id-1 label.sk-toggleable__label-arrow:before {content: \"▸\";float: left;margin-right: 0.25em;color: #696969;}#sk-container-id-1 label.sk-toggleable__label-arrow:hover:before {color: black;}#sk-container-id-1 div.sk-estimator:hover label.sk-toggleable__label-arrow:before {color: black;}#sk-container-id-1 div.sk-toggleable__content {max-height: 0;max-width: 0;overflow: hidden;text-align: left;background-color: #f0f8ff;}#sk-container-id-1 div.sk-toggleable__content pre {margin: 0.2em;color: black;border-radius: 0.25em;background-color: #f0f8ff;}#sk-container-id-1 input.sk-toggleable__control:checked~div.sk-toggleable__content {max-height: 200px;max-width: 100%;overflow: auto;}#sk-container-id-1 input.sk-toggleable__control:checked~label.sk-toggleable__label-arrow:before {content: \"▾\";}#sk-container-id-1 div.sk-estimator input.sk-toggleable__control:checked~label.sk-toggleable__label {background-color: #d4ebff;}#sk-container-id-1 div.sk-label input.sk-toggleable__control:checked~label.sk-toggleable__label {background-color: #d4ebff;}#sk-container-id-1 input.sk-hidden--visually {border: 0;clip: rect(1px 1px 1px 1px);clip: rect(1px, 1px, 1px, 1px);height: 1px;margin: -1px;overflow: hidden;padding: 0;position: absolute;width: 1px;}#sk-container-id-1 div.sk-estimator {font-family: monospace;background-color: #f0f8ff;border: 1px dotted black;border-radius: 0.25em;box-sizing: border-box;margin-bottom: 0.5em;}#sk-container-id-1 div.sk-estimator:hover {background-color: #d4ebff;}#sk-container-id-1 div.sk-parallel-item::after {content: \"\";width: 100%;border-bottom: 1px solid gray;flex-grow: 1;}#sk-container-id-1 div.sk-label:hover label.sk-toggleable__label {background-color: #d4ebff;}#sk-container-id-1 div.sk-serial::before {content: \"\";position: absolute;border-left: 1px solid gray;box-sizing: border-box;top: 0;bottom: 0;left: 50%;z-index: 0;}#sk-container-id-1 div.sk-serial {display: flex;flex-direction: column;align-items: center;background-color: white;padding-right: 0.2em;padding-left: 0.2em;position: relative;}#sk-container-id-1 div.sk-item {position: relative;z-index: 1;}#sk-container-id-1 div.sk-parallel {display: flex;align-items: stretch;justify-content: center;background-color: white;position: relative;}#sk-container-id-1 div.sk-item::before, #sk-container-id-1 div.sk-parallel-item::before {content: \"\";position: absolute;border-left: 1px solid gray;box-sizing: border-box;top: 0;bottom: 0;left: 50%;z-index: -1;}#sk-container-id-1 div.sk-parallel-item {display: flex;flex-direction: column;z-index: 1;position: relative;background-color: white;}#sk-container-id-1 div.sk-parallel-item:first-child::after {align-self: flex-end;width: 50%;}#sk-container-id-1 div.sk-parallel-item:last-child::after {align-self: flex-start;width: 50%;}#sk-container-id-1 div.sk-parallel-item:only-child::after {width: 0;}#sk-container-id-1 div.sk-dashed-wrapped {border: 1px dashed gray;margin: 0 0.4em 0.5em 0.4em;box-sizing: border-box;padding-bottom: 0.4em;background-color: white;}#sk-container-id-1 div.sk-label label {font-family: monospace;font-weight: bold;display: inline-block;line-height: 1.2em;}#sk-container-id-1 div.sk-label-container {text-align: center;}#sk-container-id-1 div.sk-container {/* jupyter's `normalize.less` sets `[hidden] { display: none; }` but bootstrap.min.css set `[hidden] { display: none !important; }` so we also need the `!important` here to be able to override the default hidden behavior on the sphinx rendered scikit-learn.org. See: https://github.com/scikit-learn/scikit-learn/issues/21755 */display: inline-block !important;position: relative;}#sk-container-id-1 div.sk-text-repr-fallback {display: none;}</style><div id=\"sk-container-id-1\" class=\"sk-top-container\"><div class=\"sk-text-repr-fallback\"><pre>KMeans(n_clusters=3)</pre><b>In a Jupyter environment, please rerun this cell to show the HTML representation or trust the notebook. <br />On GitHub, the HTML representation is unable to render, please try loading this page with nbviewer.org.</b></div><div class=\"sk-container\" hidden><div class=\"sk-item\"><div class=\"sk-estimator sk-toggleable\"><input class=\"sk-toggleable__control sk-hidden--visually\" id=\"sk-estimator-id-1\" type=\"checkbox\" checked><label for=\"sk-estimator-id-1\" class=\"sk-toggleable__label sk-toggleable__label-arrow\">KMeans</label><div class=\"sk-toggleable__content\"><pre>KMeans(n_clusters=3)</pre></div></div></div></div></div>"
     },
     "execution_count": 5,
     "metadata": {},
     "output_type": "execute_result"
    }
   ],
   "source": [
    "from sklearn.cluster import KMeans\n",
    "model=KMeans(n_clusters=3)\n",
    "model.fit(samples)"
   ],
   "metadata": {
    "collapsed": false,
    "pycharm": {
     "name": "#%%\n"
    }
   }
  },
  {
   "cell_type": "code",
   "execution_count": 7,
   "outputs": [
    {
     "name": "stdout",
     "output_type": "stream",
     "text": [
      "[0 0 0 0 0 1 1 2 1 1]\n"
     ]
    }
   ],
   "source": [
    "labels=model.predict(samples)\n",
    "print(labels[45:55])"
   ],
   "metadata": {
    "collapsed": false,
    "pycharm": {
     "name": "#%%\n"
    }
   }
  },
  {
   "cell_type": "code",
   "execution_count": 8,
   "outputs": [
    {
     "name": "stdout",
     "output_type": "stream",
     "text": [
      "[[6.5 3.  5.2 2. ]\n",
      " [6.2 3.4 5.4 2.3]\n",
      " [5.9 3.  5.1 1.8]]\n"
     ]
    }
   ],
   "source": [
    "# Cluster labels for new samples\n",
    "new_samples=samples[-3:]\n",
    "print(new_samples)"
   ],
   "metadata": {
    "collapsed": false,
    "pycharm": {
     "name": "#%%\n"
    }
   }
  },
  {
   "cell_type": "code",
   "execution_count": 9,
   "outputs": [
    {
     "name": "stdout",
     "output_type": "stream",
     "text": [
      "[2 2 1]\n"
     ]
    }
   ],
   "source": [
    "new_labels=model.predict(new_samples)\n",
    "print(new_labels)"
   ],
   "metadata": {
    "collapsed": false,
    "pycharm": {
     "name": "#%%\n"
    }
   }
  },
  {
   "cell_type": "markdown",
   "source": [
    "**Scatter plots**"
   ],
   "metadata": {
    "collapsed": false,
    "pycharm": {
     "name": "#%% md\n"
    }
   }
  },
  {
   "cell_type": "code",
   "execution_count": 11,
   "outputs": [
    {
     "data": {
      "text/plain": "<Figure size 432x288 with 1 Axes>",
      "image/png": "[encoded data removed]"
     },
     "metadata": {
      "needs_background": "light"
     },
     "output_type": "display_data"
    }
   ],
   "source": [
    "xs=samples[:,0]\n",
    "ys=samples[:,2]\n",
    "plt.scatter(xs,ys,c=labels,s=10)\n",
    "plt.show()"
   ],
   "metadata": {
    "collapsed": false,
    "pycharm": {
     "name": "#%%\n"
    }
   }
  },
  {
   "cell_type": "code",
   "execution_count": 12,
   "outputs": [],
   "source": [
    "# How many clusters?\n",
    "\n",
    "points = np.array([[ 0.06544649, -0.76866376],\n",
    "       [-1.52901547, -0.42953079],\n",
    "       [ 1.70993371,  0.69885253],\n",
    "       [ 1.16779145,  1.01262638],\n",
    "       [-1.80110088, -0.31861296],\n",
    "       [-1.63567888, -0.02859535],\n",
    "       [ 1.21990375,  0.74643463],\n",
    "       [-0.26175155, -0.62492939],\n",
    "       [-1.61925804, -0.47983949],\n",
    "       [-1.84329582, -0.16694431],\n",
    "       [ 1.35999602,  0.94995827],\n",
    "       [ 0.42291856, -0.7349534 ],\n",
    "       [-1.68576139,  0.10686728],\n",
    "       [ 0.90629995,  1.09105162],\n",
    "       [-1.56478322, -0.84675394],\n",
    "       [-0.0257849 , -1.18672539],\n",
    "       [ 0.83027324,  1.14504612],\n",
    "       [ 1.22450432,  1.35066759],\n",
    "       [-0.15394596, -0.71704301],\n",
    "       [ 0.86358809,  1.06824613],\n",
    "       [-1.43386366, -0.2381297 ],\n",
    "       [ 0.03844769, -0.74635022],\n",
    "       [-1.58567922,  0.08499354],\n",
    "       [ 0.6359888 , -0.58477698],\n",
    "       [ 0.24417242, -0.53172465],\n",
    "       [-2.19680359,  0.49473677],\n",
    "       [ 1.0323503 , -0.55688   ],\n",
    "       [-0.28858067, -0.39972528],\n",
    "       [ 0.20597008, -0.80171536],\n",
    "       [-1.2107308 , -0.34924109],\n",
    "       [ 1.33423684,  0.7721489 ],\n",
    "       [ 1.19480152,  1.04788556],\n",
    "       [ 0.9917477 ,  0.89202008],\n",
    "       [-1.8356219 , -0.04839732],\n",
    "       [ 0.08415721, -0.71564326],\n",
    "       [-1.48970175, -0.19299604],\n",
    "       [ 0.38782418, -0.82060119],\n",
    "       [-0.01448044, -0.9779841 ],\n",
    "       [-2.0521341 , -0.02129125],\n",
    "       [ 0.10331194, -0.82162781],\n",
    "       [-0.44189315, -0.65710974],\n",
    "       [ 1.10390926,  1.02481182],\n",
    "       [-1.59227759, -0.17374038],\n",
    "       [-1.47344152, -0.02202853],\n",
    "       [-1.35514704,  0.22971067],\n",
    "       [ 0.0412337 , -1.23776622],\n",
    "       [ 0.4761517 , -1.13672124],\n",
    "       [ 1.04335676,  0.82345905],\n",
    "       [-0.07961882, -0.85677394],\n",
    "       [ 0.87065059,  1.08052841],\n",
    "       [ 1.40267313,  1.07525119],\n",
    "       [ 0.80111157,  1.28342825],\n",
    "       [-0.16527516, -1.23583804],\n",
    "       [-0.33779221, -0.59194323],\n",
    "       [ 0.80610749, -0.73752159],\n",
    "       [-1.43590032, -0.56384446],\n",
    "       [ 0.54868895, -0.95143829],\n",
    "       [ 0.46803131, -0.74973907],\n",
    "       [-1.5137129 , -0.83914323],\n",
    "       [ 0.9138436 ,  1.51126532],\n",
    "       [-1.97233903, -0.41155375],\n",
    "       [ 0.5213406 , -0.88654894],\n",
    "       [ 0.62759494, -1.18590477],\n",
    "       [ 0.94163014,  1.35399335],\n",
    "       [ 0.56994768,  1.07036606],\n",
    "       [-1.87663382,  0.14745773],\n",
    "       [ 0.90612186,  0.91084011],\n",
    "       [-1.37481454,  0.28428395],\n",
    "       [-1.80564029, -0.96710574],\n",
    "       [ 0.34307757, -0.79999275],\n",
    "       [ 0.70380566,  1.00025804],\n",
    "       [-1.68489862, -0.30564595],\n",
    "       [ 1.31473221,  0.98614978],\n",
    "       [ 0.26151216, -0.26069251],\n",
    "       [ 0.9193121 ,  0.82371485],\n",
    "       [-1.21795929, -0.20219674],\n",
    "       [-0.17722723, -1.02665245],\n",
    "       [ 0.64824862, -0.66822881],\n",
    "       [ 0.41206786, -0.28783784],\n",
    "       [ 1.01568202,  1.13481667],\n",
    "       [ 0.67900254, -0.91489502],\n",
    "       [-1.05182747, -0.01062376],\n",
    "       [ 0.61306599,  1.78210384],\n",
    "       [-1.50219748, -0.52308922],\n",
    "       [-1.72717293, -0.46173916],\n",
    "       [-1.60995631, -0.1821007 ],\n",
    "       [-1.09111021, -0.0781398 ],\n",
    "       [-0.01046978, -0.80913034],\n",
    "       [ 0.32782303, -0.80734754],\n",
    "       [ 1.22038503,  1.1959793 ],\n",
    "       [-1.33328681, -0.30001937],\n",
    "       [ 0.87959517,  1.11566491],\n",
    "       [-1.14829098, -0.30400762],\n",
    "       [-0.58019755, -1.19996018],\n",
    "       [-0.01161159, -0.78468854],\n",
    "       [ 0.17359724, -0.63398145],\n",
    "       [ 1.32738556,  0.67759969],\n",
    "       [-1.93467327,  0.30572472],\n",
    "       [-1.57761893, -0.27726365],\n",
    "       [ 0.47639   ,  1.21422648],\n",
    "       [-1.65237509, -0.6803981 ],\n",
    "       [-0.12609976, -1.04327457],\n",
    "       [-1.89607082, -0.70085502],\n",
    "       [ 0.57466899,  0.74878369],\n",
    "       [-0.16660312, -0.83110295],\n",
    "       [ 0.8013355 ,  1.22244435],\n",
    "       [ 1.18455426,  1.4346467 ],\n",
    "       [ 1.08864428,  0.64667112],\n",
    "       [-1.61158505,  0.22805725],\n",
    "       [-1.57512205, -0.09612576],\n",
    "       [ 0.0721357 , -0.69640328],\n",
    "       [-1.40054298,  0.16390598],\n",
    "       [ 1.09607713,  1.16804691],\n",
    "       [-2.54346204, -0.23089822],\n",
    "       [-1.34544875,  0.25151126],\n",
    "       [-1.35478629, -0.19103317],\n",
    "       [ 0.18368113, -1.15827725],\n",
    "       [-1.31368677, -0.376357  ],\n",
    "       [ 0.09990129,  1.22500491],\n",
    "       [ 1.17225574,  1.30835143],\n",
    "       [ 0.0865397 , -0.79714371],\n",
    "       [-0.21053923, -1.13421511],\n",
    "       [ 0.26496024, -0.94760742],\n",
    "       [-0.2557591 , -1.06266022],\n",
    "       [-0.26039757, -0.74774225],\n",
    "       [-1.91787359,  0.16434571],\n",
    "       [ 0.93021139,  0.49436331],\n",
    "       [ 0.44770467, -0.72877918],\n",
    "       [-1.63802869, -0.58925528],\n",
    "       [-1.95712763, -0.10125137],\n",
    "       [ 0.9270337 ,  0.88251423],\n",
    "       [ 1.25660093,  0.60828073],\n",
    "       [-1.72818632,  0.08416887],\n",
    "       [ 0.3499788 , -0.30490298],\n",
    "       [-1.51696082, -0.50913109],\n",
    "       [ 0.18763605, -0.55424924],\n",
    "       [ 0.89609809,  0.83551508],\n",
    "       [-1.54968857, -0.17114782],\n",
    "       [ 1.2157457 ,  1.23317728],\n",
    "       [ 0.20307745, -1.03784906],\n",
    "       [ 0.84589086,  1.03615273],\n",
    "       [ 0.53237919,  1.47362884],\n",
    "       [-0.05319044, -1.36150553],\n",
    "       [ 1.38819743,  1.11729915],\n",
    "       [ 1.00696304,  1.0367721 ],\n",
    "       [ 0.56681869, -1.09637176],\n",
    "       [ 0.86888296,  1.05248874],\n",
    "       [-1.16286609, -0.55875245],\n",
    "       [ 0.27717768, -0.83844015],\n",
    "       [ 0.16563267, -0.80306607],\n",
    "       [ 0.38263303, -0.42683241],\n",
    "       [ 1.14519807,  0.89659026],\n",
    "       [ 0.81455857,  0.67533667],\n",
    "       [-1.8603152 , -0.09537561],\n",
    "       [ 0.965641  ,  0.90295579],\n",
    "       [-1.49897451, -0.33254044],\n",
    "       [-0.1335489 , -0.80727582],\n",
    "       [ 0.12541527, -1.13354906],\n",
    "       [ 1.06062436,  1.28816358],\n",
    "       [-1.49154578, -0.2024641 ],\n",
    "       [ 1.16189032,  1.28819877],\n",
    "       [ 0.54282033,  0.75203524],\n",
    "       [ 0.89221065,  0.99211624],\n",
    "       [-1.49932011, -0.32430667],\n",
    "       [ 0.3166647 , -1.34482915],\n",
    "       [ 0.13972469, -1.22097448],\n",
    "       [-1.5499724 , -0.10782584],\n",
    "       [ 1.23846858,  1.37668804],\n",
    "       [ 1.25558954,  0.72026098],\n",
    "       [ 0.25558689, -1.28529763],\n",
    "       [ 0.45168933, -0.55952093],\n",
    "       [ 1.06202057,  1.03404604],\n",
    "       [ 0.67451908, -0.54970299],\n",
    "       [ 0.22759676, -1.02729468],\n",
    "       [-1.45835281, -0.04951074],\n",
    "       [ 0.23273501, -0.70849262],\n",
    "       [ 1.59679589,  1.11395076],\n",
    "       [ 0.80476105,  0.544627  ],\n",
    "       [ 1.15492521,  1.04352191],\n",
    "       [ 0.59632776, -1.19142897],\n",
    "       [ 0.02839068, -0.43829366],\n",
    "       [ 1.13451584,  0.5632633 ],\n",
    "       [ 0.21576204, -1.04445753],\n",
    "       [ 1.41048987,  1.02830719],\n",
    "       [ 1.12289302,  0.58029441],\n",
    "       [ 0.25200688, -0.82588436],\n",
    "       [-1.28566081, -0.07390909],\n",
    "       [ 1.52849815,  1.11822469],\n",
    "       [-0.23907858, -0.70541972],\n",
    "       [-0.25792784, -0.81825035],\n",
    "       [ 0.59367818, -0.45239915],\n",
    "       [ 0.07931909, -0.29233213],\n",
    "       [-1.27256815,  0.11630577],\n",
    "       [ 0.66930129,  1.00731481],\n",
    "       [ 0.34791546, -1.20822877],\n",
    "       [-2.11283993, -0.66897935],\n",
    "       [-1.6293824 , -0.32718222],\n",
    "       [-1.53819139, -0.01501972],\n",
    "       [-0.11988545, -0.6036339 ],\n",
    "       [-1.54418956, -0.30389844],\n",
    "       [ 0.30026614, -0.77723173],\n",
    "       [ 0.00935449, -0.53888192],\n",
    "       [-1.33424393, -0.11560431],\n",
    "       [ 0.47504489,  0.78421384],\n",
    "       [ 0.59313264,  1.232239  ],\n",
    "       [ 0.41370369, -1.35205857],\n",
    "       [ 0.55840948,  0.78831053],\n",
    "       [ 0.49855018, -0.789949  ],\n",
    "       [ 0.35675809, -0.81038693],\n",
    "       [-1.86197825, -0.59071305],\n",
    "       [-1.61977671, -0.16076687],\n",
    "       [ 0.80779295, -0.73311294],\n",
    "       [ 1.62745775,  0.62787163],\n",
    "       [-1.56993593, -0.08467567],\n",
    "       [ 1.02558561,  0.89383302],\n",
    "       [ 0.24293461, -0.6088253 ],\n",
    "       [ 1.23130242,  1.00262186],\n",
    "       [-1.9651013 , -0.15886289],\n",
    "       [ 0.42795032, -0.70384432],\n",
    "       [-1.58306818, -0.19431923],\n",
    "       [-1.57195922,  0.01413469],\n",
    "       [-0.98145373,  0.06132285],\n",
    "       [-1.48637844, -0.5746531 ],\n",
    "       [ 0.98745828,  0.69188053],\n",
    "       [ 1.28619721,  1.28128821],\n",
    "       [ 0.85850596,  0.95541481],\n",
    "       [ 0.19028286, -0.82112942],\n",
    "       [ 0.26561046, -0.04255239],\n",
    "       [-1.61897897,  0.00862372],\n",
    "       [ 0.24070183, -0.52664209],\n",
    "       [ 1.15220993,  0.43916694],\n",
    "       [-1.21967812, -0.2580313 ],\n",
    "       [ 0.33412533, -0.86117761],\n",
    "       [ 0.17131003, -0.75638965],\n",
    "       [-1.19828397, -0.73744665],\n",
    "       [-0.12245932, -0.45648879],\n",
    "       [ 1.51200698,  0.88825741],\n",
    "       [ 1.10338866,  0.92347479],\n",
    "       [ 1.30972095,  0.59066989],\n",
    "       [ 0.19964876,  1.14855889],\n",
    "       [ 0.81460515,  0.84538972],\n",
    "       [-1.6422739 , -0.42296206],\n",
    "       [ 0.01224351, -0.21247816],\n",
    "       [ 0.33709102, -0.74618065],\n",
    "       [ 0.47301054,  0.72712075],\n",
    "       [ 0.34706626,  1.23033757],\n",
    "       [-0.00393279, -0.97209694],\n",
    "       [-1.64303119,  0.05276337],\n",
    "       [ 1.44649625,  1.14217033],\n",
    "       [-1.93030087, -0.40026146],\n",
    "       [-2.37296135, -0.72633645],\n",
    "       [ 0.45860122, -1.06048953],\n",
    "       [ 0.4896361 , -1.18928313],\n",
    "       [-1.02335902, -0.17520578],\n",
    "       [-1.32761107, -0.93963549],\n",
    "       [-1.50987909, -0.09473658],\n",
    "       [ 0.02723057, -0.79870549],\n",
    "       [ 1.0169412 ,  1.26461701],\n",
    "       [ 0.47733527, -0.9898471 ],\n",
    "       [-1.27784224, -0.547416  ],\n",
    "       [ 0.49898802, -0.6237259 ],\n",
    "       [ 1.06004731,  0.86870008],\n",
    "       [ 1.00207501,  1.38293512],\n",
    "       [ 1.31161394,  0.62833956],\n",
    "       [ 1.13428443,  1.18346542],\n",
    "       [ 1.27671346,  0.96632878],\n",
    "       [-0.63342885, -0.97768251],\n",
    "       [ 0.12698779, -0.93142317],\n",
    "       [-1.34510812, -0.23754226],\n",
    "       [-0.53162278, -1.25153594],\n",
    "       [ 0.21959934, -0.90269938],\n",
    "       [-1.78997479, -0.12115748],\n",
    "       [ 1.23197473, -0.07453764],\n",
    "       [ 1.4163536 ,  1.21551752],\n",
    "       [-1.90280976, -0.1638976 ],\n",
    "       [-0.22440081, -0.75454248],\n",
    "       [ 0.59559412,  0.92414553],\n",
    "       [ 1.21930773,  1.08175284],\n",
    "       [-1.99427535, -0.37587799],\n",
    "       [-1.27818474, -0.52454551],\n",
    "       [ 0.62352689, -1.01430108],\n",
    "       [ 0.14024251, -0.428266  ],\n",
    "       [-0.16145713, -1.16359731],\n",
    "       [-1.74795865, -0.06033101],\n",
    "       [-1.16659791,  0.0902393 ],\n",
    "       [ 0.41110408, -0.8084249 ],\n",
    "       [ 1.14757168,  0.77804528],\n",
    "       [-1.65590748, -0.40105446],\n",
    "       [-1.15306865,  0.00858699],\n",
    "       [ 0.60892121,  0.68974833],\n",
    "       [-0.08434138, -0.97615256],\n",
    "       [ 0.19170053, -0.42331438],\n",
    "       [ 0.29663162, -1.13357399],\n",
    "       [-1.36893628, -0.25052124],\n",
    "       [-0.08037807, -0.56784155],\n",
    "       [ 0.35695011, -1.15064408],\n",
    "       [ 0.02482179, -0.63594828],\n",
    "       [-1.49075558, -0.2482507 ],\n",
    "       [-1.408588  ,  0.25635431],\n",
    "       [-1.98274626, -0.54584475]])"
   ],
   "metadata": {
    "collapsed": false,
    "pycharm": {
     "name": "#%%\n"
    }
   }
  },
  {
   "cell_type": "code",
   "execution_count": 14,
   "outputs": [
    {
     "data": {
      "text/plain": "<Figure size 432x288 with 1 Axes>",
      "image/png": "[encoded data removed]"
     },
     "metadata": {
      "needs_background": "light"
     },
     "output_type": "display_data"
    }
   ],
   "source": [
    "plt.scatter(points[:,0],points[:,1],s=10)\n",
    "plt.show()"
   ],
   "metadata": {
    "collapsed": false,
    "pycharm": {
     "name": "#%%\n"
    }
   }
  },
  {
   "cell_type": "markdown",
   "source": [
    "**Clustering 2D points**\n",
    "\n",
    "According to the scatter plot of the previous exercise, the points separate into three clusters. To find 3 clusters, fit the KMeans model to the data points from the previous exercise. Using the .predict() method, you'll obtain the cluster labels for some new points."
   ],
   "metadata": {
    "collapsed": false,
    "pycharm": {
     "name": "#%% md\n"
    }
   }
  },
  {
   "cell_type": "code",
   "execution_count": 15,
   "outputs": [],
   "source": [
    "# Clustering 2D points\n",
    "\n",
    "new_points = np.array([[  4.00233332e-01,  -1.26544471e+00],\n",
    "       [  8.03230370e-01,   1.28260167e+00],\n",
    "       [ -1.39507552e+00,   5.57292921e-02],\n",
    "       [ -3.41192677e-01,  -1.07661994e+00],\n",
    "       [  1.54781747e+00,   1.40250049e+00],\n",
    "       [  2.45032018e-01,  -4.83442328e-01],\n",
    "       [  1.20706886e+00,   8.88752605e-01],\n",
    "       [  1.25132628e+00,   1.15555395e+00],\n",
    "       [  1.81004415e+00,   9.65530731e-01],\n",
    "       [ -1.66963401e+00,  -3.08103509e-01],\n",
    "       [ -7.17482105e-02,  -9.37939700e-01],\n",
    "       [  6.82631927e-01,   1.10258160e+00],\n",
    "       [  1.09039598e+00,   1.43899529e+00],\n",
    "       [ -1.67645414e+00,  -5.04557049e-01],\n",
    "       [ -1.84447804e+00,   4.52539544e-02],\n",
    "       [  1.24234851e+00,   1.02088661e+00],\n",
    "       [ -1.86147041e+00,   6.38645811e-03],\n",
    "       [ -1.46044943e+00,   1.53252383e-01],\n",
    "       [  4.98981817e-01,   8.98006058e-01],\n",
    "       [  9.83962244e-01,   1.04369375e+00],\n",
    "       [ -1.83136742e+00,  -1.63632835e-01],\n",
    "       [  1.30622617e+00,   1.07658717e+00],\n",
    "       [  3.53420328e-01,  -7.51320218e-01],\n",
    "       [  1.13957970e+00,   1.54503860e+00],\n",
    "       [  2.93995694e-01,  -1.26135005e+00],\n",
    "       [ -1.14558225e+00,  -3.78709636e-02],\n",
    "       [  1.18716105e+00,   6.00240663e-01],\n",
    "       [ -2.23211946e+00,   2.30475094e-01],\n",
    "       [ -1.28320430e+00,  -3.93314568e-01],\n",
    "       [  4.94296696e-01,  -8.83972009e-01],\n",
    "       [  6.31834930e-02,  -9.11952228e-01],\n",
    "       [  9.35759539e-01,   8.66820685e-01],\n",
    "       [  1.58014721e+00,   1.03788392e+00],\n",
    "       [  1.06304960e+00,   1.02706082e+00],\n",
    "       [ -1.39732536e+00,  -5.05162249e-01],\n",
    "       [ -1.09935240e-01,  -9.08113619e-01],\n",
    "       [  1.17346758e+00,   9.47501092e-01],\n",
    "       [  9.20084511e-01,   1.45767672e+00],\n",
    "       [  5.82658956e-01,  -9.00086832e-01],\n",
    "       [  9.52772328e-01,   8.99042386e-01],\n",
    "       [ -1.37266956e+00,  -3.17878215e-02],\n",
    "       [  2.12706760e-02,  -7.07614194e-01],\n",
    "       [  3.27049052e-01,  -5.55998107e-01],\n",
    "       [ -1.71590267e+00,   2.15222266e-01],\n",
    "       [  5.12516209e-01,  -7.60128245e-01],\n",
    "       [  1.13023469e+00,   7.22451122e-01],\n",
    "       [ -1.43074310e+00,  -3.42787511e-01],\n",
    "       [ -1.82724625e+00,   1.17657775e-01],\n",
    "       [  1.41801350e+00,   1.11455080e+00],\n",
    "       [  1.26897304e+00,   1.41925971e+00],\n",
    "       [  8.04076494e-01,   1.63988557e+00],\n",
    "       [  8.34567752e-01,   1.09956689e+00],\n",
    "       [ -1.24714732e+00,  -2.23522320e-01],\n",
    "       [ -1.29422537e+00,   8.18770024e-02],\n",
    "       [ -2.27378316e-01,  -4.13331387e-01],\n",
    "       [  2.18830387e-01,  -4.68183120e-01],\n",
    "       [ -1.22593414e+00,   2.55599147e-01],\n",
    "       [ -1.31294033e+00,  -4.28892070e-01],\n",
    "       [ -1.33532382e+00,   6.52053776e-01],\n",
    "       [ -3.01100233e-01,  -1.25156451e+00],\n",
    "       [  2.02778356e-01,  -9.05277445e-01],\n",
    "       [  1.01357784e+00,   1.12378981e+00],\n",
    "       [  8.18324394e-01,   8.60841257e-01],\n",
    "       [  1.26181556e+00,   1.46613744e+00],\n",
    "       [  4.64867724e-01,  -7.97212459e-01],\n",
    "       [  3.60908898e-01,   8.44106720e-01],\n",
    "       [ -2.15098310e+00,  -3.69583937e-01],\n",
    "       [  1.05005281e+00,   8.74181364e-01],\n",
    "       [  1.06580074e-01,  -7.49268153e-01],\n",
    "       [ -1.73945723e+00,   2.52183577e-01],\n",
    "       [ -1.12017687e-01,  -6.52469788e-01],\n",
    "       [  5.16618951e-01,  -6.41267582e-01],\n",
    "       [  3.26621787e-01,  -8.80608015e-01],\n",
    "       [  1.09017759e+00,   1.10952558e+00],\n",
    "       [  3.64459576e-01,  -6.94215622e-01],\n",
    "       [ -1.90779318e+00,   1.87383674e-01],\n",
    "       [ -1.95601829e+00,   1.39959126e-01],\n",
    "       [  3.18541701e-01,  -4.05271704e-01],\n",
    "       [  7.36512699e-01,   1.76416255e+00],\n",
    "       [ -1.44175162e+00,  -5.72320429e-02],\n",
    "       [  3.21757168e-01,  -5.34283821e-01],\n",
    "       [ -1.37317305e+00,   4.64484644e-02],\n",
    "       [  6.87225910e-02,  -1.10522944e+00],\n",
    "       [  9.59314218e-01,   6.52316210e-01],\n",
    "       [ -1.62641919e+00,  -5.62423280e-01],\n",
    "       [  1.06788305e+00,   7.29260482e-01],\n",
    "       [ -1.79643547e+00,  -9.88307418e-01],\n",
    "       [ -9.88628377e-02,  -6.81198092e-02],\n",
    "       [ -1.05135700e-01,   1.17022143e+00],\n",
    "       [  8.79964699e-01,   1.25340317e+00],\n",
    "       [  9.80753407e-01,   1.15486539e+00],\n",
    "       [ -8.33224966e-02,  -9.24844368e-01],\n",
    "       [  8.48759673e-01,   1.09397425e+00],\n",
    "       [  1.32941649e+00,   1.13734563e+00],\n",
    "       [  3.23788068e-01,  -7.49732451e-01],\n",
    "       [ -1.52610970e+00,  -2.49016929e-01],\n",
    "       [ -1.48598116e+00,  -2.68828608e-01],\n",
    "       [ -1.80479553e+00,   1.87052700e-01],\n",
    "       [ -2.01907347e+00,  -4.49511651e-01],\n",
    "       [  2.87202402e-01,  -6.55487415e-01],\n",
    "       [  8.22295102e-01,   1.38443234e+00],\n",
    "       [ -3.56997036e-02,  -8.01825807e-01],\n",
    "       [ -1.66955440e+00,  -1.38258505e-01],\n",
    "       [ -1.78226821e+00,   2.93353033e-01],\n",
    "       [  7.25837138e-01,  -6.23374024e-01],\n",
    "       [  3.88432593e-01,  -7.61283497e-01],\n",
    "       [  1.49002783e+00,   7.95678671e-01],\n",
    "       [  6.55423228e-04,  -7.40580702e-01],\n",
    "       [ -1.34533116e+00,  -4.75629937e-01],\n",
    "       [ -8.03845106e-01,  -3.09943013e-01],\n",
    "       [ -2.49041295e-01,  -1.00662418e+00],\n",
    "       [ -1.41095118e+00,  -7.06744127e-02],\n",
    "       [ -1.75119594e+00,  -3.00491336e-01],\n",
    "       [ -1.27942724e+00,   1.73774600e-01],\n",
    "       [  3.35028183e-01,   6.24761151e-01],\n",
    "       [  1.16819649e+00,   1.18902251e+00],\n",
    "       [  7.15210457e-01,   9.26077419e-01],\n",
    "       [  1.30057278e+00,   9.16349565e-01],\n",
    "       [ -1.21697008e+00,   1.10039477e-01],\n",
    "       [ -1.70707935e+00,  -5.99659536e-02],\n",
    "       [  1.20730655e+00,   1.05480463e+00],\n",
    "       [  1.86896009e-01,  -9.58047234e-01],\n",
    "       [  8.03463471e-01,   3.86133140e-01],\n",
    "       [ -1.73486790e+00,  -1.49831913e-01],\n",
    "       [  1.31261499e+00,   1.11802982e+00],\n",
    "       [  4.04993148e-01,  -5.10900347e-01],\n",
    "       [ -1.93267968e+00,   2.20764694e-01],\n",
    "       [  6.56004799e-01,   9.61887161e-01],\n",
    "       [ -1.40588215e+00,   1.17134403e-01],\n",
    "       [ -1.74306264e+00,  -7.47473959e-02],\n",
    "       [  5.43745412e-01,   1.47209224e+00],\n",
    "       [ -1.97331669e+00,  -2.27124493e-01],\n",
    "       [  1.53901171e+00,   1.36049081e+00],\n",
    "       [ -1.48323452e+00,  -4.90302063e-01],\n",
    "       [  3.86748484e-01,  -1.26173400e+00],\n",
    "       [  1.17015716e+00,   1.18549415e+00],\n",
    "       [ -8.05381721e-02,  -3.21923627e-01],\n",
    "       [ -6.82273156e-02,  -8.52825887e-01],\n",
    "       [  7.13500028e-01,   1.27868520e+00],\n",
    "       [ -1.85014378e+00,  -5.03490558e-01],\n",
    "       [  6.36085266e-02,  -1.41257040e+00],\n",
    "       [  1.52966062e+00,   9.66056572e-01],\n",
    "       [  1.62165714e-01,  -1.37374843e+00],\n",
    "       [ -3.23474497e-01,  -7.06620269e-01],\n",
    "       [ -1.51768993e+00,   1.87658302e-01],\n",
    "       [  8.88895911e-01,   7.62237161e-01],\n",
    "       [  4.83164032e-01,   8.81931869e-01],\n",
    "       [ -5.52997766e-02,  -7.11305016e-01],\n",
    "       [ -1.57966441e+00,  -6.29220313e-01],\n",
    "       [  5.51308645e-02,  -8.47206763e-01],\n",
    "       [ -2.06001582e+00,   5.87697787e-02],\n",
    "       [  1.11810855e+00,   1.30254175e+00],\n",
    "       [  4.87016164e-01,  -9.90143937e-01],\n",
    "       [ -1.65518042e+00,  -1.69386383e-01],\n",
    "       [ -1.44349738e+00,   1.90299243e-01],\n",
    "       [ -1.70074547e-01,  -8.26736022e-01],\n",
    "       [ -1.82433979e+00,  -3.07814626e-01],\n",
    "       [  1.03093485e+00,   1.26457691e+00],\n",
    "       [  1.64431169e+00,   1.27773115e+00],\n",
    "       [ -1.47617693e+00,   2.60783872e-02],\n",
    "       [  1.00953067e+00,   1.14270181e+00],\n",
    "       [ -1.45285636e+00,  -2.55216207e-01],\n",
    "       [ -1.74092917e+00,  -8.34443177e-02],\n",
    "       [  1.22038299e+00,   1.28699961e+00],\n",
    "       [  9.16925397e-01,   7.32070275e-01],\n",
    "       [ -1.60754185e-03,  -7.26375571e-01],\n",
    "       [  8.93841238e-01,   8.41146643e-01],\n",
    "       [  6.33791961e-01,   1.00915134e+00],\n",
    "       [ -1.47927075e+00,  -6.99781936e-01],\n",
    "       [  5.44799374e-02,  -1.06441970e+00],\n",
    "       [ -1.51935568e+00,  -4.89276929e-01],\n",
    "       [  2.89939026e-01,  -7.73145523e-01],\n",
    "       [ -9.68154061e-03,  -1.13302207e+00],\n",
    "       [  1.13474639e+00,   9.71541744e-01],\n",
    "       [  5.36421406e-01,  -8.47906388e-01],\n",
    "       [  1.14759864e+00,   6.89915205e-01],\n",
    "       [  5.73291902e-01,   7.90802710e-01],\n",
    "       [  2.12377397e-01,  -6.07569808e-01],\n",
    "       [  5.26579548e-01,  -8.15930264e-01],\n",
    "       [ -2.01831641e+00,   6.78650740e-02],\n",
    "       [ -2.35512624e-01,  -1.08205132e+00],\n",
    "       [  1.59274780e-01,  -6.00717261e-01],\n",
    "       [  2.28120356e-01,  -1.16003549e+00],\n",
    "       [ -1.53658378e+00,   8.40798808e-02],\n",
    "       [  1.13954609e+00,   6.31782001e-01],\n",
    "       [  1.01119255e+00,   1.04360805e+00],\n",
    "       [ -1.42039867e-01,  -4.81230337e-01],\n",
    "       [ -2.23120182e+00,   8.49162905e-02],\n",
    "       [  1.25554811e-01,  -1.01794793e+00],\n",
    "       [ -1.72493509e+00,  -6.94426177e-01],\n",
    "       [ -1.60434630e+00,   4.45550868e-01],\n",
    "       [  7.37153979e-01,   9.26560744e-01],\n",
    "       [  6.72905271e-01,   1.13366030e+00],\n",
    "       [  1.20066456e+00,   7.26273093e-01],\n",
    "       [  7.58747209e-02,  -9.83378326e-01],\n",
    "       [  1.28783262e+00,   1.18088601e+00],\n",
    "       [  1.06521930e+00,   1.00714746e+00],\n",
    "       [  1.05871698e+00,   1.12956519e+00],\n",
    "       [ -1.12643410e+00,   1.66787744e-01],\n",
    "       [ -1.10157218e+00,  -3.64137806e-01],\n",
    "       [  2.35118217e-01,  -1.39769949e-01],\n",
    "       [  1.13853795e+00,   1.01018519e+00],\n",
    "       [  5.31205654e-01,  -8.81990792e-01],\n",
    "       [  4.33085936e-01,  -7.64059042e-01],\n",
    "       [ -4.48926156e-03,  -1.30548411e+00],\n",
    "       [ -1.76348589e+00,  -4.97430739e-01],\n",
    "       [  1.36485681e+00,   5.83404699e-01],\n",
    "       [  5.66923900e-01,   1.51391963e+00],\n",
    "       [  1.35736826e+00,   6.70915318e-01],\n",
    "       [  1.07173397e+00,   6.11990884e-01],\n",
    "       [  1.00106915e+00,   8.93815326e-01],\n",
    "       [  1.33091007e+00,   8.79773879e-01],\n",
    "       [ -1.79603740e+00,  -3.53883973e-02],\n",
    "       [ -1.27222979e+00,   4.00156642e-01],\n",
    "       [  8.47480603e-01,   1.17032364e+00],\n",
    "       [ -1.50989129e+00,  -7.12318330e-01],\n",
    "       [ -1.24953576e+00,  -5.57859730e-01],\n",
    "       [ -1.27717973e+00,  -5.99350550e-01],\n",
    "       [ -1.81946743e+00,   7.37057673e-01],\n",
    "       [  1.19949867e+00,   1.56969386e+00],\n",
    "       [ -1.25543847e+00,  -2.33892826e-01],\n",
    "       [ -1.63052058e+00,   1.61455865e-01],\n",
    "       [  1.10611305e+00,   7.39698224e-01],\n",
    "       [  6.70193192e-01,   8.70567001e-01],\n",
    "       [  3.69670156e-01,  -6.94645306e-01],\n",
    "       [ -1.26362293e+00,  -6.99249285e-01],\n",
    "       [ -3.66687507e-01,  -1.35310260e+00],\n",
    "       [  2.44032147e-01,  -6.59470793e-01],\n",
    "       [ -1.27679142e+00,  -4.85453412e-01],\n",
    "       [  3.77473612e-02,  -6.99251605e-01],\n",
    "       [ -2.19148539e+00,  -4.91199500e-01],\n",
    "       [ -2.93277777e-01,  -5.89488212e-01],\n",
    "       [ -1.65737397e+00,  -2.98337786e-01],\n",
    "       [  7.36638861e-01,   5.78037057e-01],\n",
    "       [  1.13709081e+00,   1.30119754e+00],\n",
    "       [ -1.44146601e+00,   3.13934680e-02],\n",
    "       [  5.92360708e-01,   1.22545114e+00],\n",
    "       [  6.51719414e-01,   4.92674894e-01],\n",
    "       [  5.94559139e-01,   8.25637315e-01],\n",
    "       [ -1.87900722e+00,  -5.21899626e-01],\n",
    "       [  2.15225041e-01,  -1.28269851e+00],\n",
    "       [  4.99145965e-01,  -6.70268634e-01],\n",
    "       [ -1.82954176e+00,  -3.39269731e-01],\n",
    "       [  7.92721403e-01,   1.33785606e+00],\n",
    "       [  9.54363372e-01,   9.80396626e-01],\n",
    "       [ -1.35359846e+00,   1.03976340e-01],\n",
    "       [  1.05595062e+00,   8.07031927e-01],\n",
    "       [ -1.94311010e+00,  -1.18976964e-01],\n",
    "       [ -1.39604137e+00,  -3.10095976e-01],\n",
    "       [  1.28977624e+00,   1.01753365e+00],\n",
    "       [ -1.59503139e+00,  -5.40574609e-01],\n",
    "       [ -1.41994046e+00,  -3.81032569e-01],\n",
    "       [ -2.35569801e-02,  -1.10133702e+00],\n",
    "       [ -1.26038568e+00,  -6.93273886e-01],\n",
    "       [  9.60215981e-01,  -8.11553694e-01],\n",
    "       [  5.51803308e-01,  -1.01793176e+00],\n",
    "       [  3.70185085e-01,  -1.06885468e+00],\n",
    "       [  8.25529207e-01,   8.77007060e-01],\n",
    "       [ -1.87032595e+00,   2.87507199e-01],\n",
    "       [ -1.56260769e+00,  -1.89196712e-01],\n",
    "       [ -1.26346548e+00,  -7.74725237e-01],\n",
    "       [ -6.33800421e-02,  -7.59400611e-01],\n",
    "       [  8.85298280e-01,   8.85620519e-01],\n",
    "       [ -1.43324686e-01,  -1.16083678e+00],\n",
    "       [ -1.83908725e+00,  -3.26655515e-01],\n",
    "       [  2.74709229e-01,  -1.04546829e+00],\n",
    "       [ -1.45703573e+00,  -2.91842036e-01],\n",
    "       [ -1.59048842e+00,   1.66063031e-01],\n",
    "       [  9.25549284e-01,   7.41406406e-01],\n",
    "       [  1.97245469e-01,  -7.80703225e-01],\n",
    "       [  2.88401697e-01,  -8.32425551e-01],\n",
    "       [  7.24141618e-01,  -7.99149200e-01],\n",
    "       [ -1.62658639e+00,  -1.80005543e-01],\n",
    "       [  5.84481588e-01,   1.13195640e+00],\n",
    "       [  1.02146732e+00,   4.59657799e-01],\n",
    "       [  8.65050554e-01,   9.57714887e-01],\n",
    "       [  3.98717766e-01,  -1.24273147e+00],\n",
    "       [  8.62234892e-01,   1.10955561e+00],\n",
    "       [ -1.35999430e+00,   2.49942654e-02],\n",
    "       [ -1.19178505e+00,  -3.82946323e-02],\n",
    "       [  1.29392424e+00,   1.10320509e+00],\n",
    "       [  1.25679630e+00,  -7.79857582e-01],\n",
    "       [  9.38040302e-02,  -5.53247258e-01],\n",
    "       [ -1.73512175e+00,  -9.76271667e-02],\n",
    "       [  2.23153587e-01,  -9.43474351e-01],\n",
    "       [  4.01989100e-01,  -1.10963051e+00],\n",
    "       [ -1.42244158e+00,   1.81914703e-01],\n",
    "       [  3.92476267e-01,  -8.78426277e-01],\n",
    "       [  1.25181875e+00,   6.93614996e-01],\n",
    "       [  1.77481317e-02,  -7.20304235e-01],\n",
    "       [ -1.87752521e+00,  -2.63870424e-01],\n",
    "       [ -1.58063602e+00,  -5.50456344e-01],\n",
    "       [ -1.59589493e+00,  -1.53932892e-01],\n",
    "       [ -1.01829770e+00,   3.88542370e-02],\n",
    "       [  1.24819659e+00,   6.60041803e-01],\n",
    "       [ -1.25551377e+00,  -2.96172009e-02],\n",
    "       [ -1.41864559e+00,  -3.58230179e-01],\n",
    "       [  5.25758326e-01,   8.70500543e-01],\n",
    "       [  5.55599988e-01,   1.18765072e+00],\n",
    "       [  2.81344439e-02,  -6.99111314e-01]])"
   ],
   "metadata": {
    "collapsed": false,
    "pycharm": {
     "name": "#%%\n"
    }
   }
  },
  {
   "cell_type": "code",
   "execution_count": 17,
   "outputs": [
    {
     "name": "stdout",
     "output_type": "stream",
     "text": [
      "[2 0 1 2 0 2 0 0 0 1 2 0 0 1 1 0 1 1 0 0 1 0 2 0 2 1 0 1 1 2 2 0 0 0 1 2 0\n",
      " 0 2 0 1 2 2 1 2 0 1 1 0 0 0 0 1 1 2 2 1 1 1 2 2 0 0 0 2 0 1 0 2 1 2 2 2 0\n",
      " 2 1 1 2 0 1 2 1 2 0 1 0 1 2 0 0 0 2 0 0 2 1 1 1 1 2 0 2 1 1 2 2 0 2 1 1 2\n",
      " 1 1 1 0 0 0 0 1 1 0 2 0 1 0 2 1 0 1 1 0 1 0 1 2 0 2 2 0 1 2 0 2 2 1 0 0 2\n",
      " 1 2 1 0 2 1 1 2 1 0 0 1 0 1 1 0 0 2 0 0 1 2 1 2 2 0 2 0 0 2 2 1 2 2 2 1 0\n",
      " 0 2 1 2 1 1 0 0 0 2 0 0 0 1 1 2 0 2 2 2 1 0 0 0 0 0 0 1 1 0 1 1 1 1 0 1 1\n",
      " 0 0 2 1 2 2 1 2 1 2 1 0 0 1 0 0 0 1 2 2 1 0 0 1 0 1 1 0 1 1 2 1 2 2 2 0 1\n",
      " 1 1 2 0 2 1 2 1 1 0 2 2 2 1 0 0 0 2 0 1 1 0 2 2 1 2 2 1 2 0 2 1 1 1 1 0 1\n",
      " 1 0 0 2]\n"
     ]
    }
   ],
   "source": [
    "# Import KMeans\n",
    "from sklearn.cluster import KMeans\n",
    "\n",
    "# Create a KMeans instance with 3 clusters: model\n",
    "model = KMeans(n_clusters=3)\n",
    "\n",
    "# Fit model to points\n",
    "model.fit(points)\n",
    "\n",
    "# Determine the cluster labels of new_points: labels\n",
    "labels = model.predict(new_points)\n",
    "\n",
    "# Print cluster labels of new_points\n",
    "print(labels)"
   ],
   "metadata": {
    "collapsed": false,
    "pycharm": {
     "name": "#%%\n"
    }
   }
  },
  {
   "cell_type": "markdown",
   "source": [
    "We successfully performed k-Means clustering and predicted the labels of new points. But it is not easy to inspect the clustering by just looking at the printed labels. A visualization would be far more useful. In the next exercise, you'll inspect your clustering with a scatter plot!"
   ],
   "metadata": {
    "collapsed": false,
    "pycharm": {
     "name": "#%% md\n"
    }
   }
  },
  {
   "cell_type": "markdown",
   "source": [
    "**Inspect your clustering**"
   ],
   "metadata": {
    "collapsed": false,
    "pycharm": {
     "name": "#%% md\n"
    }
   }
  },
  {
   "cell_type": "code",
   "execution_count": 18,
   "outputs": [
    {
     "data": {
      "text/plain": "<Figure size 432x288 with 1 Axes>",
      "image/png": "[encoded data removed]"
     },
     "metadata": {
      "needs_background": "light"
     },
     "output_type": "display_data"
    }
   ],
   "source": [
    "# Import pyplot\n",
    "import matplotlib.pyplot as plt\n",
    "\n",
    "# Assign the columns of new_points: xs and ys\n",
    "xs = new_points[:,0]\n",
    "ys = new_points[:,1]\n",
    "\n",
    "# Make a scatter plot of xs and ys, using labels to define the colors\n",
    "plt.scatter(xs,ys,c=labels,alpha=0.5)\n",
    "\n",
    "# Assign the cluster centers: centroids\n",
    "centroids = model.cluster_centers_\n",
    "\n",
    "# Assign the columns of centroids: centroids_x, centroids_y\n",
    "centroids_x = centroids[:,0]\n",
    "centroids_y = centroids[:,1]\n",
    "\n",
    "# Make a scatter plot of centroids_x and centroids_y\n",
    "plt.scatter(centroids_x,centroids_y,marker='D',s=50)\n",
    "plt.show()"
   ],
   "metadata": {
    "collapsed": false,
    "pycharm": {
     "name": "#%%\n"
    }
   }
  },
  {
   "cell_type": "markdown",
   "source": [
    "The clustering looks great! But how can you be sure that 3 clusters is the correct choice? In other words, how can you evaluate the quality of a clustering?"
   ],
   "metadata": {
    "collapsed": false,
    "pycharm": {
     "name": "#%% md\n"
    }
   }
  },
  {
   "cell_type": "markdown",
   "source": [
    "### Evaluating a clustering\n",
    "\n",
    "**Cross tabulation with pandas**"
   ],
   "metadata": {
    "collapsed": false,
    "pycharm": {
     "name": "#%% md\n"
    }
   }
  },
  {
   "cell_type": "code",
   "execution_count": 31,
   "outputs": [],
   "source": [
    "samples = load_iris()['data']\n",
    "species = pd.Series(load_iris()['target']).map({0:'setosa',1:'versicolor',2:'virginica'})"
   ],
   "metadata": {
    "collapsed": false,
    "pycharm": {
     "name": "#%%\n"
    }
   }
  },
  {
   "cell_type": "code",
   "execution_count": 32,
   "outputs": [],
   "source": [
    "from sklearn.cluster import KMeans\n",
    "\n",
    "# Create a KMeans instance with 3 clusters: model\n",
    "model = KMeans(n_clusters=3)\n",
    "\n",
    "# Fit and determine the cluster labels of new_points: labels\n",
    "labels = model.fit_predict(samples)\n"
   ],
   "metadata": {
    "collapsed": false,
    "pycharm": {
     "name": "#%%\n"
    }
   }
  },
  {
   "cell_type": "code",
   "execution_count": 33,
   "outputs": [
    {
     "name": "stdout",
     "output_type": "stream",
     "text": [
      "    labels     species\n",
      "45       1      setosa\n",
      "46       1      setosa\n",
      "47       1      setosa\n",
      "48       1      setosa\n",
      "49       1      setosa\n",
      "50       0  versicolor\n",
      "51       0  versicolor\n",
      "52       2  versicolor\n",
      "53       0  versicolor\n",
      "54       0  versicolor\n"
     ]
    }
   ],
   "source": [
    "df = pd.DataFrame({'labels': labels, 'species': species})\n",
    "print(df[45:55])"
   ],
   "metadata": {
    "collapsed": false,
    "pycharm": {
     "name": "#%%\n"
    }
   }
  },
  {
   "cell_type": "code",
   "execution_count": 34,
   "outputs": [
    {
     "name": "stdout",
     "output_type": "stream",
     "text": [
      "species  setosa  versicolor  virginica\n",
      "labels                                \n",
      "0             0          48         14\n",
      "1            50           0          0\n",
      "2             0           2         36\n"
     ]
    }
   ],
   "source": [
    "# Crosstab of labels and species\n",
    "\n",
    "ct = pd.crosstab(df['labels'], df['species'])\n",
    "print(ct)"
   ],
   "metadata": {
    "collapsed": false,
    "pycharm": {
     "name": "#%%\n"
    }
   }
  },
  {
   "cell_type": "code",
   "execution_count": 35,
   "outputs": [
    {
     "name": "stdout",
     "output_type": "stream",
     "text": [
      "78.85144142614601\n"
     ]
    }
   ],
   "source": [
    "# Inertia measures clustering quality\n",
    "\n",
    "from sklearn.cluster import KMeans\n",
    "model = KMeans(n_clusters=3)\n",
    "model.fit(samples)\n",
    "print(model.inertia_)\n"
   ],
   "metadata": {
    "collapsed": false,
    "pycharm": {
     "name": "#%%\n"
    }
   }
  },
  {
   "cell_type": "code",
   "execution_count": 36,
   "outputs": [
    {
     "data": {
      "text/plain": "<Figure size 432x288 with 1 Axes>",
      "image/png": "[encoded data removed]"
     },
     "metadata": {
      "needs_background": "light"
     },
     "output_type": "display_data"
    }
   ],
   "source": [
    "ks = range(1, 6)\n",
    "inertias = []\n",
    "\n",
    "for k in ks:\n",
    "    # Create a KMeans instance with k clusters: model\n",
    "    model=KMeans(n_clusters=k)\n",
    "\n",
    "    # Fit model to samples\n",
    "    model.fit(samples)\n",
    "\n",
    "    # Append the inertia to the list of inertias\n",
    "    inertias.append(model.inertia_)\n",
    "\n",
    "# Plot ks vs inertias\n",
    "plt.plot(ks, inertias, '-o')\n",
    "plt.xlabel('number of clusters, k')\n",
    "plt.ylabel('inertia')\n",
    "plt.xticks(ks)\n",
    "plt.show()\n"
   ],
   "metadata": {
    "collapsed": false,
    "pycharm": {
     "name": "#%%\n"
    }
   }
  },
  {
   "cell_type": "markdown",
   "source": [
    "The inertia decreases very slowly from 3 clusters to 4, so it looks like 3 clusters would be a good choice for this data."
   ],
   "metadata": {
    "collapsed": false,
    "pycharm": {
     "name": "#%% md\n"
    }
   }
  },
  {
   "cell_type": "code",
   "execution_count": 45,
   "outputs": [
    {
     "name": "stdout",
     "output_type": "stream",
     "text": [
      "         0      1       2      3      4      5      6  7\n",
      "93   18.59  16.05  0.9066  6.037  3.860  6.001  5.877  2\n",
      "67   14.01  14.29  0.8625  5.609  3.158  2.217  5.132  1\n",
      "48   14.79  14.52  0.8819  5.545  3.291  2.704  5.111  1\n",
      "110  18.45  16.12  0.8921  6.107  3.769  2.235  5.794  2\n",
      "63   13.22  13.84  0.8680  5.395  3.070  4.157  5.088  1\n",
      "205  12.19  13.20  0.8783  5.137  2.981  3.631  4.870  3\n",
      "75   16.77  15.62  0.8638  5.927  3.438  4.920  5.795  2\n",
      "64   12.78  13.57  0.8716  5.262  3.026  1.176  4.782  1\n",
      "127  17.98  15.85  0.8993  5.979  3.687  2.257  5.919  2\n",
      "82   20.20  16.89  0.8894  6.285  3.864  5.173  6.187  2\n",
      "[[15.26   14.84    0.871  ...  3.312   2.221   5.22  ]\n",
      " [14.88   14.57    0.8811 ...  3.333   1.018   4.956 ]\n",
      " [14.29   14.09    0.905  ...  3.337   2.699   4.825 ]\n",
      " ...\n",
      " [13.2    13.66    0.8883 ...  3.232   8.315   5.056 ]\n",
      " [11.84   13.21    0.8521 ...  2.836   3.598   5.044 ]\n",
      " [12.3    13.34    0.8684 ...  2.974   5.637   5.063 ]]\n",
      "['Kama wheat', 'Kama wheat', 'Kama wheat', 'Kama wheat', 'Kama wheat', 'Kama wheat', 'Kama wheat', 'Kama wheat', 'Kama wheat', 'Kama wheat', 'Kama wheat', 'Kama wheat', 'Kama wheat', 'Kama wheat', 'Kama wheat', 'Kama wheat', 'Kama wheat', 'Kama wheat', 'Kama wheat', 'Kama wheat', 'Kama wheat', 'Kama wheat', 'Kama wheat', 'Kama wheat', 'Kama wheat', 'Kama wheat', 'Kama wheat', 'Kama wheat', 'Kama wheat', 'Kama wheat', 'Kama wheat', 'Kama wheat', 'Kama wheat', 'Kama wheat', 'Kama wheat', 'Kama wheat', 'Kama wheat', 'Kama wheat', 'Kama wheat', 'Kama wheat', 'Kama wheat', 'Kama wheat', 'Kama wheat', 'Kama wheat', 'Kama wheat', 'Kama wheat', 'Kama wheat', 'Kama wheat', 'Kama wheat', 'Kama wheat', 'Kama wheat', 'Kama wheat', 'Kama wheat', 'Kama wheat', 'Kama wheat', 'Kama wheat', 'Kama wheat', 'Kama wheat', 'Kama wheat', 'Kama wheat', 'Kama wheat', 'Kama wheat', 'Kama wheat', 'Kama wheat', 'Kama wheat', 'Kama wheat', 'Kama wheat', 'Kama wheat', 'Kama wheat', 'Kama wheat', 'Rosa wheat', 'Rosa wheat', 'Rosa wheat', 'Rosa wheat', 'Rosa wheat', 'Rosa wheat', 'Rosa wheat', 'Rosa wheat', 'Rosa wheat', 'Rosa wheat', 'Rosa wheat', 'Rosa wheat', 'Rosa wheat', 'Rosa wheat', 'Rosa wheat', 'Rosa wheat', 'Rosa wheat', 'Rosa wheat', 'Rosa wheat', 'Rosa wheat', 'Rosa wheat', 'Rosa wheat', 'Rosa wheat', 'Rosa wheat', 'Rosa wheat', 'Rosa wheat', 'Rosa wheat', 'Rosa wheat', 'Rosa wheat', 'Rosa wheat', 'Rosa wheat', 'Rosa wheat', 'Rosa wheat', 'Rosa wheat', 'Rosa wheat', 'Rosa wheat', 'Rosa wheat', 'Rosa wheat', 'Rosa wheat', 'Rosa wheat', 'Rosa wheat', 'Rosa wheat', 'Rosa wheat', 'Rosa wheat', 'Rosa wheat', 'Rosa wheat', 'Rosa wheat', 'Rosa wheat', 'Rosa wheat', 'Rosa wheat', 'Rosa wheat', 'Rosa wheat', 'Rosa wheat', 'Rosa wheat', 'Rosa wheat', 'Rosa wheat', 'Rosa wheat', 'Rosa wheat', 'Rosa wheat', 'Rosa wheat', 'Rosa wheat', 'Rosa wheat', 'Rosa wheat', 'Rosa wheat', 'Rosa wheat', 'Rosa wheat', 'Rosa wheat', 'Rosa wheat', 'Rosa wheat', 'Rosa wheat', 'Canadian wheat', 'Canadian wheat', 'Canadian wheat', 'Canadian wheat', 'Canadian wheat', 'Canadian wheat', 'Canadian wheat', 'Canadian wheat', 'Canadian wheat', 'Canadian wheat', 'Canadian wheat', 'Canadian wheat', 'Canadian wheat', 'Canadian wheat', 'Canadian wheat', 'Canadian wheat', 'Canadian wheat', 'Canadian wheat', 'Canadian wheat', 'Canadian wheat', 'Canadian wheat', 'Canadian wheat', 'Canadian wheat', 'Canadian wheat', 'Canadian wheat', 'Canadian wheat', 'Canadian wheat', 'Canadian wheat', 'Canadian wheat', 'Canadian wheat', 'Canadian wheat', 'Canadian wheat', 'Canadian wheat', 'Canadian wheat', 'Canadian wheat', 'Canadian wheat', 'Canadian wheat', 'Canadian wheat', 'Canadian wheat', 'Canadian wheat', 'Canadian wheat', 'Canadian wheat', 'Canadian wheat', 'Canadian wheat', 'Canadian wheat', 'Canadian wheat', 'Canadian wheat', 'Canadian wheat', 'Canadian wheat', 'Canadian wheat', 'Canadian wheat', 'Canadian wheat', 'Canadian wheat', 'Canadian wheat', 'Canadian wheat', 'Canadian wheat', 'Canadian wheat', 'Canadian wheat', 'Canadian wheat', 'Canadian wheat', 'Canadian wheat', 'Canadian wheat', 'Canadian wheat', 'Canadian wheat', 'Canadian wheat', 'Canadian wheat', 'Canadian wheat', 'Canadian wheat', 'Canadian wheat', 'Canadian wheat']\n"
     ]
    }
   ],
   "source": [
    "# Grain/Seed Dataset\n",
    "data = pd.read_csv(\"seeds_dataset.csv\",header=None)\n",
    "samples = data.iloc[:,:-1].values\n",
    "varieties = list(data.iloc[:,-1].map({1:'Kama wheat',2:'Rosa wheat',3:'Canadian wheat'}))\n"
   ],
   "metadata": {
    "collapsed": false,
    "pycharm": {
     "name": "#%%\n"
    }
   }
  },
  {
   "cell_type": "code",
   "execution_count": 46,
   "outputs": [
    {
     "data": {
      "text/plain": "<Figure size 432x288 with 1 Axes>",
      "image/png": "[encoded data removed]"
     },
     "metadata": {
      "needs_background": "light"
     },
     "output_type": "display_data"
    }
   ],
   "source": [
    "# How many clusters of grain?\n",
    "\n",
    "ks = range(1, 6)\n",
    "inertias = []\n",
    "\n",
    "for k in ks:\n",
    "    # Create a KMeans instance with k clusters: model\n",
    "    model = KMeans(n_clusters=k)\n",
    "\n",
    "    # Fit model to samples\n",
    "    model.fit(samples)\n",
    "\n",
    "    # Append the inertia to the list of inertias\n",
    "    inertias.append(model.inertia_)\n",
    "\n",
    "# Plot ks vs inertias\n",
    "plt.plot(ks, inertias, '-o')\n",
    "plt.xlabel('number of clusters, k')\n",
    "plt.ylabel('inertia')\n",
    "plt.xticks(ks)\n",
    "plt.show()"
   ],
   "metadata": {
    "collapsed": false,
    "pycharm": {
     "name": "#%%\n"
    }
   }
  },
  {
   "cell_type": "markdown",
   "source": [
    "Evaluating the grain clustering\n",
    "\n",
    "According to the inertia plot, 3 clusters are a good number for grain data. Samples come from three different grain varieties: Kama, Rosa, and Canadian. Using a cross-tabulation, cluster the grain samples into three clusters and compare them to the grain varieties."
   ],
   "metadata": {
    "collapsed": false,
    "pycharm": {
     "name": "#%% md\n"
    }
   }
  },
  {
   "cell_type": "code",
   "execution_count": 47,
   "outputs": [
    {
     "name": "stdout",
     "output_type": "stream",
     "text": [
      "varieties  Canadian wheat  Kama wheat  Rosa wheat\n",
      "labels                                           \n",
      "0                      68           9           0\n",
      "1                       0           1          60\n",
      "2                       2          60          10\n"
     ]
    }
   ],
   "source": [
    "# Create a KMeans model with 3 clusters: model\n",
    "model = KMeans(n_clusters=3)\n",
    "\n",
    "# Use fit_predict to fit model and obtain cluster labels: labels\n",
    "labels = model.fit_predict(samples)\n",
    "\n",
    "# Create a DataFrame with labels and varieties as columns: df\n",
    "df = pd.DataFrame({'labels': labels, 'varieties': varieties})\n",
    "\n",
    "# Create crosstab: ct\n",
    "ct = pd.crosstab(df['labels'],df['varieties'])\n",
    "\n",
    "# Display ct\n",
    "print(ct)"
   ],
   "metadata": {
    "collapsed": false,
    "pycharm": {
     "name": "#%%\n"
    }
   }
  },
  {
   "cell_type": "markdown",
   "source": [
    "The cross-tabulation shows that the 3 varieties of grain separate really well into 3 clusters. But depending on the type of data you are working with, the clustering may not always be this good. Is there anything you can do in such situations to improve your clustering?"
   ],
   "metadata": {
    "collapsed": false,
    "pycharm": {
     "name": "#%% md\n"
    }
   }
  },
  {
   "cell_type": "markdown",
   "source": [
    "### **Transforming features for better clusterings**"
   ],
   "metadata": {
    "collapsed": false,
    "pycharm": {
     "name": "#%% md\n"
    }
   }
  },
  {
   "cell_type": "code",
   "execution_count": 49,
   "outputs": [],
   "source": [
    "# Piedmont wines dataset\n",
    "\n",
    "samples = pd.read_csv(\"piedmont_wine_data.csv\",header=0).iloc[:,2:].values\n",
    "varieties = pd.read_csv(\"piedmont_wine_data.csv\",header=0).iloc[:,1]"
   ],
   "metadata": {
    "collapsed": false,
    "pycharm": {
     "name": "#%%\n"
    }
   }
  },
  {
   "cell_type": "code",
   "execution_count": 50,
   "outputs": [],
   "source": [
    "# Clustering the wines\n",
    "\n",
    "from sklearn.cluster import KMeans\n",
    "model=KMeans(n_clusters=3)\n",
    "labels=model.fit_predict(samples)"
   ],
   "metadata": {
    "collapsed": false,
    "pycharm": {
     "name": "#%%\n"
    }
   }
  },
  {
   "cell_type": "code",
   "execution_count": 51,
   "outputs": [
    {
     "name": "stdout",
     "output_type": "stream",
     "text": [
      "varieties  Barbera  Barolo  Grignolino\n",
      "labels                                \n",
      "0               19       0          50\n",
      "1                0      46           1\n",
      "2               29      13          20\n"
     ]
    }
   ],
   "source": [
    "# Clusters vs. varieties\n",
    "\n",
    "df = pd.DataFrame({'labels': labels,'varieties': varieties})\n",
    "ct=pd.crosstab(df['labels'],df['varieties'])\n",
    "print(ct)"
   ],
   "metadata": {
    "collapsed": false,
    "pycharm": {
     "name": "#%%\n"
    }
   }
  },
  {
   "cell_type": "code",
   "execution_count": 54,
   "outputs": [
    {
     "name": "stderr",
     "output_type": "stream",
     "text": [
      "C:\\Users\\dghr201\\AppData\\Local\\Temp\\ipykernel_11064\\1337418372.py:4: FutureWarning: Dropping of nuisance columns in DataFrame reductions (with 'numeric_only=None') is deprecated; in a future version this will raise TypeError.  Select only valid columns before calling the reduction.\n",
      "  s.var()\n"
     ]
    },
    {
     "data": {
      "text/plain": "alcohol                     0.659062\nmalic_acid                  1.248015\nash                         0.075265\nalcalinity_of_ash          11.152686\nmagnesium                 203.989335\ntotal_phenols               0.391690\nflavanoids                  0.997719\nnonflavanoid_phenols        0.015489\nproanthocyanins             0.327595\ncolor_intensity             5.374449\nhue                         0.052245\nod280                       0.504086\nproline                 99166.717355\ndtype: float64"
     },
     "execution_count": 54,
     "metadata": {},
     "output_type": "execute_result"
    }
   ],
   "source": [
    "# Feature variances\n",
    "\n",
    "s=pd.read_csv(\"piedmont_wine_data.csv\",header=0).iloc[:,1:]\n",
    "s.var()"
   ],
   "metadata": {
    "collapsed": false,
    "pycharm": {
     "name": "#%%\n"
    }
   }
  },
  {
   "cell_type": "code",
   "execution_count": 57,
   "outputs": [
    {
     "data": {
      "text/plain": "Pipeline(steps=[('standardscaler', StandardScaler()),\n                ('kmeans', KMeans(n_clusters=3))])",
      "text/html": "<style>#sk-container-id-2 {color: black;background-color: white;}#sk-container-id-2 pre{padding: 0;}#sk-container-id-2 div.sk-toggleable {background-color: white;}#sk-container-id-2 label.sk-toggleable__label {cursor: pointer;display: block;width: 100%;margin-bottom: 0;padding: 0.3em;box-sizing: border-box;text-align: center;}#sk-container-id-2 label.sk-toggleable__label-arrow:before {content: \"▸\";float: left;margin-right: 0.25em;color: #696969;}#sk-container-id-2 label.sk-toggleable__label-arrow:hover:before {color: black;}#sk-container-id-2 div.sk-estimator:hover label.sk-toggleable__label-arrow:before {color: black;}#sk-container-id-2 div.sk-toggleable__content {max-height: 0;max-width: 0;overflow: hidden;text-align: left;background-color: #f0f8ff;}#sk-container-id-2 div.sk-toggleable__content pre {margin: 0.2em;color: black;border-radius: 0.25em;background-color: #f0f8ff;}#sk-container-id-2 input.sk-toggleable__control:checked~div.sk-toggleable__content {max-height: 200px;max-width: 100%;overflow: auto;}#sk-container-id-2 input.sk-toggleable__control:checked~label.sk-toggleable__label-arrow:before {content: \"▾\";}#sk-container-id-2 div.sk-estimator input.sk-toggleable__control:checked~label.sk-toggleable__label {background-color: #d4ebff;}#sk-container-id-2 div.sk-label input.sk-toggleable__control:checked~label.sk-toggleable__label {background-color: #d4ebff;}#sk-container-id-2 input.sk-hidden--visually {border: 0;clip: rect(1px 1px 1px 1px);clip: rect(1px, 1px, 1px, 1px);height: 1px;margin: -1px;overflow: hidden;padding: 0;position: absolute;width: 1px;}#sk-container-id-2 div.sk-estimator {font-family: monospace;background-color: #f0f8ff;border: 1px dotted black;border-radius: 0.25em;box-sizing: border-box;margin-bottom: 0.5em;}#sk-container-id-2 div.sk-estimator:hover {background-color: #d4ebff;}#sk-container-id-2 div.sk-parallel-item::after {content: \"\";width: 100%;border-bottom: 1px solid gray;flex-grow: 1;}#sk-container-id-2 div.sk-label:hover label.sk-toggleable__label {background-color: #d4ebff;}#sk-container-id-2 div.sk-serial::before {content: \"\";position: absolute;border-left: 1px solid gray;box-sizing: border-box;top: 0;bottom: 0;left: 50%;z-index: 0;}#sk-container-id-2 div.sk-serial {display: flex;flex-direction: column;align-items: center;background-color: white;padding-right: 0.2em;padding-left: 0.2em;position: relative;}#sk-container-id-2 div.sk-item {position: relative;z-index: 1;}#sk-container-id-2 div.sk-parallel {display: flex;align-items: stretch;justify-content: center;background-color: white;position: relative;}#sk-container-id-2 div.sk-item::before, #sk-container-id-2 div.sk-parallel-item::before {content: \"\";position: absolute;border-left: 1px solid gray;box-sizing: border-box;top: 0;bottom: 0;left: 50%;z-index: -1;}#sk-container-id-2 div.sk-parallel-item {display: flex;flex-direction: column;z-index: 1;position: relative;background-color: white;}#sk-container-id-2 div.sk-parallel-item:first-child::after {align-self: flex-end;width: 50%;}#sk-container-id-2 div.sk-parallel-item:last-child::after {align-self: flex-start;width: 50%;}#sk-container-id-2 div.sk-parallel-item:only-child::after {width: 0;}#sk-container-id-2 div.sk-dashed-wrapped {border: 1px dashed gray;margin: 0 0.4em 0.5em 0.4em;box-sizing: border-box;padding-bottom: 0.4em;background-color: white;}#sk-container-id-2 div.sk-label label {font-family: monospace;font-weight: bold;display: inline-block;line-height: 1.2em;}#sk-container-id-2 div.sk-label-container {text-align: center;}#sk-container-id-2 div.sk-container {/* jupyter's `normalize.less` sets `[hidden] { display: none; }` but bootstrap.min.css set `[hidden] { display: none !important; }` so we also need the `!important` here to be able to override the default hidden behavior on the sphinx rendered scikit-learn.org. See: https://github.com/scikit-learn/scikit-learn/issues/21755 */display: inline-block !important;position: relative;}#sk-container-id-2 div.sk-text-repr-fallback {display: none;}</style><div id=\"sk-container-id-2\" class=\"sk-top-container\"><div class=\"sk-text-repr-fallback\"><pre>Pipeline(steps=[(&#x27;standardscaler&#x27;, StandardScaler()),\n                (&#x27;kmeans&#x27;, KMeans(n_clusters=3))])</pre><b>In a Jupyter environment, please rerun this cell to show the HTML representation or trust the notebook. <br />On GitHub, the HTML representation is unable to render, please try loading this page with nbviewer.org.</b></div><div class=\"sk-container\" hidden><div class=\"sk-item sk-dashed-wrapped\"><div class=\"sk-label-container\"><div class=\"sk-label sk-toggleable\"><input class=\"sk-toggleable__control sk-hidden--visually\" id=\"sk-estimator-id-2\" type=\"checkbox\" ><label for=\"sk-estimator-id-2\" class=\"sk-toggleable__label sk-toggleable__label-arrow\">Pipeline</label><div class=\"sk-toggleable__content\"><pre>Pipeline(steps=[(&#x27;standardscaler&#x27;, StandardScaler()),\n                (&#x27;kmeans&#x27;, KMeans(n_clusters=3))])</pre></div></div></div><div class=\"sk-serial\"><div class=\"sk-item\"><div class=\"sk-estimator sk-toggleable\"><input class=\"sk-toggleable__control sk-hidden--visually\" id=\"sk-estimator-id-3\" type=\"checkbox\" ><label for=\"sk-estimator-id-3\" class=\"sk-toggleable__label sk-toggleable__label-arrow\">StandardScaler</label><div class=\"sk-toggleable__content\"><pre>StandardScaler()</pre></div></div></div><div class=\"sk-item\"><div class=\"sk-estimator sk-toggleable\"><input class=\"sk-toggleable__control sk-hidden--visually\" id=\"sk-estimator-id-4\" type=\"checkbox\" ><label for=\"sk-estimator-id-4\" class=\"sk-toggleable__label sk-toggleable__label-arrow\">KMeans</label><div class=\"sk-toggleable__content\"><pre>KMeans(n_clusters=3)</pre></div></div></div></div></div></div></div>"
     },
     "execution_count": 57,
     "metadata": {},
     "output_type": "execute_result"
    }
   ],
   "source": [
    "# Pipelines sklearn StandardScaler\n",
    "\n",
    "from sklearn.preprocessing import StandardScaler\n",
    "from sklearn.cluster import KMeans\n",
    "scaler = StandardScaler()\n",
    "kmeans = KMeans(n_clusters=3)\n",
    "from sklearn.pipeline import make_pipeline\n",
    "pipeline=make_pipeline(scaler,kmeans)\n",
    "pipeline.fit(samples)"
   ],
   "metadata": {
    "collapsed": false,
    "pycharm": {
     "name": "#%%\n"
    }
   }
  },
  {
   "cell_type": "code",
   "execution_count": 58,
   "outputs": [
    {
     "name": "stdout",
     "output_type": "stream",
     "text": [
      "varieties  Barbera  Barolo  Grignolino\n",
      "labels                                \n",
      "0                0       0          65\n",
      "1                0      59           3\n",
      "2               48       0           3\n"
     ]
    }
   ],
   "source": [
    "labels = pipeline.predict(samples)\n",
    "df = pd.DataFrame({'labels': labels, 'varieties': varieties})\n",
    "ct=pd.crosstab(df['labels'], df['varieties'])\n",
    "print(ct)"
   ],
   "metadata": {
    "collapsed": false,
    "pycharm": {
     "name": "#%%\n"
    }
   }
  },
  {
   "cell_type": "markdown",
   "source": [
    "### **Clustering without scaling**"
   ],
   "metadata": {
    "collapsed": false,
    "pycharm": {
     "name": "#%% md\n"
    }
   }
  },
  {
   "cell_type": "code",
   "execution_count": 60,
   "outputs": [
    {
     "data": {
      "text/plain": "    0       1     2     3     4     5     6\n62  5     9.9  11.3  11.8  13.1  16.9   8.9\n31  1   955.0  35.0  38.5  44.0  41.1  14.3\n53  3   272.0  25.0  27.0  30.6  28.0  15.6\n76  6   510.0  40.0  42.5  45.5  15.0   9.8\n82  6  1250.0  52.0  56.0  59.7  17.9  11.7",
      "text/html": "<div>\n<style scoped>\n    .dataframe tbody tr th:only-of-type {\n        vertical-align: middle;\n    }\n\n    .dataframe tbody tr th {\n        vertical-align: top;\n    }\n\n    .dataframe thead th {\n        text-align: right;\n    }\n</style>\n<table border=\"1\" class=\"dataframe\">\n  <thead>\n    <tr style=\"text-align: right;\">\n      <th></th>\n      <th>0</th>\n      <th>1</th>\n      <th>2</th>\n      <th>3</th>\n      <th>4</th>\n      <th>5</th>\n      <th>6</th>\n    </tr>\n  </thead>\n  <tbody>\n    <tr>\n      <th>62</th>\n      <td>5</td>\n      <td>9.9</td>\n      <td>11.3</td>\n      <td>11.8</td>\n      <td>13.1</td>\n      <td>16.9</td>\n      <td>8.9</td>\n    </tr>\n    <tr>\n      <th>31</th>\n      <td>1</td>\n      <td>955.0</td>\n      <td>35.0</td>\n      <td>38.5</td>\n      <td>44.0</td>\n      <td>41.1</td>\n      <td>14.3</td>\n    </tr>\n    <tr>\n      <th>53</th>\n      <td>3</td>\n      <td>272.0</td>\n      <td>25.0</td>\n      <td>27.0</td>\n      <td>30.6</td>\n      <td>28.0</td>\n      <td>15.6</td>\n    </tr>\n    <tr>\n      <th>76</th>\n      <td>6</td>\n      <td>510.0</td>\n      <td>40.0</td>\n      <td>42.5</td>\n      <td>45.5</td>\n      <td>15.0</td>\n      <td>9.8</td>\n    </tr>\n    <tr>\n      <th>82</th>\n      <td>6</td>\n      <td>1250.0</td>\n      <td>52.0</td>\n      <td>56.0</td>\n      <td>59.7</td>\n      <td>17.9</td>\n      <td>11.7</td>\n    </tr>\n  </tbody>\n</table>\n</div>"
     },
     "execution_count": 60,
     "metadata": {},
     "output_type": "execute_result"
    }
   ],
   "source": [
    "# Fish data\n",
    "data= pd.read_csv('fish_catch.csv',header=None).dropna()\n",
    "data.sample(5)"
   ],
   "metadata": {
    "collapsed": false,
    "pycharm": {
     "name": "#%%\n"
    }
   }
  },
  {
   "cell_type": "code",
   "execution_count": 63,
   "outputs": [
    {
     "name": "stdout",
     "output_type": "stream",
     "text": [
      "['Bream', 'Bream', 'Bream', 'Bream', 'Bream', 'Bream', 'Bream', 'Bream', 'Bream', 'Bream', 'Bream', 'Bream', 'Bream', 'Bream', 'Bream', 'Bream', 'Bream', 'Bream', 'Bream', 'Bream', 'Bream', 'Bream', 'Bream', 'Bream', 'Bream', 'Bream', 'Bream', 'Bream', 'Bream', 'Bream', 'Bream', 'Bream', 'Bream', 'Bream', 'Roach', 'Roach', 'Roach', 'Roach', 'Roach', 'Roach', 'Roach', 'Roach', 'Roach', 'Roach', 'Roach', 'Roach', 'Roach', 'Roach', 'Roach', 'Roach', 'Roach', 'Roach', 'Roach', 'Roach', 'Smelt', 'Smelt', 'Smelt', 'Smelt', 'Smelt', 'Smelt', 'Smelt', 'Smelt', 'Smelt', 'Smelt', 'Smelt', 'Smelt', 'Smelt', 'Smelt', 'Pike', 'Pike', 'Pike', 'Pike', 'Pike', 'Pike', 'Pike', 'Pike', 'Pike', 'Pike', 'Pike', 'Pike', 'Pike', 'Pike', 'Pike', 'Pike', 'Pike']\n",
      "[[1.00e+00 2.42e+02 2.32e+01 2.54e+01 3.00e+01 3.84e+01 1.34e+01]\n",
      " [1.00e+00 2.90e+02 2.40e+01 2.63e+01 3.12e+01 4.00e+01 1.38e+01]\n",
      " [1.00e+00 3.40e+02 2.39e+01 2.65e+01 3.11e+01 3.98e+01 1.51e+01]\n",
      " [1.00e+00 3.63e+02 2.63e+01 2.90e+01 3.35e+01 3.80e+01 1.33e+01]\n",
      " [1.00e+00 4.30e+02 2.65e+01 2.90e+01 3.40e+01 3.66e+01 1.51e+01]\n",
      " [1.00e+00 4.50e+02 2.68e+01 2.97e+01 3.47e+01 3.92e+01 1.42e+01]\n",
      " [1.00e+00 5.00e+02 2.68e+01 2.97e+01 3.45e+01 4.11e+01 1.53e+01]\n",
      " [1.00e+00 3.90e+02 2.76e+01 3.00e+01 3.50e+01 3.62e+01 1.34e+01]\n",
      " [1.00e+00 4.50e+02 2.76e+01 3.00e+01 3.51e+01 3.99e+01 1.38e+01]\n",
      " [1.00e+00 5.00e+02 2.85e+01 3.07e+01 3.62e+01 3.93e+01 1.37e+01]\n",
      " [1.00e+00 4.75e+02 2.84e+01 3.10e+01 3.62e+01 3.94e+01 1.41e+01]\n",
      " [1.00e+00 5.00e+02 2.87e+01 3.10e+01 3.62e+01 3.97e+01 1.33e+01]\n",
      " [1.00e+00 5.00e+02 2.91e+01 3.15e+01 3.64e+01 3.78e+01 1.20e+01]\n",
      " [1.00e+00 6.00e+02 2.94e+01 3.20e+01 3.72e+01 4.02e+01 1.39e+01]\n",
      " [1.00e+00 6.00e+02 2.94e+01 3.20e+01 3.72e+01 4.15e+01 1.50e+01]\n",
      " [1.00e+00 7.00e+02 3.04e+01 3.30e+01 3.83e+01 3.88e+01 1.38e+01]\n",
      " [1.00e+00 7.00e+02 3.04e+01 3.30e+01 3.85e+01 3.88e+01 1.35e+01]\n",
      " [1.00e+00 6.10e+02 3.09e+01 3.35e+01 3.86e+01 4.05e+01 1.33e+01]\n",
      " [1.00e+00 6.50e+02 3.10e+01 3.35e+01 3.87e+01 3.74e+01 1.48e+01]\n",
      " [1.00e+00 5.75e+02 3.13e+01 3.40e+01 3.95e+01 3.83e+01 1.41e+01]\n",
      " [1.00e+00 6.85e+02 3.14e+01 3.40e+01 3.92e+01 4.08e+01 1.37e+01]\n",
      " [1.00e+00 6.20e+02 3.15e+01 3.45e+01 3.97e+01 3.91e+01 1.33e+01]\n",
      " [1.00e+00 6.80e+02 3.18e+01 3.50e+01 4.06e+01 3.81e+01 1.51e+01]\n",
      " [1.00e+00 7.00e+02 3.19e+01 3.50e+01 4.05e+01 4.01e+01 1.38e+01]\n",
      " [1.00e+00 7.25e+02 3.18e+01 3.50e+01 4.09e+01 4.00e+01 1.48e+01]\n",
      " [1.00e+00 7.20e+02 3.20e+01 3.50e+01 4.06e+01 4.03e+01 1.50e+01]\n",
      " [1.00e+00 7.14e+02 3.27e+01 3.60e+01 4.15e+01 3.98e+01 1.41e+01]\n",
      " [1.00e+00 8.50e+02 3.28e+01 3.60e+01 4.16e+01 4.06e+01 1.49e+01]\n",
      " [1.00e+00 1.00e+03 3.35e+01 3.70e+01 4.26e+01 4.45e+01 1.55e+01]\n",
      " [1.00e+00 9.20e+02 3.50e+01 3.85e+01 4.41e+01 4.09e+01 1.43e+01]\n",
      " [1.00e+00 9.55e+02 3.50e+01 3.85e+01 4.40e+01 4.11e+01 1.43e+01]\n",
      " [1.00e+00 9.25e+02 3.62e+01 3.95e+01 4.53e+01 4.14e+01 1.49e+01]\n",
      " [1.00e+00 9.75e+02 3.74e+01 4.10e+01 4.59e+01 4.06e+01 1.47e+01]\n",
      " [1.00e+00 9.50e+02 3.80e+01 4.10e+01 4.65e+01 3.79e+01 1.37e+01]\n",
      " [3.00e+00 4.00e+01 1.29e+01 1.41e+01 1.62e+01 2.56e+01 1.40e+01]\n",
      " [3.00e+00 6.90e+01 1.65e+01 1.82e+01 2.03e+01 2.61e+01 1.39e+01]\n",
      " [3.00e+00 7.80e+01 1.75e+01 1.88e+01 2.12e+01 2.63e+01 1.37e+01]\n",
      " [3.00e+00 8.70e+01 1.82e+01 1.98e+01 2.22e+01 2.53e+01 1.43e+01]\n",
      " [3.00e+00 1.20e+02 1.86e+01 2.00e+01 2.22e+01 2.80e+01 1.61e+01]\n",
      " [3.00e+00 0.00e+00 1.90e+01 2.05e+01 2.28e+01 2.84e+01 1.47e+01]\n",
      " [3.00e+00 1.10e+02 1.91e+01 2.08e+01 2.31e+01 2.67e+01 1.47e+01]\n",
      " [3.00e+00 1.20e+02 1.94e+01 2.10e+01 2.37e+01 2.58e+01 1.39e+01]\n",
      " [3.00e+00 1.50e+02 2.04e+01 2.20e+01 2.47e+01 2.35e+01 1.52e+01]\n",
      " [3.00e+00 1.45e+02 2.05e+01 2.20e+01 2.43e+01 2.73e+01 1.46e+01]\n",
      " [3.00e+00 1.60e+02 2.05e+01 2.25e+01 2.53e+01 2.78e+01 1.51e+01]\n",
      " [3.00e+00 1.40e+02 2.10e+01 2.25e+01 2.50e+01 2.62e+01 1.33e+01]\n",
      " [3.00e+00 1.60e+02 2.11e+01 2.25e+01 2.50e+01 2.56e+01 1.52e+01]\n",
      " [3.00e+00 1.69e+02 2.20e+01 2.40e+01 2.72e+01 2.77e+01 1.41e+01]\n",
      " [3.00e+00 1.61e+02 2.20e+01 2.34e+01 2.67e+01 2.59e+01 1.36e+01]\n",
      " [3.00e+00 2.00e+02 2.21e+01 2.35e+01 2.68e+01 2.76e+01 1.54e+01]\n",
      " [3.00e+00 1.80e+02 2.36e+01 2.52e+01 2.79e+01 2.54e+01 1.40e+01]\n",
      " [3.00e+00 2.90e+02 2.40e+01 2.60e+01 2.92e+01 3.04e+01 1.54e+01]\n",
      " [3.00e+00 2.72e+02 2.50e+01 2.70e+01 3.06e+01 2.80e+01 1.56e+01]\n",
      " [3.00e+00 3.90e+02 2.95e+01 3.17e+01 3.50e+01 2.71e+01 1.53e+01]\n",
      " [5.00e+00 6.70e+00 9.30e+00 9.80e+00 1.08e+01 1.61e+01 9.70e+00]\n",
      " [5.00e+00 7.50e+00 1.00e+01 1.05e+01 1.16e+01 1.70e+01 1.00e+01]\n",
      " [5.00e+00 7.00e+00 1.01e+01 1.06e+01 1.16e+01 1.49e+01 9.90e+00]\n",
      " [5.00e+00 9.70e+00 1.04e+01 1.10e+01 1.20e+01 1.83e+01 1.15e+01]\n",
      " [5.00e+00 9.80e+00 1.07e+01 1.12e+01 1.24e+01 1.68e+01 1.03e+01]\n",
      " [5.00e+00 8.70e+00 1.08e+01 1.13e+01 1.26e+01 1.57e+01 1.02e+01]\n",
      " [5.00e+00 1.00e+01 1.13e+01 1.18e+01 1.31e+01 1.69e+01 9.80e+00]\n",
      " [5.00e+00 9.90e+00 1.13e+01 1.18e+01 1.31e+01 1.69e+01 8.90e+00]\n",
      " [5.00e+00 9.80e+00 1.14e+01 1.20e+01 1.32e+01 1.67e+01 8.70e+00]\n",
      " [5.00e+00 1.22e+01 1.15e+01 1.22e+01 1.34e+01 1.56e+01 1.04e+01]\n",
      " [5.00e+00 1.34e+01 1.17e+01 1.24e+01 1.35e+01 1.80e+01 9.40e+00]\n",
      " [5.00e+00 1.22e+01 1.21e+01 1.30e+01 1.38e+01 1.65e+01 9.10e+00]\n",
      " [5.00e+00 1.97e+01 1.32e+01 1.43e+01 1.52e+01 1.89e+01 1.36e+01]\n",
      " [5.00e+00 1.99e+01 1.38e+01 1.50e+01 1.62e+01 1.81e+01 1.16e+01]\n",
      " [6.00e+00 2.00e+02 3.00e+01 3.23e+01 3.48e+01 1.60e+01 9.70e+00]\n",
      " [6.00e+00 3.00e+02 3.17e+01 3.40e+01 3.78e+01 1.51e+01 1.10e+01]\n",
      " [6.00e+00 3.00e+02 3.27e+01 3.50e+01 3.88e+01 1.53e+01 1.13e+01]\n",
      " [6.00e+00 3.00e+02 3.48e+01 3.73e+01 3.98e+01 1.58e+01 1.01e+01]\n",
      " [6.00e+00 4.30e+02 3.55e+01 3.80e+01 4.05e+01 1.80e+01 1.13e+01]\n",
      " [6.00e+00 3.45e+02 3.60e+01 3.85e+01 4.10e+01 1.56e+01 9.70e+00]\n",
      " [6.00e+00 4.56e+02 4.00e+01 4.25e+01 4.55e+01 1.60e+01 9.50e+00]\n",
      " [6.00e+00 5.10e+02 4.00e+01 4.25e+01 4.55e+01 1.50e+01 9.80e+00]\n",
      " [6.00e+00 5.40e+02 4.01e+01 4.30e+01 4.58e+01 1.70e+01 1.12e+01]\n",
      " [6.00e+00 5.00e+02 4.20e+01 4.50e+01 4.80e+01 1.45e+01 1.02e+01]\n",
      " [6.00e+00 5.67e+02 4.32e+01 4.60e+01 4.87e+01 1.60e+01 1.00e+01]\n",
      " [6.00e+00 7.70e+02 4.48e+01 4.80e+01 5.12e+01 1.50e+01 1.05e+01]\n",
      " [6.00e+00 9.50e+02 4.83e+01 5.17e+01 5.51e+01 1.62e+01 1.12e+01]\n",
      " [6.00e+00 1.25e+03 5.20e+01 5.60e+01 5.97e+01 1.79e+01 1.17e+01]\n",
      " [6.00e+00 1.60e+03 5.60e+01 6.00e+01 6.40e+01 1.50e+01 9.60e+00]\n",
      " [6.00e+00 1.55e+03 5.60e+01 6.00e+01 6.40e+01 1.50e+01 9.60e+00]\n",
      " [6.00e+00 1.65e+03 5.90e+01 6.34e+01 6.80e+01 1.59e+01 1.10e+01]]\n"
     ]
    }
   ],
   "source": [
    "species = list(data[0].map({1:'Bream',2:'Whitewish',3:'Roach',4:'?',5:'Smelt',6:'Pike',7:'Perch'}))\n",
    "print(species)\n",
    "samples = data.iloc[:,0:].values\n",
    "print(samples)"
   ],
   "metadata": {
    "collapsed": false,
    "pycharm": {
     "name": "#%%\n"
    }
   }
  },
  {
   "cell_type": "code",
   "execution_count": 62,
   "outputs": [
    {
     "name": "stdout",
     "output_type": "stream",
     "text": [
      "species  Bream  Pike  Roach  Smelt\n",
      "labels                            \n",
      "0           17    10      3      0\n",
      "1           16     2      0      0\n",
      "2            1     1     17     14\n",
      "3            0     4      0      0\n"
     ]
    }
   ],
   "source": [
    "# Create a KMeans model with 4 clusters: model\n",
    "model = KMeans(n_clusters=4)\n",
    "\n",
    "# Use fit_predict to fit model and obtain cluster labels: labels\n",
    "labels = model.fit_predict(samples)\n",
    "\n",
    "# Create a DataFrame with labels and varieties as columns: df\n",
    "df= pd.DataFrame({'labels': labels,'species':species})\n",
    "\n",
    "# Create crosstab: ct\n",
    "ct =pd.crosstab(df['labels'],df['species'])\n",
    "\n",
    "# Display ct\n",
    "print(ct)"
   ],
   "metadata": {
    "collapsed": false,
    "pycharm": {
     "name": "#%%\n"
    }
   }
  },
  {
   "cell_type": "markdown",
   "source": [
    "**Scaling fish data for clustering**\n",
    "\n",
    "You are given an array of fish measurements. Fish are represented by rows. Measurements such as weight in grams, length in centimeters, and height to length ratio have very different scales. This data should be standardized before clustering. Build a pipeline to standardize and cluster data in this exercise"
   ],
   "metadata": {
    "collapsed": false,
    "pycharm": {
     "name": "#%% md\n"
    }
   }
  },
  {
   "cell_type": "code",
   "execution_count": 64,
   "outputs": [],
   "source": [
    "# Perform the necessary imports\n",
    "from sklearn.pipeline import make_pipeline\n",
    "from sklearn.preprocessing import StandardScaler\n",
    "from sklearn.cluster import KMeans\n",
    "\n",
    "# Create scaler: scaler\n",
    "scaler= StandardScaler()\n",
    "\n",
    "# Create KMeans instance: kmeans\n",
    "kmeans = KMeans(n_clusters=4)\n",
    "\n",
    "# Create pipeline: pipeline\n",
    "pipeline = make_pipeline(scaler,kmeans)\n",
    "\n"
   ],
   "metadata": {
    "collapsed": false,
    "pycharm": {
     "name": "#%%\n"
    }
   }
  },
  {
   "cell_type": "markdown",
   "source": [
    "**Clustering the fish data**\n",
    "\n",
    "We will now use your standardization and clustering pipeline from above to cluster the fish by their measurements, and then create a cross-tabulation to compare the cluster labels with the fish species."
   ],
   "metadata": {
    "collapsed": false,
    "pycharm": {
     "name": "#%% md\n"
    }
   }
  },
  {
   "cell_type": "code",
   "execution_count": 65,
   "outputs": [
    {
     "name": "stdout",
     "output_type": "stream",
     "text": [
      "species  Bream  Pike  Roach  Smelt\n",
      "labels                            \n",
      "0            0     0     20      0\n",
      "1            0     0      0     14\n",
      "2            0    17      0      0\n",
      "3           34     0      0      0\n"
     ]
    }
   ],
   "source": [
    "# Import pandas\n",
    "import pandas as pd\n",
    "\n",
    "# Fit the pipeline to samples\n",
    "pipeline.fit(samples)\n",
    "\n",
    "# Calculate the cluster labels: labels\n",
    "labels= pipeline.predict(samples)\n",
    "\n",
    "# Create a DataFrame with labels and species as columns: df\n",
    "df = pd.DataFrame({'labels': labels, 'species':species})\n",
    "\n",
    "# Create crosstab: ct\n",
    "ct=pd.crosstab(df['labels'],df['species'])\n",
    "\n",
    "# Display ct\n",
    "print(ct)"
   ],
   "metadata": {
    "collapsed": false,
    "pycharm": {
     "name": "#%%\n"
    }
   }
  },
  {
   "cell_type": "markdown",
   "source": [
    "In above It looks like the fish data separates really well into 4 clusters!"
   ],
   "metadata": {
    "collapsed": false,
    "pycharm": {
     "name": "#%% md\n"
    }
   }
  },
  {
   "cell_type": "markdown",
   "source": [
    "**Clustering stocks with KMeans**\n",
    "\n",
    "This exercise clusters companies based on their daily stock price movements (i.e. the dollar difference between closing and opening prices). NumPy array of daily price movements from 2010 to 2015 (obtained from Yahoo! Finance), with each row corresponding to a company and each column to a trading day.\n",
    "\n",
    "Stocks vary in price. Include a Normalizer at the beginning of your pipeline. Before clustering, the Normalizer transforms each company's stock price to a relative scale.\n",
    "\n",
    "Normalizer() is different from StandardScaler(), which you used in the previous exercise. Normalizer() rescales each sample - here, each company's stock price - independently from the rest, while StandardScaler() standardizes features (such as fish data from the previous exercise) by removing the mean."
   ],
   "metadata": {
    "collapsed": false,
    "pycharm": {
     "name": "#%% md\n"
    }
   }
  },
  {
   "cell_type": "code",
   "execution_count": 67,
   "outputs": [
    {
     "name": "stdout",
     "output_type": "stream",
     "text": [
      "           Unnamed: 0  2010-01-04  2010-01-05  2010-01-06  2010-01-07  \\\n",
      "40     Procter Gamble    0.009998    0.009998   -0.090001   -0.060002   \n",
      "13  DuPont de Nemours    0.279997   -0.420001    0.190002    0.500001   \n",
      "23                IBM    1.270004   -0.829987   -0.679993   -0.319992   \n",
      "15               Ford    0.110000    0.510000    0.160000    0.200000   \n",
      "5     Bank of America    0.450000    0.460001    0.180000    0.250000   \n",
      "\n",
      "    2010-01-08  2010-01-11  2010-01-12  2010-01-13  2010-01-14  ...  \\\n",
      "40    0.079998    0.119999    0.189998    0.479999    0.160004  ...   \n",
      "13   -0.340001   -0.050002    0.000000    0.209999   -0.270003  ...   \n",
      "23    1.779999   -1.580002    1.479996   -0.160003    1.759995  ...   \n",
      "15    0.020000    0.210000   -0.110000   -0.230000    0.110000  ...   \n",
      "5    -0.199999   -0.060000   -0.359998    0.190001    0.190001  ...   \n",
      "\n",
      "    2013-10-16  2013-10-17  2013-10-18  2013-10-21  2013-10-22  2013-10-23  \\\n",
      "40    0.989998    1.229996    0.020005   -0.299996    1.069999    0.570008   \n",
      "13    0.490003    0.529999   -0.200000    0.000000    0.349998   -0.180000   \n",
      "23    1.309998    0.990006   -1.020004   -1.559997    1.619995    0.680008   \n",
      "15    0.210001    0.219999    0.010001   -0.090000    0.050001   -0.140000   \n",
      "5     0.240000    0.210000   -0.050000   -0.010000   -0.030000   -0.240000   \n",
      "\n",
      "    2013-10-24  2013-10-25  2013-10-28  2013-10-29  \n",
      "40   -0.159996   -0.550003    1.190002    1.000000  \n",
      "13    1.150003   -0.669999   -0.329999   -0.120000  \n",
      "23    1.370010   -1.579987    0.310013    4.500000  \n",
      "15   -0.250000   -0.240000   -0.090000    0.040001  \n",
      "5     0.050000    0.110000   -0.060000   -0.110000  \n",
      "\n",
      "[5 rows x 964 columns]\n"
     ]
    }
   ],
   "source": [
    "# Stocks data\n",
    "\n",
    "data = pd.read_csv(\"company-stock-movements-2010-2015-incl.csv\")\n",
    "companies = list(data.iloc[:,0])\n",
    "movements = data.iloc[:,1:].values\n",
    "print(data.sample(5))"
   ],
   "metadata": {
    "collapsed": false,
    "pycharm": {
     "name": "#%%\n"
    }
   }
  },
  {
   "cell_type": "code",
   "execution_count": 68,
   "outputs": [
    {
     "data": {
      "text/plain": "Pipeline(steps=[('normalizer', Normalizer()),\n                ('kmeans', KMeans(n_clusters=10))])",
      "text/html": "<style>#sk-container-id-3 {color: black;background-color: white;}#sk-container-id-3 pre{padding: 0;}#sk-container-id-3 div.sk-toggleable {background-color: white;}#sk-container-id-3 label.sk-toggleable__label {cursor: pointer;display: block;width: 100%;margin-bottom: 0;padding: 0.3em;box-sizing: border-box;text-align: center;}#sk-container-id-3 label.sk-toggleable__label-arrow:before {content: \"▸\";float: left;margin-right: 0.25em;color: #696969;}#sk-container-id-3 label.sk-toggleable__label-arrow:hover:before {color: black;}#sk-container-id-3 div.sk-estimator:hover label.sk-toggleable__label-arrow:before {color: black;}#sk-container-id-3 div.sk-toggleable__content {max-height: 0;max-width: 0;overflow: hidden;text-align: left;background-color: #f0f8ff;}#sk-container-id-3 div.sk-toggleable__content pre {margin: 0.2em;color: black;border-radius: 0.25em;background-color: #f0f8ff;}#sk-container-id-3 input.sk-toggleable__control:checked~div.sk-toggleable__content {max-height: 200px;max-width: 100%;overflow: auto;}#sk-container-id-3 input.sk-toggleable__control:checked~label.sk-toggleable__label-arrow:before {content: \"▾\";}#sk-container-id-3 div.sk-estimator input.sk-toggleable__control:checked~label.sk-toggleable__label {background-color: #d4ebff;}#sk-container-id-3 div.sk-label input.sk-toggleable__control:checked~label.sk-toggleable__label {background-color: #d4ebff;}#sk-container-id-3 input.sk-hidden--visually {border: 0;clip: rect(1px 1px 1px 1px);clip: rect(1px, 1px, 1px, 1px);height: 1px;margin: -1px;overflow: hidden;padding: 0;position: absolute;width: 1px;}#sk-container-id-3 div.sk-estimator {font-family: monospace;background-color: #f0f8ff;border: 1px dotted black;border-radius: 0.25em;box-sizing: border-box;margin-bottom: 0.5em;}#sk-container-id-3 div.sk-estimator:hover {background-color: #d4ebff;}#sk-container-id-3 div.sk-parallel-item::after {content: \"\";width: 100%;border-bottom: 1px solid gray;flex-grow: 1;}#sk-container-id-3 div.sk-label:hover label.sk-toggleable__label {background-color: #d4ebff;}#sk-container-id-3 div.sk-serial::before {content: \"\";position: absolute;border-left: 1px solid gray;box-sizing: border-box;top: 0;bottom: 0;left: 50%;z-index: 0;}#sk-container-id-3 div.sk-serial {display: flex;flex-direction: column;align-items: center;background-color: white;padding-right: 0.2em;padding-left: 0.2em;position: relative;}#sk-container-id-3 div.sk-item {position: relative;z-index: 1;}#sk-container-id-3 div.sk-parallel {display: flex;align-items: stretch;justify-content: center;background-color: white;position: relative;}#sk-container-id-3 div.sk-item::before, #sk-container-id-3 div.sk-parallel-item::before {content: \"\";position: absolute;border-left: 1px solid gray;box-sizing: border-box;top: 0;bottom: 0;left: 50%;z-index: -1;}#sk-container-id-3 div.sk-parallel-item {display: flex;flex-direction: column;z-index: 1;position: relative;background-color: white;}#sk-container-id-3 div.sk-parallel-item:first-child::after {align-self: flex-end;width: 50%;}#sk-container-id-3 div.sk-parallel-item:last-child::after {align-self: flex-start;width: 50%;}#sk-container-id-3 div.sk-parallel-item:only-child::after {width: 0;}#sk-container-id-3 div.sk-dashed-wrapped {border: 1px dashed gray;margin: 0 0.4em 0.5em 0.4em;box-sizing: border-box;padding-bottom: 0.4em;background-color: white;}#sk-container-id-3 div.sk-label label {font-family: monospace;font-weight: bold;display: inline-block;line-height: 1.2em;}#sk-container-id-3 div.sk-label-container {text-align: center;}#sk-container-id-3 div.sk-container {/* jupyter's `normalize.less` sets `[hidden] { display: none; }` but bootstrap.min.css set `[hidden] { display: none !important; }` so we also need the `!important` here to be able to override the default hidden behavior on the sphinx rendered scikit-learn.org. See: https://github.com/scikit-learn/scikit-learn/issues/21755 */display: inline-block !important;position: relative;}#sk-container-id-3 div.sk-text-repr-fallback {display: none;}</style><div id=\"sk-container-id-3\" class=\"sk-top-container\"><div class=\"sk-text-repr-fallback\"><pre>Pipeline(steps=[(&#x27;normalizer&#x27;, Normalizer()),\n                (&#x27;kmeans&#x27;, KMeans(n_clusters=10))])</pre><b>In a Jupyter environment, please rerun this cell to show the HTML representation or trust the notebook. <br />On GitHub, the HTML representation is unable to render, please try loading this page with nbviewer.org.</b></div><div class=\"sk-container\" hidden><div class=\"sk-item sk-dashed-wrapped\"><div class=\"sk-label-container\"><div class=\"sk-label sk-toggleable\"><input class=\"sk-toggleable__control sk-hidden--visually\" id=\"sk-estimator-id-5\" type=\"checkbox\" ><label for=\"sk-estimator-id-5\" class=\"sk-toggleable__label sk-toggleable__label-arrow\">Pipeline</label><div class=\"sk-toggleable__content\"><pre>Pipeline(steps=[(&#x27;normalizer&#x27;, Normalizer()),\n                (&#x27;kmeans&#x27;, KMeans(n_clusters=10))])</pre></div></div></div><div class=\"sk-serial\"><div class=\"sk-item\"><div class=\"sk-estimator sk-toggleable\"><input class=\"sk-toggleable__control sk-hidden--visually\" id=\"sk-estimator-id-6\" type=\"checkbox\" ><label for=\"sk-estimator-id-6\" class=\"sk-toggleable__label sk-toggleable__label-arrow\">Normalizer</label><div class=\"sk-toggleable__content\"><pre>Normalizer()</pre></div></div></div><div class=\"sk-item\"><div class=\"sk-estimator sk-toggleable\"><input class=\"sk-toggleable__control sk-hidden--visually\" id=\"sk-estimator-id-7\" type=\"checkbox\" ><label for=\"sk-estimator-id-7\" class=\"sk-toggleable__label sk-toggleable__label-arrow\">KMeans</label><div class=\"sk-toggleable__content\"><pre>KMeans(n_clusters=10)</pre></div></div></div></div></div></div></div>"
     },
     "execution_count": 68,
     "metadata": {},
     "output_type": "execute_result"
    }
   ],
   "source": [
    "# Import Normalizer\n",
    "from sklearn.preprocessing import Normalizer\n",
    "\n",
    "# Create a normalizer: normalizer\n",
    "normalizer = Normalizer()\n",
    "\n",
    "# Create a KMeans model with 10 clusters: kmeans\n",
    "kmeans = KMeans(n_clusters=10)\n",
    "\n",
    "# Make a pipeline chaining normalizer and kmeans: pipeline\n",
    "pipeline = make_pipeline(normalizer,kmeans)\n",
    "\n",
    "# Fit pipeline to the daily price movements\n",
    "pipeline.fit(movements)"
   ],
   "metadata": {
    "collapsed": false,
    "pycharm": {
     "name": "#%%\n"
    }
   }
  },
  {
   "cell_type": "markdown",
   "source": [
    "**Stocks that move together?**\n",
    "\n",
    "Previously, we clustered companies based on their daily stock price movements. Which company's stock prices change similarly? To find out, inspect our cluster labels."
   ],
   "metadata": {
    "collapsed": false,
    "pycharm": {
     "name": "#%% md\n"
    }
   }
  },
  {
   "cell_type": "code",
   "execution_count": 69,
   "outputs": [
    {
     "name": "stdout",
     "output_type": "stream",
     "text": [
      "    labels                           companies\n",
      "38       0                               Pepsi\n",
      "25       0                   Johnson & Johnson\n",
      "40       0                      Procter Gamble\n",
      "56       0                            Wal-Mart\n",
      "27       0                      Kimberly-Clark\n",
      "28       0                           Coca Cola\n",
      "9        0                   Colgate-Palmolive\n",
      "26       1                      JPMorgan Chase\n",
      "18       1                       Goldman Sachs\n",
      "5        1                     Bank of America\n",
      "43       2                                 SAP\n",
      "42       2                   Royal Dutch Shell\n",
      "35       2                            Navistar\n",
      "39       2                              Pfizer\n",
      "46       2                      Sanofi-Aventis\n",
      "49       2                               Total\n",
      "37       2                            Novartis\n",
      "44       2                        Schlumberger\n",
      "19       2                     GlaxoSmithKline\n",
      "10       2                      ConocoPhillips\n",
      "52       2                            Unilever\n",
      "57       2                               Exxon\n",
      "6        2            British American Tobacco\n",
      "53       2                       Valero Energy\n",
      "12       2                             Chevron\n",
      "33       3                           Microsoft\n",
      "11       3                               Cisco\n",
      "0        3                               Apple\n",
      "14       3                                Dell\n",
      "22       3                                  HP\n",
      "30       4                          MasterCard\n",
      "55       4                         Wells Fargo\n",
      "3        4                    American express\n",
      "1        4                                 AIG\n",
      "50       5  Taiwan Semiconductor Manufacturing\n",
      "24       5                               Intel\n",
      "51       5                   Texas instruments\n",
      "54       6                            Walgreen\n",
      "47       6                            Symantec\n",
      "29       6                     Lookheed Martin\n",
      "20       6                          Home Depot\n",
      "4        6                              Boeing\n",
      "32       6                                  3M\n",
      "31       6                           McDonalds\n",
      "58       6                               Xerox\n",
      "23       6                                 IBM\n",
      "8        6                         Caterpillar\n",
      "13       6                   DuPont de Nemours\n",
      "36       6                    Northrop Grumman\n",
      "17       6                     Google/Alphabet\n",
      "16       6                   General Electrics\n",
      "7        7                               Canon\n",
      "34       7                          Mitsubishi\n",
      "48       7                              Toyota\n",
      "21       7                               Honda\n",
      "45       7                                Sony\n",
      "15       7                                Ford\n",
      "41       8                       Philip Morris\n",
      "2        9                              Amazon\n",
      "59       9                               Yahoo\n"
     ]
    }
   ],
   "source": [
    "# Predict the cluster labels: labels\n",
    "labels = pipeline.predict(movements)\n",
    "\n",
    "# Create a DataFrame aligning labels and companies: df\n",
    "df = pd.DataFrame({'labels': labels, 'companies': companies})\n",
    "\n",
    "# Display df sorted by cluster label\n",
    "print(df.sort_values(by='labels'))"
   ],
   "metadata": {
    "collapsed": false,
    "pycharm": {
     "name": "#%%\n"
    }
   }
  },
  {
   "cell_type": "markdown",
   "source": [
    "## 2. Visualization with hierarchical clustering and t-SNE\n",
    "\n",
    "Here we will learn about two unsupervised learning techniques for data visualization, hierarchical clustering and t-SNE. Hierarchical clustering merges the data samples into ever-coarser clusters, yielding a tree visualization of the resulting cluster hierarchy. t-SNE maps the data samples into 2d space so that the proximity of the samples to one another can be visualized."
   ],
   "metadata": {
    "collapsed": false,
    "pycharm": {
     "name": "#%% md\n"
    }
   }
  },
  {
   "cell_type": "code",
   "execution_count": 70,
   "outputs": [],
   "source": [
    "# Import plotting modules\n",
    "import matplotlib.pyplot as plt\n",
    "import seaborn as sns\n",
    "import pandas as pd\n",
    "import numpy as np\n",
    "plt.style.use('ggplot')\n",
    "\n",
    "from warnings import warn\n",
    "from sklearn.linear_model import LogisticRegression\n",
    "from sklearn.multiclass import OneVsRestClassifier\n",
    "import warnings\n",
    "warnings.filterwarnings(\"ignore\")"
   ],
   "metadata": {
    "collapsed": false,
    "pycharm": {
     "name": "#%%\n"
    }
   }
  },
  {
   "cell_type": "markdown",
   "source": [
    "**Visualizing hierarchies**"
   ],
   "metadata": {
    "collapsed": false,
    "pycharm": {
     "name": "#%% md\n"
    }
   }
  },
  {
   "cell_type": "code",
   "execution_count": 71,
   "outputs": [],
   "source": [
    "# Eurovision scoring dataset\n",
    "\n",
    "scores_df=pd.read_csv(\"eurovision-2016-televoting.csv\",index_col=0)\n",
    "country_names = list(scores_df.index)\n",
    "samples = scores_df.fillna(value=0).values"
   ],
   "metadata": {
    "collapsed": false,
    "pycharm": {
     "name": "#%%\n"
    }
   }
  },
  {
   "cell_type": "code",
   "execution_count": 73,
   "outputs": [
    {
     "data": {
      "text/plain": "<Figure size 432x288 with 1 Axes>",
      "image/png": "[encoded data removed]"
     },
     "metadata": {},
     "output_type": "display_data"
    }
   ],
   "source": [
    "# Hierarchical clustering with SciPy\n",
    "import matplotlib.pyplot as plt\n",
    "from scipy.cluster.hierarchy import linkage, dendrogram\n",
    "\n",
    "mergings = linkage(samples, method='complete')\n",
    "dendrogram(mergings,labels=country_names,leaf_rotation=90,leaf_font_size=6,\n",
    "          truncate_mode='lastp',p=30)\n",
    "plt.title(\"Countries hierarchically clustered by Eurovision 2016 voting\")\n",
    "plt.show()"
   ],
   "metadata": {
    "collapsed": false,
    "pycharm": {
     "name": "#%%\n"
    }
   }
  },
  {
   "cell_type": "code",
   "execution_count": 75,
   "outputs": [],
   "source": [
    "# Grain/Seed dataset\n",
    "\n",
    "data = pd.read_csv(\"seeds_dataset.csv\",header=None)[::3]\n",
    "samples = data.iloc[:,:-1].values\n",
    "varieties = list(data.iloc[:,-1].map({1:'Kama wheat',2:'Rosa wheat',3:'Canadian wheat'}))"
   ],
   "metadata": {
    "collapsed": false,
    "pycharm": {
     "name": "#%%\n"
    }
   }
  },
  {
   "cell_type": "code",
   "execution_count": 76,
   "outputs": [
    {
     "data": {
      "text/plain": "<Figure size 432x288 with 1 Axes>",
      "image/png": "[encoded data removed]"
     },
     "metadata": {},
     "output_type": "display_data"
    }
   ],
   "source": [
    "# Hierarchical clustering of the grain data\n",
    "\n",
    "# Perform the necessary imports\n",
    "from scipy.cluster.hierarchy import linkage, dendrogram\n",
    "import matplotlib.pyplot as plt\n",
    "\n",
    "# Calculate the linkage: mergings\n",
    "mergings = linkage(samples,method='complete')\n",
    "\n",
    "# Plot the dendrogram, using varieties as labels\n",
    "dendrogram(mergings,\n",
    "           labels=varieties,\n",
    "           leaf_rotation=90,\n",
    "           leaf_font_size=6,\n",
    ")\n",
    "plt.show()"
   ],
   "metadata": {
    "collapsed": false,
    "pycharm": {
     "name": "#%%\n"
    }
   }
  },
  {
   "cell_type": "code",
   "execution_count": 77,
   "outputs": [],
   "source": [
    "# Stocks data\n",
    "\n",
    "data = pd.read_csv(\"company-stock-movements-2010-2015-incl.csv\")\n",
    "companies = list(data.iloc[:,0])\n",
    "movements = data.iloc[:,1:].values"
   ],
   "metadata": {
    "collapsed": false,
    "pycharm": {
     "name": "#%%\n"
    }
   }
  },
  {
   "cell_type": "code",
   "execution_count": 78,
   "outputs": [
    {
     "data": {
      "text/plain": "<Figure size 432x288 with 1 Axes>",
      "image/png": "[encoded data removed]"
     },
     "metadata": {},
     "output_type": "display_data"
    }
   ],
   "source": [
    "# Hierarchies of stocks\n",
    "\n",
    "# Import normalize\n",
    "from sklearn.preprocessing import normalize\n",
    "\n",
    "# Normalize the movements: normalized_movements\n",
    "normalized_movements = normalize(movements)\n",
    "\n",
    "# Calculate the linkage: mergings\n",
    "mergings = linkage(normalized_movements,method='complete')\n",
    "\n",
    "# Plot the dendrogram\n",
    "dendrogram(mergings,labels=companies,leaf_rotation=90,leaf_font_size=6)\n",
    "plt.show()"
   ],
   "metadata": {
    "collapsed": false,
    "pycharm": {
     "name": "#%%\n"
    }
   }
  },
  {
   "cell_type": "markdown",
   "source": [
    "**Cluster labels in hierarchical clustering**"
   ],
   "metadata": {
    "collapsed": false,
    "pycharm": {
     "name": "#%% md\n"
    }
   }
  },
  {
   "cell_type": "code",
   "execution_count": 79,
   "outputs": [],
   "source": [
    "# Eurovision scoring dataset\n",
    "\n",
    "scores_df = pd.read_csv(\"eurovision-2016-televoting.csv\",index_col=0)\n",
    "country_names = list(scores_df.index)\n",
    "samples = scores_df.fillna(value=0).values"
   ],
   "metadata": {
    "collapsed": false,
    "pycharm": {
     "name": "#%%\n"
    }
   }
  },
  {
   "cell_type": "code",
   "execution_count": 80,
   "outputs": [
    {
     "name": "stdout",
     "output_type": "stream",
     "text": [
      "[ 1 20 21 11 18  9 13 16 19 14 12  9  5  2 17  4  7  9  4 19  4  5  6 12\n",
      " 11  3  2  1  9 16  6  2  8  3 18 14 12  6 15  7 10  6]\n"
     ]
    }
   ],
   "source": [
    "# Extracting cluster labels using fcluster\n",
    "\n",
    "from scipy.cluster.hierarchy import linkage\n",
    "mergings = linkage(samples, method='complete')\n",
    "from scipy.cluster.hierarchy import fcluster\n",
    "labels = fcluster(mergings, 15, criterion='distance')\n",
    "print(labels)"
   ],
   "metadata": {
    "collapsed": false,
    "pycharm": {
     "name": "#%%\n"
    }
   }
  },
  {
   "cell_type": "code",
   "execution_count": 81,
   "outputs": [
    {
     "name": "stdout",
     "output_type": "stream",
     "text": [
      "    labels   countries\n",
      "0        1     Albania\n",
      "27       1       Malta\n",
      "31       2      Poland\n",
      "26       2   Lithuania\n",
      "13       2     Estonia\n",
      "33       3  San Marino\n",
      "25       3      Latvia\n",
      "18       4     Germany\n",
      "15       4     Finland\n",
      "20       4     Hungary\n"
     ]
    }
   ],
   "source": [
    "# Aligning cluster labels with country names\n",
    "\n",
    "pairs = pd.DataFrame({'labels': labels,'countries': country_names})\n",
    "print(pairs.sort_values('labels')[:10])"
   ],
   "metadata": {
    "collapsed": false,
    "pycharm": {
     "name": "#%%\n"
    }
   }
  },
  {
   "cell_type": "markdown",
   "source": [
    "**Different linkage, different hierarchical clustering!**\n",
    "\n",
    "In the video, you saw a hierarchical clustering of the voting countries at the Eurovision song contest using 'complete' linkage. Now, perform a hierarchical clustering of the voting countries with 'single' linkage, and compare the resulting dendrogram with the one in the video. Different linkage, different hierarchical clustering!"
   ],
   "metadata": {
    "collapsed": false,
    "pycharm": {
     "name": "#%% md\n"
    }
   }
  },
  {
   "cell_type": "code",
   "execution_count": 82,
   "outputs": [
    {
     "data": {
      "text/plain": "<Figure size 432x288 with 1 Axes>",
      "image/png": "[encoded data removed]"
     },
     "metadata": {},
     "output_type": "display_data"
    }
   ],
   "source": [
    "# Perform the necessary imports\n",
    "import matplotlib.pyplot as plt\n",
    "from scipy.cluster.hierarchy import linkage, dendrogram\n",
    "\n",
    "# Calculate the linkage: mergings\n",
    "mergings = linkage(samples, method='single')\n",
    "\n",
    "# Plot the dendrogram\n",
    "dendrogram(mergings, labels=country_names, leaf_rotation= 90, leaf_font_size=6)\n",
    "plt.show()"
   ],
   "metadata": {
    "collapsed": false,
    "pycharm": {
     "name": "#%%\n"
    }
   }
  },
  {
   "cell_type": "markdown",
   "source": [
    "**Extracting the cluster labels**\n",
    "\n",
    "Earlier we saw that the intermediate clustering of the grain samples at height 6 has 3 clusters. Now, use the fcluster() function to extract the cluster labels for this intermediate clustering, and compare the labels with the grain varieties using a cross-tabulation."
   ],
   "metadata": {
    "collapsed": false,
    "pycharm": {
     "name": "#%% md\n"
    }
   }
  },
  {
   "cell_type": "code",
   "execution_count": 88,
   "outputs": [],
   "source": [
    "# Grain/Seed dataset\n",
    "\n",
    "data = pd.read_csv(\"seeds_dataset.csv\",header=None)[::3]\n",
    "samples = data.iloc[:,:-1].values\n",
    "varieties = list(data.iloc[:,-1].map({1:'Kama wheat',2:'Rosa wheat',3:'Canadian wheat'}))\n",
    "\n",
    "mergings = linkage(samples,method='complete')"
   ],
   "metadata": {
    "collapsed": false,
    "pycharm": {
     "name": "#%%\n"
    }
   }
  },
  {
   "cell_type": "code",
   "execution_count": 89,
   "outputs": [
    {
     "name": "stdout",
     "output_type": "stream",
     "text": [
      "varieties  Canadian wheat  Kama wheat  Rosa wheat\n",
      "labels                                           \n",
      "1                       0           0          17\n",
      "2                      14           1           0\n",
      "3                       0           6           6\n",
      "4                       9          17           0\n"
     ]
    }
   ],
   "source": [
    "# Perform the necessary imports\n",
    "import pandas as pd\n",
    "from scipy.cluster.hierarchy import fcluster\n",
    "\n",
    "# Use fcluster to extract labels: labels\n",
    "labels = fcluster(mergings,6, criterion='distance')\n",
    "\n",
    "# Create a DataFrame with labels and varieties as columns: df\n",
    "df = pd.DataFrame({'labels': labels, 'varieties': varieties})\n",
    "\n",
    "# Create crosstab: ct\n",
    "ct = pd.crosstab(df['labels'],df['varieties'])\n",
    "\n",
    "# Display ct\n",
    "print(ct)"
   ],
   "metadata": {
    "collapsed": false,
    "pycharm": {
     "name": "#%%\n"
    }
   }
  },
  {
   "cell_type": "markdown",
   "source": [
    "\n",
    "t-SNE for 2-dimensional maps\n",
    "\n",
    "t-SNE = “t-distributed stochastic neighbor embedding”\n",
    "\n",
    "    Maps samples to 2D space (or 3D)\n",
    "    Map approximately preserves nearness of samples\n",
    "    Great for inspecting datasets\n"
   ],
   "metadata": {
    "collapsed": false,
    "pycharm": {
     "name": "#%% md\n"
    }
   }
  },
  {
   "cell_type": "code",
   "execution_count": 90,
   "outputs": [],
   "source": [
    "# Iris dataset\n",
    "\n",
    "from sklearn.datasets import load_iris\n",
    "samples = load_iris()['data']\n",
    "species = pd.Series(load_iris()['target'])#.map({0:'setosa',1:'versicolor',2:'virginica'})"
   ],
   "metadata": {
    "collapsed": false,
    "pycharm": {
     "name": "#%%\n"
    }
   }
  },
  {
   "cell_type": "code",
   "execution_count": 93,
   "outputs": [
    {
     "data": {
      "text/plain": "<Figure size 432x288 with 1 Axes>",
      "image/png": "[encoded data removed]"
     },
     "metadata": {},
     "output_type": "display_data"
    }
   ],
   "source": [
    "# t-SNE in sklearn\n",
    "\n",
    "import matplotlib.pyplot as plt\n",
    "from sklearn.manifold import TSNE\n",
    "\n",
    "model = TSNE(learning_rate=100)\n",
    "transformed = model.fit_transform(samples)\n",
    "xs = transformed[:,0]\n",
    "ys = transformed[:,1]\n",
    "plt.scatter(xs, ys, c=species, s=10)\n",
    "plt.show()"
   ],
   "metadata": {
    "collapsed": false,
    "pycharm": {
     "name": "#%%\n"
    }
   }
  },
  {
   "cell_type": "markdown",
   "source": [
    "**t-SNE visualization of grain dataset**\n",
    "\n",
    "As we saw t-SNE applied to the iris dataset. In this exercise, you'll apply t-SNE to the grain samples data and inspect the resulting t-SNE features using a scatter plot."
   ],
   "metadata": {
    "collapsed": false,
    "pycharm": {
     "name": "#%% md\n"
    }
   }
  },
  {
   "cell_type": "code",
   "execution_count": 96,
   "outputs": [],
   "source": [
    "# Grain/Seed dataset\n",
    "\n",
    "data = pd.read_csv(\"seeds_dataset.csv\",header=None)[::3]\n",
    "samples = data.iloc[:,:-1].values\n",
    "variety_numbers = list(data.iloc[:,-1])"
   ],
   "metadata": {
    "collapsed": false,
    "pycharm": {
     "name": "#%%\n"
    }
   }
  },
  {
   "cell_type": "code",
   "execution_count": 97,
   "outputs": [
    {
     "data": {
      "text/plain": "<Figure size 432x288 with 1 Axes>",
      "image/png": "[encoded data removed]"
     },
     "metadata": {},
     "output_type": "display_data"
    }
   ],
   "source": [
    "# Import TSNE\n",
    "from sklearn.manifold import TSNE\n",
    "\n",
    "# Create a TSNE instance: model\n",
    "model = TSNE(learning_rate=200)\n",
    "\n",
    "# Apply fit_transform to samples: tsne_features\n",
    "tsne_features = model.fit_transform(samples)\n",
    "\n",
    "# Select the 0th feature: xs\n",
    "xs = tsne_features[:,0]\n",
    "\n",
    "# Select the 1st feature: ys\n",
    "ys = tsne_features[:,1]\n",
    "\n",
    "# Scatter plot, coloring by variety_numbers\n",
    "plt.scatter(xs,ys,c=variety_numbers)\n",
    "plt.show()"
   ],
   "metadata": {
    "collapsed": false,
    "pycharm": {
     "name": "#%%\n"
    }
   }
  },
  {
   "cell_type": "markdown",
   "source": [
    "As we can see, the t-SNE visualization manages to separate the 3 varieties of grain samples. But how will it perform on the stock data? We'll find out it out below!"
   ],
   "metadata": {
    "collapsed": false,
    "pycharm": {
     "name": "#%% md\n"
    }
   }
  },
  {
   "cell_type": "markdown",
   "source": [
    "**A t-SNE map of the stock market**\n",
    "\n",
    "t-SNE provides great visualizations when the individual samples can be labeled. In this exercise, we'll apply t-SNE to the company stock price data. A scatter plot of the resulting t-SNE features, labeled by the company names, gives us a map of the stock market! The stock price movements for each company are available as the array normalized_movements"
   ],
   "metadata": {
    "collapsed": false,
    "pycharm": {
     "name": "#%% md\n"
    }
   }
  },
  {
   "cell_type": "code",
   "execution_count": null,
   "outputs": [],
   "source": [],
   "metadata": {
    "collapsed": false,
    "pycharm": {
     "name": "#%%\n"
    }
   }
  },
  {
   "cell_type": "code",
   "execution_count": 98,
   "outputs": [
    {
     "data": {
      "text/plain": "<Figure size 432x288 with 1 Axes>",
      "image/png": "[encoded data removed]"
     },
     "metadata": {},
     "output_type": "display_data"
    }
   ],
   "source": [
    "# Import TSNE\n",
    "from sklearn.manifold import TSNE\n",
    "\n",
    "# Create a TSNE instance: model\n",
    "model = TSNE(learning_rate=50)\n",
    "\n",
    "# Apply fit_transform to normalized_movements: tsne_features\n",
    "tsne_features = model.fit_transform(normalized_movements)\n",
    "\n",
    "# Select the 0th feature: xs\n",
    "xs = tsne_features[:,0]\n",
    "\n",
    "# Select the 1th feature: ys\n",
    "ys = tsne_features[:,1]\n",
    "\n",
    "# Scatter plot\n",
    "plt.scatter(xs,ys,alpha=0.5)\n",
    "\n",
    "# Annotate the points\n",
    "for x, y, company in zip(xs, ys, companies):\n",
    "    plt.annotate(company, (x, y), fontsize=5, alpha=0.75)\n",
    "plt.show()"
   ],
   "metadata": {
    "collapsed": false,
    "pycharm": {
     "name": "#%%\n"
    }
   }
  },
  {
   "cell_type": "markdown",
   "source": [
    "### 3: Decorrelating your data and dimension reduction\n",
    "\n",
    "Dimension reduction summarizes a dataset using its common occuring patterns. Here, we'll learn about the most fundamental of dimension reduction techniques, \"Principal Component Analysis\" (\"PCA\"). PCA is often used before supervised learning to improve model performance and generalization. It can also be useful for unsupervised learning. For example, we'll employ a variant of PCA will allow you to cluster Wikipedia articles by their content!"
   ],
   "metadata": {
    "collapsed": false,
    "pycharm": {
     "name": "#%% md\n"
    }
   }
  },
  {
   "cell_type": "markdown",
   "source": [
    "\n",
    "**Visualizing the PCA transformation**\n",
    "\n",
    "    More efficient storage and computation\n",
    "    Remove less-informative \"noise\" features\n",
    "        cause problems for prediction tasks\n",
    "    PCA = \"Principal Component Analysis\"\n",
    "        Fundamental dimension reduction technique\n",
    "    First step \"decorrelation\" (considered here)\n",
    "    Second step reduces dimension (considered later)\n",
    "\n",
    "Decorrelation\n",
    "\n",
    "    Rotates data samples to be aligned with axes\n",
    "    Shifts data samples so they have mean 0\n",
    "    No information is lost\n"
   ],
   "metadata": {
    "collapsed": false,
    "pycharm": {
     "name": "#%% md\n"
    }
   }
  },
  {
   "cell_type": "code",
   "execution_count": 99,
   "outputs": [],
   "source": [
    "# Piedmont wines dataset\n",
    "\n",
    "samples = pd.read_csv(\"piedmont_wine_data.csv\",header=0).iloc[:,[7,13]].values\n",
    "varieties = pd.read_csv(\"piedmont_wine_data.csv\",header=0).iloc[:,0]"
   ],
   "metadata": {
    "collapsed": false,
    "pycharm": {
     "name": "#%%\n"
    }
   }
  },
  {
   "cell_type": "code",
   "execution_count": 100,
   "outputs": [
    {
     "data": {
      "text/plain": "<Figure size 432x288 with 1 Axes>",
      "image/png": "[encoded data removed]"
     },
     "metadata": {},
     "output_type": "display_data"
    }
   ],
   "source": [
    "# Plot non-transformed features\n",
    "\n",
    "plt.scatter(samples[:,0],samples[:,1],c=varieties,s=10);\n",
    "plt.xlim((-4,6))\n",
    "plt.ylim((-4,6))\n",
    "# Draw lines to split quadrants\n",
    "plt.plot([0,0],[-4,6], linewidth=1, color='black' )\n",
    "plt.plot([-4,6],[0,0], linewidth=1, color='black' )\n",
    "plt.title('total_phenols vs. od280');"
   ],
   "metadata": {
    "collapsed": false,
    "pycharm": {
     "name": "#%%\n"
    }
   }
  },
  {
   "cell_type": "code",
   "execution_count": 102,
   "outputs": [
    {
     "name": "stdout",
     "output_type": "stream",
     "text": [
      "[[-1.32771994  0.45139607]\n",
      " [-0.83249607  0.23309966]\n",
      " [-0.75216868 -0.02947892]]\n"
     ]
    }
   ],
   "source": [
    "# Using scikit-learn PCA\n",
    "\n",
    "from sklearn.decomposition import  PCA\n",
    "model = PCA()\n",
    "model.fit(samples)\n",
    "transformed = model.transform(samples)\n",
    "print(transformed[:3])"
   ],
   "metadata": {
    "collapsed": false,
    "pycharm": {
     "name": "#%%\n"
    }
   }
  },
  {
   "cell_type": "code",
   "execution_count": 103,
   "outputs": [
    {
     "data": {
      "text/plain": "Text(0.5, 1.0, 'PCA features')"
     },
     "execution_count": 103,
     "metadata": {},
     "output_type": "execute_result"
    },
    {
     "data": {
      "text/plain": "<Figure size 432x288 with 1 Axes>",
      "image/png": "[encoded data removed]"
     },
     "metadata": {},
     "output_type": "display_data"
    }
   ],
   "source": [
    "# Plot transformed features\n",
    "plt.scatter(transformed[:,0],transformed[:,1],c=varieties,s=10)\n",
    "plt.xlim((-4,6))\n",
    "plt.ylim((-4,6))\n",
    "# Draw lines to split quadrants\n",
    "plt.plot([0,0],[-4,6], linewidth=1,color='black')\n",
    "plt.plot([-4,6],[0,0], linewidth=1,color='black')\n",
    "plt.title('PCA features')"
   ],
   "metadata": {
    "collapsed": false,
    "pycharm": {
     "name": "#%%\n"
    }
   }
  },
  {
   "cell_type": "code",
   "execution_count": 104,
   "outputs": [
    {
     "name": "stdout",
     "output_type": "stream",
     "text": [
      "[[-0.64116665 -0.76740167]\n",
      " [-0.76740167  0.64116665]]\n"
     ]
    }
   ],
   "source": [
    "# Principal components\n",
    "\n",
    "print(model.components_)"
   ],
   "metadata": {
    "collapsed": false,
    "pycharm": {
     "name": "#%%\n"
    }
   }
  },
  {
   "cell_type": "markdown",
   "source": [
    "**Correlated data in nature**\n",
    "\n",
    "We suspect that width & length of grains/seed data are correlated. To confirm lets make a scatter plot of width vs length and measure their Pearson correlation"
   ],
   "metadata": {
    "collapsed": false,
    "pycharm": {
     "name": "#%% md\n"
    }
   }
  },
  {
   "cell_type": "code",
   "execution_count": 105,
   "outputs": [],
   "source": [
    "# Grain/Seed dataset\n",
    "\n",
    "grains = pd.read_csv(\"seeds_dataset.csv\",header=None,usecols=[3,4])[[4,3]].values"
   ],
   "metadata": {
    "collapsed": false,
    "pycharm": {
     "name": "#%%\n"
    }
   }
  },
  {
   "cell_type": "code",
   "execution_count": 106,
   "outputs": [
    {
     "data": {
      "text/plain": "<Figure size 432x288 with 1 Axes>",
      "image/png": "[encoded data removed]"
     },
     "metadata": {},
     "output_type": "display_data"
    },
    {
     "name": "stdout",
     "output_type": "stream",
     "text": [
      "0.8604149377143466\n"
     ]
    }
   ],
   "source": [
    "# Perform the necessary imports\n",
    "import matplotlib.pyplot as plt\n",
    "from scipy.stats import pearsonr\n",
    "\n",
    "# Assign the 0th column of grains: width\n",
    "width = grains[:,0]\n",
    "\n",
    "# Assign the 1st column of grains: length\n",
    "length = grains[:,1]\n",
    "\n",
    "# Scatter plot width vs length\n",
    "plt.scatter(width,length,s=10)\n",
    "plt.axis('equal')\n",
    "plt.show()\n",
    "\n",
    "# Calculate the Pearson correlation\n",
    "correlation, pvalue = pearsonr(width,length)\n",
    "\n",
    "# Display the correlation\n",
    "print(correlation)"
   ],
   "metadata": {
    "collapsed": false,
    "pycharm": {
     "name": "#%%\n"
    }
   }
  },
  {
   "cell_type": "markdown",
   "source": [
    "As we would expect, the width and length of the grain samples are highly correlated."
   ],
   "metadata": {
    "collapsed": false,
    "pycharm": {
     "name": "#%% md\n"
    }
   }
  },
  {
   "cell_type": "markdown",
   "source": [
    "**Decorrelating the grain measurements with PCA**\n",
    "\n",
    "We observed above that the width and length measurements of the grain are correlated. Now, we'll use PCA to decorrelate these measurements, then plot the decorrelated points and measure their Pearson correlation."
   ],
   "metadata": {
    "collapsed": false,
    "pycharm": {
     "name": "#%% md\n"
    }
   }
  },
  {
   "cell_type": "code",
   "execution_count": 107,
   "outputs": [
    {
     "data": {
      "text/plain": "<Figure size 432x288 with 1 Axes>",
      "image/png": "[encoded data removed]"
     },
     "metadata": {},
     "output_type": "display_data"
    },
    {
     "name": "stdout",
     "output_type": "stream",
     "text": [
      "-5.204170427930421e-18\n"
     ]
    }
   ],
   "source": [
    "# Import PCA\n",
    "from sklearn.decomposition import PCA\n",
    "\n",
    "# Create PCA instance: model\n",
    "model = PCA()\n",
    "\n",
    "# Apply the fit_transform method of model to grains: pca_features\n",
    "pca_features = model.fit_transform(grains)\n",
    "\n",
    "# Assign 0th column of pca_features: xs\n",
    "xs = pca_features[:,0]\n",
    "\n",
    "# Assign 1st column of pca_features: ys\n",
    "ys = pca_features[:,1]\n",
    "\n",
    "# Scatter plot xs vs ys\n",
    "plt.scatter(xs, ys)\n",
    "plt.axis('equal')\n",
    "plt.show()\n",
    "\n",
    "# Calculate the Pearson correlation of xs and ys\n",
    "correlation, pvalue = pearsonr(xs, ys)\n",
    "\n",
    "# Display the correlation\n",
    "print(correlation)"
   ],
   "metadata": {
    "collapsed": false,
    "pycharm": {
     "name": "#%%\n"
    }
   }
  },
  {
   "cell_type": "markdown",
   "source": [
    "Above we've successfully decorrelated the grain measurements with PCA!"
   ],
   "metadata": {
    "collapsed": false,
    "pycharm": {
     "name": "#%% md\n"
    }
   }
  },
  {
   "cell_type": "markdown",
   "source": [
    "### **Intrinsic dimension**"
   ],
   "metadata": {
    "collapsed": false,
    "pycharm": {
     "name": "#%% md\n"
    }
   }
  },
  {
   "cell_type": "code",
   "execution_count": 108,
   "outputs": [],
   "source": [
    "# Versicolor dataset\n",
    "\n",
    "data = pd.read_csv(\"iris_data.csv\")\n",
    "versicolor = data[data['class']=='versicolor']\n",
    "x = versicolor['sepal_length']\n",
    "y = versicolor['sepal_width']\n",
    "z = versicolor['petal_width']"
   ],
   "metadata": {
    "collapsed": false,
    "pycharm": {
     "name": "#%%\n"
    }
   }
  },
  {
   "cell_type": "code",
   "execution_count": 109,
   "outputs": [
    {
     "data": {
      "text/plain": "<mpl_toolkits.mplot3d.art3d.Path3DCollection at 0x1fdb099ba30>"
     },
     "execution_count": 109,
     "metadata": {},
     "output_type": "execute_result"
    },
    {
     "data": {
      "text/plain": "<Figure size 432x288 with 1 Axes>",
      "image/png": "[encoded data removed]"
     },
     "metadata": {},
     "output_type": "display_data"
    }
   ],
   "source": [
    "# 3D scatter plot of Versicolor dataset\n",
    "\n",
    "import matplotlib.pyplot as plt\n",
    "from mpl_toolkits import mplot3d\n",
    "\n",
    "fig=plt.figure()\n",
    "ax=plt.axes(projection='3d')\n",
    "ax.scatter(x,y,z,cmap='viridis',linewidth=0.5)"
   ],
   "metadata": {
    "collapsed": false,
    "pycharm": {
     "name": "#%%\n"
    }
   }
  },
  {
   "cell_type": "markdown",
   "source": [
    "Scatter plots work only if samples have 2 or 3 features\n",
    "\n",
    "PCA identifies intrinsic dimension when samples have any number of features\n",
    "\n",
    "Intrinsic dimension = number of PCA features with significant variance"
   ],
   "metadata": {
    "collapsed": false,
    "pycharm": {
     "name": "#%% md\n"
    }
   }
  },
  {
   "cell_type": "code",
   "execution_count": 110,
   "outputs": [],
   "source": [
    "# PCA of the versicolor samples\n",
    "\n",
    "samples = versicolor.iloc[:,[0,1,3]].values"
   ],
   "metadata": {
    "collapsed": false,
    "pycharm": {
     "name": "#%%\n"
    }
   }
  },
  {
   "cell_type": "code",
   "execution_count": 111,
   "outputs": [
    {
     "data": {
      "text/plain": "PCA()",
      "text/html": "<style>#sk-container-id-4 {color: black;background-color: white;}#sk-container-id-4 pre{padding: 0;}#sk-container-id-4 div.sk-toggleable {background-color: white;}#sk-container-id-4 label.sk-toggleable__label {cursor: pointer;display: block;width: 100%;margin-bottom: 0;padding: 0.3em;box-sizing: border-box;text-align: center;}#sk-container-id-4 label.sk-toggleable__label-arrow:before {content: \"▸\";float: left;margin-right: 0.25em;color: #696969;}#sk-container-id-4 label.sk-toggleable__label-arrow:hover:before {color: black;}#sk-container-id-4 div.sk-estimator:hover label.sk-toggleable__label-arrow:before {color: black;}#sk-container-id-4 div.sk-toggleable__content {max-height: 0;max-width: 0;overflow: hidden;text-align: left;background-color: #f0f8ff;}#sk-container-id-4 div.sk-toggleable__content pre {margin: 0.2em;color: black;border-radius: 0.25em;background-color: #f0f8ff;}#sk-container-id-4 input.sk-toggleable__control:checked~div.sk-toggleable__content {max-height: 200px;max-width: 100%;overflow: auto;}#sk-container-id-4 input.sk-toggleable__control:checked~label.sk-toggleable__label-arrow:before {content: \"▾\";}#sk-container-id-4 div.sk-estimator input.sk-toggleable__control:checked~label.sk-toggleable__label {background-color: #d4ebff;}#sk-container-id-4 div.sk-label input.sk-toggleable__control:checked~label.sk-toggleable__label {background-color: #d4ebff;}#sk-container-id-4 input.sk-hidden--visually {border: 0;clip: rect(1px 1px 1px 1px);clip: rect(1px, 1px, 1px, 1px);height: 1px;margin: -1px;overflow: hidden;padding: 0;position: absolute;width: 1px;}#sk-container-id-4 div.sk-estimator {font-family: monospace;background-color: #f0f8ff;border: 1px dotted black;border-radius: 0.25em;box-sizing: border-box;margin-bottom: 0.5em;}#sk-container-id-4 div.sk-estimator:hover {background-color: #d4ebff;}#sk-container-id-4 div.sk-parallel-item::after {content: \"\";width: 100%;border-bottom: 1px solid gray;flex-grow: 1;}#sk-container-id-4 div.sk-label:hover label.sk-toggleable__label {background-color: #d4ebff;}#sk-container-id-4 div.sk-serial::before {content: \"\";position: absolute;border-left: 1px solid gray;box-sizing: border-box;top: 0;bottom: 0;left: 50%;z-index: 0;}#sk-container-id-4 div.sk-serial {display: flex;flex-direction: column;align-items: center;background-color: white;padding-right: 0.2em;padding-left: 0.2em;position: relative;}#sk-container-id-4 div.sk-item {position: relative;z-index: 1;}#sk-container-id-4 div.sk-parallel {display: flex;align-items: stretch;justify-content: center;background-color: white;position: relative;}#sk-container-id-4 div.sk-item::before, #sk-container-id-4 div.sk-parallel-item::before {content: \"\";position: absolute;border-left: 1px solid gray;box-sizing: border-box;top: 0;bottom: 0;left: 50%;z-index: -1;}#sk-container-id-4 div.sk-parallel-item {display: flex;flex-direction: column;z-index: 1;position: relative;background-color: white;}#sk-container-id-4 div.sk-parallel-item:first-child::after {align-self: flex-end;width: 50%;}#sk-container-id-4 div.sk-parallel-item:last-child::after {align-self: flex-start;width: 50%;}#sk-container-id-4 div.sk-parallel-item:only-child::after {width: 0;}#sk-container-id-4 div.sk-dashed-wrapped {border: 1px dashed gray;margin: 0 0.4em 0.5em 0.4em;box-sizing: border-box;padding-bottom: 0.4em;background-color: white;}#sk-container-id-4 div.sk-label label {font-family: monospace;font-weight: bold;display: inline-block;line-height: 1.2em;}#sk-container-id-4 div.sk-label-container {text-align: center;}#sk-container-id-4 div.sk-container {/* jupyter's `normalize.less` sets `[hidden] { display: none; }` but bootstrap.min.css set `[hidden] { display: none !important; }` so we also need the `!important` here to be able to override the default hidden behavior on the sphinx rendered scikit-learn.org. See: https://github.com/scikit-learn/scikit-learn/issues/21755 */display: inline-block !important;position: relative;}#sk-container-id-4 div.sk-text-repr-fallback {display: none;}</style><div id=\"sk-container-id-4\" class=\"sk-top-container\"><div class=\"sk-text-repr-fallback\"><pre>PCA()</pre><b>In a Jupyter environment, please rerun this cell to show the HTML representation or trust the notebook. <br />On GitHub, the HTML representation is unable to render, please try loading this page with nbviewer.org.</b></div><div class=\"sk-container\" hidden><div class=\"sk-item\"><div class=\"sk-estimator sk-toggleable\"><input class=\"sk-toggleable__control sk-hidden--visually\" id=\"sk-estimator-id-8\" type=\"checkbox\" checked><label for=\"sk-estimator-id-8\" class=\"sk-toggleable__label sk-toggleable__label-arrow\">PCA</label><div class=\"sk-toggleable__content\"><pre>PCA()</pre></div></div></div></div></div>"
     },
     "execution_count": 111,
     "metadata": {},
     "output_type": "execute_result"
    }
   ],
   "source": [
    "# Import PCA\n",
    "from sklearn.decomposition import PCA\n",
    "\n",
    "pca = PCA()\n",
    "pca.fit(samples)"
   ],
   "metadata": {
    "collapsed": false,
    "pycharm": {
     "name": "#%%\n"
    }
   }
  },
  {
   "cell_type": "code",
   "execution_count": 113,
   "outputs": [
    {
     "data": {
      "text/plain": "<Figure size 432x288 with 1 Axes>",
      "image/png": "[encoded data removed]"
     },
     "metadata": {},
     "output_type": "display_data"
    }
   ],
   "source": [
    "features = range(pca.n_components_)\n",
    "plt.bar(features, pca.explained_variance_)\n",
    "plt.xticks(features)\n",
    "plt.ylabel('variance')\n",
    "plt.xlabel('PCA feature')\n",
    "plt.show()"
   ],
   "metadata": {
    "collapsed": false,
    "pycharm": {
     "name": "#%%\n"
    }
   }
  },
  {
   "cell_type": "markdown",
   "source": [
    "**The first principal component**\n",
    "\n",
    "The first principal component of the data is the direction in which the data varies the most. Here we will use PCA to find the first principal component of the length and width measurements of the grain samples, and represent it as an arrow on the scatter plot."
   ],
   "metadata": {
    "collapsed": false,
    "pycharm": {
     "name": "#%% md\n"
    }
   }
  },
  {
   "cell_type": "code",
   "execution_count": 114,
   "outputs": [],
   "source": [
    "# Grain/Seed dataset\n",
    "grains = pd.read_csv(\"seeds_dataset.csv\",header=None,usecols=[3,4])[[4,3]].values"
   ],
   "metadata": {
    "collapsed": false,
    "pycharm": {
     "name": "#%%\n"
    }
   }
  },
  {
   "cell_type": "code",
   "execution_count": 116,
   "outputs": [
    {
     "data": {
      "text/plain": "<Figure size 432x288 with 1 Axes>",
      "image/png": "[encoded data removed]"
     },
     "metadata": {},
     "output_type": "display_data"
    }
   ],
   "source": [
    "# Make a scatter plot of the untransformed points\n",
    "plt.scatter(grains[:,0], grains[:,1])\n",
    "\n",
    "# Create a PCA instance: model\n",
    "model = PCA()\n",
    "\n",
    "# Fit model to points\n",
    "model.fit(grains)\n",
    "\n",
    "# Get the mean of the grain samples: mean\n",
    "mean = model.mean_\n",
    "\n",
    "# Get the first principal component: first_pc\n",
    "first_pc = model.components_[0,:]\n",
    "\n",
    "# Plot first_pc as an arrow, starting at mean\n",
    "plt.arrow(mean[0], mean[1], first_pc[0], first_pc[1], color='red', width=0.01)\n",
    "\n",
    "# Keep axes on same scale\n",
    "plt.axis('equal')\n",
    "plt.show()"
   ],
   "metadata": {
    "collapsed": false,
    "pycharm": {
     "name": "#%%\n"
    }
   }
  },
  {
   "cell_type": "markdown",
   "source": [
    "As show above red line This is the direction in which the grain data varies the most"
   ],
   "metadata": {
    "collapsed": false,
    "pycharm": {
     "name": "#%% md\n"
    }
   }
  },
  {
   "cell_type": "markdown",
   "source": [
    "**Variance of the PCA features**\n",
    "\n",
    "The fish dataset is 6-dimensional. But what is its intrinsic dimension? Make a plot of the variances of the PCA features to find out."
   ],
   "metadata": {
    "collapsed": false,
    "pycharm": {
     "name": "#%% md\n"
    }
   }
  },
  {
   "cell_type": "code",
   "execution_count": 117,
   "outputs": [],
   "source": [
    "# Fish dataset\n",
    "\n",
    "data = pd.read_csv(\"fish_catch.csv\",header=None).dropna()\n",
    "species = list(data[0].map({1:'Bream',2:'Whitewish',3:'Roach',4:'?',5:'Smelt',6:'Pike',7:'Perch'}))\n",
    "samples = data.iloc[:,1:].values"
   ],
   "metadata": {
    "collapsed": false,
    "pycharm": {
     "name": "#%%\n"
    }
   }
  },
  {
   "cell_type": "code",
   "execution_count": 118,
   "outputs": [
    {
     "data": {
      "text/plain": "<Figure size 432x288 with 1 Axes>",
      "image/png": "[encoded data removed]"
     },
     "metadata": {},
     "output_type": "display_data"
    }
   ],
   "source": [
    "# Perform the necessary imports\n",
    "from sklearn.decomposition import PCA\n",
    "from sklearn.preprocessing import StandardScaler\n",
    "from sklearn.pipeline import make_pipeline\n",
    "import matplotlib.pyplot as plt\n",
    "\n",
    "# Create scaler: scaler\n",
    "scaler = StandardScaler()\n",
    "\n",
    "# Create a PCA instance: pca\n",
    "pca = PCA()\n",
    "\n",
    "# Create pipeline: pipeline\n",
    "pipeline = make_pipeline(scaler,pca)\n",
    "\n",
    "# Fit the pipeline to 'samples'\n",
    "pipeline.fit(samples)\n",
    "\n",
    "# Plot the explained variances\n",
    "features = range(pca.n_components_)\n",
    "plt.bar(features, pca.explained_variance_)\n",
    "plt.xlabel('PCA feature')\n",
    "plt.ylabel('variance')\n",
    "plt.xticks(features)\n",
    "plt.show()"
   ],
   "metadata": {
    "collapsed": false,
    "pycharm": {
     "name": "#%%\n"
    }
   }
  },
  {
   "cell_type": "markdown",
   "source": [
    "Above shows PCA features 0 and 1 have significant variance."
   ],
   "metadata": {
    "collapsed": false,
    "pycharm": {
     "name": "#%% md\n"
    }
   }
  },
  {
   "cell_type": "markdown",
   "source": [
    "\n",
    "**Dimension reduction with PCA**\n",
    "\n",
    "Represents same data, using less features\n",
    "\n",
    "Important part of machine-learning pipelines\n",
    "\n",
    "Can be performed using PCA"
   ],
   "metadata": {
    "collapsed": false,
    "pycharm": {
     "name": "#%% md\n"
    }
   }
  },
  {
   "cell_type": "code",
   "execution_count": 119,
   "outputs": [],
   "source": [
    "# Iris dataset\n",
    "samples = load_iris()['data']\n",
    "species = load_iris()['target']"
   ],
   "metadata": {
    "collapsed": false,
    "pycharm": {
     "name": "#%%\n"
    }
   }
  },
  {
   "cell_type": "code",
   "execution_count": 120,
   "outputs": [
    {
     "data": {
      "text/plain": "PCA(n_components=2)",
      "text/html": "<style>#sk-container-id-5 {color: black;background-color: white;}#sk-container-id-5 pre{padding: 0;}#sk-container-id-5 div.sk-toggleable {background-color: white;}#sk-container-id-5 label.sk-toggleable__label {cursor: pointer;display: block;width: 100%;margin-bottom: 0;padding: 0.3em;box-sizing: border-box;text-align: center;}#sk-container-id-5 label.sk-toggleable__label-arrow:before {content: \"▸\";float: left;margin-right: 0.25em;color: #696969;}#sk-container-id-5 label.sk-toggleable__label-arrow:hover:before {color: black;}#sk-container-id-5 div.sk-estimator:hover label.sk-toggleable__label-arrow:before {color: black;}#sk-container-id-5 div.sk-toggleable__content {max-height: 0;max-width: 0;overflow: hidden;text-align: left;background-color: #f0f8ff;}#sk-container-id-5 div.sk-toggleable__content pre {margin: 0.2em;color: black;border-radius: 0.25em;background-color: #f0f8ff;}#sk-container-id-5 input.sk-toggleable__control:checked~div.sk-toggleable__content {max-height: 200px;max-width: 100%;overflow: auto;}#sk-container-id-5 input.sk-toggleable__control:checked~label.sk-toggleable__label-arrow:before {content: \"▾\";}#sk-container-id-5 div.sk-estimator input.sk-toggleable__control:checked~label.sk-toggleable__label {background-color: #d4ebff;}#sk-container-id-5 div.sk-label input.sk-toggleable__control:checked~label.sk-toggleable__label {background-color: #d4ebff;}#sk-container-id-5 input.sk-hidden--visually {border: 0;clip: rect(1px 1px 1px 1px);clip: rect(1px, 1px, 1px, 1px);height: 1px;margin: -1px;overflow: hidden;padding: 0;position: absolute;width: 1px;}#sk-container-id-5 div.sk-estimator {font-family: monospace;background-color: #f0f8ff;border: 1px dotted black;border-radius: 0.25em;box-sizing: border-box;margin-bottom: 0.5em;}#sk-container-id-5 div.sk-estimator:hover {background-color: #d4ebff;}#sk-container-id-5 div.sk-parallel-item::after {content: \"\";width: 100%;border-bottom: 1px solid gray;flex-grow: 1;}#sk-container-id-5 div.sk-label:hover label.sk-toggleable__label {background-color: #d4ebff;}#sk-container-id-5 div.sk-serial::before {content: \"\";position: absolute;border-left: 1px solid gray;box-sizing: border-box;top: 0;bottom: 0;left: 50%;z-index: 0;}#sk-container-id-5 div.sk-serial {display: flex;flex-direction: column;align-items: center;background-color: white;padding-right: 0.2em;padding-left: 0.2em;position: relative;}#sk-container-id-5 div.sk-item {position: relative;z-index: 1;}#sk-container-id-5 div.sk-parallel {display: flex;align-items: stretch;justify-content: center;background-color: white;position: relative;}#sk-container-id-5 div.sk-item::before, #sk-container-id-5 div.sk-parallel-item::before {content: \"\";position: absolute;border-left: 1px solid gray;box-sizing: border-box;top: 0;bottom: 0;left: 50%;z-index: -1;}#sk-container-id-5 div.sk-parallel-item {display: flex;flex-direction: column;z-index: 1;position: relative;background-color: white;}#sk-container-id-5 div.sk-parallel-item:first-child::after {align-self: flex-end;width: 50%;}#sk-container-id-5 div.sk-parallel-item:last-child::after {align-self: flex-start;width: 50%;}#sk-container-id-5 div.sk-parallel-item:only-child::after {width: 0;}#sk-container-id-5 div.sk-dashed-wrapped {border: 1px dashed gray;margin: 0 0.4em 0.5em 0.4em;box-sizing: border-box;padding-bottom: 0.4em;background-color: white;}#sk-container-id-5 div.sk-label label {font-family: monospace;font-weight: bold;display: inline-block;line-height: 1.2em;}#sk-container-id-5 div.sk-label-container {text-align: center;}#sk-container-id-5 div.sk-container {/* jupyter's `normalize.less` sets `[hidden] { display: none; }` but bootstrap.min.css set `[hidden] { display: none !important; }` so we also need the `!important` here to be able to override the default hidden behavior on the sphinx rendered scikit-learn.org. See: https://github.com/scikit-learn/scikit-learn/issues/21755 */display: inline-block !important;position: relative;}#sk-container-id-5 div.sk-text-repr-fallback {display: none;}</style><div id=\"sk-container-id-5\" class=\"sk-top-container\"><div class=\"sk-text-repr-fallback\"><pre>PCA(n_components=2)</pre><b>In a Jupyter environment, please rerun this cell to show the HTML representation or trust the notebook. <br />On GitHub, the HTML representation is unable to render, please try loading this page with nbviewer.org.</b></div><div class=\"sk-container\" hidden><div class=\"sk-item\"><div class=\"sk-estimator sk-toggleable\"><input class=\"sk-toggleable__control sk-hidden--visually\" id=\"sk-estimator-id-9\" type=\"checkbox\" checked><label for=\"sk-estimator-id-9\" class=\"sk-toggleable__label sk-toggleable__label-arrow\">PCA</label><div class=\"sk-toggleable__content\"><pre>PCA(n_components=2)</pre></div></div></div></div></div>"
     },
     "execution_count": 120,
     "metadata": {},
     "output_type": "execute_result"
    }
   ],
   "source": [
    "# Dimension reduction of iris dataset\n",
    "\n",
    "from sklearn.decomposition import PCA\n",
    "pca = PCA(n_components=2)\n",
    "pca.fit(samples)"
   ],
   "metadata": {
    "collapsed": false,
    "pycharm": {
     "name": "#%%\n"
    }
   }
  },
  {
   "cell_type": "code",
   "execution_count": 121,
   "outputs": [
    {
     "name": "stdout",
     "output_type": "stream",
     "text": [
      "(150, 2)\n"
     ]
    }
   ],
   "source": [
    "transformed = pca.transform(samples)\n",
    "print(transformed.shape)"
   ],
   "metadata": {
    "collapsed": false,
    "pycharm": {
     "name": "#%%\n"
    }
   }
  },
  {
   "cell_type": "code",
   "execution_count": 122,
   "outputs": [
    {
     "data": {
      "text/plain": "<Figure size 432x288 with 1 Axes>",
      "image/png": "[encoded data removed]"
     },
     "metadata": {},
     "output_type": "display_data"
    }
   ],
   "source": [
    "# Iris dataset in 2 dimensions\n",
    "\n",
    "import matplotlib.pyplot as plt\n",
    "xs = transformed[:,0]\n",
    "ys = transformed[:,1]\n",
    "plt.scatter(xs, ys, c=species, s=10)\n",
    "plt.show()"
   ],
   "metadata": {
    "collapsed": false,
    "pycharm": {
     "name": "#%%\n"
    }
   }
  },
  {
   "cell_type": "markdown",
   "source": [
    "\n",
    "**Sparse arrays and csr_matrix**\n",
    "\n",
    "Array is \"sparse\": most entries are zero\n",
    "Can use scipy.sparse.csr_matrix instead of NumPy array\n",
    "csr_matrix remembers only the non-zero entries (saves space!)\n",
    "scikit-learn PCA doesn't support csr_matrix\n",
    "Use scikit-learn TruncatedSVD instead\n",
    "Performs same transformation"
   ],
   "metadata": {
    "collapsed": false,
    "pycharm": {
     "name": "#%% md\n"
    }
   }
  },
  {
   "cell_type": "markdown",
   "source": [
    "**Dimension reduction of the fish measurements**\n",
    "\n",
    " Now lets explore PCA for dimensionality reduction of the fish measurements, retaining only the 2 most important components."
   ],
   "metadata": {
    "collapsed": false,
    "pycharm": {
     "name": "#%% md\n"
    }
   }
  },
  {
   "cell_type": "code",
   "execution_count": 123,
   "outputs": [],
   "source": [
    "# Fish dataset scaled\n",
    "data = pd.read_csv(\"fish_catch.csv\",header=None).dropna()\n",
    "species = list(data[0].map({1:'Bream',2:'Whitewish',3:'Roach',4:'?',5:'Smelt',6:'Pike',7:'Perch'}))\n",
    "samples = data.iloc[:,0:].values\n",
    "\n",
    "from sklearn.preprocessing import StandardScaler\n",
    "scaler = StandardScaler()\n",
    "scaled_samples = scaler.fit_transform(samples)"
   ],
   "metadata": {
    "collapsed": false,
    "pycharm": {
     "name": "#%%\n"
    }
   }
  },
  {
   "cell_type": "code",
   "execution_count": 124,
   "outputs": [
    {
     "name": "stdout",
     "output_type": "stream",
     "text": [
      "(85, 2)\n"
     ]
    }
   ],
   "source": [
    "# Import PCA\n",
    "from sklearn.decomposition import PCA\n",
    "\n",
    "# Create a PCA model with 2 components: pca\n",
    "pca = PCA(n_components=2)\n",
    "\n",
    "# Fit the PCA instance to the scaled samples\n",
    "pca.fit(scaled_samples)\n",
    "\n",
    "# Transform the scaled samples: pca_features\n",
    "pca_features = pca.transform(scaled_samples)\n",
    "\n",
    "# Print the shape of pca_features\n",
    "print(pca_features.shape)"
   ],
   "metadata": {
    "collapsed": false,
    "pycharm": {
     "name": "#%%\n"
    }
   }
  },
  {
   "cell_type": "markdown",
   "source": [
    "**A tf-idf word-frequency array**\n",
    "\n",
    "Here we will create a tf-idf word frequency array for a toy collection of documents. For this, use the TfidfVectorizer from sklearn. It transforms a list of documents into a word frequency array, which it outputs as a csr_matrix. It has fit() and transform() methods like other sklearn objects."
   ],
   "metadata": {
    "collapsed": false,
    "pycharm": {
     "name": "#%% md\n"
    }
   }
  },
  {
   "cell_type": "code",
   "execution_count": 126,
   "outputs": [],
   "source": [
    "# TF-IDF toy collection of documents\n",
    "documents = ['cats say meow', 'dogs say woof', 'dogs chase cats']"
   ],
   "metadata": {
    "collapsed": false,
    "pycharm": {
     "name": "#%%\n"
    }
   }
  },
  {
   "cell_type": "code",
   "execution_count": 127,
   "outputs": [
    {
     "name": "stdout",
     "output_type": "stream",
     "text": [
      "[[0.51785612 0.         0.         0.68091856 0.51785612 0.        ]\n",
      " [0.         0.         0.51785612 0.         0.51785612 0.68091856]\n",
      " [0.51785612 0.68091856 0.51785612 0.         0.         0.        ]]\n",
      "['cats', 'chase', 'dogs', 'meow', 'say', 'woof']\n"
     ]
    }
   ],
   "source": [
    "# Import TfidfVectorizer\n",
    "from sklearn.feature_extraction.text import TfidfVectorizer\n",
    "\n",
    "# Create a TfidfVectorizer: tfidf\n",
    "tfidf = TfidfVectorizer()\n",
    "\n",
    "# Apply fit_transform to document: csr_mat\n",
    "csr_mat = tfidf.fit_transform(documents)\n",
    "\n",
    "# Print result of toarray() method\n",
    "print(csr_mat.toarray())\n",
    "\n",
    "# Get the words: words\n",
    "words = tfidf.get_feature_names()\n",
    "\n",
    "# Print words\n",
    "print(words)"
   ],
   "metadata": {
    "collapsed": false,
    "pycharm": {
     "name": "#%%\n"
    }
   }
  },
  {
   "cell_type": "markdown",
   "source": [
    "**Clustering Wikipedia part I**\n",
    "\n",
    "As we explore that TruncatedSVD is able to perform PCA on sparse arrays in csr_matrix format, such as word-frequency arrays. Combine our knowledge of TruncatedSVD and k-means to cluster some popular pages from Wikipedia. Here, we will try to build the pipeline. Next, we'll apply it to the word-frequency array of some Wikipedia articles"
   ],
   "metadata": {
    "collapsed": false,
    "pycharm": {
     "name": "#%% md\n"
    }
   }
  },
  {
   "cell_type": "code",
   "execution_count": 128,
   "outputs": [],
   "source": [
    "#The reason for taking this transpose is that without it, there would be 13,000 columns (corresponding to the 13,000 words in the file), which is a lot of columns for a CSV to have.\n",
    "from scipy.sparse import csr_matrix\n",
    "df = pd.read_csv('wikipedia-vectors.csv', index_col=0)\n",
    "articles = csr_matrix(df.transpose())\n",
    "titles = list(df.columns)"
   ],
   "metadata": {
    "collapsed": false,
    "pycharm": {
     "name": "#%%\n"
    }
   }
  },
  {
   "cell_type": "code",
   "execution_count": 129,
   "outputs": [],
   "source": [
    "# Perform the necessary imports\n",
    "from sklearn.decomposition import TruncatedSVD\n",
    "from sklearn.cluster import KMeans\n",
    "from sklearn.pipeline import make_pipeline\n",
    "\n",
    "# Create a TruncatedSVD instance: svd\n",
    "svd = TruncatedSVD(n_components=50)\n",
    "\n",
    "# Create a KMeans instance: kmeans\n",
    "kmeans = KMeans(n_clusters=6)\n",
    "\n",
    "# Create a pipeline: pipeline\n",
    "pipeline = make_pipeline(svd,kmeans)"
   ],
   "metadata": {
    "collapsed": false,
    "pycharm": {
     "name": "#%%\n"
    }
   }
  },
  {
   "cell_type": "code",
   "execution_count": 132,
   "outputs": [
    {
     "name": "stdout",
     "output_type": "stream",
     "text": [
      "    label                                        article\n",
      "14      0                                 Climate change\n",
      "19      0  2007 United Nations Climate Change Conference\n",
      "18      0  2010 United Nations Climate Change Conference\n",
      "17      0  Greenhouse gas emissions by the United States\n",
      "16      0                                        350.org\n",
      "15      0                                 Kyoto Protocol\n",
      "13      0                               Connie Hedegaard\n",
      "12      0                                   Nigel Lawson\n",
      "11      0       Nationally Appropriate Mitigation Action\n",
      "10      0                                 Global warming\n",
      "47      0                                          Fever\n",
      "8       1                                        Firefox\n",
      "9       1                                       LinkedIn\n",
      "2       1                              Internet Explorer\n",
      "3       1                                    HTTP cookie\n",
      "4       1                                  Google Search\n",
      "1       1                                 Alexa Internet\n",
      "6       1                    Hypertext Transfer Protocol\n",
      "7       1                                  Social search\n",
      "5       1                                         Tumblr\n",
      "0       1                                       HTTP 404\n",
      "50      2                                   Chad Kroeger\n",
      "57      2                          Red Hot Chili Peppers\n",
      "56      2                                       Skrillex\n",
      "55      2                                  Black Sabbath\n",
      "54      2                                 Arctic Monkeys\n",
      "53      2                                   Stevie Nicks\n",
      "52      2                                     The Wanted\n",
      "51      2                                     Nate Ruess\n",
      "59      2                                    Adam Levine\n",
      "58      2                                         Sepsis\n",
      "29      3                               Jennifer Aniston\n",
      "20      3                                 Angelina Jolie\n",
      "21      3                             Michael Fassbender\n",
      "22      3                              Denzel Washington\n",
      "23      3                           Catherine Zeta-Jones\n",
      "24      3                                   Jessica Biel\n",
      "25      3                                  Russell Crowe\n",
      "26      3                                     Mila Kunis\n",
      "27      3                                 Dakota Fanning\n",
      "28      3                                  Anne Hathaway\n",
      "30      4                  France national football team\n",
      "38      4                                         Neymar\n",
      "31      4                              Cristiano Ronaldo\n",
      "32      4                                   Arsenal F.C.\n",
      "33      4                                 Radamel Falcao\n",
      "34      4                             Zlatan Ibrahimović\n",
      "39      4                                  Franck Ribéry\n",
      "35      4                Colombia national football team\n",
      "36      4              2014 FIFA World Cup qualification\n",
      "37      4                                       Football\n",
      "42      5                                    Doxycycline\n",
      "49      5                                       Lymphoma\n",
      "48      5                                     Gabapentin\n",
      "46      5                                     Prednisone\n",
      "45      5                                    Hepatitis C\n",
      "40      5                                    Tonsillitis\n",
      "43      5                                       Leukemia\n",
      "41      5                                    Hepatitis B\n",
      "44      5                                           Gout\n"
     ]
    }
   ],
   "source": [
    "# Clustering Wikipedia part II\n",
    "\n",
    "# Import pandas\n",
    "import pandas as pd\n",
    "\n",
    "# Fit the pipeline to articles\n",
    "pipeline.fit(articles)\n",
    "\n",
    "# Calculate the cluster labels: labels\n",
    "labels = pipeline.predict(articles)\n",
    "\n",
    "# Create a DataFrame aligning labels and titles: df\n",
    "df = pd.DataFrame({'label': labels, 'article': titles})\n",
    "\n",
    "# Display df sorted by cluster label\n",
    "print(df.sort_values('label'))\n"
   ],
   "metadata": {
    "collapsed": false,
    "pycharm": {
     "name": "#%%\n"
    }
   }
  },
  {
   "cell_type": "markdown",
   "source": [
    "Take a look at the cluster labels and we can identify some patterns!"
   ],
   "metadata": {
    "collapsed": false,
    "pycharm": {
     "name": "#%% md\n"
    }
   }
  },
  {
   "cell_type": "markdown",
   "source": [
    "### 4: Discovering interpretable features\n",
    "\n",
    "We'll learn about a dimension reduction technique called \"Non-negative matrix factorization\" (\"NMF\") that expresses samples as combinations of interpretable parts. For example, it expresses documents as combinations of topics, and images in terms of commonly occurring visual patterns. You'll also learn to use NMF to build recommender systems that can find you similar articles to read, or musical artists that match your listening history!"
   ],
   "metadata": {
    "collapsed": false,
    "pycharm": {
     "name": "#%% md\n"
    }
   }
  },
  {
   "cell_type": "markdown",
   "source": [
    "\n",
    "**Non-negative matrix factorization (\"NMF\")**\n",
    "\n",
    "    Dimension reduction technique\n",
    "    NMF models are interpretable (unlike PCA)\n",
    "    Easy to interpret means easy to explain!\n",
    "    However, all sample features must be non-negative (>= 0)\n",
    "    NMF expresses documents as combinations of topics (or \"themes\")\n",
    "    NMF expresses images as combinations of patterns\n",
    "\n",
    "Using scikit-learn NMF\n",
    "\n",
    "    Follows fit() / transform() pattern\n",
    "    Must specify number of components e.g. NMF(n_components=2)\n",
    "    Works with NumPy arrays and with csr_matrix\n"
   ],
   "metadata": {
    "collapsed": false,
    "pycharm": {
     "name": "#%% md\n"
    }
   }
  },
  {
   "cell_type": "code",
   "execution_count": 133,
   "outputs": [
    {
     "name": "stdout",
     "output_type": "stream",
     "text": [
      "[[0.51785612 0.         0.         0.68091856 0.51785612 0.        ]\n",
      " [0.         0.         0.51785612 0.         0.51785612 0.68091856]\n",
      " [0.51785612 0.68091856 0.51785612 0.         0.         0.        ]]\n",
      "['cats', 'chase', 'dogs', 'meow', 'say', 'woof']\n"
     ]
    }
   ],
   "source": [
    "# Word-frequency array sample\n",
    "documents =  ['cats say meow', 'dogs say woof', 'dogs chase cats']\n",
    "\n",
    "# Import TfidfVectorizer\n",
    "from sklearn.feature_extraction.text import TfidfVectorizer\n",
    "# Create a TfidfVectorizer: tfidf\n",
    "tfidf=TfidfVectorizer()\n",
    "# Apply fit_transform to document: csr_mat\n",
    "samples=tfidf.fit_transform(documents)\n",
    "# Print result of toarray() method\n",
    "print(samples.toarray())\n",
    "# Get the words: words\n",
    "words=tfidf.get_feature_names()\n",
    "print(words)"
   ],
   "metadata": {
    "collapsed": false,
    "pycharm": {
     "name": "#%%\n"
    }
   }
  },
  {
   "cell_type": "code",
   "execution_count": 134,
   "outputs": [
    {
     "data": {
      "text/plain": "NMF(n_components=2)",
      "text/html": "<style>#sk-container-id-6 {color: black;background-color: white;}#sk-container-id-6 pre{padding: 0;}#sk-container-id-6 div.sk-toggleable {background-color: white;}#sk-container-id-6 label.sk-toggleable__label {cursor: pointer;display: block;width: 100%;margin-bottom: 0;padding: 0.3em;box-sizing: border-box;text-align: center;}#sk-container-id-6 label.sk-toggleable__label-arrow:before {content: \"▸\";float: left;margin-right: 0.25em;color: #696969;}#sk-container-id-6 label.sk-toggleable__label-arrow:hover:before {color: black;}#sk-container-id-6 div.sk-estimator:hover label.sk-toggleable__label-arrow:before {color: black;}#sk-container-id-6 div.sk-toggleable__content {max-height: 0;max-width: 0;overflow: hidden;text-align: left;background-color: #f0f8ff;}#sk-container-id-6 div.sk-toggleable__content pre {margin: 0.2em;color: black;border-radius: 0.25em;background-color: #f0f8ff;}#sk-container-id-6 input.sk-toggleable__control:checked~div.sk-toggleable__content {max-height: 200px;max-width: 100%;overflow: auto;}#sk-container-id-6 input.sk-toggleable__control:checked~label.sk-toggleable__label-arrow:before {content: \"▾\";}#sk-container-id-6 div.sk-estimator input.sk-toggleable__control:checked~label.sk-toggleable__label {background-color: #d4ebff;}#sk-container-id-6 div.sk-label input.sk-toggleable__control:checked~label.sk-toggleable__label {background-color: #d4ebff;}#sk-container-id-6 input.sk-hidden--visually {border: 0;clip: rect(1px 1px 1px 1px);clip: rect(1px, 1px, 1px, 1px);height: 1px;margin: -1px;overflow: hidden;padding: 0;position: absolute;width: 1px;}#sk-container-id-6 div.sk-estimator {font-family: monospace;background-color: #f0f8ff;border: 1px dotted black;border-radius: 0.25em;box-sizing: border-box;margin-bottom: 0.5em;}#sk-container-id-6 div.sk-estimator:hover {background-color: #d4ebff;}#sk-container-id-6 div.sk-parallel-item::after {content: \"\";width: 100%;border-bottom: 1px solid gray;flex-grow: 1;}#sk-container-id-6 div.sk-label:hover label.sk-toggleable__label {background-color: #d4ebff;}#sk-container-id-6 div.sk-serial::before {content: \"\";position: absolute;border-left: 1px solid gray;box-sizing: border-box;top: 0;bottom: 0;left: 50%;z-index: 0;}#sk-container-id-6 div.sk-serial {display: flex;flex-direction: column;align-items: center;background-color: white;padding-right: 0.2em;padding-left: 0.2em;position: relative;}#sk-container-id-6 div.sk-item {position: relative;z-index: 1;}#sk-container-id-6 div.sk-parallel {display: flex;align-items: stretch;justify-content: center;background-color: white;position: relative;}#sk-container-id-6 div.sk-item::before, #sk-container-id-6 div.sk-parallel-item::before {content: \"\";position: absolute;border-left: 1px solid gray;box-sizing: border-box;top: 0;bottom: 0;left: 50%;z-index: -1;}#sk-container-id-6 div.sk-parallel-item {display: flex;flex-direction: column;z-index: 1;position: relative;background-color: white;}#sk-container-id-6 div.sk-parallel-item:first-child::after {align-self: flex-end;width: 50%;}#sk-container-id-6 div.sk-parallel-item:last-child::after {align-self: flex-start;width: 50%;}#sk-container-id-6 div.sk-parallel-item:only-child::after {width: 0;}#sk-container-id-6 div.sk-dashed-wrapped {border: 1px dashed gray;margin: 0 0.4em 0.5em 0.4em;box-sizing: border-box;padding-bottom: 0.4em;background-color: white;}#sk-container-id-6 div.sk-label label {font-family: monospace;font-weight: bold;display: inline-block;line-height: 1.2em;}#sk-container-id-6 div.sk-label-container {text-align: center;}#sk-container-id-6 div.sk-container {/* jupyter's `normalize.less` sets `[hidden] { display: none; }` but bootstrap.min.css set `[hidden] { display: none !important; }` so we also need the `!important` here to be able to override the default hidden behavior on the sphinx rendered scikit-learn.org. See: https://github.com/scikit-learn/scikit-learn/issues/21755 */display: inline-block !important;position: relative;}#sk-container-id-6 div.sk-text-repr-fallback {display: none;}</style><div id=\"sk-container-id-6\" class=\"sk-top-container\"><div class=\"sk-text-repr-fallback\"><pre>NMF(n_components=2)</pre><b>In a Jupyter environment, please rerun this cell to show the HTML representation or trust the notebook. <br />On GitHub, the HTML representation is unable to render, please try loading this page with nbviewer.org.</b></div><div class=\"sk-container\" hidden><div class=\"sk-item\"><div class=\"sk-estimator sk-toggleable\"><input class=\"sk-toggleable__control sk-hidden--visually\" id=\"sk-estimator-id-10\" type=\"checkbox\" checked><label for=\"sk-estimator-id-10\" class=\"sk-toggleable__label sk-toggleable__label-arrow\">NMF</label><div class=\"sk-toggleable__content\"><pre>NMF(n_components=2)</pre></div></div></div></div></div>"
     },
     "execution_count": 134,
     "metadata": {},
     "output_type": "execute_result"
    }
   ],
   "source": [
    "# Example usage of NMF\n",
    "\n",
    "from sklearn.decomposition import NMF\n",
    "model = NMF(n_components=2)\n",
    "model.fit(samples)"
   ],
   "metadata": {
    "collapsed": false,
    "pycharm": {
     "name": "#%%\n"
    }
   }
  },
  {
   "cell_type": "code",
   "execution_count": 135,
   "outputs": [
    {
     "name": "stdout",
     "output_type": "stream",
     "text": [
      "[[0.52668298 0.69252482 1.05336596 0.         0.52668298 0.69252482]\n",
      " [0.61916115 0.         0.         0.81412757 0.61916115 0.        ]]\n"
     ]
    }
   ],
   "source": [
    "nmf_features = model.transform(samples)\n",
    "print(model.components_)"
   ],
   "metadata": {
    "collapsed": false,
    "pycharm": {
     "name": "#%%\n"
    }
   }
  },
  {
   "cell_type": "code",
   "execution_count": 136,
   "outputs": [
    {
     "name": "stdout",
     "output_type": "stream",
     "text": [
      "[[4.57892370e-06 8.36378913e-01]\n",
      " [4.91620326e-01 0.00000000e+00]\n",
      " [4.91620326e-01 0.00000000e+00]]\n"
     ]
    }
   ],
   "source": [
    "print(nmf_features)"
   ],
   "metadata": {
    "collapsed": false,
    "pycharm": {
     "name": "#%%\n"
    }
   }
  },
  {
   "cell_type": "code",
   "execution_count": 137,
   "outputs": [
    {
     "name": "stdout",
     "output_type": "stream",
     "text": [
      "  (0, 2)\t0.5178561161676974\n",
      "  (0, 4)\t0.5178561161676974\n",
      "  (0, 5)\t0.680918560398684\n"
     ]
    }
   ],
   "source": [
    "print(samples[1,:])"
   ],
   "metadata": {
    "collapsed": false,
    "pycharm": {
     "name": "#%%\n"
    }
   }
  },
  {
   "cell_type": "code",
   "execution_count": 139,
   "outputs": [
    {
     "name": "stdout",
     "output_type": "stream",
     "text": [
      "[0.49162033 0.        ]\n"
     ]
    }
   ],
   "source": [
    "print(nmf_features[1,:])"
   ],
   "metadata": {
    "collapsed": false,
    "pycharm": {
     "name": "#%%\n"
    }
   }
  },
  {
   "cell_type": "markdown",
   "source": [
    "NMF fits to non-negative data, only\n",
    "\n",
    "    Word frequencies in each document\n",
    "    Images encoded as arrays\n",
    "    Audio spectrograms\n",
    "    Purchase histories on e-commerce sites"
   ],
   "metadata": {
    "collapsed": false,
    "pycharm": {
     "name": "#%% md\n"
    }
   }
  },
  {
   "cell_type": "markdown",
   "source": [
    "**NMF applied to Wikipedia articles**\n",
    "\n",
    "As we explore NMF applied to transform a toy word-frequency array. Now we will apply NMF, this time using the tf-idf word-frequency array of Wikipedia articles, given as a csr matrix articles"
   ],
   "metadata": {
    "collapsed": false,
    "pycharm": {
     "name": "#%% md\n"
    }
   }
  },
  {
   "cell_type": "code",
   "execution_count": 140,
   "outputs": [
    {
     "name": "stdout",
     "output_type": "stream",
     "text": [
      "[[0.   0.   0.   0.   0.   0.44]\n",
      " [0.   0.   0.   0.   0.   0.56]\n",
      " [0.   0.   0.   0.   0.   0.4 ]\n",
      " [0.   0.   0.   0.   0.   0.38]\n",
      " [0.   0.   0.   0.   0.   0.48]\n",
      " [0.01 0.01 0.01 0.03 0.   0.33]\n",
      " [0.   0.   0.02 0.   0.01 0.36]\n",
      " [0.   0.   0.   0.   0.   0.49]\n",
      " [0.02 0.01 0.   0.02 0.03 0.48]\n",
      " [0.01 0.03 0.03 0.07 0.02 0.34]\n",
      " [0.   0.   0.53 0.   0.03 0.  ]\n",
      " [0.   0.   0.35 0.   0.   0.  ]\n",
      " [0.01 0.01 0.31 0.06 0.01 0.02]\n",
      " [0.   0.01 0.34 0.01 0.   0.  ]\n",
      " [0.   0.   0.43 0.   0.04 0.  ]\n",
      " [0.   0.   0.48 0.   0.   0.  ]\n",
      " [0.01 0.02 0.37 0.03 0.   0.01]\n",
      " [0.   0.   0.48 0.   0.   0.  ]\n",
      " [0.   0.01 0.55 0.   0.   0.  ]\n",
      " [0.   0.   0.46 0.   0.   0.  ]\n",
      " [0.   0.01 0.02 0.51 0.06 0.01]\n",
      " [0.   0.   0.   0.51 0.   0.  ]\n",
      " [0.   0.01 0.   0.42 0.   0.  ]\n",
      " [0.   0.   0.   0.43 0.   0.  ]\n",
      " [0.   0.   0.   0.49 0.   0.  ]\n",
      " [0.1  0.09 0.   0.38 0.   0.01]\n",
      " [0.   0.   0.   0.57 0.   0.01]\n",
      " [0.01 0.01 0.   0.47 0.   0.01]\n",
      " [0.   0.   0.   0.57 0.   0.  ]\n",
      " [0.   0.   0.   0.52 0.01 0.01]\n",
      " [0.   0.41 0.   0.   0.   0.  ]\n",
      " [0.   0.6  0.   0.01 0.   0.  ]\n",
      " [0.01 0.26 0.   0.02 0.01 0.  ]\n",
      " [0.   0.64 0.   0.   0.   0.  ]\n",
      " [0.   0.61 0.   0.   0.   0.  ]\n",
      " [0.   0.34 0.   0.   0.   0.  ]\n",
      " [0.01 0.31 0.02 0.   0.01 0.  ]\n",
      " [0.01 0.21 0.01 0.05 0.02 0.01]\n",
      " [0.01 0.46 0.   0.02 0.   0.  ]\n",
      " [0.   0.64 0.   0.   0.   0.  ]\n",
      " [0.   0.   0.   0.   0.47 0.  ]\n",
      " [0.   0.   0.   0.   0.49 0.  ]\n",
      " [0.   0.   0.   0.   0.38 0.01]\n",
      " [0.   0.   0.   0.01 0.54 0.  ]\n",
      " [0.   0.   0.01 0.   0.42 0.  ]\n",
      " [0.   0.   0.   0.   0.51 0.  ]\n",
      " [0.   0.   0.   0.   0.37 0.  ]\n",
      " [0.   0.   0.04 0.   0.23 0.  ]\n",
      " [0.01 0.   0.02 0.01 0.32 0.04]\n",
      " [0.   0.   0.   0.   0.42 0.  ]\n",
      " [0.3  0.   0.   0.   0.   0.  ]\n",
      " [0.36 0.   0.   0.   0.   0.  ]\n",
      " [0.39 0.03 0.   0.02 0.   0.02]\n",
      " [0.37 0.   0.   0.04 0.   0.01]\n",
      " [0.43 0.   0.   0.   0.   0.  ]\n",
      " [0.45 0.   0.   0.   0.   0.  ]\n",
      " [0.27 0.   0.   0.05 0.   0.02]\n",
      " [0.44 0.   0.   0.   0.01 0.  ]\n",
      " [0.29 0.01 0.01 0.01 0.19 0.01]\n",
      " [0.37 0.01 0.   0.1  0.01 0.  ]]\n"
     ]
    }
   ],
   "source": [
    "# Import NMF\n",
    "from sklearn.decomposition import NMF\n",
    "\n",
    "# Create an NMF instance: model\n",
    "model = NMF(n_components=6)\n",
    "\n",
    "# Fit the model to articles\n",
    "nmf_features = model.fit(articles)\n",
    "\n",
    "# Transform the articles: nmf_features\n",
    "nmf_features = model.transform(articles)\n",
    "\n",
    "# Print the NMF features\n",
    "print(nmf_features.round(2))"
   ],
   "metadata": {
    "collapsed": false,
    "pycharm": {
     "name": "#%%\n"
    }
   }
  },
  {
   "cell_type": "markdown",
   "source": [
    "**NMF features of the Wikipedia articles**\n",
    "Notice below that for both actors, the NMF feature 3 has by far the highest value. This means that both articles are reconstructed using mainly the 3rd NMF component."
   ],
   "metadata": {
    "collapsed": false,
    "pycharm": {
     "name": "#%% md\n"
    }
   }
  },
  {
   "cell_type": "code",
   "execution_count": 142,
   "outputs": [
    {
     "name": "stdout",
     "output_type": "stream",
     "text": [
      "0    0.003815\n",
      "1    0.000000\n",
      "2    0.000000\n",
      "3    0.571819\n",
      "4    0.000000\n",
      "5    0.000000\n",
      "Name: Anne Hathaway, dtype: float64\n",
      "0    0.000000\n",
      "1    0.005574\n",
      "2    0.000000\n",
      "3    0.419529\n",
      "4    0.000000\n",
      "5    0.000000\n",
      "Name: Denzel Washington, dtype: float64\n"
     ]
    }
   ],
   "source": [
    "# Import pandas\n",
    "import pandas as pd\n",
    "\n",
    "# Create a pandas DataFrame: df\n",
    "df = pd.DataFrame(nmf_features,index=titles)\n",
    "\n",
    "# Print the row for 'Anne Hathaway'\n",
    "print(df.loc['Anne Hathaway'])\n",
    "\n",
    "# Print the row for 'Denzel Washington'\n",
    "print(df.loc['Denzel Washington'])"
   ],
   "metadata": {
    "collapsed": false,
    "pycharm": {
     "name": "#%%\n"
    }
   }
  },
  {
   "cell_type": "markdown",
   "source": [
    "\n",
    "**NMF learns interpretable parts**\n",
    "\n",
    "For documents:\n",
    "\n",
    "    NMF components represent topics\n",
    "    NMF features combine topics into documents\n",
    "\n",
    "For images, NMF components are parts of images"
   ],
   "metadata": {
    "collapsed": false,
    "pycharm": {
     "name": "#%% md\n"
    }
   }
  },
  {
   "cell_type": "code",
   "execution_count": 143,
   "outputs": [
    {
     "name": "stdout",
     "output_type": "stream",
     "text": [
      "[[0.  1.  0.5]\n",
      " [1.  0.  1. ]]\n"
     ]
    }
   ],
   "source": [
    "# Visualizing samples\n",
    "\n",
    "sample = np.array([0., 1., 0.5, 1., 0., 1.])\n",
    "bitmap = sample.reshape((2, 3))\n",
    "print(bitmap)"
   ],
   "metadata": {
    "collapsed": false,
    "pycharm": {
     "name": "#%%\n"
    }
   }
  },
  {
   "cell_type": "code",
   "execution_count": 144,
   "outputs": [
    {
     "data": {
      "text/plain": "<Figure size 432x288 with 1 Axes>",
      "image/png": "[encoded data removed]"
     },
     "metadata": {},
     "output_type": "display_data"
    }
   ],
   "source": [
    "from matplotlib import pyplot as plt\n",
    "plt.imshow(bitmap, cmap='gray', interpolation='nearest')\n",
    "plt.show()"
   ],
   "metadata": {
    "collapsed": false,
    "pycharm": {
     "name": "#%%\n"
    }
   }
  },
  {
   "cell_type": "markdown",
   "source": [
    "**NMF learns topics of documents**\n",
    "\n",
    "In the video, you learned when NMF is applied to documents, the components correspond to topics of documents, and the NMF features reconstruct the documents from the topics. Verify this for yourself for the NMF model that you built earlier using the Wikipedia articles. Previously, you saw that the 3rd NMF feature value was high for the articles about actors Anne Hathaway and Denzel Washington"
   ],
   "metadata": {
    "collapsed": false,
    "pycharm": {
     "name": "#%% md\n"
    }
   }
  },
  {
   "cell_type": "code",
   "execution_count": 145,
   "outputs": [],
   "source": [
    "# datasets required\n",
    "# NMF model created above\n",
    "f = open(\"wikipedia-vocabulary-utf8.txt\",'r',encoding='utf-8')\n",
    "words = f.read().split('\\n')"
   ],
   "metadata": {
    "collapsed": false,
    "pycharm": {
     "name": "#%%\n"
    }
   }
  },
  {
   "cell_type": "code",
   "execution_count": 146,
   "outputs": [],
   "source": [
    "model = NMF(n_components=6)\n",
    "\n",
    "# Fit the model to articles\n",
    "nmf_features = model.fit(articles)\n",
    "\n",
    "# Transform the articles: nmf_features\n",
    "nmf_features = model.transform(articles)"
   ],
   "metadata": {
    "collapsed": false,
    "pycharm": {
     "name": "#%%\n"
    }
   }
  },
  {
   "cell_type": "code",
   "execution_count": 147,
   "outputs": [
    {
     "name": "stdout",
     "output_type": "stream",
     "text": [
      "(6, 13125)\n",
      "film       0.632096\n",
      "award      0.254830\n",
      "starred    0.246933\n",
      "role       0.212872\n",
      "actress    0.187650\n",
      "Name: 3, dtype: float64\n"
     ]
    }
   ],
   "source": [
    "# Import pandas\n",
    "import pandas as pd\n",
    "\n",
    "# Create a DataFrame: components_df\n",
    "components_df = pd.DataFrame(model.components_,columns=words)\n",
    "\n",
    "# Print the shape of the DataFrame\n",
    "print(components_df.shape)\n",
    "\n",
    "# Select row 3: component\n",
    "component = components_df.iloc[3,:]\n",
    "\n",
    "# Print result of nlargest\n",
    "print(component.nlargest())"
   ],
   "metadata": {
    "collapsed": false,
    "pycharm": {
     "name": "#%%\n"
    }
   }
  },
  {
   "cell_type": "markdown",
   "source": [
    "In above Take a moment to recognise the topics that the articles about Anne Hathaway and Denzel Washington have in common!"
   ],
   "metadata": {
    "collapsed": false,
    "pycharm": {
     "name": "#%% md\n"
    }
   }
  },
  {
   "cell_type": "markdown",
   "source": [
    "**Explore the LED digits dataset**\n",
    "\n",
    "Here we'll use NMF to decompose grayscale images into their commonly occurring patterns. Firstly, explore the image dataset and see how it is encoded as an array"
   ],
   "metadata": {
    "collapsed": false,
    "pycharm": {
     "name": "#%% md\n"
    }
   }
  },
  {
   "cell_type": "code",
   "execution_count": 148,
   "outputs": [],
   "source": [
    "# Digits dataset\n",
    "samples = pd.read_csv(\"lcd-digits.csv\",header=None).values"
   ],
   "metadata": {
    "collapsed": false,
    "pycharm": {
     "name": "#%%\n"
    }
   }
  },
  {
   "cell_type": "code",
   "execution_count": 150,
   "outputs": [
    {
     "name": "stdout",
     "output_type": "stream",
     "text": [
      "[0. 0. 0. 0. 0. 0. 0. 0. 0. 0. 1. 1. 1. 1. 0. 0. 0. 0. 0. 0. 0. 0. 1. 0.\n",
      " 0. 0. 0. 0. 0. 0. 1. 0. 0. 0. 0. 0. 0. 0. 1. 0. 0. 0. 0. 0. 0. 0. 1. 0.\n",
      " 0. 0. 0. 0. 0. 0. 0. 0. 0. 0. 0. 0. 0. 0. 1. 0. 0. 0. 0. 0. 0. 0. 1. 0.\n",
      " 0. 0. 0. 0. 0. 0. 1. 0. 0. 0. 0. 0. 0. 0. 1. 0. 0. 0. 0. 0. 0. 0. 0. 0.\n",
      " 0. 0. 0. 0. 0. 0. 0. 0.]\n",
      "[[0. 0. 0. 0. 0. 0. 0. 0.]\n",
      " [0. 0. 1. 1. 1. 1. 0. 0.]\n",
      " [0. 0. 0. 0. 0. 0. 1. 0.]\n",
      " [0. 0. 0. 0. 0. 0. 1. 0.]\n",
      " [0. 0. 0. 0. 0. 0. 1. 0.]\n",
      " [0. 0. 0. 0. 0. 0. 1. 0.]\n",
      " [0. 0. 0. 0. 0. 0. 0. 0.]\n",
      " [0. 0. 0. 0. 0. 0. 1. 0.]\n",
      " [0. 0. 0. 0. 0. 0. 1. 0.]\n",
      " [0. 0. 0. 0. 0. 0. 1. 0.]\n",
      " [0. 0. 0. 0. 0. 0. 1. 0.]\n",
      " [0. 0. 0. 0. 0. 0. 0. 0.]\n",
      " [0. 0. 0. 0. 0. 0. 0. 0.]]\n"
     ]
    },
    {
     "data": {
      "text/plain": "<Figure size 432x288 with 2 Axes>",
      "image/png": "[encoded data removed]"
     },
     "metadata": {},
     "output_type": "display_data"
    }
   ],
   "source": [
    "\n",
    "\n",
    "# Explore the LED digits dataset\n",
    "\n",
    "# Import pyplot\n",
    "from matplotlib import pyplot as plt\n",
    "\n",
    "# Select the 0th row: digit\n",
    "digit = samples[0,:]\n",
    "\n",
    "# Print digit\n",
    "print(digit)\n",
    "\n",
    "# Reshape digit to a 13x8 array: bitmap\n",
    "bitmap = digit.reshape(13,8)\n",
    "\n",
    "# Print bitmap\n",
    "print(bitmap)\n",
    "\n",
    "# Use plt.imshow to display bitmap\n",
    "plt.imshow(bitmap, cmap='gray', interpolation='nearest')\n",
    "plt.colorbar()\n",
    "plt.show()\n",
    "\n"
   ],
   "metadata": {
    "collapsed": false,
    "pycharm": {
     "name": "#%%\n"
    }
   }
  },
  {
   "cell_type": "markdown",
   "source": [
    "**NMF learns the parts of images**"
   ],
   "metadata": {
    "collapsed": false,
    "pycharm": {
     "name": "#%% md\n"
    }
   }
  },
  {
   "cell_type": "code",
   "execution_count": 151,
   "outputs": [],
   "source": [
    "def show_as_image(sample):\n",
    "    bitmap = sample.reshape((13, 8))\n",
    "    plt.figure()\n",
    "    plt.imshow(bitmap, cmap='gray', interpolation='nearest')\n",
    "    plt.colorbar()\n",
    "    plt.show()"
   ],
   "metadata": {
    "collapsed": false,
    "pycharm": {
     "name": "#%%\n"
    }
   }
  },
  {
   "cell_type": "code",
   "execution_count": 152,
   "outputs": [
    {
     "data": {
      "text/plain": "<Figure size 432x288 with 2 Axes>",
      "image/png": "[encoded data removed]"
     },
     "metadata": {},
     "output_type": "display_data"
    },
    {
     "data": {
      "text/plain": "<Figure size 432x288 with 2 Axes>",
      "image/png": "[encoded data removed]"
     },
     "metadata": {},
     "output_type": "display_data"
    },
    {
     "data": {
      "text/plain": "<Figure size 432x288 with 2 Axes>",
      "image/png": "[encoded data removed]"
     },
     "metadata": {},
     "output_type": "display_data"
    },
    {
     "data": {
      "text/plain": "<Figure size 432x288 with 2 Axes>",
      "image/png": "[encoded data removed]"
     },
     "metadata": {},
     "output_type": "display_data"
    },
    {
     "data": {
      "text/plain": "<Figure size 432x288 with 2 Axes>",
      "image/png": "[encoded data removed]"
     },
     "metadata": {},
     "output_type": "display_data"
    },
    {
     "data": {
      "text/plain": "<Figure size 432x288 with 2 Axes>",
      "image/png": "[encoded data removed]"
     },
     "metadata": {},
     "output_type": "display_data"
    },
    {
     "data": {
      "text/plain": "<Figure size 432x288 with 2 Axes>",
      "image/png": "[encoded data removed]"
     },
     "metadata": {},
     "output_type": "display_data"
    },
    {
     "name": "stdout",
     "output_type": "stream",
     "text": [
      "[2.57347960e-01 0.00000000e+00 0.00000000e+00 3.94333376e-01\n",
      " 3.64045642e-01 0.00000000e+00 3.51281933e-14]\n"
     ]
    }
   ],
   "source": [
    "# Import NMF\n",
    "from sklearn.decomposition import NMF\n",
    "\n",
    "# Create an NMF model: model\n",
    "model = NMF(n_components=7)\n",
    "\n",
    "# Apply fit_transform to samples: features\n",
    "features = model.fit_transform(samples)\n",
    "\n",
    "# Call show_as_image on each component\n",
    "for component in model.components_:\n",
    "    show_as_image(component)\n",
    "\n",
    "# Select the 0th row of features: digit_features\n",
    "digit_features = features[0,:]\n",
    "\n",
    "# Print digit_features\n",
    "print(digit_features)"
   ],
   "metadata": {
    "collapsed": false,
    "pycharm": {
     "name": "#%%\n"
    }
   }
  },
  {
   "cell_type": "markdown",
   "source": [
    "**PCA doesn't learn parts**\n",
    "\n",
    "Unlike NMF, PCA doesn't learn the parts of things. Its components do not correspond to topics (in the case of documents) or to parts of images, when trained on images. Verify this  by inspecting the components of a PCA model fit to the dataset of LED digit images from the previous exercise"
   ],
   "metadata": {
    "collapsed": false,
    "pycharm": {
     "name": "#%% md\n"
    }
   }
  },
  {
   "cell_type": "code",
   "execution_count": 153,
   "outputs": [
    {
     "data": {
      "text/plain": "<Figure size 432x288 with 2 Axes>",
      "image/png": "[encoded data removed]"
     },
     "metadata": {},
     "output_type": "display_data"
    },
    {
     "data": {
      "text/plain": "<Figure size 432x288 with 2 Axes>",
      "image/png": "[encoded data removed]"
     },
     "metadata": {},
     "output_type": "display_data"
    },
    {
     "data": {
      "text/plain": "<Figure size 432x288 with 2 Axes>",
      "image/png": "[encoded data removed]"
     },
     "metadata": {},
     "output_type": "display_data"
    },
    {
     "data": {
      "text/plain": "<Figure size 432x288 with 2 Axes>",
      "image/png": "[encoded data removed]"
     },
     "metadata": {},
     "output_type": "display_data"
    },
    {
     "data": {
      "text/plain": "<Figure size 432x288 with 2 Axes>",
      "image/png": "[encoded data removed]"
     },
     "metadata": {},
     "output_type": "display_data"
    },
    {
     "data": {
      "text/plain": "<Figure size 432x288 with 2 Axes>",
      "image/png": "[encoded data removed]"
     },
     "metadata": {},
     "output_type": "display_data"
    },
    {
     "data": {
      "text/plain": "<Figure size 432x288 with 2 Axes>",
      "image/png": "[encoded data removed]"
     },
     "metadata": {},
     "output_type": "display_data"
    }
   ],
   "source": [
    "# Import PCA\n",
    "from sklearn.decomposition import PCA\n",
    "\n",
    "# Create a PCA instance: model\n",
    "model = PCA(n_components=7)\n",
    "\n",
    "# Apply fit_transform to samples: features\n",
    "features = model.fit_transform(samples)\n",
    "\n",
    "# Call show_as_image on each component\n",
    "for component in model.components_:\n",
    "    show_as_image(component)"
   ],
   "metadata": {
    "collapsed": false,
    "pycharm": {
     "name": "#%%\n"
    }
   }
  },
  {
   "cell_type": "markdown",
   "source": [
    "Notice that the components of PCA do not represent meaningful parts of images of LED digits!"
   ],
   "metadata": {
    "collapsed": false,
    "pycharm": {
     "name": "#%% md\n"
    }
   }
  },
  {
   "cell_type": "markdown",
   "source": [
    "**Building recommender systems using NMF**"
   ],
   "metadata": {
    "collapsed": false,
    "pycharm": {
     "name": "#%% md\n"
    }
   }
  },
  {
   "cell_type": "code",
   "execution_count": 154,
   "outputs": [],
   "source": [
    "# Finding similar articles\n",
    "\n",
    "from sklearn.decomposition import NMF\n",
    "nmf = NMF(n_components=6)\n",
    "nmf_features = nmf.fit_transform(articles)"
   ],
   "metadata": {
    "collapsed": false,
    "pycharm": {
     "name": "#%%\n"
    }
   }
  },
  {
   "cell_type": "code",
   "execution_count": 155,
   "outputs": [
    {
     "name": "stdout",
     "output_type": "stream",
     "text": [
      "[0.00000000e+00 0.00000000e+00 0.00000000e+00 0.00000000e+00\n",
      " 0.00000000e+00 9.89815044e-02 0.00000000e+00 0.00000000e+00\n",
      " 4.90121591e-02 1.88168092e-01 0.00000000e+00 0.00000000e+00\n",
      " 1.90652066e-01 3.22569958e-02 0.00000000e+00 0.00000000e+00\n",
      " 8.57949963e-02 0.00000000e+00 0.00000000e+00 0.00000000e+00\n",
      " 9.92342947e-01 1.00000000e+00 9.99911525e-01 1.00000000e+00\n",
      " 1.00000000e+00 9.45716816e-01 9.99921434e-01 9.99048216e-01\n",
      " 9.99977291e-01 9.99323544e-01 0.00000000e+00 1.02563307e-02\n",
      " 7.01817037e-02 0.00000000e+00 0.00000000e+00 0.00000000e+00\n",
      " 0.00000000e+00 2.08024313e-01 5.19130051e-02 3.64726227e-03\n",
      " 0.00000000e+00 0.00000000e+00 0.00000000e+00 1.03959314e-02\n",
      " 1.08248126e-03 0.00000000e+00 0.00000000e+00 9.99443276e-04\n",
      " 3.11459264e-02 0.00000000e+00 0.00000000e+00 0.00000000e+00\n",
      " 4.26553037e-02 9.89581262e-02 0.00000000e+00 0.00000000e+00\n",
      " 1.89072528e-01 0.00000000e+00 3.02549454e-02 2.52784427e-01]\n"
     ]
    }
   ],
   "source": [
    "# Calculating the cosine similarities\n",
    "\n",
    "from sklearn.preprocessing import normalize\n",
    "norm_features = normalize(nmf_features)\n",
    "current_article = norm_features[23,:] # if has index 23\n",
    "similarities = norm_features.dot(current_article)\n",
    "print(similarities)"
   ],
   "metadata": {
    "collapsed": false,
    "pycharm": {
     "name": "#%%\n"
    }
   }
  },
  {
   "cell_type": "code",
   "execution_count": 156,
   "outputs": [
    {
     "name": "stdout",
     "output_type": "stream",
     "text": [
      "Michael Fassbender      1.000000\n",
      "Catherine Zeta-Jones    1.000000\n",
      "Jessica Biel            1.000000\n",
      "Anne Hathaway           0.999977\n",
      "Mila Kunis              0.999921\n",
      "dtype: float64\n"
     ]
    }
   ],
   "source": [
    "# DataFrames and labels\n",
    "\n",
    "import pandas as pd\n",
    "norm_features = normalize(nmf_features)\n",
    "df = pd.DataFrame(norm_features, index=titles)\n",
    "current_article = df.loc['Catherine Zeta-Jones']\n",
    "similarities = df.dot(current_article)\n",
    "print(similarities.nlargest())"
   ],
   "metadata": {
    "collapsed": false,
    "pycharm": {
     "name": "#%%\n"
    }
   }
  },
  {
   "cell_type": "markdown",
   "source": [
    "**Which articles are similar to 'Cristiano Ronaldo'?**\n",
    "\n",
    "As we explore how to use NMF features and the cosine similarity to find similar articles. Apply this to our NMF model for popular Wikipedia articles, by finding the articles most similar to the article about the footballer Cristiano Ronaldo."
   ],
   "metadata": {
    "collapsed": false,
    "pycharm": {
     "name": "#%% md\n"
    }
   }
  },
  {
   "cell_type": "code",
   "execution_count": 157,
   "outputs": [
    {
     "name": "stdout",
     "output_type": "stream",
     "text": [
      "Cristiano Ronaldo                1.000000\n",
      "Franck Ribéry                    0.999972\n",
      "Radamel Falcao                   0.999942\n",
      "Zlatan Ibrahimović               0.999942\n",
      "France national football team    0.999923\n",
      "dtype: float64\n"
     ]
    }
   ],
   "source": [
    "# Perform the necessary imports\n",
    "import pandas as pd\n",
    "from sklearn.preprocessing import normalize\n",
    "\n",
    "# Normalize the NMF features: norm_features\n",
    "norm_features = normalize(nmf_features)\n",
    "\n",
    "# Create a DataFrame: df\n",
    "df = pd.DataFrame(norm_features,index=titles)\n",
    "\n",
    "# Select the row corresponding to 'Cristiano Ronaldo': article\n",
    "article = df.loc['Cristiano Ronaldo']\n",
    "\n",
    "# Compute the dot products: similarities\n",
    "similarities = df.dot(article)\n",
    "\n",
    "# Display those with the largest cosine similarity\n",
    "print(similarities.nlargest())"
   ],
   "metadata": {
    "collapsed": false,
    "pycharm": {
     "name": "#%%\n"
    }
   }
  },
  {
   "cell_type": "markdown",
   "source": [
    "**Recommend musical artists part I**\n",
    "\n",
    "In this exercise and the next, you'll use what you've learned about NMF to recommend popular music artists! You are given a sparse array artists whose rows correspond to artists and whose columns correspond to users. The entries give the number of times each artist was listened to by each user.\n",
    "\n",
    "In this exercise, build a pipeline and transform the array into normalized NMF features. The first step in the pipeline, MaxAbsScaler, transforms the data so that all users have the same influence on the model, regardless of how many different artists they've listened to. In the next exercise, you'll use the resulting normalized NMF features for recommendation!"
   ],
   "metadata": {
    "collapsed": false,
    "pycharm": {
     "name": "#%% md\n"
    }
   }
  },
  {
   "cell_type": "code",
   "execution_count": 159,
   "outputs": [],
   "source": [
    "# Musical Artists Dataset\n",
    "df = pd.read_csv(\"scrobbler-small-sample.csv\")\n",
    "df = df.pivot_table(values='playcount',index='artist_offset',columns='user_offset',aggfunc=sum,fill_value=0.)\n",
    "df = df.astype(float)\n",
    "artists = csr_matrix(df)\n",
    "artist_names = list(pd.read_csv(\"artists.csv\",header=None)[0])"
   ],
   "metadata": {
    "collapsed": false,
    "pycharm": {
     "name": "#%%\n"
    }
   }
  },
  {
   "cell_type": "code",
   "execution_count": 160,
   "outputs": [],
   "source": [
    "# Perform the necessary imports\n",
    "from sklearn.decomposition import NMF\n",
    "from sklearn.preprocessing import Normalizer, MaxAbsScaler\n",
    "from sklearn.pipeline import make_pipeline\n",
    "\n",
    "# Create a MaxAbsScaler: scaler\n",
    "scaler = MaxAbsScaler()\n",
    "\n",
    "# Create an NMF model: nmf\n",
    "nmf = NMF(n_components=20)\n",
    "\n",
    "# Create a Normalizer: normalizer\n",
    "normalizer = Normalizer()\n",
    "\n",
    "# Create a pipeline: pipeline\n",
    "pipeline = make_pipeline(scaler,nmf,normalizer)\n",
    "\n",
    "# Apply fit_transform to artists: norm_features\n",
    "norm_features = pipeline.fit_transform(artists)"
   ],
   "metadata": {
    "collapsed": false,
    "pycharm": {
     "name": "#%%\n"
    }
   }
  },
  {
   "cell_type": "code",
   "execution_count": 161,
   "outputs": [
    {
     "name": "stdout",
     "output_type": "stream",
     "text": [
      "Bruce Springsteen    1.000000\n",
      "Leonard Cohen        0.960532\n",
      "Neil Young           0.948469\n",
      "The Beach Boys       0.857620\n",
      "Van Morrison         0.829142\n",
      "dtype: float64\n"
     ]
    }
   ],
   "source": [
    "# Import pandas\n",
    "import pandas as pd\n",
    "\n",
    "# Create a DataFrame: df\n",
    "df = pd.DataFrame(norm_features,index=artist_names)\n",
    "\n",
    "# Select row of 'Bruce Springsteen': artist\n",
    "artist = df.loc['Bruce Springsteen']\n",
    "\n",
    "# Compute cosine similarities: similarities\n",
    "similarities = df.dot(artist)\n",
    "\n",
    "# Display those with highest cosine similarity\n",
    "print(similarities.nlargest())\n"
   ],
   "metadata": {
    "collapsed": false,
    "pycharm": {
     "name": "#%%\n"
    }
   }
  },
  {
   "cell_type": "code",
   "execution_count": null,
   "outputs": [],
   "source": [],
   "metadata": {
    "collapsed": false,
    "pycharm": {
     "name": "#%%\n"
    }
   }
  }
 ],
 "metadata": {
  "kernelspec": {
   "display_name": "Python 3",
   "language": "python",
   "name": "python3"
  },
  "language_info": {
   "codemirror_mode": {
    "name": "ipython",
    "version": 2
   },
   "file_extension": ".py",
   "mimetype": "text/x-python",
   "name": "python",
   "nbconvert_exporter": "python",
   "pygments_lexer": "ipython2",
   "version": "2.7.6"
  }
 },
 "nbformat": 4,
 "nbformat_minor": 0
}